{
 "cells": [
  {
   "cell_type": "markdown",
   "metadata": {},
   "source": [
    "# CS 579\n",
    "<br>\n",
    "\n",
    "## Clustering Words with K-Means\n",
    "\n",
    "<br>\n"
   ]
  },
  {
   "cell_type": "code",
   "execution_count": 30,
   "metadata": {
    "collapsed": false
   },
   "outputs": [
    {
     "data": {
      "text/html": [
       "<div>\n",
       "<table border=\"1\" class=\"dataframe\">\n",
       "  <thead>\n",
       "    <tr style=\"text-align: right;\">\n",
       "      <th></th>\n",
       "      <th>movieId</th>\n",
       "      <th>tokens</th>\n",
       "    </tr>\n",
       "  </thead>\n",
       "  <tbody>\n",
       "    <tr>\n",
       "      <th>0</th>\n",
       "      <td>123</td>\n",
       "      <td>[horror, horror, romance, romance, romance]</td>\n",
       "    </tr>\n",
       "    <tr>\n",
       "      <th>1</th>\n",
       "      <td>456</td>\n",
       "      <td>[romance]</td>\n",
       "    </tr>\n",
       "  </tbody>\n",
       "</table>\n",
       "</div>"
      ],
      "text/plain": [
       "   movieId                                       tokens\n",
       "0      123  [horror, horror, romance, romance, romance]\n",
       "1      456                                    [romance]"
      ]
     },
     "execution_count": 30,
     "metadata": {},
     "output_type": "execute_result"
    }
   ],
   "source": [
    "import pandas as pd\n",
    "movies = pd.DataFrame([[123, ['horror', 'horror', 'romance', 'romance', 'romance']], [456, ['romance']]], columns=['movieId', 'tokens'])\n",
    "movies"
   ]
  },
  {
   "cell_type": "markdown",
   "metadata": {},
   "source": [
    "tfidf(i, d) := tf(i, d) / max_k tf(k, d) * log10(N/df(i))\n",
    "\n",
    "- df(horror) = 1\n",
    "- df(romance) = 2\n",
    "\n",
    "- tf (horror, 123) = 2\n",
    "- tfidf(horror, 123) = 2 / 3 * log10(2/1)"
   ]
  },
  {
   "cell_type": "code",
   "execution_count": 41,
   "metadata": {
    "collapsed": false
   },
   "outputs": [
    {
     "name": "stdout",
     "output_type": "stream",
     "text": [
      "0 b\n",
      "1 a\n"
     ]
    }
   ],
   "source": [
    "d = {'a': 100, 'b': 200}\n",
    "for x,y in enumerate(d):\n",
    "    print(x, y)\n"
   ]
  },
  {
   "cell_type": "code",
   "execution_count": 50,
   "metadata": {
    "collapsed": false
   },
   "outputs": [
    {
     "name": "stdout",
     "output_type": "stream",
     "text": [
      "a\n",
      "b\n",
      "c\n"
     ]
    }
   ],
   "source": [
    "for x in ['a', 'b', 'c']:\n",
    "    print(x)"
   ]
  },
  {
   "cell_type": "code",
   "execution_count": 71,
   "metadata": {
    "collapsed": false
   },
   "outputs": [
    {
     "data": {
      "text/plain": [
       "['__builtins__',\n",
       " '__cached__',\n",
       " '__doc__',\n",
       " '__file__',\n",
       " '__loader__',\n",
       " '__name__',\n",
       " '__package__',\n",
       " '__path__',\n",
       " '__spec__',\n",
       " 'k_clique_communities',\n",
       " 'kclique']"
      ]
     },
     "execution_count": 71,
     "metadata": {},
     "output_type": "execute_result"
    }
   ],
   "source": [
    "import networkx as nx\n",
    "nx.__version__\n",
    "import networkx.algorithms.community as ccc\n",
    "dir(ccc)"
   ]
  },
  {
   "cell_type": "code",
   "execution_count": 80,
   "metadata": {
    "collapsed": false
   },
   "outputs": [
    {
     "data": {
      "text/plain": [
       "32"
      ]
     },
     "execution_count": 80,
     "metadata": {},
     "output_type": "execute_result"
    }
   ],
   "source": [
    "a = csr_matrix([1,2,3, 0, 0, 0, 5])\n",
    "b = csr_matrix([4,5,6, 0, 0, 0, 0])\n",
    "a.dot(b.T).sum()\n"
   ]
  },
  {
   "cell_type": "code",
   "execution_count": 38,
   "metadata": {
    "collapsed": false
   },
   "outputs": [
    {
     "name": "stdout",
     "output_type": "stream",
     "text": [
      "Counter({'romance': 4, 'horror': 2})\n",
      "tf: [0.6666666666666666, 1.0]\n",
      "idf_weight: [0.0, -0.3010299956639812]\n",
      "tf: [1.0]\n",
      "idf_weight: [-0.3010299956639812]\n"
     ]
    },
    {
     "data": {
      "text/html": [
       "<div>\n",
       "<table border=\"1\" class=\"dataframe\">\n",
       "  <thead>\n",
       "    <tr style=\"text-align: right;\">\n",
       "      <th></th>\n",
       "      <th>movieId</th>\n",
       "      <th>tokens</th>\n",
       "      <th>features</th>\n",
       "    </tr>\n",
       "  </thead>\n",
       "  <tbody>\n",
       "    <tr>\n",
       "      <th>0</th>\n",
       "      <td>123</td>\n",
       "      <td>[horror, horror, romance, romance, romance]</td>\n",
       "      <td>(0, 0)\\t0.0\\n  (0, 1)\\t-0.301029995664</td>\n",
       "    </tr>\n",
       "    <tr>\n",
       "      <th>1</th>\n",
       "      <td>456</td>\n",
       "      <td>[romance]</td>\n",
       "      <td>(0, 1)\\t-0.301029995664</td>\n",
       "    </tr>\n",
       "  </tbody>\n",
       "</table>\n",
       "</div>"
      ],
      "text/plain": [
       "   movieId                                       tokens  \\\n",
       "0      123  [horror, horror, romance, romance, romance]   \n",
       "1      456                                    [romance]   \n",
       "\n",
       "                                   features  \n",
       "0    (0, 0)\\t0.0\\n  (0, 1)\\t-0.301029995664  \n",
       "1                   (0, 1)\\t-0.301029995664  "
      ]
     },
     "execution_count": 38,
     "metadata": {},
     "output_type": "execute_result"
    }
   ],
   "source": [
    "from scipy.sparse import csr_matrix\n",
    "\n",
    "def featurize(movies):\n",
    "    dfs = Counter()\n",
    "    data = []\n",
    "    rows = []\n",
    "    cols = []\n",
    "    for tokens in movies['tokens']:\n",
    "        dfs.update(set(tokens))\n",
    "    vocab = {v: i for i, v in enumerate(sorted(dfs))}\n",
    "    N = len(movies)\n",
    "    n_cols = len(vocab)\n",
    "    vectors = []\n",
    "    for tokens in movies.tokens:\n",
    "        tfs = Counter(tokens)\n",
    "        maxtf = max(tfs.values())\n",
    "        rows = [0] * len(tfs)\n",
    "        cols = [vocab[t] for t in tfs]\n",
    "        data = [v / maxtf * math.log10(N / dfs[t])\n",
    "                for t, v in tfs.items()]\n",
    "        print('tf:', [v / maxtf for t, v in tfs.items()])\n",
    "        print('idf_weight:', [math.log10(N / dfs[t]) for t, v in tfs.items()])\n",
    "\n",
    "        vectors.append(csr_matrix((data, (rows, cols)), shape=(1, n_cols)))\n",
    "        \n",
    "    movies['features'] = vectors\n",
    "    return movies, vocab\n",
    "\n",
    "movies, vocab = featurize(movies)\n",
    "movies"
   ]
  },
  {
   "cell_type": "code",
   "execution_count": 36,
   "metadata": {
    "collapsed": false
   },
   "outputs": [
    {
     "data": {
      "text/plain": [
       "matrix([[ 0.20068666,  0.        ]])"
      ]
     },
     "execution_count": 36,
     "metadata": {},
     "output_type": "execute_result"
    }
   ],
   "source": [
    "movies['features'][0].todense()"
   ]
  },
  {
   "cell_type": "markdown",
   "metadata": {},
   "source": [
    "# Motivation\n",
    "\n",
    "Often, we want to know which features appear together.\n",
    "\n",
    "- If you liked *Twilight* you might like *Nosferatu*.\n",
    "- \"happy\" is a synonym of \"glad.\"\n",
    "\n",
    "Can be used to summarize a large collection of messages."
   ]
  },
  {
   "cell_type": "markdown",
   "metadata": {},
   "source": [
    "We'll use k-means to cluster together related words from Twitter.\n",
    "\n",
    "**Caution:** This uses live Twitter data, which often contains profanity."
   ]
  },
  {
   "cell_type": "code",
   "execution_count": 1,
   "metadata": {
    "collapsed": false,
    "scrolled": true
   },
   "outputs": [
    {
     "name": "stdout",
     "output_type": "stream",
     "text": [
      "100\n",
      "200\n",
      "300\n",
      "400\n",
      "500\n",
      "600\n",
      "700\n",
      "800\n",
      "900\n",
      "1000\n",
      "1100\n",
      "1200\n",
      "1300\n",
      "1400\n",
      "1500\n",
      "1600\n",
      "1700\n",
      "1800\n",
      "1900\n",
      "2000\n",
      "2100\n",
      "2200\n",
      "2300\n",
      "2400\n",
      "2500\n",
      "2600\n",
      "2700\n",
      "2800\n",
      "2900\n",
      "3000\n",
      "3100\n",
      "3200\n",
      "3300\n",
      "3400\n",
      "3500\n",
      "3600\n",
      "3700\n",
      "3800\n",
      "3900\n",
      "4000\n",
      "4100\n",
      "4200\n",
      "4300\n",
      "4400\n",
      "4500\n",
      "4600\n",
      "4700\n",
      "4800\n",
      "4900\n",
      "5000\n",
      "5100\n",
      "5200\n",
      "5300\n",
      "5400\n",
      "5500\n",
      "5600\n",
      "5700\n",
      "5800\n",
      "5900\n",
      "6000\n",
      "6100\n",
      "6200\n",
      "6300\n",
      "6400\n",
      "6500\n",
      "6600\n",
      "6700\n",
      "6800\n",
      "6900\n",
      "7000\n",
      "7100\n",
      "7200\n",
      "7300\n",
      "7400\n",
      "7500\n",
      "7600\n",
      "7700\n",
      "7800\n",
      "7900\n",
      "8000\n",
      "8100\n",
      "8200\n",
      "8300\n",
      "8400\n",
      "8500\n",
      "8600\n",
      "8700\n",
      "8800\n",
      "8900\n",
      "9000\n",
      "9100\n",
      "9200\n",
      "9300\n",
      "9400\n",
      "9500\n",
      "9600\n",
      "9700\n",
      "9800\n",
      "9900\n",
      "10000\n"
     ]
    }
   ],
   "source": [
    "# Get some tweets containing the word 'i'.\n",
    "\n",
    "import os\n",
    "from TwitterAPI import TwitterAPI\n",
    "\n",
    "# Read Twitter credentials from environmental variables.\n",
    "api = TwitterAPI(os.environ.get('TW_CONSUMER_KEY'),\n",
    "                 os.environ.get('TW_CONSUMER_SECRET'),\n",
    "                 os.environ.get('TW_ACCESS_TOKEN'),\n",
    "                 os.environ.get('TW_ACCESS_TOKEN_SECRET'))\n",
    "\n",
    "# Collect 10000 tweets.\n",
    "tweets = []\n",
    "while True: \n",
    "    r = api.request('statuses/filter', {'track':'i',\n",
    "                                      'language':'en'})\n",
    "    if r.status_code != 200: # error\n",
    "        break\n",
    "    else:\n",
    "        for item in r.get_iterator():\n",
    "            tweets.append(item)\n",
    "            if len(tweets) > 10000:\n",
    "                break\n",
    "            elif len(tweets) % 100 == 0:\n",
    "                print(len(tweets))\n"
   ]
  },
  {
   "cell_type": "code",
   "execution_count": 2,
   "metadata": {
    "collapsed": false
   },
   "outputs": [
    {
     "name": "stdout",
     "output_type": "stream",
     "text": [
      "10004\n"
     ]
    }
   ],
   "source": [
    "print(len(tweets))"
   ]
  },
  {
   "cell_type": "code",
   "execution_count": 3,
   "metadata": {
    "collapsed": false
   },
   "outputs": [
    {
     "name": "stdout",
     "output_type": "stream",
     "text": [
      "text I went all the way into college and my friend didn't even need me to sing so I walked right back home lol\n",
      "description: @Iovedstory: @Ieejongsks kill your own self and film it\n",
      "name: klara\n",
      "location: r j h² t\n"
     ]
    }
   ],
   "source": [
    "# Each tweet is a Python dict.\n",
    "print('text', tweets[0]['text'])\n",
    "print('description:', tweets[0]['user']['description'])\n",
    "print('name:', tweets[0]['user']['name'])\n",
    "print('location:', tweets[0]['user']['location'])"
   ]
  },
  {
   "cell_type": "code",
   "execution_count": 4,
   "metadata": {
    "collapsed": false
   },
   "outputs": [],
   "source": [
    "tweets = [t for t in tweets if 'text' in t]"
   ]
  },
  {
   "cell_type": "code",
   "execution_count": 5,
   "metadata": {
    "collapsed": false
   },
   "outputs": [
    {
     "data": {
      "text/plain": [
       "9236"
      ]
     },
     "execution_count": 5,
     "metadata": {},
     "output_type": "execute_result"
    }
   ],
   "source": [
    "len(tweets)"
   ]
  },
  {
   "cell_type": "code",
   "execution_count": 6,
   "metadata": {
    "collapsed": false
   },
   "outputs": [
    {
     "data": {
      "text/plain": [
       "['i',\n",
       " 'went',\n",
       " 'all',\n",
       " 'the',\n",
       " 'way',\n",
       " 'into',\n",
       " 'college',\n",
       " 'and',\n",
       " 'my',\n",
       " 'friend',\n",
       " 'didn',\n",
       " 't',\n",
       " 'even',\n",
       " 'need',\n",
       " 'me',\n",
       " 'to',\n",
       " 'sing',\n",
       " 'so',\n",
       " 'i',\n",
       " 'walked',\n",
       " 'right',\n",
       " 'back',\n",
       " 'home',\n",
       " 'lol']"
      ]
     },
     "execution_count": 6,
     "metadata": {},
     "output_type": "execute_result"
    }
   ],
   "source": [
    "# Tokenize each tweet text.\n",
    "import re\n",
    "tokens = []\n",
    "for tweet in tweets:\n",
    "    text = tweet['text'].lower()\n",
    "    text = re.sub('@\\S+', ' ', text)  # Remove mentions.\n",
    "    text = re.sub('http\\S+', ' ', text)  # Remove urls.\n",
    "    tokens.append(re.findall('[A-Za-z]+', text)) # Retain words.\n",
    "tokens[0]"
   ]
  },
  {
   "cell_type": "code",
   "execution_count": 7,
   "metadata": {
    "collapsed": false
   },
   "outputs": [],
   "source": [
    "# Count words.\n",
    "from collections import Counter\n",
    "\n",
    "word_counts = Counter()\n",
    "for tweet in tokens:\n",
    "    word_counts.update(tweet)"
   ]
  },
  {
   "cell_type": "code",
   "execution_count": 8,
   "metadata": {
    "collapsed": false
   },
   "outputs": [
    {
     "name": "stdout",
     "output_type": "stream",
     "text": [
      "11475 unique terms\n"
     ]
    },
    {
     "data": {
      "text/plain": [
       "[('i', 11098),\n",
       " ('rt', 4454),\n",
       " ('to', 3163),\n",
       " ('the', 3140),\n",
       " ('a', 2423),\n",
       " ('you', 2127),\n",
       " ('me', 2088),\n",
       " ('m', 2006),\n",
       " ('and', 1846),\n",
       " ('for', 1780)]"
      ]
     },
     "execution_count": 8,
     "metadata": {},
     "output_type": "execute_result"
    }
   ],
   "source": [
    "# Inspect word counts.\n",
    "import math\n",
    "\n",
    "print(len(word_counts), 'unique terms')\n",
    "word_counts.most_common(10)"
   ]
  },
  {
   "cell_type": "code",
   "execution_count": 9,
   "metadata": {
    "collapsed": false
   },
   "outputs": [
    {
     "name": "stdout",
     "output_type": "stream",
     "text": [
      "3450 words occur at least thre times.\n"
     ]
    }
   ],
   "source": [
    "# Retain in vocabulary words occurring more than twice.\n",
    "vocab = set([w for w, c in word_counts.items() if c > 2])\n",
    "print('%d words occur at least three times.' % len(vocab))"
   ]
  },
  {
   "cell_type": "code",
   "execution_count": 10,
   "metadata": {
    "collapsed": false
   },
   "outputs": [],
   "source": [
    "# Prune tokens.\n",
    "newtoks = []\n",
    "for i, tweet in enumerate(tokens):\n",
    "    newtok = [token for token in tweet if token in vocab]\n",
    "    if len(newtok) > 0:\n",
    "        newtoks.append(newtok)\n",
    "tokens = newtoks"
   ]
  },
  {
   "cell_type": "code",
   "execution_count": 11,
   "metadata": {
    "collapsed": false
   },
   "outputs": [
    {
     "data": {
      "text/plain": [
       "['i',\n",
       " 'went',\n",
       " 'all',\n",
       " 'the',\n",
       " 'way',\n",
       " 'into',\n",
       " 'college',\n",
       " 'and',\n",
       " 'my',\n",
       " 'friend',\n",
       " 'didn',\n",
       " 't',\n",
       " 'even',\n",
       " 'need',\n",
       " 'me',\n",
       " 'to',\n",
       " 'sing',\n",
       " 'so',\n",
       " 'i',\n",
       " 'walked',\n",
       " 'right',\n",
       " 'back',\n",
       " 'home',\n",
       " 'lol']"
      ]
     },
     "execution_count": 11,
     "metadata": {},
     "output_type": "execute_result"
    }
   ],
   "source": [
    "# A sample pruned tweet.\n",
    "tokens[0]"
   ]
  },
  {
   "cell_type": "code",
   "execution_count": 12,
   "metadata": {
    "collapsed": false
   },
   "outputs": [
    {
     "data": {
      "text/plain": [
       "['went@-2', 'all@-1', 'way@1', 'into@2']"
      ]
     },
     "execution_count": 12,
     "metadata": {},
     "output_type": "execute_result"
    }
   ],
   "source": [
    "import numpy as np\n",
    "def get_contexts(tweet, i, window):\n",
    "    features = []\n",
    "    for j in range(np.amax([0, i-window]), i):\n",
    "        features.append(tweet[j] + \"@\" + str(j-i))\n",
    "    for j in range(i+1, min(i + window + 1, len(tweet))):\n",
    "        features.append(tweet[j] + \"@\" + str(j-i))\n",
    "    return features\n",
    "\n",
    "get_contexts(tokens[0], i=3, window=2)"
   ]
  },
  {
   "cell_type": "code",
   "execution_count": 13,
   "metadata": {
    "collapsed": false
   },
   "outputs": [],
   "source": [
    "# For each term, create a context vector, indicating how often\n",
    "# each word occurs to the left or right of it.\n",
    "from collections import defaultdict\n",
    "import numpy as np\n",
    "\n",
    "# dict from term to context vector.\n",
    "contexts = defaultdict(lambda: Counter())\n",
    "window = 2\n",
    "for tweet in tokens:\n",
    "    for i, token in enumerate(tweet):\n",
    "        features = get_contexts(tweet, i, window)\n",
    "        contexts[token].update(features)\n",
    "        # Optionally: ignore word order\n",
    "        # contexts[token].update(tweet[:i] + tweet[i+1:])\n"
   ]
  },
  {
   "cell_type": "code",
   "execution_count": 14,
   "metadata": {
    "collapsed": false
   },
   "outputs": [
    {
     "data": {
      "text/plain": [
       "[('m@1', 1961),\n",
       " ('rt@-1', 1605),\n",
       " ('t@2', 747),\n",
       " ('rt@-2', 558),\n",
       " ('a@2', 517),\n",
       " ('to@2', 423),\n",
       " ('can@1', 404),\n",
       " ('love@1', 401),\n",
       " ('ve@1', 389),\n",
       " ('and@-1', 379),\n",
       " ('you@2', 360),\n",
       " ('don@1', 350),\n",
       " ('have@1', 316),\n",
       " ('just@1', 309),\n",
       " ('but@-1', 306),\n",
       " ('ll@1', 280),\n",
       " ('me@-1', 272),\n",
       " ('am@1', 262),\n",
       " ('want@1', 259),\n",
       " ('voting@2', 237)]"
      ]
     },
     "execution_count": 14,
     "metadata": {},
     "output_type": "execute_result"
    }
   ],
   "source": [
    "contexts['i'].most_common(20)"
   ]
  },
  {
   "cell_type": "code",
   "execution_count": 15,
   "metadata": {
    "collapsed": false
   },
   "outputs": [
    {
     "data": {
      "text/plain": [
       "[('i@-1', 11023),\n",
       " ('i@-2', 10670),\n",
       " ('i@1', 8782),\n",
       " ('i@2', 6679),\n",
       " ('rt@-1', 4443)]"
      ]
     },
     "execution_count": 15,
     "metadata": {},
     "output_type": "execute_result"
    }
   ],
   "source": [
    "# Compute the number of different contexts each term appears in.\n",
    "tweet_freq = Counter()\n",
    "for context in contexts.values():\n",
    "    tweet_freq.update(context)\n",
    "tweet_freq.most_common(5)"
   ]
  },
  {
   "cell_type": "code",
   "execution_count": 16,
   "metadata": {
    "collapsed": false
   },
   "outputs": [
    {
     "data": {
      "text/plain": [
       "[('m@1', 0.5747594406435189),\n",
       " ('rt@-1', 0.4306190377890333),\n",
       " ('t@2', 0.2282574863791869),\n",
       " ('rt@-2', 0.14976083025975837),\n",
       " ('a@2', 0.14883646203568454)]"
      ]
     },
     "execution_count": 16,
     "metadata": {},
     "output_type": "execute_result"
    }
   ],
   "source": [
    "# Transform each context vector to be term freq / tweet frequency. \n",
    "# Also then normalize by length.\n",
    "for term, context in contexts.items():\n",
    "    for term2, frequency in context.items():\n",
    "        context[term2] = frequency / (1. + math.log(tweet_freq[term2]))\n",
    "    length = math.sqrt(sum([v*v for v in context.values()]))\n",
    "    for term2, frequency in context.items():\n",
    "        context[term2] = 1. * frequency / length\n",
    "    \n",
    "contexts['i'].most_common(5)"
   ]
  },
  {
   "cell_type": "code",
   "execution_count": 17,
   "metadata": {
    "collapsed": false
   },
   "outputs": [
    {
     "data": {
      "text/plain": [
       "[('high@-1', 0.40296472175280307),\n",
       " ('home@-2', 0.2685703487067322),\n",
       " ('today@1', 0.22264391524786398),\n",
       " ('at@-1', 0.21792597834526845),\n",
       " ('from@-1', 0.20867793446926872),\n",
       " ('loan@1', 0.1891980852467466),\n",
       " ('i@2', 0.1821954509210017),\n",
       " ('to@-1', 0.17577285774306095),\n",
       " ('in@-1', 0.17165332539195124),\n",
       " ('go@-2', 0.15428605186544866)]"
      ]
     },
     "execution_count": 17,
     "metadata": {},
     "output_type": "execute_result"
    }
   ],
   "source": [
    "contexts['school'].most_common(10)"
   ]
  },
  {
   "cell_type": "markdown",
   "metadata": {},
   "source": [
    "At this point we have a list of dictionaries, one per term, indicating the terms that co-occur (weighted by inverse tweet frequency).\n",
    "\n",
    "Next, we have to cluster these vectors. To do this, we'll need to be able to compute the euclidean distance between two vectors."
   ]
  },
  {
   "cell_type": "code",
   "execution_count": 18,
   "metadata": {
    "collapsed": false
   },
   "outputs": [
    {
     "name": "stdout",
     "output_type": "stream",
     "text": [
      "1.4142135623730951\n",
      "2.23606797749979\n"
     ]
    }
   ],
   "source": [
    "# This is not efficient!\n",
    "def distance(c1, c2):\n",
    "    if len(c1.keys()) == 0 or len(c2.keys()) == 0:\n",
    "        return 1e9\n",
    "    keys = set(c1.keys()) | set(c2.keys())\n",
    "    distance = 0.\n",
    "    for k in keys:\n",
    "        distance += (c1[k] - c2[k]) ** 2\n",
    "    return math.sqrt(distance)\n",
    "\n",
    "print(distance({'hi':10, 'bye': 5}, {'hi': 9, 'bye': 4}))\n",
    "print(distance({'hi':10, 'bye': 5}, {'hi': 8, 'bye': 4}))"
   ]
  },
  {
   "cell_type": "code",
   "execution_count": 19,
   "metadata": {
    "collapsed": false
   },
   "outputs": [
    {
     "data": {
      "text/plain": [
       "array(['love', 'hope', 'm', 'am', 'swear', 'got', 'hate', 'think', 'll',\n",
       "       'just'], \n",
       "      dtype='<U34')"
      ]
     },
     "execution_count": 19,
     "metadata": {},
     "output_type": "execute_result"
    }
   ],
   "source": [
    "def find_closest(term, n=5):\n",
    "    terms = np.array(list(contexts.keys()))\n",
    "    context = contexts[term]\n",
    "    distances = []\n",
    "    for term2, context2 in contexts.items():\n",
    "        distances.append(distance(context, context2))\n",
    "    return terms[np.argsort(distances)][:n]\n",
    "\n",
    "find_closest('love', n=10)"
   ]
  },
  {
   "cell_type": "code",
   "execution_count": 20,
   "metadata": {
    "collapsed": false
   },
   "outputs": [
    {
     "name": "stdout",
     "output_type": "stream",
     "text": [
      "3450 nonzero contexts\n"
     ]
    }
   ],
   "source": [
    "nz_contexts = [t for t, context in contexts.items()\n",
    "               if len(context) > 1]\n",
    "contexts = dict([(term, contexts[term]) for term in nz_contexts])\n",
    "print(len(nz_contexts), 'nonzero contexts')"
   ]
  },
  {
   "cell_type": "code",
   "execution_count": 75,
   "metadata": {
    "collapsed": false
   },
   "outputs": [
    {
     "data": {
      "text/plain": [
       "Counter({'all@-2': 0.10475090614393165,\n",
       "         'and@-2': 0.08863801097609053,\n",
       "         'are@-2': 0.11190251371931605,\n",
       "         'are@1': 0.1098551297522723,\n",
       "         'are@2': 0.11112901750742091,\n",
       "         'best@-1': 0.13391472366940083,\n",
       "         'but@2': 0.0977293561560002,\n",
       "         'cold@-1': 0.14587278593482433,\n",
       "         'couple@-2': 0.18961109059083786,\n",
       "         'different@-1': 0.16633117289028612,\n",
       "         'doesn@2': 0.15226096778908915,\n",
       "         'fake@-1': 0.17564406300573798,\n",
       "         'follow@2': 0.15489023002465346,\n",
       "         'for@-1': 0.08887627017462371,\n",
       "         'good@-1': 0.23845350844564692,\n",
       "         'hate@-2': 0.12602791503276606,\n",
       "         'i@1': 0.14838795398865265,\n",
       "         'i@2': 0.15252991938339272,\n",
       "         'illegal@-1': 0.28661704233119895,\n",
       "         'isnt@1': 0.28661704233119895,\n",
       "         'it@-2': 0.09112934632877298,\n",
       "         'jealous@2': 0.23392456754848406,\n",
       "         'lol@1': 0.26076830616559027,\n",
       "         'or@-2': 0.12154622694584051,\n",
       "         'other@-2': 0.275431635538895,\n",
       "         'some@-2': 0.1231091322413421,\n",
       "         'that@1': 0.18601444817857143,\n",
       "         'the@-1': 0.3313684913830127,\n",
       "         'the@-2': 0.167711628325996,\n",
       "         've@2': 0.11129087480913334,\n",
       "         'where@1': 0.13038415308279513,\n",
       "         'who@1': 0.11810241399067586,\n",
       "         'your@2': 0.10446981581094807})"
      ]
     },
     "execution_count": 75,
     "metadata": {},
     "output_type": "execute_result"
    }
   ],
   "source": [
    "list(contexts.keys())[0]\n",
    "list(contexts.values())[0]"
   ]
  },
  {
   "cell_type": "code",
   "execution_count": 21,
   "metadata": {
    "collapsed": false
   },
   "outputs": [
    {
     "name": "stdout",
     "output_type": "stream",
     "text": [
      "['a@-1' 'a@-2' 'a@1' 'a@2' 'able@-1' 'able@-2' 'able@1' 'able@2' 'about@-1'\n",
      " 'about@-2']\n",
      "  (0, 299)\t0.104750906144\n",
      "  (0, 415)\t0.0886380109761\n",
      "  (0, 590)\t0.111902513719\n",
      "  (0, 591)\t0.109855129752\n",
      "  (0, 592)\t0.111129017507\n",
      "  (0, 1174)\t0.133914723669\n",
      "  (0, 1702)\t0.097729356156\n",
      "  (0, 2303)\t0.145872785935\n",
      "  (0, 2631)\t0.189611090591\n",
      "  (0, 3157)\t0.16633117289\n",
      "  (0, 3296)\t0.152260967789\n",
      "  (0, 4123)\t0.175644063006\n",
      "  (0, 4511)\t0.154890230025\n",
      "  (0, 4549)\t0.0888762701746\n",
      "  (0, 5023)\t0.238453508446\n",
      "  (0, 5386)\t0.126027915033\n",
      "  (0, 5885)\t0.148387953989\n",
      "  (0, 5886)\t0.152529919383\n",
      "  (0, 5947)\t0.286617042331\n",
      "  (0, 6193)\t0.286617042331\n",
      "  (0, 6204)\t0.0911293463288\n",
      "  (0, 6270)\t0.233924567548\n",
      "  (0, 7049)\t0.260768306166\n",
      "  (0, 8488)\t0.121546226946\n",
      "  (0, 8512)\t0.275431635539\n",
      "  (0, 11029)\t0.123109132241\n",
      "  (0, 11988)\t0.186014448179\n",
      "  (0, 11994)\t0.331368491383\n",
      "  (0, 11995)\t0.167711628326\n",
      "  (0, 12744)\t0.111290874809\n",
      "  (0, 13152)\t0.130384153083\n",
      "  (0, 13180)\t0.118102413991\n",
      "  (0, 13575)\t0.104469815811\n"
     ]
    }
   ],
   "source": [
    "# Transform context dicts to a sparse vector\n",
    "# for sklearn.\n",
    "from sklearn.feature_extraction import DictVectorizer\n",
    "\n",
    "vec = DictVectorizer()\n",
    "X = vec.fit_transform(contexts.values())\n",
    "names = np.array(vec.get_feature_names())\n",
    "print(names[:10])\n",
    "print(X[0])"
   ]
  },
  {
   "cell_type": "code",
   "execution_count": 76,
   "metadata": {
    "collapsed": false
   },
   "outputs": [
    {
     "name": "stdout",
     "output_type": "stream",
     "text": [
      "2024\n",
      "  (0, 0)\t0.00246346898702\n",
      "  (0, 1)\t0.00997167802523\n",
      "  (0, 2)\t0.00736980349692\n",
      "  (0, 3)\t0.0147779319712\n",
      "  (0, 9)\t0.0126758982305\n",
      "  (0, 10)\t0.00616955942916\n",
      "  (0, 20)\t0.00581837601041\n",
      "  (0, 64)\t0.0102805222537\n",
      "  (0, 144)\t0.00634946889276\n",
      "  (0, 182)\t0.0248039973276\n",
      "  (0, 197)\t0.00396402953612\n",
      "  (0, 208)\t0.00439224944827\n",
      "  (0, 209)\t0.00767108786181\n",
      "  (0, 299)\t0.00604346755965\n",
      "  (0, 301)\t0.0120055857526\n",
      "  (0, 324)\t0.00772804053261\n",
      "  (0, 330)\t0.00422135840345\n",
      "  (0, 339)\t0.00784566435158\n",
      "  (0, 357)\t0.00367698400711\n",
      "  (0, 359)\t0.00639917548149\n",
      "  (0, 361)\t0.00322476400301\n",
      "  (0, 367)\t0.00439224944827\n",
      "  (0, 395)\t0.0128415651254\n",
      "  (0, 397)\t0.00634638515225\n",
      "  (0, 400)\t0.00904114374447\n",
      "  :\t:\n",
      "  (0, 13288)\t0.0381099231241\n",
      "  (0, 13289)\t0.014678474826\n",
      "  (0, 13296)\t0.00906276981066\n",
      "  (0, 13345)\t0.0050667781115\n",
      "  (0, 13364)\t0.00460127639165\n",
      "  (0, 13410)\t0.0442223293852\n",
      "  (0, 13427)\t0.0191925222325\n",
      "  (0, 13481)\t0.00935814982797\n",
      "  (0, 13503)\t0.00390721774919\n",
      "  (0, 13537)\t0.0132871730938\n",
      "  (0, 13543)\t0.00571883974744\n",
      "  (0, 13550)\t0.00494008905634\n",
      "  (0, 13554)\t0.00700608537084\n",
      "  (0, 13555)\t0.00700608537084\n",
      "  (0, 13559)\t0.0082679991092\n",
      "  (0, 13564)\t0.0151224024753\n",
      "  (0, 13565)\t0.0661371107422\n",
      "  (0, 13566)\t0.354799019224\n",
      "  (0, 13567)\t0.0277720666517\n",
      "  (0, 13572)\t0.0120942521944\n",
      "  (0, 13573)\t0.00309938425312\n",
      "  (0, 13574)\t0.0150242202604\n",
      "  (0, 13575)\t0.00301362520888\n",
      "  (0, 13579)\t0.00581837601041\n",
      "  (0, 13592)\t0.0102805222537\n",
      "you@1\n"
     ]
    }
   ],
   "source": [
    "# Which row of X is the word \"love\"?\n",
    "love_idx = list(contexts.keys()).index('love')\n",
    "print(love_idx)\n",
    "# What are the context feature values for love?\n",
    "print(X[love_idx])\n",
    "# Print a highly ranking feature.\n",
    "print(names[13566])"
   ]
  },
  {
   "cell_type": "code",
   "execution_count": 23,
   "metadata": {
    "collapsed": false
   },
   "outputs": [
    {
     "data": {
      "text/plain": [
       "KMeans(copy_x=True, init='k-means++', max_iter=300, n_clusters=20, n_init=10,\n",
       "    n_jobs=1, precompute_distances='auto', random_state=None, tol=0.0001,\n",
       "    verbose=0)"
      ]
     },
     "execution_count": 23,
     "metadata": {},
     "output_type": "execute_result"
    }
   ],
   "source": [
    "# Let's cluster!\n",
    "# http://scikit-learn.org/stable/modules/generated/sklearn.cluster.KMeans.html\n",
    "from sklearn.cluster import KMeans\n",
    "num_clusters = 20\n",
    "kmeans = KMeans(num_clusters)\n",
    "kmeans.fit(X)"
   ]
  },
  {
   "cell_type": "code",
   "execution_count": 24,
   "metadata": {
    "collapsed": false
   },
   "outputs": [
    {
     "name": "stdout",
     "output_type": "stream",
     "text": [
      "0 the@1 i@-2 a@1 i@2 i@-1\n",
      "1 a@-1 i@2 i@1 and@1 the@-1\n",
      "2 i@2 i@-2 to@-2 i@1 rt@-1\n",
      "3 a@-2 i@1 rt@-1 the@-2 i@-2\n",
      "4 up@1 i@-2 i@-1 to@2 to@-1\n",
      "5 these@-1 i@2 what@1 i@1 on@-1\n",
      "6 to@-1 i@-1 i@-2 it@1 t@-1\n",
      "7 i@-1 rt@-2 i@-2 t@1 a@1\n",
      "8 i@-2 m@-1 i@2 i@1 m@-2\n",
      "9 me@1 i@-2 you@1 to@-1 to@2\n",
      "10 the@-1 i@2 in@-2 i@1 of@-2\n",
      "11 t@-1 don@-2 can@-2 i@-2 i@2\n",
      "12 my@-1 and@1 your@-1 i@1 i@2\n",
      "13 in@1 the@2 i@-2 i@2 my@2\n",
      "14 i@1 m@2 rt@-1 i@2 i@-2\n",
      "15 and@1 i@2 and@-1 a@-2 i@1\n",
      "16 to@1 i@-2 i@-1 be@2 the@2\n",
      "17 the@-1 the@-2 this@-1 i@1 i@2\n",
      "18 in@-1 on@-1 i@2 i@1 of@-1\n",
      "19 of@1 the@-1 the@2 a@-1 the@-2\n"
     ]
    }
   ],
   "source": [
    "# Let's print out the top features for each mean vector.\n",
    "# This is swamped by common terms\n",
    "for i in range(num_clusters):\n",
    "    print(i, ' '.join(names[np.argsort(kmeans.cluster_centers_[i])[::-1][:5]]))"
   ]
  },
  {
   "cell_type": "code",
   "execution_count": 25,
   "metadata": {
    "collapsed": false
   },
   "outputs": [
    {
     "data": {
      "text/plain": [
       "array([ 1.02761471,  1.01630968,  0.97946242,  0.98801386,  1.07498129,\n",
       "        0.9964722 ,  1.04365739,  1.10110095,  1.0567092 ,  1.04074006,\n",
       "        0.92325574,  1.0684381 ,  1.03479488,  1.01031291,  0.98715796,\n",
       "        1.00888792,  1.06013637,  0.93636146,  0.99953703,  1.01236274])"
      ]
     },
     "execution_count": 25,
     "metadata": {},
     "output_type": "execute_result"
    }
   ],
   "source": [
    "# .transform will compute the distance from each context to each cluster.\n",
    "distances = kmeans.transform(X)\n",
    "distances[0]"
   ]
  },
  {
   "cell_type": "code",
   "execution_count": 26,
   "metadata": {
    "collapsed": false
   },
   "outputs": [
    {
     "name": "stdout",
     "output_type": "stream",
     "text": [
      "0 at of on with all doing is like through \n",
      "\n",
      "1 few kid picture good playlist couple rabbits great racist \n",
      "\n",
      "2 this not me a like so to why how \n",
      "\n",
      "3 me that like this you but to do my \n",
      "\n",
      "4 wake fucked grew messed wakes waking hurry end ended \n",
      "\n",
      "5 manequinchallenges chains hoes idk exactly rt and why tweets \n",
      "\n",
      "6 do go get say hear buy work watch find \n",
      "\n",
      "7 am love got just have swear ll hope think \n",
      "\n",
      "8 sorry dying gonna weak complaining shook voting sooooo confused \n",
      "\n",
      "9 give inner makes told join following brings gave text \n",
      "\n",
      "10 best world ocean funnie funn most uk past way \n",
      "\n",
      "11 believe know wait understand care judge belong handle imagine \n",
      "\n",
      "12 own eyes friends head mom phone contract homegirl daughter \n",
      "\n",
      "13 checked living stay dig moments caught supremacist keys cheetos \n",
      "\n",
      "14 but when yes and if cause damn because wow \n",
      "\n",
      "15 makeup sale puppy milk period essays married home ahead \n",
      "\n",
      "16 going used able ready want listened wants tried listening \n",
      "\n",
      "17 world way best ocean day past only election most \n",
      "\n",
      "18 days my the bed london front their class tears \n",
      "\n",
      "19 instead proud bunch artist one amount type lot group \n",
      "\n"
     ]
    }
   ],
   "source": [
    "# Finally, we'll print the words that are closest\n",
    "# to the mean of each cluster.\n",
    "terms = np.array(list(contexts.keys()))\n",
    "for i in range(num_clusters):\n",
    "    print(i, ' '.join(terms[np.argsort(distances[:,i])[1:10]]), '\\n')"
   ]
  },
  {
   "cell_type": "markdown",
   "metadata": {},
   "source": [
    "Clearly, interpreting these results requires a bit of investigation.\n",
    "\n",
    "As the number of tweets increases, we expect these clusters to become more coherent."
   ]
  },
  {
   "cell_type": "markdown",
   "metadata": {},
   "source": [
    "**How does error decrease with number of cluster?**"
   ]
  },
  {
   "cell_type": "code",
   "execution_count": 27,
   "metadata": {
    "collapsed": false
   },
   "outputs": [
    {
     "data": {
      "text/plain": [
       "-3140.3778367911664"
      ]
     },
     "execution_count": 27,
     "metadata": {},
     "output_type": "execute_result"
    }
   ],
   "source": [
    "kmeans.score(X)"
   ]
  },
  {
   "cell_type": "code",
   "execution_count": 28,
   "metadata": {
    "collapsed": false
   },
   "outputs": [
    {
     "name": "stdout",
     "output_type": "stream",
     "text": [
      "k=5 score=3254.05\n",
      "k=10 score=3191.11\n",
      "k=20 score=3138.28\n",
      "k=50 score=3063.05\n",
      "k=100 score=2984.34\n"
     ]
    },
    {
     "data": {
      "image/png": "[encoded data removed]",
      "text/plain": [
       "<matplotlib.figure.Figure at 0x118e79908>"
      ]
     },
     "metadata": {},
     "output_type": "display_data"
    }
   ],
   "source": [
    "import matplotlib.pyplot as plt\n",
    "%matplotlib inline\n",
    "\n",
    "scores = []\n",
    "num_cluster_options = [5,10,20,50,100]\n",
    "\n",
    "for num_clusters in num_cluster_options:\n",
    "    kmeans = KMeans(num_clusters, n_init=10, max_iter=10)\n",
    "    kmeans.fit(X)\n",
    "    score = -1 * kmeans.score(X)\n",
    "    scores.append(score)\n",
    "    print('k=%d score=%g' % (num_clusters, score))\n",
    "    \n",
    "plt.figure()\n",
    "plt.plot(num_cluster_options, scores, 'bo-')\n",
    "plt.xlabel('num clusters')\n",
    "plt.ylabel('error')\n",
    "plt.show()"
   ]
  },
  {
   "cell_type": "markdown",
   "metadata": {},
   "source": [
    "** How does error vary by initalization? **"
   ]
  },
  {
   "cell_type": "code",
   "execution_count": 29,
   "metadata": {
    "collapsed": false
   },
   "outputs": [
    {
     "name": "stdout",
     "output_type": "stream",
     "text": [
      "score=3153.41\n",
      "score=3150.1\n",
      "score=3142.43\n",
      "score=3154.92\n",
      "score=3157.75\n",
      "score=3162.64\n",
      "score=3148.4\n",
      "score=3166.38\n",
      "score=3150.52\n",
      "score=3148.57\n"
     ]
    },
    {
     "data": {
      "image/png": "[encoded data removed]",
      "text/plain": [
       "<matplotlib.figure.Figure at 0x118e79940>"
      ]
     },
     "metadata": {},
     "output_type": "display_data"
    }
   ],
   "source": [
    "scores = []\n",
    "for i in range(10):\n",
    "    kmeans = KMeans(20, n_init=1, max_iter=100, init='random')\n",
    "    kmeans.fit(X)\n",
    "    score = -1 * kmeans.score(X)\n",
    "    scores.append(score)\n",
    "    print('score=%g' % (score))\n",
    "     \n",
    "    \n",
    "plt.figure()\n",
    "plt.plot(range(10), sorted(scores), 'bo-')\n",
    "plt.xlabel('sample')\n",
    "plt.ylabel('error')\n",
    "plt.show()"
   ]
  }
 ],
 "metadata": {
  "kernelspec": {
   "display_name": "Python 3",
   "language": "python",
   "name": "python3"
  },
  "language_info": {
   "codemirror_mode": {
    "name": "ipython",
    "version": 3
   },
   "file_extension": ".py",
   "mimetype": "text/x-python",
   "name": "python",
   "nbconvert_exporter": "python",
   "pygments_lexer": "ipython3",
   "version": "3.5.0"
  }
 },
 "nbformat": 4,
 "nbformat_minor": 0
}
