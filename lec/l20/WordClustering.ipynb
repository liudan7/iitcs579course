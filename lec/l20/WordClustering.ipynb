{
 "cells": [
  {
   "cell_type": "markdown",
   "metadata": {},
   "source": [
    "# CS 579\n",
    "<br>\n",
    "\n",
    "## Clustering Words with K-Means\n",
    "\n",
    "<br>\n"
   ]
  },
  {
   "cell_type": "code",
   "execution_count": 1,
   "metadata": {
    "collapsed": false
   },
   "outputs": [
    {
     "data": {
      "text/html": [
       "<div>\n",
       "<table border=\"1\" class=\"dataframe\">\n",
       "  <thead>\n",
       "    <tr style=\"text-align: right;\">\n",
       "      <th></th>\n",
       "      <th>movieId</th>\n",
       "      <th>tokens</th>\n",
       "    </tr>\n",
       "  </thead>\n",
       "  <tbody>\n",
       "    <tr>\n",
       "      <th>0</th>\n",
       "      <td>123</td>\n",
       "      <td>[horror, horror, romance, romance, romance]</td>\n",
       "    </tr>\n",
       "    <tr>\n",
       "      <th>1</th>\n",
       "      <td>456</td>\n",
       "      <td>[romance]</td>\n",
       "    </tr>\n",
       "  </tbody>\n",
       "</table>\n",
       "</div>"
      ],
      "text/plain": [
       "   movieId                                       tokens\n",
       "0      123  [horror, horror, romance, romance, romance]\n",
       "1      456                                    [romance]"
      ]
     },
     "execution_count": 1,
     "metadata": {},
     "output_type": "execute_result"
    }
   ],
   "source": [
    "import pandas as pd\n",
    "movies = pd.DataFrame([[123, ['horror', 'horror', 'romance', 'romance', 'romance']], [456, ['romance']]], columns=['movieId', 'tokens'])\n",
    "movies"
   ]
  },
  {
   "cell_type": "markdown",
   "metadata": {},
   "source": [
    "tfidf(i, d) := tf(i, d) / max_k tf(k, d) * log10(N/df(i))\n",
    "\n",
    "- df(horror) = 1\n",
    "- df(romance) = 2\n",
    "\n",
    "- tf (horror, 123) = 2\n",
    "- tfidf(horror, 123) = 2 / 3 * log10(2/1)"
   ]
  },
  {
   "cell_type": "code",
   "execution_count": 2,
   "metadata": {
    "collapsed": false
   },
   "outputs": [
    {
     "name": "stdout",
     "output_type": "stream",
     "text": [
      "0 b\n",
      "1 a\n"
     ]
    }
   ],
   "source": [
    "d = {'a': 100, 'b': 200}\n",
    "for x,y in enumerate(d):\n",
    "    print(x, y)\n"
   ]
  },
  {
   "cell_type": "code",
   "execution_count": 3,
   "metadata": {
    "collapsed": false
   },
   "outputs": [
    {
     "name": "stdout",
     "output_type": "stream",
     "text": [
      "a\n",
      "b\n",
      "c\n"
     ]
    }
   ],
   "source": [
    "for x in ['a', 'b', 'c']:\n",
    "    print(x)"
   ]
  },
  {
   "cell_type": "code",
   "execution_count": 4,
   "metadata": {
    "collapsed": false
   },
   "outputs": [
    {
     "data": {
      "text/plain": [
       "['__builtins__',\n",
       " '__cached__',\n",
       " '__doc__',\n",
       " '__file__',\n",
       " '__loader__',\n",
       " '__name__',\n",
       " '__package__',\n",
       " '__path__',\n",
       " '__spec__',\n",
       " 'k_clique_communities',\n",
       " 'kclique']"
      ]
     },
     "execution_count": 4,
     "metadata": {},
     "output_type": "execute_result"
    }
   ],
   "source": [
    "import networkx as nx\n",
    "nx.__version__\n",
    "import networkx.algorithms.community as ccc\n",
    "dir(ccc)"
   ]
  },
  {
   "cell_type": "code",
   "execution_count": 5,
   "metadata": {
    "collapsed": false
   },
   "outputs": [
    {
     "data": {
      "text/plain": [
       "32"
      ]
     },
     "execution_count": 5,
     "metadata": {},
     "output_type": "execute_result"
    }
   ],
   "source": [
    "from scipy.sparse import csr_matrix\n",
    "\n",
    "a = csr_matrix([1,2,3, 0, 0, 0, 5])\n",
    "b = csr_matrix([4,5,6, 0, 0, 0, 0])\n",
    "a.dot(b.T).sum()\n"
   ]
  },
  {
   "cell_type": "code",
   "execution_count": 6,
   "metadata": {
    "collapsed": false
   },
   "outputs": [
    {
     "name": "stdout",
     "output_type": "stream",
     "text": [
      "tf: [1.0, 0.6666666666666666]\n",
      "idf_weight: [0.0, 0.3010299956639812]\n",
      "tf: [1.0]\n",
      "idf_weight: [0.0]\n"
     ]
    },
    {
     "data": {
      "text/html": [
       "<div>\n",
       "<table border=\"1\" class=\"dataframe\">\n",
       "  <thead>\n",
       "    <tr style=\"text-align: right;\">\n",
       "      <th></th>\n",
       "      <th>movieId</th>\n",
       "      <th>tokens</th>\n",
       "      <th>features</th>\n",
       "    </tr>\n",
       "  </thead>\n",
       "  <tbody>\n",
       "    <tr>\n",
       "      <th>0</th>\n",
       "      <td>123</td>\n",
       "      <td>[horror, horror, romance, romance, romance]</td>\n",
       "      <td>(0, 0)\\t0.200686663776\\n  (0, 1)\\t0.0</td>\n",
       "    </tr>\n",
       "    <tr>\n",
       "      <th>1</th>\n",
       "      <td>456</td>\n",
       "      <td>[romance]</td>\n",
       "      <td>(0, 1)\\t0.0</td>\n",
       "    </tr>\n",
       "  </tbody>\n",
       "</table>\n",
       "</div>"
      ],
      "text/plain": [
       "   movieId                                       tokens  \\\n",
       "0      123  [horror, horror, romance, romance, romance]   \n",
       "1      456                                    [romance]   \n",
       "\n",
       "                                  features  \n",
       "0    (0, 0)\\t0.200686663776\\n  (0, 1)\\t0.0  \n",
       "1                              (0, 1)\\t0.0  "
      ]
     },
     "execution_count": 6,
     "metadata": {},
     "output_type": "execute_result"
    }
   ],
   "source": [
    "from collections import Counter\n",
    "import math\n",
    "\n",
    "def featurize(movies):\n",
    "    dfs = Counter()\n",
    "    data = []\n",
    "    rows = []\n",
    "    cols = []\n",
    "    for tokens in movies['tokens']:\n",
    "        dfs.update(set(tokens))\n",
    "    vocab = {v: i for i, v in enumerate(sorted(dfs))}\n",
    "    N = len(movies)\n",
    "    n_cols = len(vocab)\n",
    "    vectors = []\n",
    "    for tokens in movies.tokens:\n",
    "        tfs = Counter(tokens)\n",
    "        maxtf = max(tfs.values())\n",
    "        rows = [0] * len(tfs)\n",
    "        cols = [vocab[t] for t in tfs]\n",
    "        data = [v / maxtf * math.log10(N / dfs[t])\n",
    "                for t, v in tfs.items()]\n",
    "        print('tf:', [v / maxtf for t, v in tfs.items()])\n",
    "        print('idf_weight:', [math.log10(N / dfs[t]) for t, v in tfs.items()])\n",
    "\n",
    "        vectors.append(csr_matrix((data, (rows, cols)), shape=(1, n_cols)))\n",
    "        \n",
    "    movies['features'] = vectors\n",
    "    return movies, vocab\n",
    "\n",
    "movies, vocab = featurize(movies)\n",
    "movies"
   ]
  },
  {
   "cell_type": "code",
   "execution_count": 7,
   "metadata": {
    "collapsed": false
   },
   "outputs": [
    {
     "data": {
      "text/plain": [
       "matrix([[ 0.20068666,  0.        ]])"
      ]
     },
     "execution_count": 7,
     "metadata": {},
     "output_type": "execute_result"
    }
   ],
   "source": [
    "movies['features'][0].todense()"
   ]
  },
  {
   "cell_type": "markdown",
   "metadata": {},
   "source": [
    "# Motivation\n",
    "\n",
    "Often, we want to know which features appear together.\n",
    "\n",
    "- If you liked *Twilight* you might like *Nosferatu*.\n",
    "- \"happy\" is a synonym of \"glad.\"\n",
    "\n",
    "Can be used to summarize a large collection of messages."
   ]
  },
  {
   "cell_type": "markdown",
   "metadata": {},
   "source": [
    "We'll use k-means to cluster together related words from Twitter.\n",
    "\n",
    "**Caution:** This uses live Twitter data, which often contains profanity."
   ]
  },
  {
   "cell_type": "code",
   "execution_count": 8,
   "metadata": {
    "collapsed": false,
    "scrolled": true
   },
   "outputs": [
    {
     "name": "stdout",
     "output_type": "stream",
     "text": [
      "100\n",
      "200\n",
      "300\n",
      "400\n",
      "500\n",
      "600\n",
      "700\n",
      "800\n",
      "900\n",
      "1000\n",
      "1100\n",
      "1200\n",
      "1300\n",
      "1400\n",
      "1500\n",
      "1600\n",
      "1700\n",
      "1800\n",
      "1900\n",
      "2000\n",
      "2100\n",
      "2200\n",
      "2300\n",
      "2400\n",
      "2500\n",
      "2600\n",
      "2700\n",
      "2800\n",
      "2900\n",
      "3000\n",
      "3100\n",
      "3200\n",
      "3300\n",
      "3400\n",
      "3500\n",
      "3600\n",
      "3700\n",
      "3800\n",
      "3900\n",
      "4000\n",
      "4100\n",
      "4200\n",
      "4300\n",
      "4400\n",
      "4500\n",
      "4600\n",
      "4700\n",
      "4800\n",
      "4900\n",
      "5000\n",
      "5100\n",
      "5200\n",
      "5300\n",
      "5400\n",
      "5500\n",
      "5600\n",
      "5700\n",
      "5800\n",
      "5900\n",
      "6000\n",
      "6100\n",
      "6200\n",
      "6300\n",
      "6400\n",
      "6500\n",
      "6600\n",
      "6700\n",
      "6800\n",
      "6900\n",
      "7000\n",
      "7100\n",
      "7200\n",
      "7300\n",
      "7400\n",
      "7500\n",
      "7600\n",
      "7700\n",
      "7800\n",
      "7900\n",
      "8000\n",
      "8100\n",
      "8200\n",
      "8300\n",
      "8400\n",
      "8500\n",
      "8600\n",
      "8700\n",
      "8800\n",
      "8900\n",
      "9000\n",
      "9100\n",
      "9200\n",
      "9300\n",
      "9400\n",
      "9500\n",
      "9600\n",
      "9700\n",
      "9800\n",
      "9900\n",
      "10000\n"
     ]
    }
   ],
   "source": [
    "# Get some tweets containing the word 'i'.\n",
    "\n",
    "import os\n",
    "from TwitterAPI import TwitterAPI\n",
    "\n",
    "# Read Twitter credentials from environmental variables.\n",
    "#api = TwitterAPI(os.environ.get('TW_CONSUMER_KEY'),\n",
    "#                 os.environ.get('TW_CONSUMER_SECRET'),\n",
    "#                 os.environ.get('TW_ACCESS_TOKEN'),\n",
    "#                 os.environ.get('TW_ACCESS_TOKEN_SECRET'))\n",
    "#my info\n",
    "consumer_key = 'Q6sCDic9j8mNMhZB2BysN69vr'\n",
    "consumer_secret = 'FdaQjrFThC0F3xddTZ1WnwhNmCtw08es0X1EIMCloQmOfxUc47'\n",
    "access_token = '3584891536-Lm7t8eHMyf9l0MDXVdXwL4gj2xKZJ6EHzxp85ev'\n",
    "access_token_secret = 'cajDlqGO2ExbHh0cRLK4WOyzw1i5E7Q4EIIi4qe99EoG2'\n",
    "api = TwitterAPI(consumer_key, consumer_secret, access_token, access_token_secret)\n",
    "\n",
    "# Collect 10000 tweets.\n",
    "tweets = []\n",
    "while True: \n",
    "    r = api.request('statuses/filter', {'track':'i',\n",
    "                                      'language':'en'})\n",
    "    if r.status_code != 200: # error\n",
    "        break\n",
    "    else:\n",
    "        for item in r.get_iterator():\n",
    "            tweets.append(item)\n",
    "            if len(tweets) > 10000:\n",
    "                break\n",
    "            elif len(tweets) % 100 == 0:\n",
    "                print(len(tweets))\n"
   ]
  },
  {
   "cell_type": "code",
   "execution_count": 9,
   "metadata": {
    "collapsed": false
   },
   "outputs": [
    {
     "name": "stdout",
     "output_type": "stream",
     "text": [
      "10002\n"
     ]
    }
   ],
   "source": [
    "print(len(tweets))"
   ]
  },
  {
   "cell_type": "code",
   "execution_count": 49,
   "metadata": {
    "collapsed": false
   },
   "outputs": [
    {
     "name": "stdout",
     "output_type": "stream",
     "text": [
      "text: hahahaha I knew you would know and thats why you sir are the fuckin MAN!!!! https://t.co/j95uXUSDNb\n",
      "description: Three friends Ray, Danielle @DarkErraticRed\n",
      "& Chris @hifunctioning tackle topics with IRREVERENT HUMOR, RIDICULOUSNESS & have a good time!! @FYFCStudios\n",
      "name: TheNakedPorchPodcast\n",
      "location: New York, USA\n"
     ]
    }
   ],
   "source": [
    "# Each tweet is a Python dict.\n",
    "print('text:', tweets[1]['text'])\n",
    "print('description:', tweets[1]['user']['description'])\n",
    "print('name:', tweets[1]['user']['name'])\n",
    "print('location:', tweets[1]['user']['location'])"
   ]
  },
  {
   "cell_type": "code",
   "execution_count": 50,
   "metadata": {
    "collapsed": false
   },
   "outputs": [],
   "source": [
    "tweets = [t for t in tweets if 'text' in t]"
   ]
  },
  {
   "cell_type": "code",
   "execution_count": 51,
   "metadata": {
    "collapsed": false
   },
   "outputs": [
    {
     "data": {
      "text/plain": [
       "9234"
      ]
     },
     "execution_count": 51,
     "metadata": {},
     "output_type": "execute_result"
    }
   ],
   "source": [
    "len(tweets)"
   ]
  },
  {
   "cell_type": "code",
   "execution_count": 52,
   "metadata": {
    "collapsed": false
   },
   "outputs": [
    {
     "name": "stdout",
     "output_type": "stream",
     "text": [
      "9234\n"
     ]
    },
    {
     "data": {
      "text/plain": [
       "['hahahaha',\n",
       " 'i',\n",
       " 'knew',\n",
       " 'you',\n",
       " 'would',\n",
       " 'know',\n",
       " 'and',\n",
       " 'thats',\n",
       " 'why',\n",
       " 'you',\n",
       " 'sir',\n",
       " 'are',\n",
       " 'the',\n",
       " 'fuckin',\n",
       " 'man']"
      ]
     },
     "execution_count": 52,
     "metadata": {},
     "output_type": "execute_result"
    }
   ],
   "source": [
    "# Tokenize each tweet text.\n",
    "import re\n",
    "tokens = []\n",
    "for tweet in tweets:\n",
    "    text = tweet['text'].lower()\n",
    "    text = re.sub('@\\S+', ' ', text)  # Remove mentions.\n",
    "    text = re.sub('http\\S+', ' ', text)  # Remove urls.\n",
    "    tokens.append(re.findall('[A-Za-z]+', text)) # Retain words.\n",
    "print(len(tokens))\n",
    "tokens[1]"
   ]
  },
  {
   "cell_type": "code",
   "execution_count": 53,
   "metadata": {
    "collapsed": false
   },
   "outputs": [],
   "source": [
    "# Count words.\n",
    "from collections import Counter\n",
    "\n",
    "word_counts = Counter()\n",
    "for tweet in tokens:\n",
    "    word_counts.update(tweet)"
   ]
  },
  {
   "cell_type": "code",
   "execution_count": 54,
   "metadata": {
    "collapsed": false
   },
   "outputs": [
    {
     "name": "stdout",
     "output_type": "stream",
     "text": [
      "10511 unique terms\n"
     ]
    },
    {
     "data": {
      "text/plain": [
       "[('i', 11056),\n",
       " ('rt', 4315),\n",
       " ('to', 2821),\n",
       " ('the', 2610),\n",
       " ('you', 2262),\n",
       " ('a', 2253),\n",
       " ('m', 2026),\n",
       " ('my', 1742),\n",
       " ('and', 1738),\n",
       " ('t', 1510)]"
      ]
     },
     "execution_count": 54,
     "metadata": {},
     "output_type": "execute_result"
    }
   ],
   "source": [
    "# Inspect word counts.\n",
    "import math\n",
    "\n",
    "print(len(word_counts), 'unique terms')\n",
    "word_counts.most_common(10)"
   ]
  },
  {
   "cell_type": "code",
   "execution_count": 55,
   "metadata": {
    "collapsed": false
   },
   "outputs": [
    {
     "name": "stdout",
     "output_type": "stream",
     "text": [
      "3232 words occur at least three times.\n"
     ]
    }
   ],
   "source": [
    "# Retain in vocabulary words occurring more than twice.\n",
    "vocab = set([w for w, c in word_counts.items() if c > 2])\n",
    "print('%d words occur at least three times.' % len(vocab))"
   ]
  },
  {
   "cell_type": "code",
   "execution_count": 56,
   "metadata": {
    "collapsed": false
   },
   "outputs": [
    {
     "name": "stdout",
     "output_type": "stream",
     "text": [
      "9217\n"
     ]
    }
   ],
   "source": [
    "# Prune tokens.\n",
    "newtoks = []\n",
    "for i, tweet in enumerate(tokens):\n",
    "    newtok = [token for token in tweet if token in vocab]\n",
    "    if len(newtok) > 0:\n",
    "        newtoks.append(newtok)\n",
    "tokens = newtoks\n",
    "print(len(tokens))"
   ]
  },
  {
   "cell_type": "code",
   "execution_count": 57,
   "metadata": {
    "collapsed": false
   },
   "outputs": [
    {
     "data": {
      "text/plain": [
       "['hahahaha',\n",
       " 'i',\n",
       " 'knew',\n",
       " 'you',\n",
       " 'would',\n",
       " 'know',\n",
       " 'and',\n",
       " 'thats',\n",
       " 'why',\n",
       " 'you',\n",
       " 'sir',\n",
       " 'are',\n",
       " 'the',\n",
       " 'fuckin',\n",
       " 'man']"
      ]
     },
     "execution_count": 57,
     "metadata": {},
     "output_type": "execute_result"
    }
   ],
   "source": [
    "# A sample pruned tweet.\n",
    "tokens[1]"
   ]
  },
  {
   "cell_type": "code",
   "execution_count": 58,
   "metadata": {
    "collapsed": false
   },
   "outputs": [
    {
     "data": {
      "text/plain": [
       "['i@-2', 'knew@-1', 'would@1', 'know@2']"
      ]
     },
     "execution_count": 58,
     "metadata": {},
     "output_type": "execute_result"
    }
   ],
   "source": [
    "import numpy as np\n",
    "# find the tokens occurs to the 'window' left or 'window' right of term i in a tweet\n",
    "def get_contexts(tweet, i, window):\n",
    "    features = []\n",
    "    for j in range(np.amax([0, i-window]), i):\n",
    "        features.append(tweet[j] + \"@\" + str(j-i))\n",
    "    for j in range(i+1, min(i + window + 1, len(tweet))):\n",
    "        features.append(tweet[j] + \"@\" + str(j-i))\n",
    "    return features\n",
    "\n",
    "get_contexts(tokens[1], i=3, window=2)"
   ]
  },
  {
   "cell_type": "code",
   "execution_count": 59,
   "metadata": {
    "collapsed": false
   },
   "outputs": [
    {
     "name": "stdout",
     "output_type": "stream",
     "text": [
      "True\n"
     ]
    }
   ],
   "source": [
    "# For each term (of all tweets after we pruned, recorded as in vocab), create a context vector, indicating how often\n",
    "# each word occurs to the left or right of it.\n",
    "from collections import defaultdict\n",
    "import numpy as np\n",
    "\n",
    "# dict from term to context vector.\n",
    "contexts = defaultdict(lambda: Counter())\n",
    "window = 2\n",
    "#sum=0\n",
    "for tweet in tokens:\n",
    "    for i, token in enumerate(tweet):\n",
    "        features = get_contexts(tweet, i, window)\n",
    "        #sum+=len(features)\n",
    "        contexts[token].update(features)\n",
    "        # Optionally: ignore word order\n",
    "        # contexts[token].update(tweet[:i] + tweet[i+1:])\n",
    "#sum"
   ]
  },
  {
   "cell_type": "code",
   "execution_count": 73,
   "metadata": {
    "collapsed": false
   },
   "outputs": [
    {
     "name": "stdout",
     "output_type": "stream",
     "text": [
      "3232 3232\n"
     ]
    }
   ],
   "source": [
    "print(len(contexts), len(vocab))"
   ]
  },
  {
   "cell_type": "code",
   "execution_count": 60,
   "metadata": {
    "collapsed": false
   },
   "outputs": [
    {
     "name": "stdout",
     "output_type": "stream",
     "text": [
      "4068\n"
     ]
    },
    {
     "data": {
      "text/plain": [
       "Counter({'bf@-1': 1,\n",
       "         'receive@2': 2,\n",
       "         'them@2': 29,\n",
       "         'beast@-2': 1,\n",
       "         'red@-1': 2,\n",
       "         'badthingsonfallon@1': 1,\n",
       "         'pushing@2': 2,\n",
       "         'blessed@2': 4,\n",
       "         'play@2': 2,\n",
       "         'because@2': 6,\n",
       "         'man@2': 2,\n",
       "         'self@-1': 3,\n",
       "         'someone@-1': 7,\n",
       "         'now@-1': 71,\n",
       "         'due@-1': 1,\n",
       "         'fake@2': 5,\n",
       "         'officially@2': 2,\n",
       "         'finding@-1': 1,\n",
       "         'met@2': 1,\n",
       "         'pockets@-2': 1,\n",
       "         'repeat@1': 5,\n",
       "         'read@-1': 1,\n",
       "         'box@-2': 3,\n",
       "         'walking@2': 1,\n",
       "         'hang@2': 1,\n",
       "         'after@1': 1,\n",
       "         'photoshoot@-2': 1,\n",
       "         'although@-1': 4,\n",
       "         'agree@-2': 1,\n",
       "         'hip@2': 1,\n",
       "         'bought@2': 2,\n",
       "         't@1': 2,\n",
       "         'seconds@2': 1,\n",
       "         'above@-2': 1,\n",
       "         'snow@-1': 1,\n",
       "         'minutes@-2': 1,\n",
       "         'wasn@1': 18,\n",
       "         'burn@1': 1,\n",
       "         'lmao@-1': 11,\n",
       "         'drinking@-2': 2,\n",
       "         'guess@2': 1,\n",
       "         'understand@-2': 3,\n",
       "         'wear@2': 1,\n",
       "         'l@1': 3,\n",
       "         'really@1': 89,\n",
       "         'fix@2': 2,\n",
       "         'season@-2': 4,\n",
       "         'crazy@-2': 6,\n",
       "         'b@2': 4,\n",
       "         'shady@2': 1,\n",
       "         'knowing@2': 2,\n",
       "         'sleep@1': 6,\n",
       "         'much@-1': 25,\n",
       "         'miss@2': 13,\n",
       "         'successful@-1': 1,\n",
       "         'team@-2': 3,\n",
       "         'fell@1': 5,\n",
       "         'trying@2': 21,\n",
       "         'summer@2': 3,\n",
       "         'mom@-2': 15,\n",
       "         'forever@-1': 3,\n",
       "         'sec@-1': 1,\n",
       "         'mess@2': 1,\n",
       "         'guy@-2': 2,\n",
       "         'fair@-1': 1,\n",
       "         'hahaha@2': 3,\n",
       "         'comments@-1': 1,\n",
       "         'saw@1': 32,\n",
       "         'prefer@1': 8,\n",
       "         'hunger@-2': 1,\n",
       "         'coverage@-1': 1,\n",
       "         'dms@-2': 1,\n",
       "         'otherwise@-1': 1,\n",
       "         'due@2': 1,\n",
       "         'your@2': 36,\n",
       "         'breathe@2': 1,\n",
       "         'nap@-2': 1,\n",
       "         'killed@2': 1,\n",
       "         'edition@-2': 34,\n",
       "         'followed@1': 1,\n",
       "         'the@-2': 193,\n",
       "         'hope@1': 95,\n",
       "         'to@1': 13,\n",
       "         'pretend@-1': 2,\n",
       "         'sneak@-1': 1,\n",
       "         'who@-1': 13,\n",
       "         'you@2': 408,\n",
       "         'take@-2': 2,\n",
       "         'bill@-1': 1,\n",
       "         'care@-2': 9,\n",
       "         'damn@1': 2,\n",
       "         'disgusting@-1': 1,\n",
       "         'fire@2': 1,\n",
       "         'flying@-2': 1,\n",
       "         'worth@2': 3,\n",
       "         'dreaming@-1': 1,\n",
       "         'hungry@2': 8,\n",
       "         'harshitagaur@2': 3,\n",
       "         'gained@2': 1,\n",
       "         'sent@1': 3,\n",
       "         'onto@-2': 1,\n",
       "         'this@-1': 26,\n",
       "         'when@1': 3,\n",
       "         'hoping@-1': 3,\n",
       "         'coffee@2': 1,\n",
       "         'pray@1': 14,\n",
       "         'answer@2': 2,\n",
       "         'entering@2': 1,\n",
       "         'hype@1': 1,\n",
       "         'kinda@2': 5,\n",
       "         'cold@-1': 2,\n",
       "         'taehyung@2': 1,\n",
       "         'selfish@-2': 1,\n",
       "         'battle@-1': 1,\n",
       "         'holiday@-2': 5,\n",
       "         'cant@1': 27,\n",
       "         'misogynistic@-1': 5,\n",
       "         'overreacting@2': 17,\n",
       "         'job@-2': 1,\n",
       "         'do@1': 96,\n",
       "         'fox@-2': 1,\n",
       "         'gravy@-1': 2,\n",
       "         'smile@1': 1,\n",
       "         'smell@2': 2,\n",
       "         'vs@-2': 5,\n",
       "         'bread@-1': 1,\n",
       "         'kiki@-1': 1,\n",
       "         'tonight@-1': 6,\n",
       "         'harry@2': 2,\n",
       "         'fried@-1': 1,\n",
       "         'case@-1': 1,\n",
       "         'one@2': 17,\n",
       "         'hoop@-1': 1,\n",
       "         'emo@-2': 1,\n",
       "         'whole@-2': 2,\n",
       "         'home@-1': 7,\n",
       "         'students@-2': 1,\n",
       "         'before@2': 1,\n",
       "         'save@1': 2,\n",
       "         'hate@-2': 23,\n",
       "         'sing@-1': 1,\n",
       "         'event@-2': 1,\n",
       "         'something@-2': 8,\n",
       "         'expect@1': 2,\n",
       "         'voted@1': 21,\n",
       "         'alt@2': 1,\n",
       "         'we@-2': 2,\n",
       "         'badly@-1': 2,\n",
       "         'calories@-1': 1,\n",
       "         'faster@-1': 3,\n",
       "         'people@-1': 19,\n",
       "         'james@2': 2,\n",
       "         'turn@-2': 1,\n",
       "         'thought@-1': 28,\n",
       "         'cant@-2': 2,\n",
       "         'impossible@-2': 1,\n",
       "         'watch@-2': 7,\n",
       "         'roast@2': 1,\n",
       "         'finna@2': 8,\n",
       "         'paramsingh@2': 3,\n",
       "         'book@-1': 2,\n",
       "         'loving@-2': 1,\n",
       "         'well@-1': 19,\n",
       "         'slap@2': 4,\n",
       "         'prayers@-1': 1,\n",
       "         'talking@-1': 2,\n",
       "         'by@-1': 2,\n",
       "         'first@-2': 13,\n",
       "         'fuck@-2': 11,\n",
       "         'rich@-1': 1,\n",
       "         'posted@1': 39,\n",
       "         'thing@-2': 3,\n",
       "         'thank@1': 9,\n",
       "         'm@-2': 50,\n",
       "         'closer@-2': 1,\n",
       "         'football@-2': 1,\n",
       "         'ck@-2': 5,\n",
       "         'girl@1': 1,\n",
       "         'glad@2': 11,\n",
       "         'is@2': 33,\n",
       "         'become@1': 1,\n",
       "         'ass@2': 2,\n",
       "         'somehow@-2': 1,\n",
       "         'yesterday@-1': 3,\n",
       "         'cherish@1': 21,\n",
       "         'all@2': 69,\n",
       "         'earlier@-1': 1,\n",
       "         'very@-1': 1,\n",
       "         'again@-1': 9,\n",
       "         'auto@-2': 1,\n",
       "         'yall@-1': 3,\n",
       "         'sucked@2': 3,\n",
       "         'beer@-2': 1,\n",
       "         'realize@-2': 4,\n",
       "         'so@-1': 125,\n",
       "         'knows@-1': 2,\n",
       "         'mins@-2': 1,\n",
       "         'hillary@2': 2,\n",
       "         'realize@-1': 7,\n",
       "         'stan@-2': 1,\n",
       "         'swamp@-1': 1,\n",
       "         'g@2': 3,\n",
       "         'beyond@-2': 1,\n",
       "         'phone@1': 1,\n",
       "         'don@-2': 3,\n",
       "         'argue@-2': 1,\n",
       "         'taste@-1': 1,\n",
       "         'snake@2': 1,\n",
       "         'absolutely@1': 6,\n",
       "         'buy@1': 2,\n",
       "         'care@2': 6,\n",
       "         'alive@2': 2,\n",
       "         'speaking@-2': 1,\n",
       "         'one@-1': 16,\n",
       "         'open@-2': 4,\n",
       "         'better@-2': 6,\n",
       "         'fact@-2': 9,\n",
       "         'most@-2': 10,\n",
       "         'played@1': 5,\n",
       "         'stan@2': 1,\n",
       "         'without@2': 1,\n",
       "         'cheese@-1': 1,\n",
       "         'plates@-2': 1,\n",
       "         'walking@-2': 1,\n",
       "         'epic@2': 1,\n",
       "         'cooking@-1': 1,\n",
       "         'hey@-1': 16,\n",
       "         'listened@-2': 1,\n",
       "         'sure@2': 17,\n",
       "         'was@-2': 18,\n",
       "         'knew@2': 2,\n",
       "         'when@2': 48,\n",
       "         'remember@2': 4,\n",
       "         'obsessed@2': 6,\n",
       "         'order@2': 2,\n",
       "         'kill@-1': 2,\n",
       "         'cannot@1': 16,\n",
       "         'weed@-2': 4,\n",
       "         'failed@2': 1,\n",
       "         'how@1': 1,\n",
       "         'pull@-2': 2,\n",
       "         'stream@-2': 1,\n",
       "         'stupid@-1': 2,\n",
       "         'pray@-1': 1,\n",
       "         'culture@1': 1,\n",
       "         'made@2': 4,\n",
       "         'bitter@2': 1,\n",
       "         'coz@-1': 1,\n",
       "         'fall@2': 5,\n",
       "         'reply@-1': 1,\n",
       "         'sooo@2': 1,\n",
       "         'traffic@-1': 1,\n",
       "         'walmart@-1': 2,\n",
       "         'awful@-2': 1,\n",
       "         'tied@1': 1,\n",
       "         'country@-2': 2,\n",
       "         'would@-2': 3,\n",
       "         'night@2': 1,\n",
       "         'last@-2': 15,\n",
       "         'tax@2': 1,\n",
       "         'standing@2': 3,\n",
       "         'four@-2': 1,\n",
       "         'for@-2': 30,\n",
       "         'hot@-1': 1,\n",
       "         'crush@-1': 7,\n",
       "         'called@-1': 1,\n",
       "         'family@-2': 10,\n",
       "         'been@-2': 1,\n",
       "         'rn@-1': 3,\n",
       "         'negative@-1': 1,\n",
       "         'care@1': 12,\n",
       "         'beer@2': 2,\n",
       "         'hear@-1': 4,\n",
       "         'laughed@1': 12,\n",
       "         'tired@-1': 1,\n",
       "         'act@2': 1,\n",
       "         'reach@2': 2,\n",
       "         'beat@2': 2,\n",
       "         'cant@2': 4,\n",
       "         'also@-2': 4,\n",
       "         'forgive@-1': 1,\n",
       "         'monday@2': 2,\n",
       "         'love@-1': 25,\n",
       "         'cold@2': 3,\n",
       "         'smh@2': 1,\n",
       "         'grabbed@1': 1,\n",
       "         'it@2': 215,\n",
       "         'up@-2': 19,\n",
       "         'complete@2': 1,\n",
       "         'page@2': 1,\n",
       "         'skip@1': 2,\n",
       "         'stweeksary@-1': 1,\n",
       "         'fly@-1': 2,\n",
       "         'gave@1': 9,\n",
       "         'supporter@-2': 1,\n",
       "         'dreams@-2': 2,\n",
       "         'scenario@-1': 1,\n",
       "         'money@-1': 8,\n",
       "         'go@-1': 3,\n",
       "         'hd@-1': 1,\n",
       "         'win@2': 1,\n",
       "         'scream@1': 1,\n",
       "         'playing@-2': 3,\n",
       "         'they@1': 1,\n",
       "         'boyfriend@-1': 1,\n",
       "         'eat@-1': 1,\n",
       "         'men@-2': 2,\n",
       "         'dress@-1': 1,\n",
       "         'three@-2': 1,\n",
       "         'having@-2': 4,\n",
       "         'wanna@2': 72,\n",
       "         'nut@1': 1,\n",
       "         'vote@1': 33,\n",
       "         'back@-1': 8,\n",
       "         'paper@2': 1,\n",
       "         'truly@-2': 1,\n",
       "         'somewhere@-1': 1,\n",
       "         'ps@-2': 1,\n",
       "         'squad@-1': 2,\n",
       "         'focus@1': 1,\n",
       "         'tiger@-1': 1,\n",
       "         'running@2': 1,\n",
       "         'but@-2': 36,\n",
       "         'bruh@-1': 2,\n",
       "         'point@-1': 3,\n",
       "         'thru@-2': 3,\n",
       "         'between@-2': 3,\n",
       "         'ran@1': 3,\n",
       "         'enough@-2': 2,\n",
       "         'go@2': 20,\n",
       "         'tonight@-2': 4,\n",
       "         'ex@-1': 1,\n",
       "         'cook@1': 1,\n",
       "         'anything@2': 5,\n",
       "         'treat@2': 1,\n",
       "         'honest@-1': 2,\n",
       "         'meet@2': 1,\n",
       "         'heart@-1': 4,\n",
       "         'pregnant@2': 2,\n",
       "         'challenge@-2': 4,\n",
       "         'finally@1': 6,\n",
       "         'b@1': 4,\n",
       "         'wtf@-2': 1,\n",
       "         'mother@2': 1,\n",
       "         'want@2': 105,\n",
       "         'flysoon@2': 7,\n",
       "         'more@-1': 5,\n",
       "         'maturity@2': 2,\n",
       "         'should@1': 86,\n",
       "         'host@1': 1,\n",
       "         'c@1': 4,\n",
       "         'n@-1': 9,\n",
       "         'body@-2': 3,\n",
       "         'nothing@-1': 1,\n",
       "         'crack@2': 1,\n",
       "         'pokemon@-1': 1,\n",
       "         'invite@-1': 1,\n",
       "         'falling@2': 2,\n",
       "         'ordered@1': 3,\n",
       "         'more@-2': 11,\n",
       "         'brought@1': 2,\n",
       "         'p@2': 2,\n",
       "         'before@-1': 26,\n",
       "         'afford@-2': 1,\n",
       "         'completely@2': 3,\n",
       "         'hunger@1': 1,\n",
       "         'how@2': 37,\n",
       "         'outside@2': 2,\n",
       "         'rather@1': 3,\n",
       "         'abt@2': 2,\n",
       "         'omg@-2': 6,\n",
       "         'offended@1': 1,\n",
       "         'didnt@2': 1,\n",
       "         'extra@-1': 2,\n",
       "         'less@2': 1,\n",
       "         'very@2': 10,\n",
       "         'came@-2': 2,\n",
       "         'tired@2': 10,\n",
       "         'over@-2': 6,\n",
       "         'pose@-1': 1,\n",
       "         'rt@2': 1,\n",
       "         'living@2': 4,\n",
       "         'certain@2': 1,\n",
       "         'meet@1': 5,\n",
       "         'aight@-1': 3,\n",
       "         'awkward@-1': 1,\n",
       "         'enjoyed@1': 4,\n",
       "         'glasses@2': 1,\n",
       "         'depressed@-1': 8,\n",
       "         'wearing@2': 3,\n",
       "         'when@-2': 10,\n",
       "         'your@-1': 3,\n",
       "         'least@-1': 9,\n",
       "         'coach@-1': 1,\n",
       "         'cod@-1': 1,\n",
       "         'happy@-1': 18,\n",
       "         'makes@-2': 1,\n",
       "         'here@-2': 6,\n",
       "         'perfectly@2': 1,\n",
       "         'mix@2': 1,\n",
       "         'link@2': 2,\n",
       "         'holiday@2': 1,\n",
       "         'episode@-1': 2,\n",
       "         'watching@-1': 1,\n",
       "         'learned@2': 5,\n",
       "         'eyes@-1': 2,\n",
       "         'gonnna@2': 3,\n",
       "         'pm@-2': 7,\n",
       "         'bite@2': 1,\n",
       "         'proud@2': 9,\n",
       "         'happiness@2': 3,\n",
       "         'literally@-2': 5,\n",
       "         'victor@-2': 1,\n",
       "         'roast@1': 1,\n",
       "         'shitty@-1': 1,\n",
       "         'pretty@2': 20,\n",
       "         'cold@-2': 1,\n",
       "         'hear@1': 17,\n",
       "         'end@-2': 1,\n",
       "         'card@2': 1,\n",
       "         'exams@-1': 3,\n",
       "         'butttttt@-2': 4,\n",
       "         'ed@2': 1,\n",
       "         'laugh@2': 3,\n",
       "         'wow@-2': 1,\n",
       "         'on@1': 4,\n",
       "         'nobody@2': 2,\n",
       "         'dunked@-1': 2,\n",
       "         'being@-1': 2,\n",
       "         'shoot@2': 1,\n",
       "         'u@-1': 12,\n",
       "         'true@-1': 5,\n",
       "         'went@2': 21,\n",
       "         'takes@-2': 1,\n",
       "         'die@2': 8,\n",
       "         'ever@2': 35,\n",
       "         'jackson@2': 2,\n",
       "         'calling@-2': 1,\n",
       "         'hit@1': 2,\n",
       "         'possible@-2': 1,\n",
       "         'melania@-2': 1,\n",
       "         'j@-2': 2,\n",
       "         'm@2': 4,\n",
       "         'explained@-2': 2,\n",
       "         'get@-1': 3,\n",
       "         'run@-1': 2,\n",
       "         'couldnt@1': 2,\n",
       "         'grateful@2': 4,\n",
       "         'queensugar@-1': 2,\n",
       "         'cum@1': 2,\n",
       "         'rub@1': 1,\n",
       "         'freaking@2': 1,\n",
       "         'dropped@-2': 1,\n",
       "         'vodka@2': 1,\n",
       "         'listen@-1': 5,\n",
       "         'clothes@-1': 2,\n",
       "         'hold@-2': 1,\n",
       "         'ever@1': 28,\n",
       "         'have@2': 68,\n",
       "         'rate@-1': 1,\n",
       "         'anything@-1': 5,\n",
       "         'every@-1': 1,\n",
       "         'spent@2': 1,\n",
       "         'thanksgiving@-1': 17,\n",
       "         'last@2': 2,\n",
       "         'front@-2': 1,\n",
       "         'niall@2': 1,\n",
       "         'hellyshah@2': 2,\n",
       "         'come@1': 4,\n",
       "         'sm@-1': 1,\n",
       "         'kitty@-2': 1,\n",
       "         'sweet@2': 1,\n",
       "         'taste@2': 1,\n",
       "         'badly@2': 1,\n",
       "         'yeah@-2': 5,\n",
       "         'sorry@-1': 22,\n",
       "         'score@1': 1,\n",
       "         'lead@2': 1,\n",
       "         'if@2': 28,\n",
       "         'dinner@-2': 4,\n",
       "         'past@-2': 7,\n",
       "         'soon@2': 2,\n",
       "         'air@-2': 1,\n",
       "         'taking@2': 7,\n",
       "         'boy@-2': 2,\n",
       "         'somebody@-1': 1,\n",
       "         'dancing@-2': 2,\n",
       "         'nice@2': 2,\n",
       "         'ten@-1': 2,\n",
       "         'water@1': 1,\n",
       "         'will@2': 2,\n",
       "         'church@2': 1,\n",
       "         'questions@-2': 1,\n",
       "         'released@1': 1,\n",
       "         'listen@2': 4,\n",
       "         'control@-2': 2,\n",
       "         'screaming@-1': 2,\n",
       "         'worried@2': 3,\n",
       "         'god@-2': 7,\n",
       "         'boo@-2': 1,\n",
       "         'lol@-2': 5,\n",
       "         'son@-2': 1,\n",
       "         'wonder@-2': 5,\n",
       "         'helped@1': 1,\n",
       "         'deny@2': 1,\n",
       "         'block@-2': 3,\n",
       "         'verse@-2': 1,\n",
       "         'announce@1': 2,\n",
       "         'challenge@2': 1,\n",
       "         'cant@-1': 2,\n",
       "         'whotus@-2': 3,\n",
       "         'passed@2': 2,\n",
       "         'animators@-2': 3,\n",
       "         'pumpkin@-1': 1,\n",
       "         'trump@-1': 6,\n",
       "         'would@1': 87,\n",
       "         'kidding@-1': 3,\n",
       "         'josh@-2': 1,\n",
       "         'winning@2': 1,\n",
       "         'scott@2': 1,\n",
       "         'seriously@-1': 4,\n",
       "         'narendra@-2': 1,\n",
       "         'kevin@-1': 2,\n",
       "         'idk@-1': 1,\n",
       "         'some@2': 27,\n",
       "         'jesus@-2': 1,\n",
       "         'lesbian@2': 1,\n",
       "         'missed@1': 13,\n",
       "         'bet@-1': 3,\n",
       "         'way@-1': 20,\n",
       "         'michael@-1': 1,\n",
       "         'situation@-1': 2,\n",
       "         'n@2': 3,\n",
       "         'once@2': 1,\n",
       "         'bff@-1': 1,\n",
       "         'treat@1': 3,\n",
       "         'speaking@2': 1,\n",
       "         'speak@-1': 1,\n",
       "         'stan@1': 3,\n",
       "         'pink@-2': 2,\n",
       "         'art@-1': 3,\n",
       "         'life@2': 5,\n",
       "         'sucked@-2': 1,\n",
       "         'turn@2': 2,\n",
       "         'admire@1': 5,\n",
       "         'day@-1': 32,\n",
       "         'ready@-2': 6,\n",
       "         'self@2': 1,\n",
       "         'word@-2': 2,\n",
       "         'space@-2': 2,\n",
       "         'refuse@1': 8,\n",
       "         'ask@-2': 3,\n",
       "         'day@-2': 29,\n",
       "         'hoooo@-1': 17,\n",
       "         'wanted@1': 12,\n",
       "         'film@-1': 3,\n",
       "         'call@-2': 2,\n",
       "         'along@1': 1,\n",
       "         'out@-1': 8,\n",
       "         'hella@-1': 1,\n",
       "         'breathe@-2': 1,\n",
       "         'funniest@-2': 3,\n",
       "         'cuz@-1': 19,\n",
       "         'act@1': 6,\n",
       "         'never@-2': 8,\n",
       "         'anyone@-1': 8,\n",
       "         'pm@-1': 5,\n",
       "         'breathing@2': 1,\n",
       "         'women@-1': 1,\n",
       "         'sea@-1': 1,\n",
       "         'shared@2': 2,\n",
       "         'cookies@-1': 1,\n",
       "         'been@2': 54,\n",
       "         'present@2': 1,\n",
       "         'points@-2': 2,\n",
       "         'jump@2': 1,\n",
       "         'rip@-1': 1,\n",
       "         'amp@2': 12,\n",
       "         'high@2': 1,\n",
       "         'end@1': 3,\n",
       "         'stay@-2': 2,\n",
       "         'needa@1': 3,\n",
       "         'legit@1': 3,\n",
       "         'went@1': 17,\n",
       "         'dream@-2': 2,\n",
       "         'supported@2': 2,\n",
       "         'dogs@-1': 1,\n",
       "         'do@-1': 43,\n",
       "         'window@-1': 2,\n",
       "         'started@-1': 2,\n",
       "         'places@-1': 1,\n",
       "         'this@1': 2,\n",
       "         'offered@2': 1,\n",
       "         'better@2': 11,\n",
       "         'anyone@-2': 2,\n",
       "         'whole@2': 1,\n",
       "         'writing@-1': 1,\n",
       "         'which@-2': 2,\n",
       "         'strongest@-2': 2,\n",
       "         'switch@2': 1,\n",
       "         'popular@-2': 1,\n",
       "         'listen@1': 6,\n",
       "         'genuinely@-2': 1,\n",
       "         'holidays@-2': 1,\n",
       "         'conversation@-1': 1,\n",
       "         'kyle@-1': 1,\n",
       "         'drop@1': 2,\n",
       "         'gun@2': 1,\n",
       "         'ya@2': 5,\n",
       "         'career@-2': 1,\n",
       "         'stressed@-2': 1,\n",
       "         'look@1': 26,\n",
       "         'trippin@2': 2,\n",
       "         'neverromney@-1': 4,\n",
       "         'gone@-2': 2,\n",
       "         'only@1': 15,\n",
       "         'explain@1': 1,\n",
       "         'now@1': 11,\n",
       "         'recently@1': 2,\n",
       "         'dance@2': 2,\n",
       "         'while@-1': 37,\n",
       "         'damn@-2': 5,\n",
       "         'kid@-1': 4,\n",
       "         'asked@1': 9,\n",
       "         'mickey@-1': 2,\n",
       "         'hmm@-2': 2,\n",
       "         'friend@-2': 3,\n",
       "         'darla@-1': 2,\n",
       "         'boys@2': 3,\n",
       "         'towards@-1': 1,\n",
       "         'honestly@2': 8,\n",
       "         'can@-2': 13,\n",
       "         'def@2': 2,\n",
       "         'pounds@-1': 1,\n",
       "         'apple@-2': 1,\n",
       "         'amp@1': 1,\n",
       "         'john@-2': 2,\n",
       "         'weird@-1': 1,\n",
       "         'dem@-2': 1,\n",
       "         'tweeting@1': 1,\n",
       "         'more@2': 20,\n",
       "         'can@-1': 65,\n",
       "         'imma@-2': 1,\n",
       "         'did@1': 62,\n",
       "         'to@-1': 18,\n",
       "         'politics@-1': 1,\n",
       "         'mean@-1': 18,\n",
       "         'getting@1': 1,\n",
       "         'ab@2': 1,\n",
       "         'school@-2': 3,\n",
       "         'cheap@-2': 1,\n",
       "         'real@-2': 4,\n",
       "         'need@1': 252,\n",
       "         'in@1': 6,\n",
       "         'called@1': 4,\n",
       "         'poke@2': 2,\n",
       "         'til@-1': 3,\n",
       "         'promise@-1': 3,\n",
       "         'turned@1': 2,\n",
       "         'got@-1': 5,\n",
       "         'myself@-2': 7,\n",
       "         'tweets@-1': 5,\n",
       "         'getting@-2': 3,\n",
       "         'pain@2': 2,\n",
       "         'shared@1': 1,\n",
       "         'soon@-2': 8,\n",
       "         'did@2': 18,\n",
       "         'seen@1': 4,\n",
       "         'loved@1': 10,\n",
       "         'scream@-1': 1,\n",
       "         'may@-1': 2,\n",
       "         'send@2': 4,\n",
       "         'still@2': 56,\n",
       "         'people@-2': 4,\n",
       "         'dr@-1': 1,\n",
       "         'someone@-2': 3,\n",
       "         'much@2': 2,\n",
       "         'gas@-1': 1,\n",
       "         'choker@-1': 1,\n",
       "         'lmaoo@-2': 1,\n",
       "         'almost@-2': 74,\n",
       "         'thanksgiving@2': 3,\n",
       "         'nope@-1': 3,\n",
       "         'wish@-2': 2,\n",
       "         'app@-2': 1,\n",
       "         'nothing@-2': 1,\n",
       "         'blunt@-1': 1,\n",
       "         'kidding@1': 2,\n",
       "         'songs@2': 1,\n",
       "         'concert@-2': 1,\n",
       "         'survivor@-2': 1,\n",
       "         'tum@2': 2,\n",
       "         'sure@1': 3,\n",
       "         're@-1': 2,\n",
       "         'girls@2': 1,\n",
       "         'eye@-1': 1,\n",
       "         'complaining@2': 1,\n",
       "         'get@1': 108,\n",
       "         'other@-2': 3,\n",
       "         'bank@1': 1,\n",
       "         'worst@-2': 2,\n",
       "         'about@-2': 21,\n",
       "         'whatever@-1': 3,\n",
       "         'broken@-1': 1,\n",
       "         'start@-2': 5,\n",
       "         'self@-2': 1,\n",
       "         'earning@2': 34,\n",
       "         'scream@2': 2,\n",
       "         'goal@-2': 1,\n",
       "         'buy@2': 5,\n",
       "         'lesbian@-1': 2,\n",
       "         'sincerely@1': 1,\n",
       "         'for@1': 8,\n",
       "         'meant@1': 8,\n",
       "         'ummm@-2': 1,\n",
       "         'ass@-2': 5,\n",
       "         'dying@2': 9,\n",
       "         'called@2': 1,\n",
       "         'touch@1': 1,\n",
       "         'cow@-1': 1,\n",
       "         'love@-2': 14,\n",
       "         'ok@-2': 7,\n",
       "         'sleep@-1': 5,\n",
       "         'swear@-1': 16,\n",
       "         'relationship@-1': 5,\n",
       "         'low@2': 1,\n",
       "         'moving@-2': 1,\n",
       "         'problems@-1': 1,\n",
       "         'rain@-2': 1,\n",
       "         'memes@-2': 1,\n",
       "         'disappear@2': 1,\n",
       "         'level@-1': 2,\n",
       "         'relate@2': 1,\n",
       "         'youtube@-1': 1,\n",
       "         'rainbow@-1': 1,\n",
       "         'dear@-2': 3,\n",
       "         'smiling@-1': 1,\n",
       "         'naps@2': 2,\n",
       "         'queensugar@2': 1,\n",
       "         'thanks@2': 2,\n",
       "         'ppl@2': 7,\n",
       "         'change@2': 6,\n",
       "         'does@-1': 1,\n",
       "         'horny@2': 1,\n",
       "         'trade@-1': 1,\n",
       "         'bottle@-1': 1,\n",
       "         'ni@-1': 1,\n",
       "         'fully@2': 1,\n",
       "         'north@-2': 1,\n",
       "         'shape@-1': 1,\n",
       "         'them@-1': 11,\n",
       "         'little@-2': 4,\n",
       "         'twin@-2': 1,\n",
       "         'gram@-1': 5,\n",
       "         'kind@-2': 1,\n",
       "         'doing@2': 15,\n",
       "         'neither@-2': 1,\n",
       "         'isn@-2': 2,\n",
       "         'cheeks@-1': 1,\n",
       "         'quiet@-1': 1,\n",
       "         'starting@2': 7,\n",
       "         'once@-2': 4,\n",
       "         'singing@-2': 3,\n",
       "         'both@2': 4,\n",
       "         'page@-2': 1,\n",
       "         'blessed@-2': 1,\n",
       "         'starts@-2': 3,\n",
       "         'romney@2': 2,\n",
       "         'keeping@2': 1,\n",
       "         'hit@2': 4,\n",
       "         'blind@2': 1,\n",
       "         'live@-2': 4,\n",
       "         'passed@1': 2,\n",
       "         'leave@-2': 3,\n",
       "         'double@1': 3,\n",
       "         'couldn@1': 12,\n",
       "         'drawing@-2': 1,\n",
       "         'lt@1': 2,\n",
       "         'better@-1': 1,\n",
       "         'luv@1': 5,\n",
       "         'test@-1': 1,\n",
       "         'kst@-1': 7,\n",
       "         'deep@-2': 4,\n",
       "         'll@1': 280,\n",
       "         'coming@2': 8,\n",
       "         'ever@-1': 7,\n",
       "         'retweet@1': 1,\n",
       "         'till@-1': 5,\n",
       "         'challenge@1': 2,\n",
       "         'baby@-2': 5,\n",
       "         'happened@-2': 3,\n",
       "         'ss@2': 1,\n",
       "         'staying@2': 5,\n",
       "         'changes@-1': 2,\n",
       "         'out@-2': 11,\n",
       "         'but@2': 20,\n",
       "         'seen@2': 24,\n",
       "         'won@-2': 1,\n",
       "         'bought@1': 3,\n",
       "         'price@-2': 1,\n",
       "         'water@2': 1,\n",
       "         'shade@-2': 1,\n",
       "         'fear@-2': 1,\n",
       "         'boobs@-1': 1,\n",
       "         'pizzagate@-2': 1,\n",
       "         'universe@2': 1,\n",
       "         'lit@-2': 5,\n",
       "         'completed@2': 3,\n",
       "         'signed@2': 2,\n",
       "         'genuinely@1': 1,\n",
       "         'she@-2': 9,\n",
       "         'tough@-2': 1,\n",
       "         'justin@2': 2,\n",
       "         'bathroom@2': 1,\n",
       "         'team@2': 5,\n",
       "         'pay@2': 6,\n",
       "         'maybe@2': 2,\n",
       "         'one@-2': 28,\n",
       "         'australian@2': 1,\n",
       "         'honestly@1': 10,\n",
       "         'state@-1': 1,\n",
       "         'wes@2': 1,\n",
       "         'using@2': 4,\n",
       "         'ran@2': 1,\n",
       "         'classes@-1': 1,\n",
       "         'lbs@2': 2,\n",
       "         'babe@-2': 3,\n",
       "         'missing@-2': 1,\n",
       "         'officially@1': 1,\n",
       "         'truly@-1': 1,\n",
       "         'biggest@-2': 1,\n",
       "         'kids@-1': 1,\n",
       "         'th@-1': 2,\n",
       "         'hyped@2': 1,\n",
       "         'exactly@2': 2,\n",
       "         'j@2': 2,\n",
       "         'bringing@-2': 1,\n",
       "         'thursday@-1': 1,\n",
       "         'workout@-2': 1,\n",
       "         'official@-1': 2,\n",
       "         'agree@1': 18,\n",
       "         'handmade@1': 1,\n",
       "         'her@-2': 24,\n",
       "         'yours@-2': 2,\n",
       "         'dubchallenge@2': 3,\n",
       "         'ball@-2': 3,\n",
       "         'apps@-2': 1,\n",
       "         'mason@2': 1,\n",
       "         'news@-1': 1,\n",
       "         'florida@-2': 1,\n",
       "         'laugh@-2': 1,\n",
       "         'always@1': 37,\n",
       "         'sean@-2': 1,\n",
       "         'kid@1': 2,\n",
       "         'attention@2': 1,\n",
       "         'let@1': 7,\n",
       "         'smack@2': 2,\n",
       "         'jackson@-2': 19,\n",
       "         'around@2': 5,\n",
       "         'congratulations@-1': 1,\n",
       "         'soo@2': 3,\n",
       "         'frustrating@-1': 1,\n",
       "         'account@2': 1,\n",
       "         'jk@-1': 1,\n",
       "         'pics@-1': 1,\n",
       "         'quick@2': 1,\n",
       "         'nah@-1': 4,\n",
       "         'boring@-2': 4,\n",
       "         'fast@-1': 1,\n",
       "         'ab@-2': 1,\n",
       "         'etc@-1': 1,\n",
       "         'tho@2': 1,\n",
       "         'today@-1': 12,\n",
       "         'pt@2': 1,\n",
       "         'ken@-1': 1,\n",
       "         'usually@-1': 1,\n",
       "         'take@1': 12,\n",
       "         'thankful@2': 40,\n",
       "         'learning@2': 2,\n",
       "         'comeback@-2': 2,\n",
       "         'smart@-2': 4,\n",
       "         'play@-1': 6,\n",
       "         'down@-1': 9,\n",
       "         'relate@-1': 1,\n",
       "         'man@-2': 13,\n",
       "         'of@2': 22,\n",
       "         'send@1': 2,\n",
       "         'meant@2': 1,\n",
       "         'earned@1': 2,\n",
       "         'immediately@-1': 1,\n",
       "         'screaming@2': 2,\n",
       "         'my@2': 174,\n",
       "         'so@2': 216,\n",
       "         'definitely@1': 6,\n",
       "         'fantastic@-2': 1,\n",
       "         'star@1': 1,\n",
       "         'doesnt@-2': 1,\n",
       "         'cracking@-2': 1,\n",
       "         'smell@1': 4,\n",
       "         'thats@-2': 5,\n",
       "         'killed@1': 1,\n",
       "         'short@-2': 2,\n",
       "         'even@-2': 10,\n",
       "         'liza@-2': 1,\n",
       "         'praying@2': 3,\n",
       "         'met@1': 17,\n",
       "         'about@2': 48,\n",
       "         'it@-1': 32,\n",
       "         'weak@2': 8,\n",
       "         'same@-2': 7,\n",
       "         'help@2': 2,\n",
       "         'way@-2': 3,\n",
       "         'kinda@-1': 2,\n",
       "         'sleeping@2': 3,\n",
       "         'penny@-2': 2,\n",
       "         'end@2': 2,\n",
       "         'sneak@2': 1,\n",
       "         'only@-1': 3,\n",
       "         'something@-1': 26,\n",
       "         'awh@-1': 1,\n",
       "         'personal@-2': 1,\n",
       "         'mannequinchallenge@-1': 1,\n",
       "         'sweat@2': 1,\n",
       "         'dubchallenge@-1': 13,\n",
       "         'forget@-1': 1,\n",
       "         'gonna@2': 63,\n",
       "         'sense@2': 1,\n",
       "         'memories@-1': 1,\n",
       "         'flight@1': 1,\n",
       "         'to@-2': 100,\n",
       "         'i@2': 209,\n",
       "         'wedding@-2': 1,\n",
       "         'personally@1': 3,\n",
       "         'heard@1': 16,\n",
       "         'everyone@-1': 5,\n",
       "         'rn@-2': 4,\n",
       "         'names@2': 2,\n",
       "         'didn@1': 78,\n",
       "         'button@-1': 1,\n",
       "         'taehyung@-1': 1,\n",
       "         'table@-2': 2,\n",
       "         'professor@-1': 3,\n",
       "         'bitches@-2': 1,\n",
       "         'crack@1': 1,\n",
       "         'great@-2': 10,\n",
       "         'into@1': 2,\n",
       "         'turn@-1': 1,\n",
       "         'ellen@-1': 1,\n",
       "         'leaving@-2': 1,\n",
       "         'pack@-1': 1,\n",
       "         'karate@2': 1,\n",
       "         'force@-2': 1,\n",
       "         'jason@2': 1,\n",
       "         'chose@2': 2,\n",
       "         'smile@-2': 3,\n",
       "         'added@2': 17,\n",
       "         'exposed@-2': 1,\n",
       "         'positive@-2': 1,\n",
       "         'told@-1': 2,\n",
       "         'words@-2': 2,\n",
       "         'up@1': 1,\n",
       "         'tweeted@1': 3,\n",
       "         'yes@-1': 25,\n",
       "         'match@-1': 1,\n",
       "         'rather@2': 10,\n",
       "         'sign@-2': 1,\n",
       "         'no@2': 36,\n",
       "         'bestfriend@-1': 4,\n",
       "         'pull@-1': 2,\n",
       "         'dropping@-1': 1,\n",
       "         'drinks@-2': 1,\n",
       "         'bone@-1': 1,\n",
       "         'id@-1': 1,\n",
       "         'target@-1': 1,\n",
       "         'shit@-2': 5,\n",
       "         'gotta@1': 23,\n",
       "         'netflix@2': 2,\n",
       "         'churro@-2': 1,\n",
       "         'check@2': 1,\n",
       "         'different@-1': 2,\n",
       "         'music@2': 4,\n",
       "         'moved@1': 1,\n",
       "         'go@-2': 14,\n",
       "         'hell@-2': 7,\n",
       "         'handmade@2': 1,\n",
       "         'just@1': 401,\n",
       "         'mannequin@-2': 1,\n",
       "         'dead@2': 9,\n",
       "         'city@-2': 2,\n",
       "         'spend@1': 9,\n",
       "         'reading@2': 3,\n",
       "         'mine@2': 6,\n",
       "         'trend@-2': 3,\n",
       "         'th@-2': 1,\n",
       "         'into@-2': 4,\n",
       "         'alone@-2': 4,\n",
       "         'is@1': 2,\n",
       "         'food@1': 2,\n",
       "         'earn@1': 3,\n",
       "         'hoseok@2': 1,\n",
       "         ...})"
      ]
     },
     "execution_count": 60,
     "metadata": {},
     "output_type": "execute_result"
    }
   ],
   "source": [
    "print(len(contexts['i']))\n",
    "#contexts['i']"
   ]
  },
  {
   "cell_type": "code",
   "execution_count": 61,
   "metadata": {
    "collapsed": false
   },
   "outputs": [
    {
     "data": {
      "text/plain": [
       "[('m@1', 1996),\n",
       " ('rt@-1', 1796),\n",
       " ('t@2', 788),\n",
       " ('a@2', 553),\n",
       " ('rt@-2', 513),\n",
       " ('love@1', 436),\n",
       " ('to@2', 429),\n",
       " ('you@2', 408),\n",
       " ('can@1', 402),\n",
       " ('just@1', 401),\n",
       " ('don@1', 377),\n",
       " ('and@-1', 348),\n",
       " ('when@-1', 299),\n",
       " ('ll@1', 280),\n",
       " ('ve@1', 279),\n",
       " ('want@1', 262),\n",
       " ('have@1', 261),\n",
       " ('but@-1', 259),\n",
       " ('need@1', 252),\n",
       " ('am@1', 247)]"
      ]
     },
     "execution_count": 61,
     "metadata": {},
     "output_type": "execute_result"
    }
   ],
   "source": [
    "contexts['i'].most_common(20)"
   ]
  },
  {
   "cell_type": "code",
   "execution_count": 62,
   "metadata": {
    "collapsed": false
   },
   "outputs": [
    {
     "name": "stdout",
     "output_type": "stream",
     "text": [
      "12769\n"
     ]
    },
    {
     "data": {
      "text/plain": [
       "[('i@-1', 11009),\n",
       " ('i@-2', 10603),\n",
       " ('i@1', 8596),\n",
       " ('i@2', 6257),\n",
       " ('rt@-1', 4309)]"
      ]
     },
     "execution_count": 62,
     "metadata": {},
     "output_type": "execute_result"
    }
   ],
   "source": [
    "# Compute the number of different contexts each term appears in.\n",
    "tweet_freq = Counter()\n",
    "for context in contexts.values():\n",
    "    tweet_freq.update(context)\n",
    "print(len(tweet_freq))\n",
    "tweet_freq.most_common(5)"
   ]
  },
  {
   "cell_type": "code",
   "execution_count": 63,
   "metadata": {
    "collapsed": false
   },
   "outputs": [
    {
     "name": "stdout",
     "output_type": "stream",
     "text": [
      "Counter({'m@1': 0.5675395289138095, 'rt@-1': 0.4695096085441682, 't@2': 0.23269359358975453, 'a@2': 0.1558877082886095, 'love@1': 0.14195615060916741, 'rt@-2': 0.13416820634874826, 'can@1': 0.13098891268646748, 'just@1': 0.1274506691895401, 'don@1': 0.12374380641502394, 'to@2': 0.11768125851129094, 'you@2': 0.11564383404742684, 'and@-1': 0.10097304577407498, 'll@1': 0.10081386326998105, 've@1': 0.09963624856788521, 'when@-1': 0.0996180254531292, 'need@1': 0.09010713734356285, 'want@1': 0.08944566137853868, 'am@1': 0.08897180585755213, 'have@1': 0.08599759116539336, 'but@-1': 0.08405124962860898, 'was@1': 0.08205964640111221, 'think@1': 0.07262098193556733, 'not@2': 0.0695330563181121, 'so@2': 0.06838424429130213, 'it@2': 0.06521535207689458, 'will@1': 0.06495232881148837, 'the@2': 0.06395006843496577, 'if@-1': 0.0632717667994391, 'me@-2': 0.060710143495108886, 'know@1': 0.05927062673608365, 'liked@1': 0.05557938545449624, 'got@1': 0.05477999854703162, 'the@-2': 0.05416465488882134, 'i@2': 0.052544688225926894, 'my@2': 0.05100847660745375, 'me@-1': 0.05089930448990069, 'i@-2': 0.0498458608363301, 'be@2': 0.04886555224679436, 'miss@1': 0.04714494359093592, 'never@2': 0.045788411857076196, 'that@-1': 0.04465578954491295, 'hate@1': 0.043549142808576406, 'this@2': 0.042610819069616154, 'feel@1': 0.042605739938061375, 'wanna@1': 0.04010755348326772, 'hope@1': 0.039499261908174675, 'what@-1': 0.03927572098490075, 'd@1': 0.039267486938600875, 'so@-1': 0.03915887177794047, 'like@2': 0.03845977311734307, 'get@1': 0.03743259114721191, 'that@2': 0.037191575497984665, 'had@1': 0.037183800614164236, 'want@2': 0.036357106999788606, 'so@-2': 0.036230382419140214, 'for@2': 0.03513679335788565, 'should@1': 0.03504164502514258, 'wish@1': 0.03502317593032694, 'would@1': 0.034050628100057406, 'just@2': 0.033989151896957094, 'turkeyday@-1': 0.033793710763212186, 'celebrating@2': 0.033752698701569314, 'didn@1': 0.033055142944002275, 'do@1': 0.03277398279518974, 'really@1': 0.03269665395680415, 'in@2': 0.03215268521000384, 'all@-1': 0.03202177952913324, 'almost@-2': 0.03189531327488043, 'like@-1': 0.030641785636846223, 'think@-1': 0.02986325941564979, 'could@1': 0.028994296837417027, 'like@1': 0.028323150937473864, 'wanna@2': 0.028087278797939746, 'to@-2': 0.027800532504230497, 'a@-2': 0.027423185982569175, 'u@2': 0.026784424033780844, 'see@1': 0.02675704102768323, 'you@-2': 0.026478818580313587, 'now@-1': 0.026442731631941756, 'texting@2': 0.026316838245023046, 'because@-1': 0.025991870508730298, 'gonna@2': 0.025845575803064645, 'is@-2': 0.025683759050196757, 'thought@1': 0.02548074074421352, 'swear@1': 0.02543333228676488, 't@-2': 0.02493007810573704, 'and@-2': 0.024820699802042774, 'wish@-1': 0.024691749367307142, 'added@1': 0.02466467108065313, 'did@1': 0.024630889605444236, 'do@2': 0.02453669885956258, 'going@2': 0.024256165289589092, 'am@-1': 0.02397159779708585, 'my@-2': 0.023647069833001688, 'know@-1': 0.02314693483326658, 'still@1': 0.022997322831615766, 'have@2': 0.02273765663546329, 'all@2': 0.022492038186811062, 'sorry@2': 0.02241292284180787, 's@-2': 0.022390131965395466, 'still@2': 0.022186083555419466, 'why@-1': 0.022165995570994076, 'how@-1': 0.022103452360096358, 'been@2': 0.021954513724460528, 'dont@1': 0.021893642401017935, 'told@1': 0.021814469435268536, 'time@-1': 0.02145097839590972, 'guess@1': 0.02129466705627069, 'can@-1': 0.021066048712872088, 'this@-2': 0.02101727672107345, 'amp@-1': 0.020578778895846347, 'go@1': 0.020555668812426396, 'cause@-1': 0.01995901716204847, 'posted@1': 0.019525426274307846, 'know@-2': 0.019520663627693016, 'ain@1': 0.01949405865928339, 'of@-2': 0.019472342018957832, 'then@-1': 0.018883507467872093, 'mean@1': 0.018700819550869486, 'him@2': 0.018488974544918237, 'thankful@2': 0.018422979776480625, 'earning@2': 0.01839654157637245, 'thing@-1': 0.01833246316190895, 'edition@-2': 0.01827947688228384, 'answers@2': 0.01816712894586627, 'how@-2': 0.017822633019360472, 'on@2': 0.017604286961454014, 'in@-2': 0.017534665833642188, 'you@-1': 0.017408522956977632, 'always@2': 0.017291364363621053, 'sometimes@-1': 0.01724488789772158, 'about@2': 0.01708541640671971, 'why@-2': 0.017035742730054232, 'haven@1': 0.016974770691726173, 'things@-1': 0.016878639002567197, 'or@-2': 0.016801796004808602, 'while@-1': 0.01679813363345276, 'feel@2': 0.01668110854061525, 'when@2': 0.016614985423509837, 'get@2': 0.016400390826989214, 'collected@2': 0.016262668101373553, 'saw@1': 0.01623048272726737, 'don@2': 0.016155356703267957, 'glad@-1': 0.01602519540186087, 'shonda@-1': 0.01590899602589562, 'wonder@1': 0.015754692991780842, 'really@2': 0.015753624612137022, 'love@2': 0.01573507021111458, 'where@-1': 0.015726126771672053, 'crying@2': 0.015651281407239925, 'says@-1': 0.015540429121105578, 'up@2': 0.015497857387458874, 'and@2': 0.015448142467515932, 'never@1': 0.015278563905404441, 'vote@1': 0.015237422384742084, 'always@1': 0.014994258392540073, 'do@-1': 0.01479486318403115, 'lol@-1': 0.014755397179097447, 'got@2': 0.014738496883987134, 'yeah@-1': 0.014569152301036477, 'm@-2': 0.014421588356352821, 'ma@1': 0.014252749090725254, 'ever@2': 0.014052517377952095, 'cant@1': 0.013957428253233659, 'every@-2': 0.013884789728827306, 'at@-2': 0.013865084728694544, 've@2': 0.013861411100886107, 'how@2': 0.013710123983745373, 'no@2': 0.01357015476933279, 'as@-1': 0.013430924562481282, 'bc@-1': 0.013065608335651796, 'competition@-2': 0.013028717723750928, 'might@1': 0.012938234349364225, 'your@2': 0.012922026281251976, 'need@2': 0.012818722129567552, 'day@-1': 0.012785069448389402, 'like@-2': 0.012782447816720381, 'cherish@1': 0.012716232430413008, 'be@-2': 0.012680647575154401, 'yes@-1': 0.01241477082636138, 'fucking@2': 0.012370762493721687, 'thought@-1': 0.012323956162430472, 'say@-1': 0.012281581968178632, 'not@-2': 0.012251547682986117, 'before@-1': 0.012199729932793087, 'did@-1': 0.012170541467170289, 'at@2': 0.012150998083996141, 'wake@2': 0.012146251141628995, 'voted@1': 0.012078422113935689, 'remember@1': 0.012066507921720574, 'on@-2': 0.011799182600049583, 'screenshot@2': 0.011797086692180865, 'watching@2': 0.011774049629559863, 'but@-2': 0.01172574163044097, 'day@-2': 0.011715095960833389, 'promise@1': 0.01150516267513558, 'seen@2': 0.011500652754990421, 'too@2': 0.011499789811426466, 'them@2': 0.011499702186459867, 'ready@2': 0.011464178851613308, 'made@1': 0.01143005658265084, 'myself@2': 0.01137707955247369, 'gotta@1': 0.011376795283896521, 'only@-2': 0.011330104480723255, 'look@1': 0.01132033638187525, 'something@-1': 0.011281391654672185, 'what@-2': 0.011262776309182229, 'we@2': 0.011252589008669302, 'jackson@-2': 0.011252074397784893, 'ever@1': 0.011230821414515871, 'an@2': 0.01119777703049636, 'say@1': 0.01099581838376177, 'best@-2': 0.010923394465150197, 'didnt@1': 0.010899627797496866, 'overreacting@2': 0.01086156340735245, 'hoooo@-1': 0.01086156340735245, 'the@-1': 0.010810256341022598, 'cuz@-1': 0.010741156951374392, 'added@2': 0.010701982324920877, 'agree@1': 0.010659859955796212, 'forgot@1': 0.010659859955796212, 'he@-2': 0.010656902961611045, 'thinking@2': 0.010651254289769213, 'here@-1': 0.010559197394171686, 'some@2': 0.010532729549227404, 'trying@2': 0.010513691070781147, 'knew@1': 0.010494592438646217, 'feel@-2': 0.010474184432479343, 'one@-2': 0.010446274659707665, 'is@2': 0.010434837174039101, 'please@-1': 0.01041838564402646, 'uterus@-1': 0.010386923483055368, 'no@-1': 0.010341214462813275, 'someone@2': 0.010329082737766938, 'actually@1': 0.010322848404671075, 'with@-2': 0.010320958431332733, 'went@2': 0.01030893001622852, 'said@1': 0.01027863901162256, 'over@2': 0.010245734930939788, 'if@2': 0.01023436470034287, 'only@2': 0.010231345518638787, 'person@-1': 0.010158281589828056, 'with@2': 0.010099148875531911, 'much@-1': 0.010047586948631601, 'out@2': 0.010041782000329746, 'it@-2': 0.009980738635198251, 'entered@2': 0.009934388793415466, 'a@-1': 0.009876778776160208, 'needed@1': 0.009871562078306584, 'won@1': 0.009857499544066249, 'say@2': 0.009843084014422321, 'it@-1': 0.009833530644394224, 'cannot@1': 0.009806860847583448, 'pretty@2': 0.009782050879524953, 'met@1': 0.009777770282709845, 'her@-2': 0.009768265259460828, 'her@2': 0.009760479721740288, 'lost@1': 0.009726388824419018, 'right@2': 0.009645683470686338, 'just@-2': 0.00957989442362299, 'sorry@-1': 0.009529636476146216, 'hate@-2': 0.009526902428022762, 'your@-2': 0.00947987520908248, 'wasn@1': 0.009452815795068506, 'not@-1': 0.00943867035600972, 'harvested@2': 0.009422053154545796, 'man@-1': 0.009407462615244932, 'almost@1': 0.009393013033331524, 'for@-2': 0.00937860124649498, 'literally@2': 0.009362204353101707, 'maybe@-1': 0.009362204353101707, 'getting@2': 0.009260393845944617, 'since@-1': 0.009259628271396998, 'finally@2': 0.009259339436493125, 'eat@2': 0.009039200732016875, 'looking@2': 0.00902958815992017, 'make@2': 0.009024602575380283, 'tomorrow@-1': 0.008979850678188343, 'wouldn@1': 0.008972506538688857, 'he@2': 0.008942968307685041, 'well@-1': 0.00894056421619938, 'they@2': 0.00890227349937604, 'wow@-1': 0.008837551527281023, 'omg@-1': 0.008836225728195873, 'thanksgiving@-2': 0.008806839045536986, 'guess@-1': 0.008795623349329198, 'way@-1': 0.00872323004319633, 'know@2': 0.008696771281267727, 'had@2': 0.008661913932691643, 'hey@-1': 0.008657196035939976, 'heard@1': 0.008657196035939976, 'true@-2': 0.00860210676813357, 'being@2': 0.008539102757574111, 'done@2': 0.008494551445361938, 'mean@-1': 0.008470008204820465, 'again@-2': 0.008470008204820465, 'or@-1': 0.008470006625066988, 'swear@-1': 0.008449566011567997, 'think@2': 0.00836975498186319, 'hear@1': 0.008345324298851658, 'try@2': 0.00831474324759621, 'live@1': 0.00831132130076841, 'love@-1': 0.00823198835739792, 'that@-2': 0.008210221968422176, 'something@2': 0.008176075255308106, 'sure@2': 0.008172727478844795, 'went@1': 0.008172727478844795, 'this@-1': 0.008138234070936244, 'felt@1': 0.008071690894650065, 'good@-2': 0.008038069558905282, 'miss@-2': 0.007920225658717119, 'shit@-1': 0.007899852381634936, 'right@-2': 0.007893293803082908, 'missed@1': 0.007871953409303292, 'found@1': 0.007850943221352751, 'bitch@-1': 0.00779758170222905, 'voting@-2': 0.007790192612291525, 'about@-2': 0.007739297022499924, 'already@1': 0.007735875835720187, 'see@2': 0.007734748626572281, 'take@2': 0.0076970148670185805, 'more@2': 0.0076610637128249, 'all@-2': 0.007613511306592182, 'literally@1': 0.007572991418505203, 'hate@2': 0.007533076078161501, 'what@2': 0.00753133650024731, 'ok@-1': 0.007509779336272248, 'go@2': 0.0074836760965114775, 'laughed@1': 0.0074507915950616, 'pray@1': 0.0073933702601219975, 'tomorrow@-2': 0.007376294543439506, 'believe@1': 0.0073691919105922515, 'until@-1': 0.007363521440163228, 'keep@1': 0.0073508817435684074, 'did@2': 0.007318171241486842, 'too@-2': 0.007302324880302174, 'idk@-2': 0.007284576150518239, 'back@2': 0.0072714388722414135, 'people@-1': 0.007227759453778269, 'probably@2': 0.007201417869217164, 'amp@-2': 0.007188296109079476, 'pretty@-2': 0.007133305420350582, 'wait@-1': 0.0071248993583061795, 'now@-2': 0.007113746184968441, 'god@-1': 0.007042260664245984, 'couldn@1': 0.007034182417596844, 'get@-2': 0.007031432127833626, 'earned@2': 0.007027733151999572, 'for@-1': 0.0070265721306287205, 'here@2': 0.0070218196994849364, 'last@-2': 0.007018674717306892, 'happy@-1': 0.006977358649845383, 'come@2': 0.006954299039545088, 'mom@-2': 0.006943913170523052, 'should@-1': 0.006926836807295627, 'doing@2': 0.006926101083973675, 'up@-2': 0.006914145419800027, 'up@-1': 0.006828881303625502, 'people@2': 0.006824553849977282, 'wanted@1': 0.006783888600868037, 'these@-2': 0.006779400549012656, 'of@2': 0.006767765760353125, 'no@-2': 0.006747460757677254, 'damn@-1': 0.006730481453166301, 'oh@-1': 0.006721022416408805, 'eat@1': 0.006721022416408805, 'used@1': 0.006720243233038428, 'thanksgiving@-1': 0.006710935672764974, 'be@1': 0.006691649477177853, 'tryna@2': 0.006660883654025862, 'gay@2': 0.006660883654025862, 'anyway@2': 0.006660883654025862, 'wait@2': 0.006653005720682823, 'good@2': 0.006642570513528983, 'do@-2': 0.006636872826515614, 'wrong@2': 0.006626367491192053, 'dubchallenge@-1': 0.006564396551852371, 'but@2': 0.006548355104459614, 'will@-1': 0.006543949540377684, 'having@2': 0.006536025124265311, 'must@1': 0.006536004308112795, 'said@-1': 0.006508495185387799, 'friend@-1': 0.006508475424769282, 'much@-2': 0.006497967627182574, 'put@2': 0.00644804292176822, 'been@1': 0.006436956104358122, 'die@1': 0.006411927863246918, 'oh@-2': 0.00640083168628447, 'nervous@2': 0.006324959836799615, 'give@2': 0.006299759065250968, 'bored@2': 0.006295283720541692, 'try@1': 0.006291601768123204, 'good@-1': 0.006277984400264545, 'enjoy@2': 0.006271209599919111, 'happy@-2': 0.0062569900807745915, 'one@2': 0.006255219503529971, 'only@1': 0.006236725564448634, 'bout@2': 0.006218564550795701, 'was@-2': 0.00621659325609584, 'giving@2': 0.006208992995884666, 'making@2': 0.006203301445881626, 'these@2': 0.006185381246860844, 'tried@1': 0.006182947465654936, 'started@1': 0.0061685982453485895, 'by@-2': 0.006146583163102406, 'fucking@1': 0.006128088854298566, 'refuse@1': 0.006128063488050292, 'probably@1': 0.006114261788871928, 'today@-2': 0.006106261030237431, 'single@2': 0.006075816675005704, 'trust@1': 0.006075816675005704, 'home@2': 0.006033789418265765, 'where@-2': 0.005986567118792229, 'rather@2': 0.0059864922629278405, 'happy@2': 0.005959303748305592, 'already@2': 0.00595798119116327, 'finna@2': 0.005932563323511142, 'checked@2': 0.005932563323511142, 'cast@1': 0.005932563323511142, 'okay@-1': 0.00591394840309183, 'lmao@-1': 0.00591394840309183, 'first@-2': 0.005888652755319304, 'one@-1': 0.005878050149537825, 'loved@1': 0.005861818681330704, 'kinda@1': 0.005861818681330704, 'bet@1': 0.005842644459218644, 'she@2': 0.0058327468835764245, 'baby@-1': 0.005827660920414592, 'kst@-1': 0.005819490387897547, 'flysoon@2': 0.005819490387897547, 'on@-1': 0.005803720777447749, 'stop@2': 0.005800765444804708, 'glad@2': 0.005776720763652976, 'feeling@2': 0.005776720763652976, 'prefer@1': 0.005766156288664915, 'rihanna@-1': 0.005766156288664915, 'well@-2': 0.005679743563878902, 'down@2': 0.005670099528077614, 'appreciate@1': 0.005665755348487523, 'ask@1': 0.005663034296907958, 'everything@-1': 0.0056306445843660406, 'depressed@-1': 0.005622186521599657, 'meant@1': 0.005622186521599657, 'saying@-1': 0.005614939773845513, 'though@-1': 0.005607816586680536, 'man@-2': 0.005603230710451968, 'believe@2': 0.005599546429565055, 'gave@1': 0.005588093696296199, 'dubchallenge@-2': 0.005579228437498159, 'hope@2': 0.005576341847762279, 'belong@-2': 0.005567144420181243, 'such@2': 0.0055234697045506405, 'paid@2': 0.005495953302804387, 'thought@2': 0.005486427159672403, 'honestly@1': 0.005484201154614768, 'miss@2': 0.005462693607049585, 'fact@-2': 0.005449813898748433, 'boy@-1': 0.005446670256760662, 'care@1': 0.005435679466448588, 'hope@-1': 0.00542617899587594, 'tired@2': 0.005410747522462485, 'dying@2': 0.005387843036635056, 'there@2': 0.005384770937578083, 'talking@2': 0.005376316730083481, 'crush@-1': 0.005362055552044005, 'u@-2': 0.0053476737977690295, 'than@-1': 0.0053457381963444035, 'give@1': 0.005343674518729634, 'forever@-2': 0.0053432732193724325, 'go@-2': 0.005336600518102582, 'spend@1': 0.005329929977898106, 'fuck@-2': 0.005323663034565787, 'find@1': 0.005288235427487808, 'whenever@-1': 0.005283853813426581, 'least@-1': 0.005275636813197634, 'donated@2': 0.005263561047638002, 'borrow@1': 0.005263561047638002, 'say@-2': 0.005224745213288432, 'y@-2': 0.005215724279658816, 'today@-1': 0.00520679614831024, 'life@-1': 0.005189283808801056, 'tell@2': 0.005176116125168062, 'year@-1': 0.005161424202335538, 'dead@2': 0.005130989672661092, 'came@1': 0.005130989672661092, 'took@1': 0.005130989672661092, 'live@2': 0.005119082677116688, 'hungry@2': 0.005111323956401153, 'take@1': 0.005100365439461206, 'money@2': 0.0050922029917169044, 'make@1': 0.005083804440629356, 'start@2': 0.005066319438532172, 'nothing@2': 0.005053731198703279, 'tbh@-1': 0.0050470349280124826, 'put@1': 0.005029224896366369, 'remember@-2': 0.005006519557514832, 'can@2': 0.005005930373042662, 'work@-1': 0.005005566717230709, 'havent@1': 0.0049881346181978965, 'pronounce@2': 0.0049881346181978965, 'bro@-1': 0.004967194396707733, 'reason@-1': 0.004967194396707733, 'to@-1': 0.004942284104365235, 'who@-1': 0.0049353747341317564, 'great@-2': 0.004927475975316687, 'cried@1': 0.0049194132063997, 'very@2': 0.004891025439762477, 'better@2': 0.004888546580059763, 'food@-1': 0.004878870861834071, 'hard@-2': 0.004873488563893157, 'sick@2': 0.0048696727702162365, 'honestly@2': 0.004844279021109718, 'may@1': 0.004844279021109718, 'weak@2': 0.004789193810342272, 'drop@2': 0.004789193810342272, 'feelings@-1': 0.0047803702023106786, 'obsessed@2': 0.004771838074441066, 'lmfao@-1': 0.004771838074441066, 'everyone@2': 0.0047618807006290466, 'playing@2': 0.004752880881506999, 'most@-2': 0.004747344260104723, 'year@-2': 0.004747344260104723, 'sure@-1': 0.004747344260104723, 'love@-2': 0.0047407726282459525, 'are@1': 0.00473993760454124, 'soon@-2': 0.004737715535909428, 'support@1': 0.004737715535909428, 'see@-2': 0.004737131063128217, 'call@2': 0.004719195247423299, 'taking@2': 0.004711026577272898, 'asleep@2': 0.004711026577272898, 'shook@2': 0.004711026577272898, 'proud@2': 0.004700887453091986, 'ck@-2': 0.004692771933303738, 'admire@1': 0.004692771933303738, 'gram@-1': 0.004692771933303738, 'misogynistic@-1': 0.004692771933303738, 'swallowed@1': 0.004692771933303738, 'lived@1': 0.004692771933303738, 'prototype@-1': 0.004692771933303738, 'n@-1': 0.0046762612903713426, 'family@-2': 0.004666288691304213, 'tell@-2': 0.004666288691304213, 'talk@1': 0.004666288691304213, 'started@2': 0.004644079610018671, 'back@-2': 0.004641625725705979, 'believe@-1': 0.00464137647558905, 'else@-1': 0.004601303662451692, 'watched@1': 0.004601303662451692, 'realist@-2': 0.004596047616037718, 'cus@-1': 0.004596047616037718, 'asked@1': 0.004585696341653946, 'start@1': 0.004583062454740977, 'starting@2': 0.0045442790238367226, 'u@-1': 0.004532014355210807, 'any@-2': 0.004524940470645215, 'sleep@-2': 0.0045058676017633486, 'them@-1': 0.0045023169297318056, 'y@2': 0.004480681610939203, 'hi@-1': 0.004472408461851009, 'are@-2': 0.0044514789252597395, 'min@-1': 0.004449422492633357, 'stopped@1': 0.004449422492633357, 'stop@1': 0.0044353371471218825, 't@-1': 0.004427635055305515, 'girl@-1': 0.004409711355211723, 'even@2': 0.004390641848842092, 'horrible@-2': 0.004386300873031669, 'aye@-1': 0.004386300873031669, 'repeat@1': 0.004386300873031669, 'wrote@1': 0.004386300873031669, 'every@2': 0.004353975531490481, 'my@-1': 0.004351983966425098, 'dude@-1': 0.004346295097119266, 'choose@1': 0.004346295097119266, 'more@-2': 0.004338538283307897, 'mad@2': 0.004328598017969988, 'wrong@-1': 0.00432673807703548, 'time@-2': 0.004301680680532532, 'coming@2': 0.004301053384066785, 'days@-1': 0.004301053384066785, 'die@2': 0.004274618575497945, 'amp@2': 0.004254319621848173, 'care@-2': 0.004247275722680969, 'can@-2': 0.004238467998507927, 'who@2': 0.004222653108803176, 'absolutely@1': 0.004216639891199743, 'talk@2': 0.004211204830384135, 'again@-1': 0.004188340372186381, 'off@-2': 0.004188340372186381, 'told@-2': 0.004188340372186381, 'school@-1': 0.004178566624970654, 'once@-1': 0.004178566624970654, 'fell@1': 0.004156778848498246, 'begging@2': 0.004156778848498246, 'fed@1': 0.004156778848498246, 'figured@1': 0.004156778848498246, 'realize@-1': 0.00414550109392075, 'pm@-2': 0.00414550109392075, 'fine@2': 0.00414550109392075, 'also@1': 0.00412475620926688, 'slap@2': 0.004105276263209244, 'butttttt@-2': 0.004105276263209244, 'clarify@-1': 0.004105276263209244, 'deleting@2': 0.004105276263209244, 'ts@1': 0.004105276263209244, 'beyoonnddddd@2': 0.004105276263209244, 'lizard@-2': 0.004105276263209244, 'tellin@-2': 0.004105276263209244, 'sexted@2': 0.004105276263209244, 'jog@2': 0.004105276263209244, 'beat@1': 0.004103273076931493, 'mine@-1': 0.004103273076931493, 'music@-1': 0.004095321610281691, 'cute@-1': 0.0040860325054344546, 'really@-2': 0.004082808520154449, 'forever@2': 0.004076174525914618, 'down@-1': 0.004058670253726772, 'tomorrow@2': 0.0040568471557234295, 'thank@-2': 0.004049845113375623, 'being@-2': 0.004049845113375623, 'thanks@-1': 0.004039628647293767, 'thank@1': 0.0040326134498452825, 'ppl@2': 0.00402614070464523, 'out@-2': 0.004024674551526277, 'bad@2': 0.00402419923066294, 'have@-2': 0.004005709535725112, 'of@-1': 0.004002001329107597, 'im@2': 0.0039997199291398056, 'hell@-2': 0.003990769745403071, 'even@-2': 0.003987680824425551, 'lol@2': 0.003980145198423317, 'deleted@1': 0.003976531728700888, 'drops@-2': 0.003976531728700888, 'staying@2': 0.003976531728700888, 'yet@-2': 0.003957268350506355, 'idea@-2': 0.003957268350506355, 'now@1': 0.00394328993265772, 'game@-1': 0.00394198078025335, 'said@-2': 0.003932422007454072, 'look@-2': 0.003932422007454072, 'sorry@-2': 0.003932422007454072, 'watch@1': 0.003918577978341433, 'gone@2': 0.0038952344803865027, 'hours@-2': 0.0038952344803865027, 'past@-2': 0.0038952344803865027, 'the@1': 0.003876632639291451, 'thinks@-1': 0.003866428793185448, 'beautiful@-2': 0.003866428793185448, 'anyone@-1': 0.0038587199822597536, 'find@2': 0.0038587199822597536, 'why@2': 0.0038544896293584603, 'realized@-1': 0.0038334929673008644, 'figure@-1': 0.003830039680031432, 'jus@1': 0.003830039680031432, 'hoping@2': 0.003830039680031432, 'constantly@1': 0.003830039680031432, 'tells@-2': 0.003830039680031432, 'money@-1': 0.003821392950537769, 'as@-2': 0.003798974982597844, 'chance@-1': 0.0037771702323250154, 'seriously@1': 0.0037771702323250154, 'him@-2': 0.0037615358775817493, 'boring@-2': 0.0037542175466429907, 'hahahah@-1': 0.0037542175466429907, 'barbie@-1': 0.0037542175466429907, 'suspect@1': 0.0037542175466429907, 'new@2': 0.0037420353386691807, 's@-1': 0.0037417706044168106, 'crying@-1': 0.0037402912535607026, 'thankful@-2': 0.00373303095304337, 'everything@2': 0.0037229692197212278, 'from@2': 0.0037200588935806726, 'learned@2': 0.0037078520771944637, 'dm@2': 0.0036966851300609988, 'late@2': 0.0036775728178437927, 'fall@1': 0.0036775728178437927, 'same@-2': 0.0036760950314155302, 'those@2': 0.0036370921147332665, 'saw@2': 0.0036370921147332665, 'me@2': 0.0036342457281553233, 'spent@1': 0.0036038476804155714, 'ya@-1': 0.0035834064089964803, 'girl@-2': 0.0035770659828115027, 'some@-2': 0.0035754517169193246, 'to@1': 0.0035601065986111545, 'off@2': 0.0035345035696347678, 'something@-2': 0.003527769084169378, 'after@-1': 0.003521130332122992, 'definitely@2': 0.003517091208798422, 'wondering@2': 0.003513866575999786, 'although@-1': 0.0035090406984253347, 'enjoyed@1': 0.0035090406984253347, 'announce@-2': 0.0035090406984253347, 'saved@1': 0.0035090406984253347, 'grew@1': 0.0035090406984253347, 'owe@1': 0.0035090406984253347, 'ok@-2': 0.0035045636902603823, 'watch@2': 0.003501765059599181, 'harshitagaur@2': 0.003501026958612088, 'paramsingh@2': 0.003501026958612088, 'aight@-1': 0.003501026958612088, 'gonnna@2': 0.003501026958612088, 'whotus@-2': 0.003501026958612088, 'funniest@-2': 0.003501026958612088, 'needa@1': 0.003501026958612088, 'completed@2': 0.003501026958612088, 'professor@-1': 0.003501026958612088, 'dormammu@-1': 0.003501026958612088, 'vibes@-1': 0.003501026958612088, 'dang@-1': 0.003501026958612088, 'nocturnes@-1': 0.003501026958612088, 'dunno@1': 0.003501026958612088, 'rover@-2': 0.003501026958612088, 'lonely@2': 0.003501026958612088, 'amusing@-2': 0.003501026958612088, 'shawty@-1': 0.003501026958612088, 'uglier@2': 0.003501026958612088, 'ded@2': 0.003501026958612088, 'someday@-1': 0.003501026958612088, 'troye@-2': 0.003501026958612088, 'animators@-2': 0.003501026958612088, 'per@-2': 0.003501026958612088, 'ifwedate@-1': 0.003501026958612088, 'hud@-1': 0.003501026958612088, 'opened@1': 0.003501026958612088, 'launching@2': 0.003501026958612088, 'pay@2': 0.003483059707514003, 'watched@2': 0.003483059707514003, 'waiting@2': 0.003483059707514003, 'working@2': 0.003483059707514003, 'few@-2': 0.003483059707514003, 'stupid@2': 0.003483059707514003, 'act@-2': 0.003483059707514003, 'wanted@2': 0.003483059707514003, 'song@-1': 0.0034761358313811865, 'next@-2': 0.0034625029124902454, 'definitely@1': 0.003450977746838769, 'act@1': 0.003450977746838769, 'seeing@2': 0.0034492331827216814, 'she@-2': 0.003447478670771205, 'who@-2': 0.003435403627307941, 'growing@2': 0.003434970814252742, 'im@-2': 0.0034315949832383254, 'use@1': 0.003420659781774061, 'long@-2': 0.003399468870241845, 'as@2': 0.0033946844315652885, 'open@2': 0.0033919443004340184, 'crazy@-2': 0.0033919443004340184, 'mind@-2': 0.0033919443004340184, 'got@-2': 0.0033904044234320846, 'his@-2': 0.00338536901066106, 'actually@2': 0.003376379984477284, 'ur@2': 0.003376379984477284, 'understand@1': 0.003376379984477284, 'new@-2': 0.0033757278005134396, 'tho@-1': 0.0033650189837663557, 'vs@-2': 0.0033650189837663557, 'surprised@-2': 0.0033650189837663557, 'gets@-2': 0.0033646899520083217, 'home@-1': 0.0033437188317205478, 'today@2': 0.0033435874467393325, 'cry@1': 0.003338772411759859, 'when@-2': 0.003332498408734098, 'neverromney@-1': 0.0033254230787985975, 'smart@-2': 0.0033254230787985975, 'bestfriend@-1': 0.0033254230787985975, 'alright@-1': 0.0033254230787985975, 'afraid@2': 0.0033254230787985975, 'fish@-1': 0.0033254230787985975, 'sadly@-1': 0.0033254230787985975, 'bbott@-1': 0.0033254230787985975, 'honored@2': 0.0033254230787985975, 'everytime@-1': 0.0033254230787985975, 'blame@1': 0.0033254230787985975, 'hair@-1': 0.003323140982073306, 'back@-1': 0.003317846489888852, 'heard@2': 0.003314081822730384, 'eat@-2': 0.0033131837455960267, 'luv@1': 0.003302408633391613, 'lit@-2': 0.003302408633391613, 'fly@2': 0.003302408633391613, 'luv@2': 0.003302408633391613, 'busy@2': 0.003302408633391613, 'means@-1': 0.003302408633391613, 'mine@2': 0.0032905206927688613, 'keep@2': 0.0032845426742135237, 'always@-2': 0.003281977879754241, 'fuck@-1': 0.003266402083912949, 'because@-2': 0.0032560884198202756, 'call@1': 0.003240492812910757, 'thankful@-1': 0.0032321805058543817, 'mom@-1': 0.0032321805058543817, 'lmao@2': 0.00322402146088411, 'saying@2': 0.003208143718318684, 'finally@1': 0.003205963931623459, 'hi@-2': 0.0031945774727507206, 'telling@-2': 0.0031945774727507206, 'realized@1': 0.0031945774727507206, 'lit@-1': 0.0031945774727507206, 'going@-2': 0.0031931940718851574, 'receive@1': 0.0031812253829607102, 'participate@2': 0.0031812253829607102, 'deadass@1': 0.0031812253829607102, 'throw@2': 0.0031812253829607102, 'even@1': 0.0031694405079170664, 'wake@1': 0.0031685872543379995, 'too@-1': 0.0031580873754188114, 'listen@1': 0.0031509385983561683, 'night@-2': 0.0031509385983561683, 'myself@-2': 0.003149879532625484, 'fake@2': 0.003147641860270846, 'is@-1': 0.0031375691137802307, 'tonight@-1': 0.0031339249687279904, 'let@2': 0.003129932734960065, 'read@1': 0.003129932734960065, 'two@2': 0.0031175075269142282, 'week@-1': 0.0031175075269142282, 'watch@-2': 0.0031171434692589535, 'god@-2': 0.0031171434692589535, 'look@2': 0.003110893278219849, 'them@-2': 0.003110893278219849, 'lie@-1': 0.003104496497942333, 'reason@-2': 0.003104496497942333, 'till@-1': 0.003104496497942333, 'nigga@-1': 0.003101650722940813, 'or@2': 0.003086885656285134, 'myself@-1': 0.003086797948648206, 'music@-2': 0.0030863219439502135, 'drink@1': 0.0030863219439502135, 're@-2': 0.0030845769511462493, 'let@1': 0.003080989040607618, 'legit@1': 0.003078957197406933, 'praying@2': 0.003078957197406933, 'trend@-2': 0.003078957197406933, 'mia@2': 0.003078957197406933, 'scored@1': 0.003078957197406933, 'ugh@-1': 0.003078957197406933, 'concerned@2': 0.003078957197406933, 'asks@-2': 0.003078957197406933, 'stayed@1': 0.003078957197406933, 'ha@-1': 0.003078957197406933, 'gained@1': 0.003078957197406933, 'lrt@-1': 0.003078957197406933, 'eh@-1': 0.003078957197406933, 'disagree@1': 0.003078957197406933, 'screamed@1': 0.003078957197406933, 'fun@-1': 0.0030714912077112687, 'change@2': 0.0030714912077112687, 'play@-1': 0.0030714912077112687, 'played@1': 0.003064644014869827, 'album@-1': 0.003064644014869827, 'fall@2': 0.003064644014869827, 'turkey@-1': 0.003064644014869827, 'p@1': 0.003064644014869827, 'was@-1': 0.0030646250974086155, 'weed@-2': 0.003064031744025146, 'lately@-1': 0.003064031744025146, 'voice@-1': 0.003064031744025146, 'pink@2': 0.003064031744025146, 'ah@-1': 0.003064031744025146, 'video@-2': 0.0030474011394309424, 'part@2': 0.003027674388193574, 'spend@2': 0.003027674388193574, 'never@-2': 0.0029934704386045913, 'woman@-1': 0.0029932461314639202, 'realize@2': 0.0029932461314639202, 'couldn@2': 0.0029932461314639202, 'omg@-2': 0.002967859639277353, 'many@-2': 0.002967859639277353, 'hear@2': 0.002967859639277353, 'political@-2': 0.002966281661755571, 'shouldn@1': 0.002966281661755571, 'died@1': 0.002966281661755571, 'unless@-1': 0.002966281661755571, 'catch@2': 0.002961072209943393, 'ready@-2': 0.0029454085760652914, 'pm@-1': 0.002930909340665352, 'kinda@2': 0.002930909340665352, 'buy@2': 0.002930909340665352, 'thats@-2': 0.002930909340665352, 'catch@1': 0.002930909340665352, 'r@-1': 0.002930909340665352, 'lose@1': 0.002930909340665352, 'my@1': 0.0029105451149658286, 'out@-1': 0.0029056482178285883, 'nobody@-2': 0.002902549756261669, 'wrong@-2': 0.002894039986694815, 'yeezys@-2': 0.0028929551164287334, 'dunked@-1': 0.0028929551164287334, 'learning@2': 0.0028929551164287334, 'current@-2': 0.0028929551164287334, 'complaining@-2': 0.0028929551164287334, 'hah@-1': 0.0028929551164287334, 'alcohol@2': 0.0028929551164287334, 'thanksgivingwithbts@-2': 0.0028929551164287334, 'height@-1': 0.0028929551164287334, 'curious@2': 0.0028929551164287334, 'ooh@-1': 0.0028929551164287334, 'va@-2': 0.0028929551164287334, 'screw@-2': 0.0028929551164287334, 'his@2': 0.002888831594714442, 'smell@1': 0.0028830781443324573, 'ate@1': 0.0028830781443324573, 'stuck@2': 0.0028830781443324573, 'accidentally@1': 0.0028830781443324573, 'exactly@-2': 0.0028830781443324573, 'scared@2': 0.0028830781443324573, 'holy@-2': 0.0028830781443324573, 'sad@2': 0.0028758147890323073, 'yesterday@2': 0.0028758147890323073, 'amazing@-2': 0.0028758147890323073, 'anything@-2': 0.0028751631887476052, 'hard@-1': 0.0028751631887476052, 'ever@-1': 0.0028750867847599725, 'shit@2': 0.002849077367342741, 'fuck@2': 0.002839871781939451, 'so@1': 0.002829885037744084, 'idea@-1': 0.0028266202503616825, 'enjoy@1': 0.0028266202503616825, 'head@-2': 0.0028266202503616825, 'you@1': 0.002817463073164159, 'summer@2': 0.002815663159982243, 'hahaha@2': 0.002815663159982243, 'hahahaha@-1': 0.002815663159982243, 'ran@1': 0.002815663159982243, 'exams@-1': 0.002815663159982243, 'kidding@-1': 0.002815663159982243, 'nope@-1': 0.002815663159982243, 'exams@2': 0.002815663159982243, 'clingy@2': 0.002815663159982243, 'america@2': 0.002815663159982243, 'alex@2': 0.002815663159982243, 'greatest@-1': 0.002815663159982243, 'ordered@1': 0.002815663159982243, 'wya@-1': 0.002815663159982243, 'everywhere@-1': 0.002815663159982243, 'sensitive@-1': 0.002815663159982243, 'convos@-2': 0.002815663159982243, 'dwight@-1': 0.0028110932607998285, 'deep@-2': 0.0028110932607998285, 'rn@-2': 0.0028110932607998285, 'wondering@-2': 0.0028110932607998285, 'seriously@2': 0.0028110932607998285, 'af@-2': 0.0028110932607998285, 'sleep@1': 0.0028074698869227565, 'sleep@2': 0.0028074698869227565, 'crazy@-1': 0.002803908293340268, 'her@-1': 0.002796733941835182, 'better@-2': 0.0027922269147909206, 'by@2': 0.0027861016388963217, 'funny@-1': 0.0027617348522753203, 'knew@-1': 0.0027617348522753203, 'was@2': 0.0027611724364215847, 'someone@-1': 0.002751307487990993, 'missing@2': 0.0027479766514021935, 'blue@-1': 0.0027479766514021935, 'woke@1': 0.0027479766514021935, 'plan@1': 0.0027479766514021935, 'learned@1': 0.0027479766514021935, 'stay@2': 0.002742100577307384, 'mad@-1': 0.002742100577307384, 'followers@2': 0.002742100577307384, 'in@-1': 0.002736317635773706, 'won@2': 0.0027303091184894776, 'care@2': 0.0027240216702896364, 'holiday@-2': 0.002723335128380331, 'face@-1': 0.002723335128380331, 'ok@2': 0.0027053737612312426, 'friday@-1': 0.0027053737612312426, 'hello@-1': 0.0027053737612312426, 'wanna@-2': 0.002693019225266179, 'weeks@-1': 0.0026920151870130846, 'writing@2': 0.0026920151870130846, 'hella@2': 0.0026920151870130846, 'grateful@2': 0.0026920151870130846, 'not@1': 0.0026884159501355865, 'meet@1': 0.0026881583650417407, 'text@2': 0.0026881583650417407, 'crazy@2': 0.0026881583650417407, 'work@2': 0.0026827994871086273, 'work@1': 0.002671837259364817, 'cute@2': 0.002666479952759871, 'wonder@-2': 0.0026557612235059325, 'looks@-2': 0.0026557612235059325, 'funny@2': 0.0026557612235059325, 'knowing@-1': 0.0026419269067132906, 'played@2': 0.0026419269067132906, 'fine@-2': 0.0026419269067132906, 'have@-1': 0.002641701823546784, 'true@-1': 0.0026404893786149994, 'food@2': 0.002635938697677261, 'pressed@2': 0.002631780523819001, 'sucked@2': 0.002631780523819001, 'tweeted@1': 0.002631780523819001, 'earn@1': 0.002631780523819001, 'um@-1': 0.002631780523819001, 'draw@1': 0.002631780523819001, 'teach@2': 0.002631780523819001, 'proposed@2': 0.002631780523819001, 'dramatic@-2': 0.002631780523819001, 'snoop@-1': 0.002631780523819001, 'planning@2': 0.002631780523819001, 'enjoying@-2': 0.002631780523819001, 'mistake@-1': 0.002631780523819001, 'offended@-2': 0.002631780523819001, 'inspiration@2': 0.002631780523819001, 'trump@-1': 0.0026263237946993856, 'through@2': 0.002625782165296807, 'ya@-2': 0.002625782165296807, 'beautiful@2': 0.002625782165296807, 'enough@2': 0.002625782165296807, 'morning@-1': 0.0026116041406066587, 'tweets@-1': 0.0025979229390951904, 'big@2': 0.0025979229390951904, 'dinner@-2': 0.002596730870763842, 'date@-2': 0.002596730870763842, 'stand@-2': 0.002596730870763842, 'annoying@2': 0.002596730870763842, 'anymore@-1': 0.002596730870763842, 'into@2': 0.002594641904400528, 'listen@-1': 0.002584708935784011, 'team@2': 0.002584708935784011, 'lost@2': 0.002584708935784011, 'change@1': 0.002559576006426057, 'which@-1': 0.002559576006426057, 'than@-2': 0.002557836379659697, 'living@2': 0.0025556619782005764, 'everyday@-1': 0.0025556619782005764, 'realized@2': 0.0025556619782005764, 'alone@-2': 0.0025556619782005764, 'relationship@-1': 0.0025476090786966366, 'ass@-2': 0.002536012926135526, 'guys@-1': 0.0025247679045586045, 'giving@-2': 0.002518113488216677, 'choose@2': 0.002518113488216677, 'now@2': 0.002515903638177816, 'thinking@-1': 0.00251385581702512, 'faster@-1': 0.0024940673090989482, 'relate@1': 0.0024940673090989482, 'worried@2': 0.0024940673090989482, 'stan@1': 0.0024940673090989482, 'regret@1': 0.0024940673090989482, 'gunna@2': 0.0024940673090989482, 'request@1': 0.0024940673090989482, 'stance@-1': 0.0024940673090989482, 'jealous@2': 0.0024940673090989482, 'onto@2': 0.0024940673090989482, 'wall@-2': 0.0024940673090989482, 'instagram@2': 0.0024940673090989482, 'gotten@2': 0.0024940673090989482, 'mil@-2': 0.0024940673090989482, 'cousins@-2': 0.0024940673090989482, 'offer@2': 0.0024940673090989482, 'soo@2': 0.0024940673090989482, 'ya@2': 0.0024929640972033867, 'here@-2': 0.002485278894266808, 'blessed@2': 0.0024835971983538665, 'using@2': 0.0024835971983538665, 'second@-2': 0.0024835971983538665, 'missed@2': 0.0024835971983538665, 'late@-2': 0.0024835971983538665, 'deserve@1': 0.0024835971983538665, 'over@-2': 0.0024822033348946577, 'because@2': 0.0024791576634219255, 'sleep@-1': 0.002473216366064461, 'old@-2': 0.002473216366064461, 'an@-2': 0.002473153944890228, 'there@-1': 0.0024643601012228336, 'baby@-2': 0.0024637379876583437, 'done@-2': 0.0024637379876583437, 'did@-2': 0.0024586332652409624, 'learn@1': 0.002451715211895862, 'learn@2': 0.002451715211895862, 'hoop@-1': 0.002449099399433889, 'duh@-1': 0.002449099399433889, 'blunt@-1': 0.002449099399433889, 'boobs@-1': 0.002449099399433889, 'stanagainstevil@-1': 0.002449099399433889, 'debating@2': 0.002449099399433889, 'icon@-2': 0.002449099399433889, 'gimmesugar@-2': 0.002449099399433889, 'anniversary@-2': 0.002449099399433889, 'ahhh@-1': 0.002449099399433889, 'bitter@-2': 0.002449099399433889, 'expert@-2': 0.002449099399433889, 'differently@-1': 0.002449099399433889, 'hrs@-2': 0.002449099399433889, 'understood@-2': 0.002449099399433889, 'planet@-1': 0.002449099399433889, 'youre@2': 0.002449099399433889, 'jerk@-2': 0.002449099399433889, 'pandora@-2': 0.002449099399433889, 'boob@-2': 0.002449099399433889, 'woods@-2': 0.002449099399433889, 'damn@-2': 0.0024455127198812383, 'him@-1': 0.002442066314865207, 'for@1': 0.0024372835883184935, 'yeah@-2': 0.0024367442819465783, 'were@1': 0.0024367442819465783, 'around@2': 0.0024281920501727466, 'want@-2': 0.0024253909986050996, 'seriously@-1': 0.002422139510554859, 'send@2': 0.002422139510554859, 'sad@-2': 0.002422139510554859, 'ago@-1': 0.002422139510554859, 'kinda@-2': 0.002422139510554859, 'friends@-2': 0.002403743376130822, 'over@-1': 0.0024018651942373597, 'win@1': 0.002395969323956338, 'nah@-1': 0.002394596905171136, 'trust@-2': 0.002394596905171136, 'k@-1': 0.002394596905171136, 'before@-2': 0.0023883705940861057, 'box@-2': 0.002385919037220533, 'aint@1': 0.002385919037220533, 'sent@1': 0.002385919037220533, 'art@-1': 0.002385919037220533, 'starts@-2': 0.002385919037220533, 'gf@-2': 0.002385919037220533, 'noticed@2': 0.002385919037220533, 'loss@-1': 0.002385919037220533, 'loyal@2': 0.002385919037220533, 'goodnight@-1': 0.002385919037220533, 'suppose@1': 0.002385919037220533, 'literally@-2': 0.0023809403503145233, 'everyone@-2': 0.0023809403503145233, 'anything@-1': 0.0023736721300523615, 'realize@-2': 0.002368857767954714, 'cool@-2': 0.002368857767954714, 'found@2': 0.002368857767954714, 'stuff@-1': 0.002368857767954714, 'left@1': 0.002368857767954714, 'loved@2': 0.002368857767954714, 'start@-2': 0.0023527800568945737, 'challenge@-2': 0.0023447274725322815, 'both@2': 0.0023447274725322815, 'soon@-1': 0.0023447274725322815, 'their@-2': 0.0023395582391022973, 'hard@2': 0.0023395582391022973, 'cheating@2': 0.002334017972408059, 'gut@-1': 0.002334017972408059, 'maturity@2': 0.002334017972408059, 'explained@-2': 0.002334017972408059, 'coco@-1': 0.002334017972408059, 'couldnt@1': 0.002334017972408059, 'situation@-1': 0.002334017972408059, 'points@-2': 0.002334017972408059, 'trippin@2': 0.002334017972408059, 'mickey@-1': 0.002334017972408059, 'lbs@2': 0.002334017972408059, 'penny@-2': 0.002334017972408059, 'chose@2': 0.002334017972408059, 'build@1': 0.002334017972408059, 'cracking@2': 0.002334017972408059, 'crowd@-2': 0.002334017972408059, 'pushing@2': 0.002334017972408059, 'existing@2': 0.002334017972408059, 'china@-1': 0.002334017972408059, 'finished@2': 0.002334017972408059, 'barber@-2': 0.002334017972408059, 'locked@2': 0.002334017972408059, 'canada@-1': 0.002334017972408059, 'breakdown@-2': 0.002334017972408059, 'tht@-1': 0.002334017972408059, 'perhaps@-1': 0.002334017972408059, 'pathetic@-1': 0.002334017972408059, 'tory@2': 0.002334017972408059, 'trynna@2': 0.002334017972408059, 'excellent@-1': 0.002334017972408059, 'lmaoo@-1': 0.002334017972408059, 'hahah@-1': 0.002334017972408059, 'awwww@-1': 0.002334017972408059, 'joined@2': 0.002334017972408059, 'rated@1': 0.002334017972408059, 'hellyshah@2': 0.002334017972408059, 'nudes@-2': 0.002334017972408059, 'goalie@-2': 0.002334017972408059, 'whoop@2': 0.002334017972408059, 'tend@1': 0.002334017972408059, 'nor@-2': 0.002334017972408059, 'insane@-1': 0.002334017972408059, 'doubt@1': 0.002334017972408059, 'mina@-2': 0.002334017972408059, 'alot@2': 0.002334017972408059, 'bouta@2': 0.002334017972408059, 'retweets@-2': 0.002334017972408059, 'bombing@-2': 0.002334017972408059, 'hoop@2': 0.002334017972408059, 'alyssa@-2': 0.002334017972408059, 'style@-1': 0.002334017972408059, 'whispered@-1': 0.002334017972408059, 'shall@1': 0.002334017972408059, 'sober@2': 0.002334017972408059, 'babygirl@-1': 0.002334017972408059, 'rl@1': 0.002334017972408059, 'tight@-2': 0.002334017972408059, 'ye@2': 0.002334017972408059, 'paying@2': 0.002334017972408059, 'changing@-2': 0.002334017972408059, 'starving@2': 0.002334017972408059, 'stare@1': 0.002334017972408059, 'answers@-1': 0.002334017972408059, 'south@1': 0.002334017972408059, 'everyone@-1': 0.0023331443456521064, 'tell@1': 0.0023331443456521064, 'already@-2': 0.0023331443456521064, 'c@1': 0.0023220398050093354, 'called@1': 0.0023220398050093354, 'anything@2': 0.002320688237794525, 'dont@-2': 0.002302872472060078, 'open@-2': 0.002300651831225846, 'yo@-2': 0.002300651831225846, 'needed@-1': 0.002300651831225846, 'hoping@-1': 0.002298023808018859, 'perfect@-1': 0.002298023808018859, 'personally@1': 0.002298023808018859, 'marry@-2': 0.002298023808018859, 'worry@-1': 0.002298023808018859, 'posted@2': 0.002298023808018859, 'accidentally@2': 0.002298023808018859, 'yourself@-1': 0.002298023808018859, 'from@-2': 0.0022934606595157053, 'also@-1': 0.002286011316530168, 'stop@-2': 0.0022805877501060347, 'kid@-1': 0.002280439854516041, 'laughing@1': 0.002280439854516041, 'lol@-2': 0.0022752575987412312, 'bad@-1': 0.002270018058574697, 'season@-2': 0.0022612962002893458, 'turn@1': 0.0022612962002893458, 'forget@2': 0.0022612962002893458, 'wish@2': 0.002254816807625984, 'a@1': 0.002248598119957428, 'from@-1': 0.0022437663276648947, 'w@2': 0.0022403408054696016, 'phone@-2': 0.0022258482745065727, 'hit@2': 0.0022258482745065727, 'ep@-1': 0.0022258482745065727, 'trust@2': 0.0022258482745065727, 'standing@2': 0.0022247112463166783, 'prefer@2': 0.0022247112463166783, 'prefer@-2': 0.0022247112463166783, 'older@-1': 0.0022247112463166783, 'dream@1': 0.0022247112463166783, 'bet@2': 0.0022247112463166783, 'questions@-1': 0.0022247112463166783, 'suddenly@1': 0.0022247112463166783, 'ate@2': 0.0022247112463166783, 'questions@2': 0.0022247112463166783, 'months@-2': 0.0022247112463166783, 'changed@2': 0.0022247112463166783, 'personally@-1': 0.0022247112463166783, 'badthingsonfallon@2': 0.0022247112463166783, 'am@-2': 0.002210054644559304, 'are@-1': 0.0022019907935363187, 'life@-2': 0.0021925816119674744, 'hey@-2': 0.0021786681027042647, 'dm@-2': 0.0021786681027042647, 'leave@1': 0.002164299008984994, 'listen@2': 0.002164299008984994, 'body@-2': 0.002162308608249343, 'completely@2': 0.002162308608249343, 'dear@-2': 0.002162308608249343, 'double@1': 0.002162308608249343, 'smile@-2': 0.002162308608249343, 'hungry@-1': 0.002162308608249343, 'holidays@-1': 0.002162308608249343, 'hoes@-1': 0.002162308608249343, 'film@-1': 0.002162308608249343, 'calling@2': 0.002162308608249343, 'cried@2': 0.002162308608249343, 'shit@-2': 0.00216220158700044, 'beautiful@-1': 0.0021505266920333927, 'almost@2': 0.0021413831274213666, 'think@-2': 0.002137417375081274, 'remember@2': 0.0021373092877489726, 'tonight@-2': 0.002124608978804746, 'cant@2': 0.002124608978804746, 'hours@2': 0.002124608978804746, 'once@-2': 0.0021123915028919992, 'girls@-1': 0.0021123915028919992, 'full@2': 0.0021123915028919992, 'used@2': 0.0021123915028919992, 'then@-2': 0.0021098298753208997, 'whatever@-1': 0.0021083199455998714, 'mess@-1': 0.0021083199455998714, 'saturday@-1': 0.0021083199455998714, 'fuckin@1': 0.0021083199455998714, 'times@2': 0.0021006257322374457, 'end@-1': 0.0021006257322374457, 'big@-2': 0.0021006257322374457, 'free@-1': 0.0021006257322374457, 'years@-1': 0.0021006257322374457, 'house@-2': 0.002089283312485327, 'watching@-2': 0.002089283312485327, 'birthday@-1': 0.002089283312485327, 'world@-1': 0.0020677671486272085, 'house@-1': 0.0020677671486272085, 'self@-1': 0.002060982488551645, 'bet@-1': 0.002060982488551645, 'til@-1': 0.002060982488551645, 'bought@1': 0.002060982488551645, 'reading@2': 0.002060982488551645, 'sleeping@2': 0.002060982488551645, 'dance@-1': 0.002060982488551645, 'women@2': 0.002060982488551645, 'j@-1': 0.002060982488551645, 'honest@2': 0.002060982488551645, 'become@2': 0.002060982488551645, 'bother@2': 0.002052638131604622, 'gravy@-1': 0.002052638131604622, 'badly@-1': 0.002052638131604622, 'pee@1': 0.002052638131604622, 'walmart@-1': 0.002052638131604622, 'wanting@2': 0.002052638131604622, 'squad@-1': 0.002052638131604622, 'dancing@-2': 0.002052638131604622, 'supported@2': 0.002052638131604622, 'strongest@-2': 0.002052638131604622, 'hmm@-2': 0.002052638131604622, 'poke@2': 0.002052638131604622, 'naps@2': 0.002052638131604622, 'smack@2': 0.002052638131604622, 'graduate@2': 0.002052638131604622, 'recall@2': 0.002052638131604622, 'el@-2': 0.002052638131604622, 'expose@2': 0.002052638131604622, 'claim@1': 0.002052638131604622, 'pregnant@2': 0.002052638131604622, 'soft@-2': 0.002052638131604622, 'hmm@-1': 0.002052638131604622, 'referring@2': 0.002052638131604622, 'eberle@2': 0.002052638131604622, 'staring@2': 0.002052638131604622, 'normally@1': 0.002052638131604622, 'reached@-2': 0.002052638131604622, 'cutting@2': 0.002052638131604622, 'results@2': 0.002052638131604622, 'attached@2': 0.002052638131604622, 'max@2': 0.002052638131604622, 'rly@1': 0.002052638131604622, 'facetime@-1': 0.002052638131604622, 'podcast@-2': 0.002052638131604622, 'melania@2': 0.002052638131604622, 'frame@1': 0.002052638131604622, 'teachers@2': 0.002052638131604622, 'wondered@1': 0.002052638131604622, 'became@-2': 0.002052638131604622, 'eve@-1': 0.002052638131604622, 'nowplaying@-1': 0.002052638131604622, 'wrap@2': 0.002052638131604622, 'message@-2': 0.002052638131604622, 'wasted@-2': 0.002052638131604622, 'jungkook@-1': 0.002052638131604622, 'expecting@2': 0.002052638131604622, 'debating@-2': 0.002052638131604622, 'grind@-2': 0.002052638131604622, 'embarrassed@2': 0.002052638131604622, 'evening@-1': 0.002052638131604622, 'pregnant@-2': 0.002052638131604622, 'cream@-2': 0.002052638131604622, 'frame@-2': 0.002052638131604622, 'lowkey@2': 0.002052638131604622, 'heart@-1': 0.0020476608051408457, 'd@-1': 0.0020395747018995217, 'having@-2': 0.002028810340908421, 'around@-2': 0.002028810340908421, 'still@-2': 0.00201984413117817, 'until@-2': 0.0020198143236468836, 'worth@2': 0.0020190113902598134, 'singing@-2': 0.0020190113902598134, 'cold@2': 0.0020190113902598134, 'thru@-2': 0.0020190113902598134, 'promise@-1': 0.0020190113902598134, 'supposed@2': 0.0020190113902598134, 'cut@2': 0.0020190113902598134, 'laughing@-1': 0.0020190113902598134, 'busy@-2': 0.0020190113902598134, 'save@2': 0.0020190113902598134, 'yes@-2': 0.0020110846536200958, 'hate@-1': 0.002005503824020691, 'would@2': 0.0020035211818481306, 'b@2': 0.002002607823005933, 'b@1': 0.002002607823005933, 'also@-2': 0.001994371277762709, 'hear@-2': 0.001994371277762709, 'life@2': 0.0019882102696384503, 'hear@-1': 0.001986363332217821, 'n@1': 0.001986363332217821, 'game@-2': 0.001986363332217821, 'treat@1': 0.0019814451800349675, 'month@-2': 0.0019814451800349675, 'cut@1': 0.0019814451800349675, 'seem@2': 0.0019814451800349675, 'follow@1': 0.0019785730928515684, 'laugh@2': 0.0019475481530728813, 'ball@-2': 0.0019475481530728813, 'gay@-2': 0.0019475481530728813, 'babe@-2': 0.0019475481530728813, 'later@-2': 0.0019475481530728813, 'babe@-1': 0.0019475481530728813, 'explain@2': 0.0019475481530728813, 'grow@1': 0.0019475481530728813, 'everything@-2': 0.001935877467114832, 'kill@2': 0.001935877467114832, 'money@-2': 0.001935877467114832, 'more@-1': 0.0019351669771236703, 'live@-2': 0.0019229947009046576, 'music@2': 0.0019229947009046576, 'be@-1': 0.0019214428829762318, 'l@1': 0.0019167464836504322, 'laugh@1': 0.0019167464836504322, 'rn@-1': 0.0019167464836504322, 'block@-2': 0.0019167464836504322, 'happened@-2': 0.0019167464836504322, 'seen@1': 0.0019106964752688845, 'great@2': 0.0018932478546263007, 'most@2': 0.0018932478546263007, 'hand@-2': 0.0018885851161625077, 'alone@-1': 0.0018885851161625077, 'asking@2': 0.0018885851161625077, 'bruh@-1': 0.0018771087733214953, 'brought@1': 0.0018771087733214953, 'cum@1': 0.0018771087733214953, 'screaming@-1': 0.0018771087733214953, 'kevin@-1': 0.0018771087733214953, 'lesbian@-1': 0.0018771087733214953, 'rarely@1': 0.0018771087733214953, 'signed@2': 0.0018771087733214953, 'netflix@2': 0.0018771087733214953, 'uh@-1': 0.0018771087733214953, 'became@1': 0.0018771087733214953, 'murder@2': 0.0018771087733214953, 'listened@2': 0.0018771087733214953, 'arguing@-1': 0.0018771087733214953, 'hopefully@-1': 0.0018771087733214953, 'petty@-1': 0.0018771087733214953, 'moana@2': 0.0018771087733214953, 'showed@2': 0.0018771087733214953, 'paint@2': 0.0018771087733214953, 'steve@2': 0.0018771087733214953, 'clean@2': 0.0018771087733214953, 'leaving@2': 0.0018771087733214953, 'lt@-2': 0.0018771087733214953, 'sleepy@2': 0.0018771087733214953, 'vibe@1': 0.0018771087733214953, 'lied@1': 0.0018771087733214953, 'distant@2': 0.0018771087733214953, 'bowling@2': 0.0018771087733214953, 'wednesday@-2': 0.0018771087733214953, 'racist@-2': 0.0018771087733214953, 'ig@-1': 0.0018771087733214953, 'grown@2': 0.0018771087733214953, 'cutest@-2': 0.0018771087733214953, 'asap@-1': 0.0018771087733214953, 'arms@-1': 0.0018771087733214953, 'draw@-2': 0.0018771087733214953, 'mirror@-2': 0.0018771087733214953, 'ig@-2': 0.0018771087733214953, 'scream@2': 0.0018771087733214953, 'ga@2': 0.0018771087733214953, 'real@-2': 0.0018768815281220137, 'bad@-2': 0.001866515476521685, 'am@2': 0.0018643201479699423, 'date@2': 0.0018626978987654, 'boys@-2': 0.0018626978987654, 'between@-2': 0.0018626978987654, 'plate@-1': 0.0018626978987654, 'share@2': 0.0018626978987654, 'learn@-2': 0.0018626978987654, 'c@-1': 0.0018626978987654, 'stand@1': 0.0018626978987654, 'drive@2': 0.0018626978987654, 'made@2': 0.0018614846098606139, 'little@-2': 0.0018614846098606139, 'got@-1': 0.0018568662511973004, 'fuck@1': 0.0018565505902356201, 'somebody@2': 0.0018517101788061473, 'need@-2': 0.0018506756265889057, 'into@-2': 0.0018422979776480629, 'cute@-2': 0.0018422979776480629, 'hair@2': 0.0018422979776480629, 'far@-2': 0.0018387864089218964, 'either@-2': 0.0018387864089218964, 'bit@-2': 0.0018387864089218964, 'point@-1': 0.0018387864089218964, 'truly@1': 0.0018387864089218964, 'thank@2': 0.0018288090532241343, 'ball@-1': 0.0018166046329161443, 'either@-1': 0.0018166046329161443, 'ago@-2': 0.0018166046329161443, 'happiness@2': 0.0018166046329161443, 'everybody@2': 0.0018166046329161443, 'stupid@-2': 0.0018166046329161443, 'either@2': 0.0018166046329161443, 'following@2': 0.0018166046329161443, 'kids@-2': 0.0018166046329161443, 'in@1': 0.0018163729090458834, 'read@-2': 0.0018160144468597577, 'read@2': 0.0018118931554828627, 'come@-2': 0.0017999311615002768, 'after@2': 0.0017999311615002768, 'rather@1': 0.0017959476788783522, 'single@-2': 0.0017959476788783522, 'came@2': 0.0017959476788783522, 'fight@2': 0.0017959476788783522, 'follow@-2': 0.0017959476788783522, 'about@-1': 0.0017924045148444184, 'god@2': 0.0017848509060937566, 'wait@-2': 0.0017812248395765449, 'lit@2': 0.0017766433259660357, 'stuff@-2': 0.0017766433259660357, 'they@-2': 0.0017678111403613469, 'car@-1': 0.001758545604399211, 'boys@2': 0.001758545604399211, 'sad@-1': 0.001758545604399211, 'invite@1': 0.0017545203492126673, 'pretend@-1': 0.0017545203492126673, 'harry@2': 0.0017545203492126673, 'dreams@-2': 0.0017545203492126673, 'clothes@-1': 0.0017545203492126673, 'control@-2': 0.0017545203492126673, 'announce@1': 0.0017545203492126673, 'taken@2': 0.0017545203492126673, 'space@-2': 0.0017545203492126673, 'window@-1': 0.0017545203492126673, 'def@2': 0.0017545203492126673, 'changes@-1': 0.0017545203492126673, 'comeback@-2': 0.0017545203492126673, 'names@2': 0.0017545203492126673, 'whoever@2': 0.0017545203492126673, 'wasted@2': 0.0017545203492126673, 'posting@-2': 0.0017545203492126673, 'names@-1': 0.0017545203492126673, 'rap@-2': 0.0017545203492126673, 'sitting@2': 0.0017545203492126673, 'recently@1': 0.0017545203492126673, 'reasons@-2': 0.0017545203492126673, 'everytime@2': 0.0017545203492126673, 'exo@2': 0.0017545203492126673, 'reasons@-1': 0.0017545203492126673, 'barely@1': 0.0017545203492126673, 'plus@-1': 0.0017545203492126673, 'decided@1': 0.0017545203492126673, 'fraud@-1': 0.0017545203492126673, 'listened@1': 0.0017545203492126673, 'except@-1': 0.0017545203492126673, 'born@2': 0.0017545203492126673, 'unfollow@2': 0.0017545203492126673, 'dropped@2': 0.0017545203492126673, 'imagine@2': 0.0017545203492126673, 'quote@-2': 0.0017545203492126673, 'voting@2': 0.0017545203492126673, 'pulling@2': 0.0017545203492126673, 'yay@-1': 0.0017545203492126673, 'drama@-1': 0.0017545203492126673, 'first@1': 0.0017540652895739796, 'said@2': 0.0017508825297995905, 'yall@-1': 0.0017415298537570014, 'g@2': 0.0017415298537570014, 'during@2': 0.0017415298537570014, 'at@-1': 0.0017347050983376696, 'things@2': 0.00173266117748113, 'come@1': 0.001729761269600352, 'use@2': 0.0017254888734193844, 'hillary@-1': 0.0017254888734193844, 'r@1': 0.0017254888734193844, 'without@-2': 0.0017254888734193844, 'want@-1': 0.0017130238941064637, 'tweet@-1': 0.0017103298908870304, 'yesterday@-1': 0.0017103298908870304, 'g@1': 0.0017103298908870304, 'things@-2': 0.0017001218131537355, 'nobody@-1': 0.0016959721502170092, 'party@-2': 0.0016959721502170092, 'ugly@-2': 0.0016823449760041609, 'wearing@2': 0.0016823449760041609, 'movie@-1': 0.0016823449760041609, 'boyfriend@-2': 0.0016823449760041609, 'friday@-2': 0.0016823449760041609, 'ppl@-1': 0.0016823449760041609, 'leave@-2': 0.0016693862058799296, 'under@2': 0.0016693862058799296, 'cry@2': 0.0016693862058799296, 'away@-2': 0.0016693862058799296, 'receive@2': 0.0016627115393992988, 'skip@1': 0.0016627115393992988, 'john@-2': 0.0016627115393992988, 'tum@2': 0.0016627115393992988, 'treated@2': 0.0016627115393992988, 'fed@2': 0.0016627115393992988, 'truth@-1': 0.0016627115393992988, 'regret@2': 0.0016627115393992988, 'hated@2': 0.0016627115393992988, 'inside@2': 0.0016627115393992988, 'bored@-2': 0.0016627115393992988, 'football@2': 0.0016627115393992988, 'list@-2': 0.0016627115393992988, 'ruin@2': 0.0016627115393992988, 'ellen@2': 0.0016627115393992988, 'voted@2': 0.0016627115393992988, 'cared@1': 0.0016627115393992988, 'pulled@1': 0.0016627115393992988, 'shook@-2': 0.0016627115393992988, 'yup@-1': 0.0016627115393992988, 'fried@2': 0.0016627115393992988, 'jus@2': 0.0016627115393992988, 'pink@-2': 0.0016627115393992988, 'touch@-2': 0.0016627115393992988, 'mostly@2': 0.0016627115393992988, 'fucks@2': 0.0016627115393992988, 'screaming@2': 0.0016627115393992988, 'faster@-2': 0.0016627115393992988, 'present@1': 0.0016627115393992988, 'bottom@-2': 0.0016627115393992988, 'site@-1': 0.0016627115393992988, 'worried@-1': 0.0016627115393992988, 'hell@-1': 0.001657040911365192, 'yet@-1': 0.001657040911365192, 'hurt@-2': 0.001657040911365192, 'needed@2': 0.001657040911365192, 'd@2': 0.001656852596177872, 'lil@-2': 0.0016452603463844306, 'tweet@2': 0.0016452603463844306, 'check@-2': 0.0016452603463844306, 'tired@-2': 0.0016452603463844306, 'check@1': 0.0016452603463844306, 'new@-1': 0.0016448425219521242, 'with@-1': 0.0016370887761149035, 'crying@-2': 0.0016340010770281986, 'yo@-1': 0.0016340010770281986, 'honestly@-2': 0.0016340010770281986, 'nice@-2': 0.0016340010770281986, 'gucci@-2': 0.0016340010770281986, 'feeling@-2': 0.0016340010770281986, 'open@1': 0.0016340010770281986, 'playing@-2': 0.0016340010770281986, 'right@-1': 0.0016334918876544792, 'job@-1': 0.0016232242567387454, 'wasn@2': 0.0016232242567387454, 'serious@2': 0.0016232242567387454, 'an@-1': 0.0016141954579134185, 'okay@-2': 0.0016128950190250446, 'lost@-2': 0.0016128950190250446, 'honestly@-1': 0.0016128950190250446, 'team@-2': 0.0016029819658117295, 'school@-2': 0.0016029819658117295, 'years@-2': 0.0015934567341035594, 'change@-2': 0.0015934567341035594, 'making@-2': 0.0015934567341035594, 'officially@2': 0.0015906126914803551, 'smell@2': 0.0015906126914803551, 'james@2': 0.0015906126914803551, 'beer@2': 0.0015906126914803551, 'falling@2': 0.0015906126914803551, 'ten@-1': 0.0015906126914803551, 'kidding@1': 0.0015906126914803551, 'losing@-2': 0.0015906126914803551, 'wont@1': 0.0015906126914803551, 'participate@-2': 0.0015906126914803551, 'fucks@1': 0.0015906126914803551, 'goodnight@-2': 0.0015906126914803551, 'fr@-1': 0.0015906126914803551, 'hurts@-2': 0.0015906126914803551, 'hahaha@-1': 0.0015906126914803551, 'shawn@2': 0.0015906126914803551, 'trash@-1': 0.0015906126914803551, 'mention@1': 0.0015906126914803551, 'shawn@-2': 0.0015906126914803551, 'games@-1': 0.0015906126914803551, 'closer@2': 0.0015906126914803551, 'spending@2': 0.0015906126914803551, 'mouth@-1': 0.0015906126914803551, 'driving@2': 0.0015906126914803551, 'shawn@-1': 0.0015906126914803551, 'kidding@2': 0.0015906126914803551, 'bitches@-1': 0.0015906126914803551, 'weight@2': 0.0015906126914803551, 'basically@-1': 0.0015906126914803551, 'idc@-1': 0.0015906126914803551, 'excited@-1': 0.0015842936271689997, 'heart@-2': 0.0015842936271689997, 'white@2': 0.0015842936271689997, 'break@-2': 0.0015754692991780841, 'guy@-1': 0.0015754692991780841, 'b@-1': 0.0015754692991780841, 'forever@-1': 0.0015669624843639952, 'thanks@-2': 0.0015669624843639952, 'years@2': 0.0015669624843639952, 'other@-2': 0.0015587537634571141, 'end@1': 0.0015431609719751068, 'sometimes@-2': 0.0015431609719751068, 'twitter@-1': 0.0015357456038556344, 'help@1': 0.0015357456038556344, 'name@-2': 0.0015357456038556344, 'excited@2': 0.0015357456038556344, 'people@-2': 0.0015333053081901956, 'book@-1': 0.001532015872012573, 'reach@2': 0.001532015872012573, 'asleep@-2': 0.001532015872012573, 'nap@-1': 0.001532015872012573, 'queensugar@-1': 0.001532015872012573, 'alive@2': 0.001532015872012573, 'exactly@2': 0.001532015872012573, 'table@-2': 0.001532015872012573, 'darla@2': 0.001532015872012573, 'buying@2': 0.001532015872012573, 'retweet@-2': 0.001532015872012573, 'gain@2': 0.001532015872012573, 'buying@-2': 0.001532015872012573, 'ah@-2': 0.001532015872012573, 'marry@2': 0.001532015872012573, 'v@-1': 0.001532015872012573, 'bow@2': 0.001532015872012573, 'eye@-2': 0.001532015872012573, 'accept@2': 0.001532015872012573, 'respect@-2': 0.001532015872012573, 'pissed@2': 0.001532015872012573, 'fr@2': 0.001532015872012573, 'worked@1': 0.001532015872012573, 'totally@2': 0.001532015872012573, 'choice@-1': 0.001532015872012573, 'three@2': 0.001532015872012573, 'pictures@-2': 0.001532015872012573, 'retweet@2': 0.001532015872012573, 'ring@-2': 0.001532015872012573, 'smh@-1': 0.001532015872012573, 'once@1': 0.001528565447217982, 'another@-1': 0.0015216077556813158, 'very@-2': 0.0015216077556813158, 'video@-1': 0.0015175693699309828, 'friend@-2': 0.0015148607427351627, 'understand@-2': 0.0015083134902150717, 'were@-2': 0.0015083134902150717, 'thinking@1': 0.0015019558672544496, 'home@-2': 0.0014957784583220321, 'its@-2': 0.0014957784583220321, 'n@2': 0.0014897724991633657, 'follow@2': 0.0014897724991633657, 'around@-1': 0.0014897724991633657, 'maybe@-2': 0.0014839298196386765, 'until@2': 0.0014839298196386765, 'expect@1': 0.0014831408308777856, 'monday@2': 0.0014831408308777856, 'outside@2': 0.0014831408308777856, 'dream@-2': 0.0014831408308777856, 'short@-2': 0.0014831408308777856, 'stopped@2': 0.0014831408308777856, 'em@-1': 0.0014831408308777856, 'place@-2': 0.0014831408308777856, 'fuckin@2': 0.0014831408308777856, 'absolutely@2': 0.0014831408308777856, 'near@2': 0.0014831408308777856, 'finish@1': 0.0014831408308777856, 'queen@-1': 0.0014831408308777856, 'sing@1': 0.0014831408308777856, 'honest@-1': 0.0014831408308777856, 'seconds@-2': 0.0014831408308777856, 'weed@2': 0.0014831408308777856, 'handle@2': 0.0014831408308777856, 'wtf@-1': 0.0014831408308777856, 'totally@1': 0.0014831408308777856, 'course@-2': 0.0014831408308777856, 'american@-1': 0.0014831408308777856, 'weekend@-1': 0.0014831408308777856, 'black@2': 0.0014727042880326457, 'really@-1': 0.001468751498093899, 'understand@2': 0.001467307631928743, 'i@1': 0.0014608330904398834, 'old@2': 0.001456915230103648, 'well@2': 0.001456915230103648, 'christmas@-2': 0.001456915230103648, 'and@1': 0.0014522834398244307, 'our@-2': 0.0014519081003361238, 'tonight@2': 0.0014470199933474075, 'hunger@-2': 0.0014464775582143667, 'sneak@-1': 0.0014464775582143667, 'choker@-1': 0.0014464775582143667, 'kiki@-1': 0.0014464775582143667, 'notifications@-2': 0.0014464775582143667, 'emo@-2': 0.0014464775582143667, 'calories@-1': 0.0014464775582143667, 'lolol@-1': 0.0014464775582143667, 'stweeksary@-1': 0.0014464775582143667, 'hd@-1': 0.0014464775582143667, 'afford@-2': 0.0014464775582143667, 'shitty@-1': 0.0014464775582143667, 'dvd@-2': 0.0014464775582143667, 'possible@-2': 0.0014464775582143667, 'niall@2': 0.0014464775582143667, 'bff@-1': 0.0014464775582143667, 'sea@-1': 0.0014464775582143667, 'rain@-2': 0.0014464775582143667, 'rainbow@-1': 0.0014464775582143667, 'fully@2': 0.0014464775582143667, 'fox@-2': 0.0014464775582143667, 'classes@-1': 0.0014464775582143667, 'nyc@-2': 0.0014464775582143667, 'mason@2': 0.0014464775582143667, 'ab@-2': 0.0014464775582143667, 'bs@-1': 0.0014464775582143667, 'fantastic@-2': 0.0014464775582143667, 'force@-2': 0.0014464775582143667, 'hoseok@2': 0.0014464775582143667, 'twin@-2': 0.0014464775582143667, 'raw@-1': 0.0014464775582143667, 'tits@2': 0.0014464775582143667, 'nohandschallenge@-1': 0.0014464775582143667, 'dairy@-2': 0.0014464775582143667, 'aldub@-2': 0.0014464775582143667, 'sc@-1': 0.0014464775582143667, 'tu@-2': 0.0014464775582143667, 'luke@-1': 0.0014464775582143667, 'ngl@-1': 0.0014464775582143667, 'steal@-1': 0.0014464775582143667, 'uneven@-2': 0.0014464775582143667, 'collection@-1': 0.0014464775582143667, 'lmaooo@-1': 0.0014464775582143667, 'babies@-1': 0.0014464775582143667, 'ariana@2': 0.0014464775582143667, 'ponder@2': 0.0014464775582143667, 'recommend@2': 0.0014464775582143667, 'procrastinating@-1': 0.0014464775582143667, 'diamond@-1': 0.0014464775582143667, 'mario@2': 0.0014464775582143667, 'australian@-2': 0.0014464775582143667, 'empty@-2': 0.0014464775582143667, 'color@-1': 0.0014464775582143667, 'starving@-2': 0.0014464775582143667, 'soulmate@-2': 0.0014464775582143667, 'talent@-1': 0.0014464775582143667, 'decision@-1': 0.0014464775582143667, 'rolled@1': 0.0014464775582143667, 'tyler@2': 0.0014464775582143667, 'cheating@-1': 0.0014464775582143667, 'nvm@2': 0.0014464775582143667, 'responsibility@-1': 0.0014464775582143667, 'six@-2': 0.0014464775582143667, 'mario@-1': 0.0014464775582143667, 'jk@2': 0.0014464775582143667, 'redemption@-1': 0.0014464775582143667, 'embarrassing@-2': 0.0014464775582143667, 'ear@-1': 0.0014464775582143667, 'unfortunately@-1': 0.0014464775582143667, 'friendship@-2': 0.0014464775582143667, 'cabinet@-2': 0.0014464775582143667, 'fi@-2': 0.0014464775582143667, 'pages@-2': 0.0014464775582143667, 'mentioned@2': 0.0014464775582143667, 'luke@-2': 0.0014464775582143667, 'friendsgiving@-1': 0.0014464775582143667, 'pose@-1': 0.0014464775582143667, 'unfortunately@-2': 0.0014464775582143667, 'normal@-2': 0.0014464775582143667, 'lolol@-2': 0.0014464775582143667, 'disgusting@-2': 0.0014464775582143667, 'including@-2': 0.0014464775582143667, 'kitty@2': 0.0014464775582143667, 'elementary@-2': 0.0014464775582143667, 'schedule@-1': 0.0014464775582143667, 'sis@-2': 0.0014464775582143667, 'promo@-1': 0.0014464775582143667, 'arm@-2': 0.0014464775582143667, 'traffic@-1': 0.0014464775582143667, 'dropping@2': 0.0014464775582143667, 'wonderful@-2': 0.0014464775582143667, 'tucker@2': 0.0014464775582143667, 'aye@2': 0.0014464775582143667, 'legit@2': 0.0014464775582143667, 'boi@-1': 0.0014464775582143667, 'kinky@-2': 0.0014464775582143667, 'abt@2': 0.0014415390721662287, 'extra@-1': 0.0014415390721662287, 'eyes@-1': 0.0014415390721662287, 'j@2': 0.0014415390721662287, 'city@-2': 0.0014415390721662287, 'along@2': 0.0014415390721662287, 'bought@2': 0.0014415390721662287, 'donald@-2': 0.0014415390721662287, 'cooking@2': 0.0014415390721662287, 'videos@-2': 0.0014415390721662287, 'instead@-2': 0.0014415390721662287, 'checked@1': 0.0014415390721662287, 'travel@2': 0.0014415390721662287, 'shared@2': 0.0014415390721662287, 'older@2': 0.0014415390721662287, 'small@-2': 0.0014415390721662287, 'pie@-2': 0.0014415390721662287, 'ask@-2': 0.0014330223564516635, 'out@1': 0.001432087527516692, 'next@2': 0.0014285642101887139, 'long@-1': 0.0014285642101887139, 'i@-1': 0.0014257644643754712, 'talk@-2': 0.0014242032780314169, 'ask@2': 0.0014242032780314169, 'sure@1': 0.0014199358909697255, 'mean@2': 0.0014157585742269896, 'done@1': 0.0014157585742269896, 'saying@-2': 0.0014157585742269896, 'show@2': 0.0014116680341367445, 'friends@-1': 0.0014076611460915101, 'bc@2': 0.0014076611460915101, 'please@2': 0.0014076611460915101, 'fix@2': 0.0014055466303999143, 'men@-2': 0.0014055466303999143, 'broke@-2': 0.0014055466303999143, 'turned@1': 0.0014055466303999143, 'justin@2': 0.0014055466303999143, 'assume@2': 0.0014055466303999143, 'angel@-1': 0.0014055466303999143, 'write@1': 0.0014055466303999143, 'confused@-2': 0.0014055466303999143, 'drunk@-1': 0.0014055466303999143, 'darla@-1': 0.0014055466303999143, 'asf@-1': 0.0014055466303999143, 'p@-1': 0.0014055466303999143, 'respect@1': 0.0014055466303999143, 'live@-1': 0.0013998866073912637, 'own@-2': 0.0013998866073912637, 'believe@-2': 0.0013998866073912637, 'show@1': 0.0013961134573954603, 'work@-2': 0.001392412942676715, 'little@2': 0.0013887826341046105, 'christmas@2': 0.0013782903269190766, 'care@-1': 0.0013782903269190766, 'already@-1': 0.0013782903269190766, 'red@-1': 0.0013739883257010968, 'answer@2': 0.0013739883257010968, 'pull@-2': 0.0013739883257010968, 'j@-2': 0.0013739883257010968, 'passed@2': 0.0013739883257010968, 'word@-2': 0.0013739883257010968, 'worst@-2': 0.0013739883257010968, 'earned@1': 0.0013739883257010968, 'mood@-1': 0.0013739883257010968, 'cover@2': 0.0013739883257010968, 'broke@2': 0.0013739883257010968, 'listening@1': 0.0013739883257010968, 'drop@-2': 0.0013739883257010968, 'dead@-2': 0.0013739883257010968, 'justin@-1': 0.0013739883257010968, 'passed@1': 0.0013739883257010968, 'missed@-2': 0.0013739883257010968, 'st@-2': 0.0013739883257010968, 'feels@-2': 0.0013739883257010968, 'update@-1': 0.0013739883257010968, 'down@-2': 0.0013716067899181008, 'real@2': 0.0013716067899181008, 'dubchallenge@2': 0.001368352650063621, 'real@-1': 0.001368352650063621, 'food@-2': 0.0013620108351448182, 'getting@-2': 0.0013558801098025313, 'if@-2': 0.00135413898507439, 'friends@2': 0.0013499483711252075, 'thing@-2': 0.0013470536068263188, 'their@2': 0.0013470536068263188, 'x@-2': 0.0013470536068263188, 'weird@-2': 0.0013460075935065423, 'save@1': 0.0013460075935065423, 'country@-2': 0.0013460075935065423, 'sister@-2': 0.0013460075935065423, 'store@-1': 0.0013460075935065423, 'problem@-1': 0.0013460075935065423, 'tf@-2': 0.0013460075935065423, 'drive@-2': 0.0013460075935065423, 'v@1': 0.0013460075935065423, 'link@-1': 0.0013460075935065423, 'comments@2': 0.0013460075935065423, 'opinion@-1': 0.0013460075935065423, 'sit@1': 0.0013460075935065423, 'happen@-1': 0.0013460075935065423, 'move@-2': 0.0013460075935065423, 'bed@-1': 0.0013332399763799354, 'first@-1': 0.0013306011441365647, 'way@-2': 0.0013229134065635168, 'cold@-1': 0.0013209634533566453, 'top@-1': 0.0013209634533566453, 'dance@2': 0.0013209634533566453, 'smoke@2': 0.0013209634533566453, 'appreciate@2': 0.0013209634533566453, 'pull@-1': 0.0013209634533566453, 'anymore@-2': 0.0013209634533566453, 'city@-1': 0.0013209634533566453, 'forgot@2': 0.0013209634533566453, 'chill@2': 0.0013209634533566453, 'where@2': 0.001320423874546122, 'watch@-1': 0.0013131618973496928, 'again@2': 0.001303931069914704, 'drinking@-2': 0.001298365435381921, 'knowing@2': 0.001298365435381921, 'link@2': 0.001298365435381921, 'join@1': 0.001298365435381921, 'picture@-2': 0.001298365435381921, 'pull@2': 0.001298365435381921, 'fine@-1': 0.001298365435381921, 'living@-2': 0.001298365435381921, 'left@-2': 0.001298365435381921, 'liked@2': 0.001298365435381921, 'upset@2': 0.001298365435381921, 'showing@2': 0.001298365435381921, 'dumb@2': 0.001298365435381921, 'blessed@-1': 0.001298365435381921, 'sister@-1': 0.001298365435381921, 'smoke@1': 0.001298365435381921, 'surprised@-1': 0.001298365435381921, 'has@-2': 0.0012930532408735311, 'way@2': 0.001290959250838122, 'official@-1': 0.0012778309891002882, 'dub@-2': 0.0012778309891002882, 'hour@-1': 0.0012778309891002882, 'fly@1': 0.0012778309891002882, 'sweet@-1': 0.0012778309891002882, 'niggas@-1': 0.0012778309891002882, 'realized@-2': 0.0012778309891002882, 'fight@-1': 0.0012778309891002882, 'on@1': 0.0012760571963541139, 'then@2': 0.001271351651692395, 'then@1': 0.0012641199502748544, 'fly@-1': 0.0012590567441083385, 'yours@-2': 0.0012590567441083385, 'words@-2': 0.0012590567441083385, 'strong@-2': 0.0012590567441083385, 'words@-1': 0.0012590567441083385, 'tears@2': 0.0012590567441083385, 'laughed@-2': 0.0012590567441083385, 'ex@-2': 0.0012590567441083385, 'against@2': 0.0012590567441083385, 'album@-2': 0.0012590567441083385, 'dress@2': 0.0012590567441083385, 'question@-1': 0.0012590567441083385, 'truly@2': 0.0012590567441083385, 'niggas@2': 0.0012590567441083385, 'block@2': 0.0012590567441083385, 'romney@2': 0.0012590567441083385, 'kind@1': 0.0012590567441083385, 'telling@2': 0.0012590567441083385, 'plate@-2': 0.0012590567441083385, 's@2': 0.0012570013689778468, 'should@2': 0.001248945365658586, 'there@-2': 0.001245760896788485, 'only@-1': 0.0012441924337083196, 's@1': 0.0012437872621681569, 'that@1': 0.0012429750485433968, 'e@2': 0.0012417985991769332, 'th@-1': 0.0012417985991769332, 'cry@-2': 0.0012417985991769332, 'each@-2': 0.0012417985991769332, 'point@-2': 0.0012417985991769332, 'happened@-1': 0.0012417985991769332, 'p@2': 0.001225857605947931, 'level@-1': 0.001225857605947931, 'agree@-1': 0.001225857605947931, 'wild@-1': 0.001225857605947931, 'putting@2': 0.001225857605947931, 'share@1': 0.001225857605947931, 'dog@-1': 0.001225857605947931, 'g@-2': 0.001225857605947931, 'between@-1': 0.001225857605947931, 'k@-2': 0.001225857605947931, 'weird@2': 0.001225857605947931, 'goes@2': 0.001225857605947931, 'late@-1': 0.001225857605947931, 'than@2': 0.0012237448211397132, 'beat@2': 0.0012110697552774295, 'ended@1': 0.0012110697552774295, 'gone@-2': 0.0012110697552774295, 'lt@1': 0.0012110697552774295, 'dog@2': 0.0012110697552774295, 'entered@1': 0.0012110697552774295, 'thats@2': 0.0012110697552774295, 'type@-1': 0.0012110697552774295, 'bring@2': 0.0012110697552774295, 'piece@-1': 0.0012110697552774295, 'app@-1': 0.0012110697552774295, 'power@-2': 0.0012110697552774295, 'story@-1': 0.0012110697552774295, 'it@1': 0.001206988894799383, 'right@1': 0.0012021127091088784, 'send@1': 0.001197298452585568, 'r@-2': 0.001197298452585568, 'support@2': 0.001197298452585568, 'ends@-2': 0.001197298452585568, 'make@-2': 0.0011918172389731082, 'someone@-2': 0.0011874640484461111, 'would@-2': 0.001186395832427853, 'hillary@2': 0.001184428883977357, 'stupid@-1': 0.001184428883977357, 'episode@-1': 0.001184428883977357, 'drop@1': 0.001184428883977357, 'c@2': 0.001184428883977357, 'isn@-2': 0.001184428883977357, 'kinda@-1': 0.001184428883977357, 'realize@1': 0.001184428883977357, 'hands@2': 0.001184428883977357, 'tweet@-2': 0.001184428883977357, 'h@2': 0.001184428883977357, 'bigld@-2': 0.001184428883977357, 'college@-1': 0.001184428883977357, 'together@-2': 0.001184428883977357, 'mine@-2': 0.001184428883977357, 'left@2': 0.001184428883977357, 'lol@1': 0.0011811700817306785, 'jackson@2': 0.0011723637362661408, 'different@-2': 0.0011723637362661408, 'forget@-2': 0.0011723637362661408, 'eating@2': 0.0011723637362661408, 'lie@1': 0.0011723637362661408, 'bae@-1': 0.0011723637362661408, 'everybody@-2': 0.0011723637362661408, 'had@-2': 0.0011712575666088345, 'm@2': 0.0011692467107395892, 'bf@-1': 0.0011670089862040294, 'heat@-2': 0.0011670089862040294, 'pockets@-2': 0.0011670089862040294, 'hip@2': 0.0011670089862040294, 'shady@2': 0.0011670089862040294, 'successful@-1': 0.0011670089862040294, 'coverage@-1': 0.0011670089862040294, 'hilfiger@-2': 0.0011670089862040294, 'disgusting@-1': 0.0011670089862040294, 'flying@-2': 0.0011670089862040294, 'dreaming@-1': 0.0011670089862040294, 'hop@1': 0.0011670089862040294, 'entering@2': 0.0011670089862040294, 'lmaoo@-2': 0.0011670089862040294, 'photoshoot@-2': 0.0011670089862040294, 'bob@-2': 0.0011670089862040294, 'alt@2': 0.0011670089862040294, 'impossible@-2': 0.0011670089862040294, 'football@-2': 0.0011670089862040294, 'somehow@-2': 0.0011670089862040294, 'auto@-2': 0.0011670089862040294, 'swamp@-1': 0.0011670089862040294, 'model@-2': 0.0011670089862040294, 'stream@-2': 0.0011670089862040294, 'culture@1': 0.0011670089862040294, 'bitter@2': 0.0011670089862040294, 'coz@-1': 0.0011670089862040294, 'tied@1': 0.0011670089862040294, 'tails@-1': 0.0011670089862040294, 'scenario@-1': 0.0011670089862040294, 'awkward@-1': 0.0011670089862040294, 'coach@-1': 0.0011670089862040294, 'cod@-1': 0.0011670089862040294, 'victor@-2': 0.0011670089862040294, 'vodka@2': 0.0011670089862040294, 'disappear@2': 0.0011670089862040294, 'mixed@2': 0.0011670089862040294, 'kitty@-2': 0.0011670089862040294, 'lead@2': 0.0011670089862040294, 'released@1': 0.0011670089862040294, 'helped@1': 0.0011670089862040294, 'deny@2': 0.0011670089862040294, 'phrase@-1': 0.0011670089862040294, 'narendra@-2': 0.0011670089862040294, 'north@-2': 0.0011670089862040294, 'wedding@-2': 0.0011670089862040294, 'offered@2': 0.0011670089862040294, 'cheeks@-1': 0.0011670089862040294, 'stressed@-2': 0.0011670089862040294, 'towards@-1': 0.0011670089862040294, 'dem@-2': 0.0011670089862040294, 'ab@2': 0.0011670089862040294, 'concert@-2': 0.0011670089862040294, 'complaining@2': 0.0011670089862040294, 'broken@-1': 0.0011670089862040294, 'sincerely@1': 0.0011670089862040294, 'moving@-2': 0.0011670089862040294, 'smiling@-1': 0.0011670089862040294, 'trade@-1': 0.0011670089862040294, 'shape@-1': 0.0011670089862040294, 'neither@-2': 0.0011670089862040294, 'liza@2': 0.0011670089862040294, 'sleepy@-2': 0.0011670089862040294, 'camp@2': 0.0011670089862040294, 'fear@-2': 0.0011670089862040294, 'australian@2': 0.0011670089862040294, 'influence@-1': 0.0011670089862040294, 'wes@2': 0.0011670089862040294, 'named@1': 0.0011670089862040294, 'workout@-2': 0.0011670089862040294, 'sean@-2': 0.0011670089862040294, 'frustrating@-1': 0.0011670089862040294, 'liberals@-1': 0.0011670089862040294, 'boyfriends@-2': 0.0011670089862040294, 'cracking@-2': 0.0011670089862040294, 'awhile@-1': 0.0011670089862040294, 'liza@-2': 0.0011670089862040294, 'sneak@2': 0.0011670089862040294, 'awh@-1': 0.0011670089862040294, 'mannequinchallenge@-1': 0.0011670089862040294, 'sweat@2': 0.0011670089862040294, 'reminded@2': 0.0011670089862040294, 'karate@2': 0.0011670089862040294, 'exposed@-2': 0.0011670089862040294, 'shud@1': 0.0011670089862040294, 'dropping@-1': 0.0011670089862040294, 'bone@-1': 0.0011670089862040294, 'churro@-2': 0.0011670089862040294, 'aware@2': 0.0011670089862040294, 'dj@2': 0.0011670089862040294, 'promised@-1': 0.0011670089862040294, 'wave@1': 0.0011670089862040294, 'procrastinating@2': 0.0011670089862040294, 'invented@1': 0.0011670089862040294, 'correct@-1': 0.0011670089862040294, 'bullshit@-2': 0.0011670089862040294, 'yikes@-1': 0.0011670089862040294, 'sudden@-1': 0.0011670089862040294, 'idek@-2': 0.0011670089862040294, 'fully@1': 0.0011670089862040294, 'conservative@-2': 0.0011670089862040294, 'research@-2': 0.0011670089862040294, 'devastated@2': 0.0011670089862040294, 'joint@-2': 0.0011670089862040294, 'afford@2': 0.0011670089862040294, 'trade@1': 0.0011670089862040294, 'jr@-1': 0.0011670089862040294, 'promised@1': 0.0011670089862040294, 'design@-2': 0.0011670089862040294, 'anxiety@2': 0.0011670089862040294, 'shoulder@-2': 0.0011670089862040294, 'failed@2': 0.0011670089862040294, 'stairs@-2': 0.0011670089862040294, 'vodka@-1': 0.0011670089862040294, 'sun@2': 0.0011670089862040294, 'tits@-1': 0.0011670089862040294, 'welp@2': 0.0011670089862040294, 'removed@2': 0.0011670089862040294, 'emily@-2': 0.0011670089862040294, 'faith@2': 0.0011670089862040294, 'choke@2': 0.0011670089862040294, 'dreaming@2': 0.0011670089862040294, 'couch@-2': 0.0011670089862040294, 'rolls@2': 0.0011670089862040294, 'hates@-2': 0.0011670089862040294, 'acc@-2': 0.0011670089862040294, 'shrimp@-2': 0.0011670089862040294, 'mentioned@1': 0.0011670089862040294, 'shrimp@2': 0.0011670089862040294, 'perhaps@2': 0.0011670089862040294, 'picked@1': 0.0011670089862040294, 'alcohol@-1': 0.0011670089862040294, 'sleepy@-1': 0.0011670089862040294, 'anti@2': 0.0011670089862040294, 'dawg@-1': 0.0011670089862040294, 'collar@-1': 0.0011670089862040294, 'aw@-1': 0.0011670089862040294, 'soooo@-2': 0.0011670089862040294, 'curse@-2': 0.0011670089862040294, 'pool@-1': 0.0011670089862040294, 'easily@-2': 0.0011670089862040294, 'atleast@-1': 0.0011670089862040294, 'warm@-2': 0.0011670089862040294, 'dairy@2': 0.0011670089862040294, 'va@2': 0.0011670089862040294, 'texted@2': 0.0011670089862040294, 'awards@-2': 0.0011670089862040294, 'mina@-1': 0.0011670089862040294, 'anthony@2': 0.0011670089862040294, 'awkward@-2': 0.0011670089862040294, 'wave@-2': 0.0011670089862040294, 'craving@2': 0.0011670089862040294, 'features@-1': 0.0011670089862040294, 'became@2': 0.0011670089862040294, 'contributed@1': 0.0011670089862040294, 'unlimited@2': 0.0011670089862040294, 'via@-2': 0.0011670089862040294, 'charge@-2': 0.0011670089862040294, 'sadly@2': 0.0011670089862040294, 'friendly@-1': 0.0011670089862040294, 'ummm@-1': 0.0011670089862040294, 'dressing@2': 0.0011670089862040294, 'banana@-2': 0.0011670089862040294, 'attacks@-2': 0.0011670089862040294, 'seventeen@-1': 0.0011670089862040294, 'mi@2': 0.0011670089862040294, 'coach@2': 0.0011670089862040294, 'shall@-1': 0.0011670089862040294, 'value@1': 0.0011670089862040294, 'trade@-2': 0.0011670089862040294, 'amazon@-1': 0.0011670089862040294, 'mickey@-2': 0.0011670089862040294, 'fairy@2': 0.0011670089862040294, 'struggles@-2': 0.0011670089862040294, 'abandon@2': 0.0011670089862040294, 'mm@-2': 0.0011670089862040294, 'rts@-2': 0.0011670089862040294, 'anger@-1': 0.0011670089862040294, 'verse@-2': 0.0011670089862040294, 'besides@2': 0.0011670089862040294, 'iq@-1': 0.0011670089862040294, 'depression@-1': 0.0011670089862040294, 'finger@2': 0.0011670089862040294, 'legitimately@1': 0.0011670089862040294, 'sooo@2': 0.0011670089862040294, 'texted@1': 0.0011670089862040294, 'fam@-2': 0.0011670089862040294, 'pen@-1': 0.0011670089862040294, 'domestic@-2': 0.0011670089862040294, 'pies@-2': 0.0011670089862040294, 'taught@2': 0.0011670089862040294, 'success@-1': 0.0011670089862040294, 'advice@2': 0.0011670089862040294, 'released@-2': 0.0011670089862040294, 'kissed@1': 0.0011670089862040294, 'haircut@-2': 0.0011670089862040294, 'plenty@2': 0.0011670089862040294, 'kisses@-2': 0.0011670089862040294, 'meaning@2': 0.0011670089862040294, 'typing@2': 0.0011670089862040294, 'concert@-1': 0.0011670089862040294, 'often@-1': 0.0011670089862040294, 'aww@-1': 0.0011670089862040294, 'recommend@1': 0.0011670089862040294, 'encourage@1': 0.0011670089862040294, 'tl@-1': 0.0011670089862040294, 'workout@2': 0.0011670089862040294, 'yrs@2': 0.0011670089862040294, 'freeze@1': 0.0011670089862040294, 'steals@-1': 0.0011670089862040294, 'correct@-2': 0.0011670089862040294, 'advice@-1': 0.0011670089862040294, 'lies@-1': 0.0011670089862040294, 'mp@-1': 0.0011670089862040294, 'gluten@-2': 0.0011670089862040294, 'ni@-1': 0.0011670089862040294, 'gorgeous@-2': 0.0011670089862040294, 'smartest@-2': 0.0011670089862040294, 'laundry@-2': 0.0011670089862040294, 'erin@-2': 0.0011670089862040294, 'teachers@-2': 0.0011670089862040294, 'nazis@-1': 0.0011670089862040294, 'ipad@-1': 0.0011670089862040294, 'web@2': 0.0011670089862040294, 'snapchats@-1': 0.0011670089862040294, 'fw@1': 0.0011670089862040294, 'surprises@-1': 0.0011670089862040294, 'stage@-1': 0.0011670089862040294, 'bathroom@2': 0.0011670089862040294, 'sm@-1': 0.0011670089862040294, 'wash@2': 0.0011670089862040294, 'diamonds@2': 0.0011670089862040294, 'sons@-2': 0.0011670089862040294, 'trending@2': 0.0011670089862040294, 'height@2': 0.0011670089862040294, 'delusional@-2': 0.0011670089862040294, 'response@-1': 0.0011670089862040294, 'halloween@-2': 0.0011670089862040294, 'bear@-2': 0.0011670089862040294, 'sexual@-1': 0.0011670089862040294, 'worthless@-1': 0.0011670089862040294, 'friendsgiving@2': 0.0011670089862040294, 'attacks@-1': 0.0011670089862040294, 'rolled@-2': 0.0011670089862040294, 'speed@-1': 0.0011670089862040294, 'anime@-2': 0.0011670089862040294, 'verse@-1': 0.0011670089862040294, 'josh@-2': 0.0011670089862040294, 'sometime@2': 0.0011670089862040294, 'christ@-1': 0.0011670089862040294, 'fault@-1': 0.0011670089862040294, 'beef@2': 0.0011670089862040294, 'recording@2': 0.0011670089862040294, 'chuck@2': 0.0011670089862040294, 'cross@-2': 0.0011670089862040294, 'humble@-1': 0.0011670089862040294, 'security@2': 0.0011670089862040294, 'studying@-1': 0.0011670089862040294, 'nicest@-2': 0.0011670089862040294, 'jk@-2': 0.0011670089862040294, 'fashion@-2': 0.0011670089862040294, 'mm@-1': 0.0011670089862040294, 'gettin@-2': 0.0011670089862040294, 'contain@2': 0.0011670089862040294, 'struggling@2': 0.0011670089862040294, 'nudes@-1': 0.0011670089862040294, 'awh@-2': 0.0011670089862040294, 'vlogs@-1': 0.0011670089862040294, 'lik@1': 0.0011670089862040294, 'yoi@-1': 0.0011670089862040294, 'glasses@2': 0.0011670089862040294, 'caramel@2': 0.0011670089862040294, 'tiger@-1': 0.0011670089862040294, 'host@1': 0.0011670089862040294, 'loses@2': 0.0011670089862040294, 'connection@-2': 0.0011670089862040294, 'ponder@1': 0.0011670089862040294, 'shrimp@-1': 0.0011670089862040294, 'aware@-1': 0.0011670089862040294, 'ahaha@-1': 0.0011670089862040294, 'beef@-1': 0.0011670089862040294, 'dunno@-2': 0.0011670089862040294, 'alot@-2': 0.0011670089862040294, 'appreciation@2': 0.0011670089862040294, 'paws@-2': 0.0011670089862040294, 'replies@-2': 0.0011670089862040294, 'socks@-2': 0.0011670089862040294, 'raised@2': 0.0011670089862040294, 'process@-2': 0.0011670089862040294, 'fantastic@2': 0.0011670089862040294, 'horny@-1': 0.0011670089862040294, 'ummm@-2': 0.0011670089862040294, 'curse@1': 0.0011670089862040294, 'panicking@-2': 0.0011670089862040294, 'featuring@2': 0.0011670089862040294, 'shady@-1': 0.0011670089862040294, 'braces@2': 0.0011670089862040294, 'edge@2': 0.0011670089862040294, 'discussions@-1': 0.0011670089862040294, 'load@-1': 0.0011670089862040294, 'proof@-2': 0.0011670089862040294, 'dio@-1': 0.0011670089862040294, 'advice@-2': 0.0011670089862040294, 'awe@-1': 0.0011670089862040294, 'hairspray@-1': 0.0011670089862040294, 'hearts@2': 0.0011670089862040294, 'glowed@2': 0.0011670089862040294, 'spanish@2': 0.0011670089862040294, 'hunger@1': 0.0011670089862040294, 'jan@2': 0.0011670089862040294, 'unreal@-1': 0.0011670089862040294, 'weather@-1': 0.0011670089862040294, 'electoral@-2': 0.0011670089862040294, 'according@1': 0.0011670089862040294, 'humbled@2': 0.0011670089862040294, 'yesss@-1': 0.0011670089862040294, 'lover@-1': 0.0011670089862040294, 'functioning@2': 0.0011670089862040294, 'clark@2': 0.0011670089862040294, 'omfg@-1': 0.0011670089862040294, 'humble@2': 0.0011670089862040294, 'happiest@-2': 0.0011670089862040294, 'yurio@2': 0.0011670089862040294, 'mutuals@2': 0.0011670089862040294, 'whole@-2': 0.0011610199025046677, 'pay@1': 0.0011610199025046677, 'run@-2': 0.0011610199025046677, 'wife@-2': 0.0011610199025046677, 'challenge@-1': 0.0011610199025046677, 'yesterday@-2': 0.0011610199025046677, 'single@-1': 0.0011610199025046677, 'may@-1': 0.0011610199025046677, 'wit@-2': 0.0011610199025046677, 'hillary@-2': 0.0011610199025046677, 'everybody@-1': 0.0011610199025046677, 'yo@2': 0.0011610199025046677, 'thanksgiving@2': 0.0011550009034182256, 'run@-1': 0.001150325915612923, 'knew@2': 0.001150325915612923, 'came@-2': 0.001150325915612923, 'nobody@2': 0.001150325915612923, 'turn@2': 0.001150325915612923, 'different@-1': 0.001150325915612923, 'hot@-2': 0.001150325915612923, 'yes@2': 0.001150325915612923, 'cool@-1': 0.001150325915612923, 'okay@2': 0.001150325915612923, 'wife@-1': 0.001150325915612923, 'order@2': 0.0011402199272580204, 'funny@-2': 0.0011402199272580204, 'different@2': 0.0011402199272580204, 'laughing@2': 0.0011402199272580204, 'buy@1': 0.0011402199272580204, 'hold@2': 0.0011402199272580204, 'texts@-1': 0.0011402199272580204, 'started@-1': 0.0011306481001446729, 'full@-2': 0.0011306481001446729, 'period@-1': 0.0011306481001446729, 'text@-2': 0.0011306481001446729, 'wonder@2': 0.0011306481001446729, 'times@-1': 0.0011306481001446729, 'hold@1': 0.0011306481001446729, 'bout@-1': 0.0011306481001446729, 'go@-1': 0.0011294271718080286, 'haha@-2': 0.0011215633173361072, 'coming@-2': 0.0011215633173361072, 'party@-1': 0.0011215633173361072, 'th@2': 0.0011215633173361072, 'enough@-2': 0.0011129241372532864, 'challenge@1': 0.0011129241372532864, 'sick@-1': 0.0011129241372532864, 'stay@-2': 0.0011129241372532864, 'alone@2': 0.0011129241372532864, 'cool@2': 0.0011129241372532864, 'kid@1': 0.001104693940910128, 'face@-2': 0.001104693940910128, 'must@-2': 0.001104693940910128, 'season@-1': 0.001104693940910128, 'haha@-1': 0.001104693940910128, 'o@-2': 0.001104693940910128, 'tbh@2': 0.001104693940910128, 'are@2': 0.0011009953967681594, 'knows@-1': 0.0010968402309229537, 'boy@-2': 0.0010968402309229537, 'leave@-1': 0.0010968402309229537, 'wit@2': 0.0010968402309229537, 'hit@1': 0.0010893340513521324, 'head@-1': 0.0010893340513521324, 'pray@2': 0.0010893340513521324, 'b@-2': 0.0010893340513521324, 'dad@-2': 0.0010893340513521324, 'nice@2': 0.001082149504492497, 'dad@-1': 0.001082149504492497, 'enough@-1': 0.001082149504492497, 'lmao@-2': 0.001082149504492497, 'stay@1': 0.001082149504492497, 'nice@-1': 0.0010752633460166963, 'girls@-2': 0.0010752633460166963, 'wake@-2': 0.0010752633460166963, 'lil@2': 0.0010752633460166963, 'future@-1': 0.0010752633460166963, 'your@-1': 0.0010718046844271614, 'soon@2': 0.0010686546438744863, 'free@-2': 0.0010686546438744863, 'text@1': 0.0010686546438744863, 'fucked@2': 0.0010686546438744863, 'talking@-1': 0.001062304489402373, 'pain@2': 0.001062304489402373, 'help@-2': 0.001062304489402373, 'finally@-1': 0.001062304489402373, 'guy@-2': 0.0010561957514459996, 'us@-2': 0.0010561957514459996, 'o@-1': 0.0010561957514459996, 'cant@-2': 0.0010503128661187228, 'world@-2': 0.0010503128661187228, 'proud@-1': 0.0010503128661187228, 'feelings@2': 0.0010503128661187228, 'another@-2': 0.0010446416562426635, 'get@-1': 0.0010408230590026018, 'cant@-1': 0.001039169175638076, 'thanks@2': 0.001039169175638076, 'maybe@2': 0.001039169175638076, 'photo@-1': 0.001039169175638076, 'twitter@-2': 0.001039169175638076, 'probably@-2': 0.001039169175638076, 'rn@2': 0.001039169175638076, 'shows@-1': 0.001039169175638076, 'at@1': 0.0010367619236434894, 'mind@2': 0.0010338835743136042, 'which@-2': 0.0010338835743136042, 'damn@2': 0.0010338835743136042, 'help@2': 0.0010287739813167377, 'mind@1': 0.0010287739813167377, 'end@2': 0.0010287739813167377, 'asked@-2': 0.0010287739813167377, 'help@-1': 0.0010287739813167377, 'beast@-2': 0.001026319065802311, 'burn@1': 0.001026319065802311, 'fair@-1': 0.001026319065802311, 'dms@-2': 0.001026319065802311, 'otherwise@-1': 0.001026319065802311, 'gained@2': 0.001026319065802311, 'event@-2': 0.001026319065802311, 'roast@2': 0.001026319065802311, 'lies@1': 0.001026319065802311, 'negative@-1': 0.001026319065802311, 'personal@-2': 0.001026319065802311, 'somewhere@-1': 0.001026319065802311, 'pc@-1': 0.001026319065802311, 'yard@-2': 0.001026319065802311, 'roast@1': 0.001026319065802311, 'melania@-2': 0.001026319065802311, 'rate@-1': 0.001026319065802311, 'air@-2': 0.001026319065802311, 'pumpkin@-1': 0.001026319065802311, 'freedom@-1': 0.001026319065802311, 'breathing@2': 0.001026319065802311, 'popular@-2': 0.001026319065802311, 'kyle@-1': 0.001026319065802311, 'career@-2': 0.001026319065802311, 'pounds@-1': 0.001026319065802311, 'apple@-2': 0.001026319065802311, 'shitty@2': 0.001026319065802311, 'selfish@-2': 0.001026319065802311, 'bank@1': 0.001026319065802311, 'inspired@1': 0.001026319065802311, 'blind@2': 0.001026319065802311, 'oops@-1': 0.001026319065802311, 'tough@-2': 0.001026319065802311, 'ran@2': 0.001026319065802311, 'bringing@-2': 0.001026319065802311, 'thursday@-1': 0.001026319065802311, 'handmade@1': 0.001026319065802311, 'apps@-2': 0.001026319065802311, 'florida@-2': 0.001026319065802311, 'thoughts@-1': 0.001026319065802311, 'congratulations@-1': 0.001026319065802311, 'jk@-1': 0.001026319065802311, 'etc@-1': 0.001026319065802311, 'relate@-1': 0.001026319065802311, 'immediately@-1': 0.001026319065802311, 'lied@-2': 0.001026319065802311, 'doesnt@-2': 0.001026319065802311, 'positive@-2': 0.001026319065802311, 'drinks@-2': 0.001026319065802311, 'target@-1': 0.001026319065802311, 'handmade@2': 0.001026319065802311, 'potato@-2': 0.001026319065802311, 'final@-1': 0.001026319065802311, 'tattoo@-2': 0.001026319065802311, 'stops@-2': 0.001026319065802311, 'scored@-1': 0.001026319065802311, 'useless@2': 0.001026319065802311, 'planned@-2': 0.001026319065802311, 'calculations@-1': 0.001026319065802311, 'fair@-2': 0.001026319065802311, 'mashed@2': 0.001026319065802311, 'tour@-2': 0.001026319065802311, 'beats@2': 0.001026319065802311, 'worthless@2': 0.001026319065802311, 'courage@2': 0.001026319065802311, 'train@-2': 0.001026319065802311, 'dnt@1': 0.001026319065802311, 'civil@-1': 0.001026319065802311, 'carry@1': 0.001026319065802311, 'youuuu@2': 0.001026319065802311, 'survive@1': 0.001026319065802311, 'players@2': 0.001026319065802311, 'panicking@2': 0.001026319065802311, 'manage@1': 0.001026319065802311, 'goals@-2': 0.001026319065802311, 'homework@-1': 0.001026319065802311, 'fried@-1': 0.001026319065802311, 'chicago@-1': 0.001026319065802311, 'wash@1': 0.001026319065802311, 'selfish@-1': 0.001026319065802311, 'throwing@-2': 0.001026319065802311, 'wes@-2': 0.001026319065802311, 'spring@2': 0.001026319065802311, 'tight@2': 0.001026319065802311, 'bday@-2': 0.001026319065802311, 'theme@-2': 0.001026319065802311, 'dishes@2': 0.001026319065802311, 'street@-2': 0.001026319065802311, 'law@2': 0.001026319065802311, 'congratulations@-2': 0.001026319065802311, 'ignoring@-2': 0.001026319065802311, 'snake@2': 0.001026319065802311, 'accident@-2': 0.001026319065802311, 'often@2': 0.001026319065802311, 'bag@-1': 0.001026319065802311, 'burn@2': 0.001026319065802311, 'mercy@-1': 0.001026319065802311, 'relate@-2': 0.001026319065802311, 'society@-1': 0.001026319065802311, 'lanes@-2': 0.001026319065802311, 'ha@-2': 0.001026319065802311, 'huh@2': 0.001026319065802311, 'zindagi@-2': 0.001026319065802311, 'zindagi@-1': 0.001026319065802311, 'blind@-2': 0.001026319065802311, 'siblings@-2': 0.001026319065802311, 'snow@-1': 0.001026319065802311, 'rise@2': 0.001026319065802311, 'considering@2': 0.001026319065802311, 'devil@-2': 0.001026319065802311, 'scott@-1': 0.001026319065802311, 'pancakes@2': 0.001026319065802311, 'nc@-1': 0.001026319065802311, 'reaction@-2': 0.001026319065802311, 'offered@1': 0.001026319065802311, 'pre@1': 0.001026319065802311, 'town@-2': 0.001026319065802311, 'honor@-2': 0.001026319065802311, 'honey@-1': 0.001026319065802311, 'lowkey@1': 0.001026319065802311, 'stroke@-1': 0.001026319065802311, 'beast@-1': 0.001026319065802311, 'grabbed@2': 0.001026319065802311, 'chris@2': 0.001026319065802311, 'nazi@-1': 0.001026319065802311, 'lunch@-2': 0.001026319065802311, 'naps@-1': 0.001026319065802311, 'moving@2': 0.001026319065802311, 'modi@-1': 0.001026319065802311, 'apologize@1': 0.001026319065802311, 'reached@2': 0.001026319065802311, 'likely@-1': 0.001026319065802311, 'drew@-2': 0.001026319065802311, 'btw@-1': 0.001026319065802311, 'ocean@-1': 0.001026319065802311, 'ups@-2': 0.001026319065802311, 'upon@-2': 0.001026319065802311, 'private@2': 0.001026319065802311, 'porn@2': 0.001026319065802311, 'delusional@2': 0.001026319065802311, 'drinks@-1': 0.001026319065802311, 'celebrate@-2': 0.001026319065802311, 'legs@-1': 0.001026319065802311, 'apologize@-1': 0.001026319065802311, 'waste@-1': 0.001026319065802311, 'note@-1': 0.001026319065802311, 'flex@2': 0.001026319065802311, 'wore@2': 0.001026319065802311, 'disappointed@-2': 0.001026319065802311, 'judge@2': 0.001026319065802311, 'survive@2': 0.001026319065802311, 'dollars@-2': 0.001026319065802311, 'jersey@-2': 0.001026319065802311, 'soooo@-1': 0.001026319065802311, 'skills@-2': 0.001026319065802311, 'scott@-2': 0.001026319065802311, 'messed@1': 0.001026319065802311, 'selfish@2': 0.001026319065802311, 'slow@2': 0.001026319065802311, 'slightly@-2': 0.001026319065802311, 'ily@-2': 0.001026319065802311, 'trend@-1': 0.001026319065802311, 'takin@2': 0.001026319065802311, 'kick@2': 0.001026319065802311, 'comfy@2': 0.001026319065802311, 'quiet@-1': 0.001026319065802311, 'amen@2': 0.001026319065802311, 'talent@2': 0.001026319065802311, 'brand@-2': 0.001026319065802311, 'scott@2': 0.001026319065802311, 'cheap@-2': 0.001026319065802311, 'blind@-1': 0.001026319065802311, 'waste@2': 0.001026319065802311, 'jesse@2': 0.001026319065802311, 'cooked@-2': 0.001026319065802311, 'beach@-2': 0.001026319065802311, 'goodbye@-1': 0.001026319065802311, 'grab@2': 0.001026319065802311, 'smoked@1': 0.001026319065802311, 'vi@-1': 0.001026319065802311, 'followed@1': 0.001026319065802311, 'acc@2': 0.001026319065802311, 'mins@-2': 0.001026319065802311, 'flex@-1': 0.001026319065802311, 'panic@-2': 0.001026319065802311, 'carry@2': 0.001026319065802311, 'ss@2': 0.001026319065802311, 'houston@-1': 0.001026319065802311, 'track@-1': 0.001026319065802311, 'lives@-2': 0.001026319065802311, 'grabbed@1': 0.001026319065802311, 'sa@1': 0.001026319065802311, 'houston@2': 0.001026319065802311, 'pills@-1': 0.001026319065802311, 'known@2': 0.001026319065802311, 'vegas@2': 0.001026319065802311, 'sauce@2': 0.001026319065802311, 'disrespect@-1': 0.001026319065802311, 'feminist@-2': 0.001026319065802311, 'joey@2': 0.001026319065802311, 'non@2': 0.001026319065802311, 'frozen@2': 0.001026319065802311, 'enemy@-1': 0.001026319065802311, 'photography@2': 0.001026319065802311, 'dec@-2': 0.001026319065802311, 'teacher@-2': 0.001026319065802311, 'yep@-1': 0.001026319065802311, 'muslim@-1': 0.001026319065802311, 'stroke@2': 0.001026319065802311, 'ocean@-2': 0.001026319065802311, 'pills@-2': 0.001026319065802311, 'gotta@2': 0.0010238304025704228, 'twitter@2': 0.0010190436314786546, 'white@-2': 0.0010190436314786546, 'guys@-2': 0.0010190436314786546, 'many@2': 0.0010144051704542105, 'play@2': 0.0010099071618234418, 'when@1': 0.0010061182464407852, 'play@1': 0.0010055423268100479, 'name@-1': 0.0010013039115029665, 'same@-1': 0.0010013039115029665, 'other@-1': 0.0009971856388813545, 'name@2': 0.0009971856388813545, 'pretty@-1': 0.0009971856388813545, 'rt@1': 0.0009931816661089105, 'bitch@-2': 0.0009931816661089105, 'try@-2': 0.0009931816661089105, 'damn@1': 0.0009854951950633375, 'anyone@-2': 0.0009854951950633375, 'gotta@-2': 0.0009854951950633375, 'remember@-1': 0.0009854951950633375, 'doesn@2': 0.0009854951950633375, 'since@-2': 0.0009818028586884304, 'us@2': 0.0009818028586884304, 'don@-2': 0.0009812511024989334, 'done@-1': 0.0009782050879524953, 'try@-1': 0.0009782050879524953, 'ur@-2': 0.0009782050879524953, 'many@-1': 0.0009782050879524953, 'but@1': 0.0009773369879547012, 'kill@-1': 0.0009712768200690986, 'w@-2': 0.0009712768200690986, 'all@1': 0.0009708275052536929, 'kill@1': 0.000967938733557416, 'hair@-2': 0.0009646799955649384, 'dont@2': 0.0009614973504523288, 'anyone@2': 0.0009614973504523288, 'tonight@1': 0.0009583877295825351, 'call@-2': 0.0009553482376344422, 'ass@-1': 0.0009553482376344422, 'sure@-2': 0.0009523761401258092, 'great@-1': 0.0009494688520209445, 'told@2': 0.0009466239273131504, 'reply@1': 0.0009466239273131504, 'guess@-2': 0.0009411120227578295, 'above@-2': 0.0009385543866607477, 'bill@-1': 0.0009385543866607477, 'gas@-1': 0.0009385543866607477, 'prayers@-2': 0.0009385543866607477, 'aunt@-2': 0.0009385543866607477, 'epic@2': 0.0009385543866607477, 'scream@1': 0.0009385543866607477, 'difference@-2': 0.0009385543866607477, 'ed@2': 0.0009385543866607477, 'rub@1': 0.0009385543866607477, 'jesus@-2': 0.0009385543866607477, 'michael@-1': 0.0009385543866607477, 'sucked@-2': 0.0009385543866607477, 'cookies@-1': 0.0009385543866607477, 'switch@2': 0.0009385543866607477, 'scream@-1': 0.0009385543866607477, 'dr@-1': 0.0009385543866607477, 'survivor@-2': 0.0009385543866607477, 'biden@-1': 0.0009385543866607477, 'relate@2': 0.0009385543866607477, 'horny@2': 0.0009385543866607477, 'bottle@-1': 0.0009385543866607477, 'keeping@2': 0.0009385543866607477, 'drawing@-2': 0.0009385543866607477, 'download@-2': 0.0009385543866607477, 'genuinely@1': 0.0009385543866607477, 'pt@2': 0.0009385543866607477, 'memories@-1': 0.0009385543866607477, 'button@-1': 0.0009385543866607477, 'pack@-1': 0.0009385543866607477, 'freak@1': 0.0009385543866607477, 'mannequin@-2': 0.0009385543866607477, 'boots@2': 0.0009385543866607477, 'showed@1': 0.0009385543866607477, 'difficult@-2': 0.0009385543866607477, 'nature@-1': 0.0009385543866607477, 'signed@1': 0.0009385543866607477, 'test@-2': 0.0009385543866607477, 'caught@2': 0.0009385543866607477, 'nov@-1': 0.0009385543866607477, 'gunna@-2': 0.0009385543866607477, 'aside@-1': 0.0009385543866607477, 'chasing@-1': 0.0009385543866607477, 'fourth@-2': 0.0009385543866607477, 'avoid@-2': 0.0009385543866607477, 'normally@-1': 0.0009385543866607477, 'normally@-2': 0.0009385543866607477, 'tweeting@1': 0.0009385543866607477, 'skirt@-1': 0.0009385543866607477, 'kno@-2': 0.0009385543866607477, 'sooo@-1': 0.0009385543866607477, 'universe@2': 0.0009385543866607477, 'lock@2': 0.0009385543866607477, 'beard@-2': 0.0009385543866607477, 'beyond@2': 0.0009385543866607477, 'bomb@-1': 0.0009385543866607477, 'tax@2': 0.0009385543866607477, 'ways@-2': 0.0009385543866607477, 'yuuri@-2': 0.0009385543866607477, 'laid@2': 0.0009385543866607477, 'yea@-2': 0.0009385543866607477, 'classic@-2': 0.0009385543866607477, 'data@-2': 0.0009385543866607477, 'plans@-2': 0.0009385543866607477, 'smells@2': 0.0009385543866607477, 'perfectly@-1': 0.0009385543866607477, 'theory@-1': 0.0009385543866607477, 'stream@-1': 0.0009385543866607477, 'known@-1': 0.0009385543866607477, 'enter@-1': 0.0009385543866607477, 'ps@-1': 0.0009385543866607477, 'lov@1': 0.0009385543866607477, 'racist@-1': 0.0009385543866607477, 'throwing@2': 0.0009385543866607477, 'stars@-1': 0.0009385543866607477, 'protect@1': 0.0009385543866607477, 'welp@-1': 0.0009385543866607477, 'highest@-1': 0.0009385543866607477, 'solid@2': 0.0009385543866607477, 'channel@-1': 0.0009385543866607477, 'vibe@2': 0.0009385543866607477, 'pause@1': 0.0009385543866607477, 'ordered@2': 0.0009385543866607477, 'jordan@-1': 0.0009385543866607477, 'bread@-1': 0.0009385543866607477, 'nope@-2': 0.0009385543866607477, 'nose@-2': 0.0009385543866607477, 'tweeting@-1': 0.0009385543866607477, 'xbox@-2': 0.0009385543866607477, 'chasing@2': 0.0009385543866607477, 'buddy@2': 0.0009385543866607477, 'forced@2': 0.0009385543866607477, 'force@2': 0.0009385543866607477, 'simply@-2': 0.0009385543866607477, 'chinese@-2': 0.0009385543866607477, 'ryan@-1': 0.0009385543866607477, 'clinton@-1': 0.0009385543866607477, 'girlfriend@-1': 0.0009385543866607477, 'loud@-2': 0.0009385543866607477, 'survivor@-1': 0.0009385543866607477, 'church@-1': 0.0009385543866607477, 'notice@2': 0.0009385543866607477, 'everywhere@2': 0.0009385543866607477, 'huh@1': 0.0009385543866607477, 'wack@-2': 0.0009385543866607477, 'lm@1': 0.0009385543866607477, 'member@1': 0.0009385543866607477, 'petty@-2': 0.0009385543866607477, 'mistake@-2': 0.0009385543866607477, 'praying@-1': 0.0009385543866607477, 'taehyung@2': 0.0009385543866607477, 'jealous@-1': 0.0009385543866607477, 'sunday@-2': 0.0009385543866607477, 'apps@2': 0.0009385543866607477, 'notice@1': 0.0009385543866607477, 'search@2': 0.0009385543866607477, 'uh@-2': 0.0009385543866607477, 'awake@1': 0.0009385543866607477, 'often@1': 0.0009385543866607477, 'possible@2': 0.0009385543866607477, 'shade@-2': 0.0009385543866607477, 'josh@2': 0.0009385543866607477, 'wasting@2': 0.0009385543866607477, 'however@2': 0.0009385543866607477, 'draft@-2': 0.0009385543866607477, 'yea@-1': 0.0009385543866607477, 'knowledge@-1': 0.0009385543866607477, 'adorable@-2': 0.0009385543866607477, 'caught@-2': 0.0009385543866607477, 'credit@1': 0.0009385543866607477, 'grew@-2': 0.0009385543866607477, 'holding@2': 0.0009385543866607477, 'taken@-1': 0.0009385543866607477, 'clingy@-2': 0.0009385543866607477, 'sooo@-2': 0.0009385543866607477, 'however@-1': 0.0009385543866607477, 'genuinely@2': 0.0009385543866607477, 'bomb@-2': 0.0009385543866607477, 'shirts@2': 0.0009385543866607477, 'kno@2': 0.0009385543866607477, 'wings@-2': 0.0009385543866607477, 'except@-2': 0.0009385543866607477, 'hearing@-1': 0.0009385543866607477, 'exist@1': 0.0009385543866607477, 'sec@-1': 0.0009385543866607477, 'ps@-2': 0.0009385543866607477, 'effort@-2': 0.0009385543866607477, 'prayers@-1': 0.0009385543866607477, 'celebrate@2': 0.0009385543866607477, 'lines@-2': 0.0009385543866607477, 'follower@-1': 0.0009385543866607477, 'clingy@-1': 0.0009385543866607477, 'shoes@-2': 0.0009385543866607477, 'breaking@2': 0.0009385543866607477, 'land@2': 0.0009385543866607477, 'destroy@1': 0.0009385543866607477, 'hugs@2': 0.0009385543866607477, 'dark@2': 0.0009385543866607477, 'winner@-2': 0.0009385543866607477, 'scene@-2': 0.0009385543866607477, 'rapidly@-2': 0.0009385543866607477, 'actually@-2': 0.0009384407640610069, 'inner@-2': 0.0009384407640610069, 'last@2': 0.0009307423049303069, 'family@-1': 0.0009282752951178101, 'actually@-1': 0.0009282752951178101, 'ugly@2': 0.0009282752951178101, 'ass@2': 0.0009258550894030737, 'told@-1': 0.0009234801445298233, 'keep@-1': 0.0009188602179460509, 'while@-2': 0.0009166124909481955, 'fucking@-2': 0.0009166124909481955, 'off@-1': 0.0009144045266120672, 'while@2': 0.0009080072234298788, 'real@1': 0.0009080072234298788, 'give@-2': 0.0008999655807501384, 'w@1': 0.0008942664957028757, 'after@-2': 0.0008924254530468783, 'bed@-2': 0.0008924254530468783, 'stop@-1': 0.0008906124197882724, 'fucking@-1': 0.0008870674294243765, 'better@1': 0.0008836258924086919, 'wait@1': 0.0008836258924086919, 'thought@-2': 0.0008819422710423445, 'these@-1': 0.000880282583030748, 'due@-1': 0.0008772601746063337, 'due@2': 0.0008772601746063337, 'breathe@2': 0.0008772601746063337, 'battle@-1': 0.0008772601746063337, 'ladies@2': 0.0008772601746063337, 'students@-2': 0.0008772601746063337, 'beer@-2': 0.0008772601746063337, 'stan@-2': 0.0008772601746063337, 'taste@-1': 0.0008772601746063337, 'speaking@-2': 0.0008772601746063337, 'plates@-2': 0.0008772601746063337, 'listened@-2': 0.0008772601746063337, 'awful@-2': 0.0008772601746063337, 'fr@-2': 0.0008772601746063337, 'invite@-1': 0.0008772601746063337, 'certain@2': 0.0008772601746063337, 'perfectly@2': 0.0008772601746063337, 'earth@2': 0.0008772601746063337, 'dat@2': 0.0008772601746063337, 'dropped@-2': 0.0008772601746063337, 'taste@2': 0.0008772601746063337, 'score@1': 0.0008772601746063337, 'soooo@2': 0.0008772601746063337, 'church@2': 0.0008772601746063337, 'headphones@-1': 0.0008772601746063337, 'lesbian@2': 0.0008772601746063337, 'draw@2': 0.0008772601746063337, 'jump@2': 0.0008772601746063337, 'genuinely@-2': 0.0008772601746063337, 'invited@2': 0.0008772601746063337, 'cow@-1': 0.0008772601746063337, 'memes@-2': 0.0008772601746063337, 'pizzagate@-2': 0.0008772601746063337, 'seasons@-1': 0.0008772601746063337, 'hyped@2': 0.0008772601746063337, 'rap@-1': 0.0008772601746063337, 'barely@2': 0.0008772601746063337, 'receive@-2': 0.0008772601746063337, 'taehyung@-1': 0.0008772601746063337, 'ellen@-1': 0.0008772601746063337, 'leaving@-2': 0.0008772601746063337, 'wrote@2': 0.0008772601746063337, 'threw@2': 0.0008772601746063337, 'rich@2': 0.0008772601746063337, 'ha@1': 0.0008772601746063337, 'um@-2': 0.0008772601746063337, 'golden@2': 0.0008772601746063337, 'netflix@-1': 0.0008772601746063337, 'comment@2': 0.0008772601746063337, 'states@-2': 0.0008772601746063337, 'atlanta@-1': 0.0008772601746063337, 'bill@1': 0.0008772601746063337, 'posting@2': 0.0008772601746063337, 'deleted@2': 0.0008772601746063337, 'ladies@-1': 0.0008772601746063337, 'awful@2': 0.0008772601746063337, 'release@1': 0.0008772601746063337, 'clean@-1': 0.0008772601746063337, 'likes@-2': 0.0008772601746063337, 'space@-1': 0.0008772601746063337, 'recently@-2': 0.0008772601746063337, 'works@-2': 0.0008772601746063337, 'messages@-1': 0.0008772601746063337, 'def@1': 0.0008772601746063337, 'uncle@2': 0.0008772601746063337, 'fav@-2': 0.0008772601746063337, 'moved@2': 0.0008772601746063337, 'mark@2': 0.0008772601746063337, 'focus@1': 0.0008772601746063337, 'leaving@-1': 0.0008772601746063337, 'chicken@-2': 0.0008772601746063337, 'soul@-1': 0.0008772601746063337, 'chat@1': 0.0008772601746063337, 'human@-2': 0.0008772601746063337, 'express@2': 0.0008772601746063337, 'proof@2': 0.0008772601746063337, 'daddy@-2': 0.0008772601746063337, 'messages@-2': 0.0008772601746063337, 'quality@-2': 0.0008772601746063337, 'invite@2': 0.0008772601746063337, 'suppose@2': 0.0008772601746063337, 'students@-1': 0.0008772601746063337, 'tweeted@2': 0.0008772601746063337, 'drift@2': 0.0008772601746063337, 'artist@-2': 0.0008772601746063337, 'rate@1': 0.0008772601746063337, 'emotional@2': 0.0008772601746063337, 'luck@-1': 0.0008772601746063337, 'victory@-1': 0.0008772601746063337, 'convos@2': 0.0008772601746063337, 'bear@2': 0.0008772601746063337, 'pause@-1': 0.0008772601746063337, 'issue@-2': 0.0008772601746063337, 'suck@-2': 0.0008772601746063337, 'soda@2': 0.0008772601746063337, 'low@-2': 0.0008772601746063337, 'politics@-2': 0.0008772601746063337, 'bus@-1': 0.0008772601746063337, 'moms@-2': 0.0008772601746063337, 'horrible@-1': 0.0008772601746063337, 'lazy@-1': 0.0008772601746063337, 'focus@-1': 0.0008772601746063337, 'blocked@2': 0.0008772601746063337, 'bruh@2': 0.0008772601746063337, 'netflix@-2': 0.0008772601746063337, 'freaking@-2': 0.0008772601746063337, 'lucky@-2': 0.0008772601746063337, 'gym@-1': 0.0008772601746063337, 'awful@-1': 0.0008772601746063337, 'angry@-1': 0.0008772601746063337, 'argue@-2': 0.0008772601746063337, 'kno@1': 0.0008772601746063337, 'buddy@-1': 0.0008772601746063337, 'soft@2': 0.0008772601746063337, 'laying@2': 0.0008772601746063337, 'steve@-2': 0.0008772601746063337, 'threw@-2': 0.0008772601746063337, 'available@-2': 0.0008772601746063337, 'problems@-2': 0.0008772601746063337, 'na@-2': 0.0008772601746063337, 'epic@-1': 0.0008772601746063337, 'yr@-2': 0.0008772601746063337, 'cheeks@2': 0.0008772601746063337, 'count@1': 0.0008772601746063337, 'vine@-1': 0.0008772601746063337, 'fucks@-1': 0.0008772601746063337, 'loud@-1': 0.0008772601746063337, 'signs@-1': 0.0008772601746063337, 'imagine@1': 0.0008772601746063337, 'across@2': 0.0008772601746063337, 'release@2': 0.0008772601746063337, 'repeat@-1': 0.0008772601746063337, 'kitchen@-2': 0.0008772601746063337, 'alex@-2': 0.0008772601746063337, 'jim@-1': 0.0008772601746063337, 'blood@-1': 0.0008772601746063337, 'lazy@-2': 0.0008772601746063337, 'moana@-1': 0.0008772601746063337, 'canadian@-1': 0.0008772601746063337, 'annoyed@2': 0.0008772601746063337, 'internet@-1': 0.0008772601746063337, 'asshole@-2': 0.0008772601746063337, 'sports@-2': 0.0008772601746063337, 'heartless@-1': 0.0008772601746063337, 'food@1': 0.0008754412648997953, 'thank@-1': 0.0008754412648997953, 'being@-1': 0.0008738715572120158, 'down@1': 0.000872323004319633, 'take@-2': 0.000864880634800176, 'into@1': 0.0008592607086695729, 'y@-1': 0.0008565532509685467, 'm@-1': 0.0008559537271225201, 'best@2': 0.0008526121265532324, 'could@-2': 0.0008513291069007989, 'ever@-2': 0.0008488072243804738, 'man@2': 0.0008475677677949301, 'could@2': 0.000846342252665265, 'hope@-2': 0.0008392669985720929, 'wish@-2': 0.0008370084531290556, 'foot@2': 0.0008313557696996494, 'comments@-1': 0.0008313557696996494, 'onto@-2': 0.0008313557696996494, 'case@-1': 0.0008313557696996494, 'closer@-2': 0.0008313557696996494, 'beyond@-2': 0.0008313557696996494, 'stan@2': 0.0008313557696996494, 'complete@2': 0.0008313557696996494, 'hide@1': 0.0008313557696996494, 'treated@1': 0.0008313557696996494, 'offended@1': 0.0008313557696996494, 'mix@2': 0.0008313557696996494, 'badly@2': 0.0008313557696996494, 'case@-2': 0.0008313557696996494, 'flight@1': 0.0008313557696996494, 'present@2': 0.0008313557696996494, 'places@-1': 0.0008313557696996494, 'driving@-1': 0.0008313557696996494, 'copy@2': 0.0008313557696996494, 'problems@-1': 0.0008313557696996494, 'speaking@2': 0.0008313557696996494, 'imma@-2': 0.0008313557696996494, 'test@-1': 0.0008313557696996494, 'price@-2': 0.0008313557696996494, 'cousin@-2': 0.0008313557696996494, 'bitches@-2': 0.0008313557696996494, 'match@-1': 0.0008313557696996494, 'moved@1': 0.0008313557696996494, 'step@1': 0.0008313557696996494, 'ship@-1': 0.0008313557696996494, 'sell@-2': 0.0008313557696996494, 'hype@1': 0.0008313557696996494, 'xbox@2': 0.0008313557696996494, 'bye@2': 0.0008313557696996494, 'solo@2': 0.0008313557696996494, 'education@-1': 0.0008313557696996494, 'tune@-2': 0.0008313557696996494, 'wings@-1': 0.0008313557696996494, 'cheese@-1': 0.0008313557696996494, 'stressed@1': 0.0008313557696996494, 'hoe@-1': 0.0008313557696996494, 'hoe@-2': 0.0008313557696996494, 'john@2': 0.0008313557696996494, 'aint@2': 0.0008313557696996494, 'step@2': 0.0008313557696996494, 'push@1': 0.0008313557696996494, 'cousin@-1': 0.0008313557696996494, 'sir@-1': 0.0008313557696996494, 'available@-1': 0.0008313557696996494, 'pronounce@1': 0.0008313557696996494, 'behind@-2': 0.0008313557696996494, 'texas@-2': 0.0008313557696996494, 'tune@2': 0.0008313557696996494, 'flight@-1': 0.0008313557696996494, 'foot@-1': 0.0008313557696996494, 'magic@-1': 0.0008313557696996494, 'soo@-2': 0.0008313557696996494, 'longer@-1': 0.0008313557696996494, 'meme@2': 0.0008313557696996494, 'children@-1': 0.0008313557696996494, 'deadass@-2': 0.0008313557696996494, 'history@2': 0.0008313557696996494, 'forgive@2': 0.0008313557696996494, 'kitchen@-1': 0.0008313557696996494, 'joke@-2': 0.0008313557696996494, 'stressed@2': 0.0008313557696996494, 'boo@-2': 0.0008313557696996494, 'angry@2': 0.0008313557696996494, 'attitude@-2': 0.0008313557696996494, 'pass@2': 0.0008313557696996494, 'bless@-1': 0.0008313557696996494, 'along@-2': 0.0008313557696996494, 'parent@-1': 0.0008313557696996494, 'fam@1': 0.0008313557696996494, 'hated@1': 0.0008313557696996494, 'grade@-1': 0.0008313557696996494, 'punch@1': 0.0008313557696996494, 'sports@2': 0.0008313557696996494, 'breathe@-2': 0.0008313557696996494, 'wont@2': 0.0008313557696996494, 'stan@-1': 0.0008313557696996494, 'extremely@2': 0.0008313557696996494, 'fucked@-2': 0.0008313557696996494, 'takes@-2': 0.0008313557696996494, 'mention@-1': 0.0008313557696996494, 'cheese@2': 0.0008313557696996494, 'rich@-1': 0.0008313557696996494, 'trip@-1': 0.0008313557696996494, 'happier@2': 0.0008313557696996494, 'ignore@-2': 0.0008313557696996494, 'ah@1': 0.0008313557696996494, 'thread@-1': 0.0008313557696996494, 'sexiest@-2': 0.0008313557696996494, 'drawing@2': 0.0008313557696996494, 'opens@-2': 0.0008313557696996494, 'ft@-2': 0.0008313557696996494, 'deleted@-2': 0.0008313557696996494, 'enjoying@-1': 0.0008313557696996494, 'shit@1': 0.0008070977289567092, 'by@-1': 0.0008038069558905281, 'walking@2': 0.0007953063457401776, 'coffee@2': 0.0007953063457401776, 'walking@-2': 0.0007953063457401776, 'gf@-1': 0.0007953063457401776, 'four@-2': 0.0007953063457401776, 'outside@-2': 0.0007953063457401776, 'goal@-2': 0.0007953063457401776, 'poor@-1': 0.0007953063457401776, 'crack@2': 0.0007953063457401776, 'son@-2': 0.0007953063457401776, 'rip@-1': 0.0007953063457401776, 'touch@1': 0.0007953063457401776, 'low@2': 0.0007953063457401776, 'ken@-1': 0.0007953063457401776, 'crack@1': 0.0007953063457401776, 'lucky@-1': 0.0007953063457401776, 'lmfao@-2': 0.0007953063457401776, 'mostly@-2': 0.0007953063457401776, 'semester@-1': 0.0007953063457401776, 'calls@-1': 0.0007953063457401776, 'eyes@-2': 0.0007953063457401776, 'beauty@-2': 0.0007953063457401776, 'taylor@-2': 0.0007953063457401776, 'facebook@-2': 0.0007953063457401776, 'step@-1': 0.0007953063457401776, 'goal@-1': 0.0007953063457401776, 'hahaha@-2': 0.0007953063457401776, 'forgive@-1': 0.0007953063457401776, 'breathe@1': 0.0007953063457401776, 'realist@2': 0.0007953063457401776, 'rip@1': 0.0007953063457401776, 'memes@2': 0.0007953063457401776, 'finding@2': 0.0007953063457401776, 'loyal@-1': 0.0007953063457401776, 'shot@-1': 0.0007953063457401776, 'married@-2': 0.0007953063457401776, 'dollars@2': 0.0007953063457401776, 'ten@-2': 0.0007953063457401776, 'rigged@-1': 0.0007953063457401776, 'pardon@1': 0.0007953063457401776, 'quite@2': 0.0007953063457401776, 'goals@2': 0.0007953063457401776, 'war@1': 0.0007953063457401776, 'died@-2': 0.0007953063457401776, 'knee@-1': 0.0007953063457401776, 'drawing@1': 0.0007953063457401776, 'lucky@2': 0.0007953063457401776, 'minute@2': 0.0007953063457401776, 'door@-2': 0.0007953063457401776, 'sign@-2': 0.0007953063457401776, 'alive@-1': 0.0007953063457401776, 'pissed@-2': 0.0007953063457401776, 'spoil@-2': 0.0007953063457401776, 'hurting@2': 0.0007953063457401776, 'along@-1': 0.0007953063457401776, 'knee@-2': 0.0007953063457401776, 'emotions@-1': 0.0007953063457401776, 'meme@-1': 0.0007953063457401776, 'alive@-2': 0.0007953063457401776, 'joy@-1': 0.0007953063457401776, 'basically@-2': 0.0007953063457401776, 'talked@1': 0.0007953063457401776, 'pass@1': 0.0007953063457401776, 'forgive@1': 0.0007953063457401776, 'lord@-2': 0.0007953063457401776, 'quality@2': 0.0007953063457401776, 'soo@-1': 0.0007953063457401776, 'coffee@-2': 0.0007953063457401776, 'noticed@-1': 0.0007953063457401776, 'staying@-2': 0.0007953063457401776, 'record@-1': 0.0007953063457401776, 'scared@-2': 0.0007953063457401776, 'views@-2': 0.0007953063457401776, 'cooking@-2': 0.0007953063457401776, 'ignore@2': 0.0007953063457401776, 'still@-1': 0.0007814788839445861, 'her@1': 0.0007789425568218554, 'some@-1': 0.0007770842233262741, 'finding@-1': 0.0007660079360062864, 'lord@-1': 0.0007660079360062864, 'ride@2': 0.0007660079360062864, 'nap@-2': 0.0007660079360062864, 'minutes@-2': 0.0007660079360062864, 'supporter@-2': 0.0007660079360062864, 'three@-2': 0.0007660079360062864, 'nut@1': 0.0007660079360062864, 'wtf@-2': 0.0007660079360062864, 'bite@2': 0.0007660079360062864, 'freaking@2': 0.0007660079360062864, 'spent@2': 0.0007660079360062864, 'front@-2': 0.0007660079360062864, 'questions@-2': 0.0007660079360062864, 'dogs@-1': 0.0007660079360062864, 'holidays@-2': 0.0007660079360062864, 'politics@-1': 0.0007660079360062864, 'eye@-1': 0.0007660079360062864, 'running@2': 0.0007660079360062864, 'sing@-1': 0.0007660079360062864, 'officially@1': 0.0007660079360062864, 'lay@-2': 0.0007660079360062864, 'news@-1': 0.0007660079360062864, 'band@2': 0.0007660079360062864, 'nasty@2': 0.0007660079360062864, 'buying@1': 0.0007660079360062864, 'continue@1': 0.0007660079360062864, 'ily@-1': 0.0007660079360062864, 'book@-2': 0.0007660079360062864, 'dreams@1': 0.0007660079360062864, 'crush@-2': 0.0007660079360062864, 'especially@-2': 0.0007660079360062864, 'minutes@-1': 0.0007660079360062864, 'lately@-2': 0.0007660079360062864, 'trash@2': 0.0007660079360062864, 'bar@-2': 0.0007660079360062864, 'road@2': 0.0007660079360062864, 'surprise@2': 0.0007660079360062864, 'interested@2': 0.0007660079360062864, 'perfect@-2': 0.0007660079360062864, 'na@2': 0.0007660079360062864, 'tells@-1': 0.0007660079360062864, 'worked@2': 0.0007660079360062864, 'walk@1': 0.0007660079360062864, 'na@1': 0.0007660079360062864, 'meant@2': 0.0007660079360062864, 'mini@2': 0.0007660079360062864, 'monday@-2': 0.0007660079360062864, 'freaking@1': 0.0007660079360062864, 'internet@2': 0.0007660079360062864, 'finding@-2': 0.0007660079360062864, 'extra@-2': 0.0007660079360062864, 'roll@2': 0.0007660079360062864, 'completely@-2': 0.0007660079360062864, 'available@2': 0.0007660079360062864, 'marry@1': 0.0007660079360062864, 'scared@-1': 0.0007660079360062864, 'smh@-2': 0.0007660079360062864, 'ft@2': 0.0007660079360062864, 'shut@-2': 0.0007660079360062864, 'worked@-1': 0.0007660079360062864, 'unis@2': 0.0007660079360062864, 'sing@-2': 0.0007660079360062864, 'belong@1': 0.0007660079360062864, 'cookies@2': 0.0007660079360062864, 'looked@1': 0.0007660079360062864, 'goal@2': 0.0007660079360062864, 'constantly@2': 0.0007660079360062864, 'princess@-1': 0.0007660079360062864, 'faster@2': 0.0007660079360062864, 'refuse@2': 0.0007660079360062864, 'mini@-1': 0.0007660079360062864, 'problems@2': 0.0007660079360062864, 'green@2': 0.0007660079360062864, 'record@2': 0.0007660079360062864, 'island@-2': 0.0007660079360062864, 'pls@-2': 0.0007660079360062864, 'poor@2': 0.0007660079360062864, 'spoil@2': 0.0007660079360062864, 'expect@-2': 0.0007660079360062864, 'weight@-2': 0.0007660079360062864, 'see@-1': 0.0007655633386293603, 'much@2': 0.0007628957399068688, 'too@1': 0.0007613320557154663, 'time@2': 0.0007567975824609966, 're@-1': 0.000753897487185155, 'we@-2': 0.0007431662076334623, 'no@1': 0.0007431662076334623, 'pls@-1': 0.0007415704154388928, 'stuck@-2': 0.0007415704154388928, 'retweet@1': 0.0007415704154388928, 'missing@-2': 0.0007415704154388928, 'pics@-1': 0.0007415704154388928, 'quick@2': 0.0007415704154388928, 'sense@2': 0.0007415704154388928, 'shoot@-2': 0.0007415704154388928, 'asf@-2': 0.0007415704154388928, 'l@-2': 0.0007415704154388928, 'ride@1': 0.0007415704154388928, 'shouldn@2': 0.0007415704154388928, 'personally@-2': 0.0007415704154388928, 'easier@-1': 0.0007415704154388928, 'shot@2': 0.0007415704154388928, 'middle@-2': 0.0007415704154388928, 'suddenly@-1': 0.0007415704154388928, 'plan@-2': 0.0007415704154388928, 'cake@2': 0.0007415704154388928, 'daily@-1': 0.0007415704154388928, 'l@-1': 0.0007415704154388928, 'expect@2': 0.0007415704154388928, 'neverromney@2': 0.0007415704154388928, 'quote@1': 0.0007415704154388928, 'add@2': 0.0007415704154388928, 'couple@-2': 0.0007415704154388928, 'double@2': 0.0007415704154388928, 'dumb@-2': 0.0007415704154388928, 'completely@-1': 0.0007415704154388928, 'hes@-1': 0.0007415704154388928, 'annoying@-2': 0.0007415704154388928, 'died@2': 0.0007415704154388928, 'comfortable@2': 0.0007415704154388928, 'hungry@-2': 0.0007415704154388928, 'daddy@2': 0.0007415704154388928, 'sense@1': 0.0007415704154388928, 'changed@-2': 0.0007415704154388928, 'worth@-2': 0.0007415704154388928, 'shoot@2': 0.0007415704154388928, 'al@2': 0.0007415704154388928, 'island@-1': 0.0007415704154388928, 'fuckin@-2': 0.0007415704154388928, 'usually@1': 0.0007415704154388928, 'youtube@-2': 0.0007415704154388928, 'anybody@-2': 0.0007415704154388928, 'whatever@-2': 0.0007415704154388928, 'ride@-2': 0.0007415704154388928, 'million@-2': 0.0007415704154388928, 'married@2': 0.0007415704154388928, 'immediately@1': 0.0007415704154388928, 'likes@2': 0.0007415704154388928, 'awesome@-1': 0.0007415704154388928, 'place@-1': 0.0007415704154388928, 'sale@-1': 0.0007415704154388928, 'months@-1': 0.0007415704154388928, 'seconds@-1': 0.0007415704154388928, 'usually@2': 0.0007415704154388928, 'weekend@-2': 0.0007415704154388928, 'will@2': 0.0007394604247788425, 'badthingsonfallon@1': 0.0007207695360831143, 'cooking@-1': 0.0007207695360831143, 'kiss@2': 0.0007207695360831143, 'mother@2': 0.0007207695360831143, 'ill@-1': 0.0007207695360831143, 'calling@-2': 0.0007207695360831143, 'along@1': 0.0007207695360831143, 'gun@2': 0.0007207695360831143, 'shared@1': 0.0007207695360831143, 'page@-2': 0.0007207695360831143, 'turned@2': 0.0007207695360831143, 'tried@2': 0.0007207695360831143, 'usually@-2': 0.0007207695360831143, 'mama@-1': 0.0007207695360831143, 'usually@-1': 0.0007207695360831143, 'earlier@-1': 0.0007207695360831143, 'til@-2': 0.0007207695360831143, 'depressed@-2': 0.0007207695360831143, 'planned@1': 0.0007207695360831143, 'answer@-2': 0.0007207695360831143, 'hi@2': 0.0007207695360831143, 'wild@-2': 0.0007207695360831143, 'ice@-1': 0.0007207695360831143, 'shoot@-1': 0.0007207695360831143, 'earlier@2': 0.0007207695360831143, 'top@-2': 0.0007207695360831143, 'jason@2': 0.0007207695360831143, 'gift@-1': 0.0007207695360831143, 'pick@1': 0.0007207695360831143, 'box@2': 0.0007207695360831143, 'weed@-1': 0.0007207695360831143, 'update@1': 0.0007207695360831143, 'feed@2': 0.0007207695360831143, 'pair@-2': 0.0007207695360831143, 'body@-1': 0.0007207695360831143, 'explain@-2': 0.0007207695360831143, 'nervous@-1': 0.0007207695360831143, 'planned@2': 0.0007207695360831143, 'chill@-2': 0.0007207695360831143, 'water@-2': 0.0007207695360831143, 'death@-1': 0.0007207695360831143, 'completely@1': 0.0007207695360831143, 'losing@2': 0.0007207695360831143, 'donald@2': 0.0007207695360831143, 'forward@2': 0.0007207695360831143, 'shut@1': 0.0007207695360831143, 'cuddle@2': 0.0007207695360831143, 'need@-1': 0.0007188296109079475, 'wine@2': 0.0007027733151999571, 'killed@2': 0.0007027733151999571, 'accused@2': 0.0007027733151999571, 'winning@2': 0.0007027733151999571, 'page@2': 0.0007027733151999571, 'pokemon@-1': 0.0007027733151999571, 'short@-1': 0.0007027733151999571, 'women@-1': 0.0007027733151999571, 'youtube@-1': 0.0007027733151999571, 'killed@1': 0.0007027733151999571, 'respect@2': 0.0007027733151999571, 'women@-2': 0.0007027733151999571, 'men@-1': 0.0007027733151999571, 'drunk@-2': 0.0007027733151999571, 'ones@-1': 0.0007027733151999571, 'boo@2': 0.0007027733151999571, 'depressed@2': 0.0007027733151999571, 'key@-1': 0.0007027733151999571, 'places@2': 0.0007027733151999571, 'sound@1': 0.0007027733151999571, 'tears@-2': 0.0007027733151999571, 'ill@2': 0.0007027733151999571, 'meant@-1': 0.0007027733151999571, 'assume@1': 0.0007027733151999571, 'dear@-1': 0.0007027733151999571, 'write@2': 0.0007027733151999571, 'saturday@-2': 0.0007027733151999571, 'confident@2': 0.0007027733151999571, 'add@-1': 0.0007027733151999571, 'reading@-2': 0.0007027733151999571, 'justin@-2': 0.0007027733151999571, 'student@-2': 0.0007027733151999571, 'joy@2': 0.0007027733151999571, 'pie@-1': 0.0007027733151999571, 'sign@2': 0.0007027733151999571, 'spent@-1': 0.0007027733151999571, 'age@-2': 0.0006869941628505484, 'blessed@-2': 0.0006869941628505484, 'self@-2': 0.0006869941628505484, 'fast@-1': 0.0006869941628505484, 'super@-2': 0.0006869941628505484, 'straight@-1': 0.0006869941628505484, 'learned@-2': 0.0006869941628505484, 'deserve@-2': 0.0006869941628505484, 'thru@2': 0.0006869941628505484, 'af@-1': 0.0006869941628505484, 'dumb@-1': 0.0006869941628505484, 'deal@-2': 0.0006869941628505484, 'small@2': 0.0006869941628505484, 'short@2': 0.0006869941628505484, 'straight@1': 0.0006869941628505484, 'months@2': 0.0006869941628505484, 'fight@-2': 0.0006869941628505484, 'pizza@2': 0.0006869941628505484, 'joe@-1': 0.0006869941628505484, 'number@-2': 0.0006869941628505484, 'happen@-2': 0.0006869941628505484, 'close@-1': 0.0006869941628505484, 'age@-1': 0.0006869941628505484, 'drunk@2': 0.0006869941628505484, 'cook@-1': 0.0006869941628505484, 'tho@-2': 0.0006869941628505484, 'hoes@2': 0.0006869941628505484, 'conversation@-2': 0.0006730037967532711, 'business@-2': 0.0006730037967532711, 'become@1': 0.0006730037967532711, 'paper@2': 0.0006730037967532711, 'treat@2': 0.0006730037967532711, 'cold@-2': 0.0006730037967532711, 'hella@-1': 0.0006730037967532711, 'writing@-1': 0.0006730037967532711, 'state@-1': 0.0006730037967532711, 'loves@-2': 0.0006730037967532711, 'speak@2': 0.0006730037967532711, 'confused@-1': 0.0006730037967532711, 'knowing@-2': 0.0006730037967532711, 'joe@2': 0.0006730037967532711, 'agree@2': 0.0006730037967532711, 'moment@-2': 0.0006730037967532711, 'thru@1': 0.0006730037967532711, 'mess@2': 0.0006730037967532711, 'e@-2': 0.0006730037967532711, 'tv@-2': 0.0006730037967532711, 'fast@2': 0.0006730037967532711, 'mess@1': 0.0006730037967532711, 'card@-1': 0.0006730037967532711, 'half@-2': 0.0006730037967532711, 'less@-1': 0.0006730037967532711, 'november@1': 0.0006730037967532711, 'small@-1': 0.0006730037967532711, 'supposed@-2': 0.0006730037967532711, 'means@-2': 0.0006730037967532711, 'pic@-2': 0.0006730037967532711, 'til@2': 0.0006730037967532711, 'fire@-1': 0.0006730037967532711, 'busy@-1': 0.0006730037967532711, 'pic@-1': 0.0006730037967532711, 'snap@-2': 0.0006730037967532711, 'election@-2': 0.0006730037967532711, 'deal@-1': 0.0006730037967532711, 'moment@-1': 0.0006730037967532711, 'sit@-2': 0.0006730037967532711, 'card@-2': 0.0006730037967532711, 'set@2': 0.0006730037967532711, 'songs@-1': 0.0006730037967532711, 'ice@2': 0.0006730037967532711, 'h@-2': 0.0006730037967532711, 'hang@2': 0.0006604817266783226, 'loving@-2': 0.0006604817266783226, 'cook@1': 0.0006604817266783226, 'speak@-1': 0.0006604817266783226, 'conversation@-1': 0.0006604817266783226, 'laughed@2': 0.0006604817266783226, 'set@-2': 0.0006604817266783226, 'rock@1': 0.0006604817266783226, 'upset@-2': 0.0006604817266783226, 'aren@-2': 0.0006604817266783226, 'light@-2': 0.0006604817266783226, 'cook@2': 0.0006604817266783226, 'shook@1': 0.0006604817266783226, 'dress@-2': 0.0006604817266783226, 'star@2': 0.0006604817266783226, 'st@-1': 0.0006604817266783226, 'rock@2': 0.0006604817266783226, 'grateful@-1': 0.0006604817266783226, 'set@-1': 0.0006604817266783226, 'attention@-2': 0.0006604817266783226, 'felt@-2': 0.0006604817266783226, 'seem@1': 0.0006604817266783226, 'laugh@-2': 0.0006604817266783226, 'sweet@-2': 0.0006604817266783226, 'makeup@-1': 0.0006604817266783226, 'half@2': 0.0006604817266783226, 'biggest@-2': 0.0006604817266783226, 'star@1': 0.0006604817266783226, 'upset@-1': 0.0006604817266783226, 'matter@-2': 0.0006604817266783226, 'fan@-1': 0.0006604817266783226, 'obama@2': 0.0006604817266783226, 'biggest@-1': 0.0006604817266783226, 'patches@-1': 0.0006604817266783226, 'da@-1': 0.0006604817266783226, 'wear@2': 0.0006491827176909605, 'songs@2': 0.0006491827176909605, 'water@1': 0.0006491827176909605, 'explain@1': 0.0006491827176909605, 'agree@-2': 0.0006491827176909605, 'water@2': 0.0006491827176909605, 'question@-2': 0.0006491827176909605, 'loved@-2': 0.0006491827176909605, 'gave@2': 0.0006491827176909605, 'account@-2': 0.0006491827176909605, 'favorite@-2': 0.0006491827176909605, 'side@-2': 0.0006491827176909605, 'death@2': 0.0006491827176909605, 'voting@-1': 0.0006491827176909605, 'attention@-1': 0.0006491827176909605, 'account@-1': 0.0006491827176909605, 'brain@-1': 0.0006491827176909605, 'wear@1': 0.0006491827176909605, 'st@2': 0.0006491827176909605, 'means@2': 0.0006491827176909605, 'loving@2': 0.0006491827176909605, 'picture@-1': 0.0006491827176909605, 'till@2': 0.0006491827176909605, 'wear@-1': 0.0006491827176909605, 'drinking@2': 0.0006491827176909605, 'close@1': 0.0006491827176909605, 'everyday@-2': 0.0006491827176909605, 'happiness@-2': 0.0006491827176909605, 'smile@1': 0.0006389154945501441, 'less@2': 0.0006389154945501441, 'f@-2': 0.0006389154945501441, 'kind@-2': 0.0006389154945501441, 'everyday@2': 0.0006389154945501441, 'number@-1': 0.0006389154945501441, 'side@-1': 0.0006389154945501441, 'choose@-2': 0.0006389154945501441, 'didnt@2': 0.0006389154945501441, 'didnt@-2': 0.0006389154945501441, 'fat@-1': 0.0006389154945501441, 'da@2': 0.0006389154945501441, 'hour@-2': 0.0006389154945501441, 'support@-2': 0.0006389154945501441, 'keeps@-2': 0.0006389154945501441, 'fans@-2': 0.0006389154945501441, 'needs@-2': 0.0006389154945501441, 'bro@-2': 0.0006389154945501441, 'needs@1': 0.0006389154945501441, 'date@-1': 0.0006389154945501441, 'niggas@-2': 0.0006389154945501441, 'just@-1': 0.000634068280574355, 'fire@2': 0.0006295283720541692, 'dress@-1': 0.0006295283720541692, 'self@2': 0.0006295283720541692, 'parents@-2': 0.0006295283720541692, 'light@-1': 0.0006295283720541692, 'country@2': 0.0006295283720541692, 'fake@-2': 0.0006295283720541692, 'f@-1': 0.0006295283720541692, 'super@-1': 0.0006295283720541692, 'surprised@2': 0.0006295283720541692, 'weird@-1': 0.0006295283720541692, 'comes@-2': 0.0006295283720541692, 'confused@2': 0.0006295283720541692, 'month@2': 0.0006295283720541692, 'surprised@1': 0.0006295283720541692, 'is@1': 0.0006259310987692039, 'truly@-2': 0.0006208992995884666, 'boys@-1': 0.0006208992995884666, 'ima@2': 0.0006208992995884666, 'th@-2': 0.0006208992995884666, 'felt@2': 0.0006208992995884666, 'top@2': 0.0006208992995884666, 'red@2': 0.0006208992995884666, 'drive@1': 0.0006208992995884666, 'post@2': 0.0006208992995884666, 'stand@2': 0.0006208992995884666, 'second@-1': 0.0006208992995884666, 'f@2': 0.0006208992995884666, 'early@-2': 0.0006208992995884666, 'brother@-2': 0.0006208992995884666, 'choose@-1': 0.0006208992995884666, 'story@2': 0.0006208992995884666, 'using@-1': 0.0006208992995884666, 'dinner@-1': 0.0006208992995884666, 'attention@2': 0.0006208992995884666, 'super@2': 0.0006208992995884666, 'both@-2': 0.0006208992995884666, 'this@1': 0.0006181762206110054, 'entered@-2': 0.0006129288029739655, 'sweet@2': 0.0006129288029739655, 'queensugar@2': 0.0006129288029739655, 'e@1': 0.0006129288029739655, 'learn@-1': 0.0006129288029739655, 'took@2': 0.0006129288029739655, 'ex@-1': 0.0006129288029739655, 'post@1': 0.0006129288029739655, 'hands@-1': 0.0006129288029739655, 'truly@-1': 0.0006129288029739655, 'loved@-1': 0.0006129288029739655, 'cannot@2': 0.0006129288029739655, 'type@-2': 0.0006129288029739655, 'working@-2': 0.0006129288029739655, 'words@2': 0.0006129288029739655, 'lt@2': 0.0006129288029739655, 'fans@2': 0.0006129288029739655, 'high@2': 0.0006055348776387148, 'app@-2': 0.0006055348776387148, 'fact@-1': 0.0006055348776387148, 'high@1': 0.0006055348776387148, 'tbh@-2': 0.0006055348776387148, 'rest@-2': 0.0006055348776387148, 'ended@-2': 0.0006055348776387148, 'run@2': 0.0006055348776387148, 'room@-2': 0.0006055348776387148, 'g@-1': 0.0006055348776387148, 'light@2': 0.0006055348776387148, 'eating@-2': 0.0006055348776387148, 'rest@-1': 0.0006055348776387148, 'bring@1': 0.0006055348776387148, 'enjoy@-2': 0.0006055348776387148, 'turn@-2': 0.000598649226292784, 'called@-1': 0.000598649226292784, 'account@2': 0.000598649226292784, 'room@-1': 0.000598649226292784, 'college@-2': 0.000598649226292784, 'beans@2': 0.000598649226292784, 'wild@1': 0.000598649226292784, 'brother@2': 0.000598649226292784, 'lots@2': 0.000598649226292784, 'second@1': 0.000598649226292784, 'jill@2': 0.000598649226292784, 'via@-1': 0.000598649226292784, 'far@-1': 0.000598649226292784, 'rather@-1': 0.000598649226292784, 'hold@-2': 0.0005922144419886785, 'move@1': 0.0005922144419886785, 'kids@-1': 0.0005922144419886785, 'lose@-1': 0.0005922144419886785, 'die@-2': 0.0005922144419886785, 'forgot@-1': 0.0005922144419886785, 'gucci@2': 0.0005922144419886785, 'level@2': 0.0005922144419886785, 'chocolate@-2': 0.0005922144419886785, 'bit@2': 0.0005922144419886785, 't@1': 0.0005887353749359779, 'smh@2': 0.0005861818681330704, 'called@2': 0.0005861818681330704, 'id@-1': 0.0005861818681330704, 'buy@-2': 0.0005861818681330704, 'id@-2': 0.0005861818681330704, 'least@-2': 0.0005861818681330704, 'far@2': 0.0005861818681330704, 'may@-2': 0.0005861818681330704, 'couldn@-2': 0.0005861818681330704, 'met@2': 0.0005805099512523338, 'act@2': 0.0005805099512523338, 'both@1': 0.0005805099512523338, 'die@-1': 0.0005805099512523338, 'run@1': 0.0005805099512523338, 'point@2': 0.0005805099512523338, 'happened@1': 0.0005805099512523338, 'found@-2': 0.0005751629578064615, 'ep@-2': 0.0005751629578064615, 'college@1': 0.0005751629578064615, 'everybody@1': 0.0005751629578064615, 'pray@-2': 0.0005751629578064615, 'times@-2': 0.0005751629578064615, 'k@2': 0.0005751629578064615, 'watched@-1': 0.0005751629578064615, 'af@2': 0.0005751629578064615, 'gt@-1': 0.0005751629578064615, 'kids@2': 0.0005751629578064615, 'pray@-1': 0.0005701099636290102, 'forget@-1': 0.0005701099636290102, 'turn@-1': 0.0005701099636290102, 'k@1': 0.0005701099636290102, 'hanging@2': 0.0005701099636290102, 'wants@-1': 0.0005701099636290102, 'kanye@-2': 0.0005701099636290102, 'bout@-2': 0.0005701099636290102, 'dead@1': 0.0005701099636290102, 'turkey@2': 0.0005701099636290102, 'challenge@2': 0.0005653240500723364, 'highly@-2': 0.0005653240500723364, 'cuz@-2': 0.0005653240500723364, 'wouldn@2': 0.0005653240500723364, 'kanye@-1': 0.0005653240500723364, 'young@-2': 0.0005653240500723364, 'bae@2': 0.0005653240500723364, 'young@2': 0.0005653240500723364, 'whole@2': 0.0005607816586680536, 'amazing@-1': 0.0005607816586680536, 'does@-2': 0.0005607816586680536, 'knows@-2': 0.0005607816586680536, 'trust@-1': 0.0005607816586680536, 'haha@2': 0.0005607816586680536, 'hot@-1': 0.0005564620686266432, 'boyfriend@-1': 0.0005564620686266432, 'makes@-2': 0.0005564620686266432, 'knew@-2': 0.0005564620686266432, 'check@2': 0.0005564620686266432, 'mind@-1': 0.0005564620686266432, 'past@-1': 0.0005564620686266432, 'together@2': 0.0005564620686266432, 'hit@-2': 0.0005564620686266432, 'makes@2': 0.0005564620686266432, 'heard@-1': 0.0005564620686266432, 'pain@-1': 0.0005564620686266432, 'meet@-1': 0.0005564620686266432, 'wow@-2': 0.000552346970455064, 'does@-1': 0.000552346970455064, 'alone@1': 0.000552346970455064, 'hell@2': 0.000552346970455064, 'card@2': 0.0005484201154614768, 'text@-1': 0.0005484201154614768, 'phone@-1': 0.0005484201154614768, 'leave@2': 0.0005484201154614768, 'such@1': 0.0005484201154614768, 'hit@-1': 0.0005484201154614768, 'meet@2': 0.0005446670256760662, 'end@-2': 0.0005446670256760662, 'idk@2': 0.0005446670256760662, 'haven@2': 0.0005446670256760662, 'past@2': 0.0005446670256760662, 'days@-2': 0.0005446670256760662, 'job@-2': 0.0005410747522462485, 'hurt@-1': 0.0005410747522462485, 'feeling@-1': 0.0005410747522462485, 'future@-2': 0.0005410747522462485, 'anymore@2': 0.0005410747522462485, 'gold@2': 0.0005410747522462485, 'girls@2': 0.0005376316730083482, 'dad@2': 0.0005376316730083482, 'full@-1': 0.0005376316730083482, 'n@-2': 0.0005376316730083482, 'movies@-2': 0.0005376316730083482, 'two@-2': 0.0005376316730083482, 'boy@2': 0.0005376316730083482, 'those@-2': 0.0005376316730083482, 'tired@-1': 0.0005343273219372432, 'feelings@-2': 0.0005343273219372432, 'week@-2': 0.0005343273219372432, 'looking@-2': 0.0005343273219372432, 'tho@2': 0.0005343273219372432, 'gets@-1': 0.0005343273219372432, 'looks@1': 0.0005311522447011865, 'rt@2': 0.0005311522447011865, 'birthday@-2': 0.0005311522447011865, 'drink@-2': 0.0005311522447011865, 'season@2': 0.0005311522447011865, 'morning@-2': 0.0005311522447011865, 'finally@-2': 0.0005311522447011865, 'holiday@2': 0.0005280978757229998, 'phone@2': 0.0005280978757229998, 'proud@-2': 0.0005280978757229998, 'phone@1': 0.0005280978757229998, 'looks@-1': 0.0005280978757229998, 'change@-1': 0.0005280978757229998, 'which@2': 0.0005251564330593614, 'class@-1': 0.0005251564330593614, 'enough@1': 0.0005223208281213318, 'once@2': 0.0005223208281213318, 'yet@2': 0.0005223208281213318, 'shows@-2': 0.0005223208281213318, 'break@2': 0.0005223208281213318, 'relationship@-2': 0.0005223208281213318, 'saw@-2': 0.0005223208281213318, 'birthday@1': 0.0005223208281213318, 'listen@-2': 0.0005223208281213318, 'playing@-1': 0.0005223208281213318, 'class@2': 0.0005223208281213318, 'asked@2': 0.0005223208281213318, 'hurt@2': 0.0005223208281213318, 'glad@1': 0.000519584587819038, 'nigga@-2': 0.0005169417871568021, 'ok@1': 0.0005169417871568021, 'which@1': 0.0005169417871568021, 'drink@2': 0.0005169417871568021, 'big@-1': 0.0005143869906583688, 'night@-1': 0.0005143869906583688, 'asked@-1': 0.0005119152012852114, 'another@2': 0.0005095218157393273, 'days@2': 0.0005095218157393273, 'though@2': 0.0005095218157393273, 'thinking@-2': 0.0005072025852271053, 'saw@-1': 0.0005072025852271053, 'watching@-1': 0.0005049535809117209, 'ugly@-1': 0.0005049535809117209, 'relationship@2': 0.0005049535809117209, 'without@2': 0.0005027711634050239, 'trying@-1': 0.0005027711634050239, 'twitter@1': 0.0005027711634050239, 'seeing@-2': 0.0005027711634050239, 'though@1': 0.0005027711634050239, 'fun@2': 0.0005006519557514832, 'world@2': 0.0005006519557514832, 'win@-2': 0.0004985928194406773, 'bitch@2': 0.0004985928194406773, 'week@2': 0.0004985928194406773, 'ya@1': 0.0004965908330544553, 'its@2': 0.0004927475975316688, 'its@-1': 0.0004927475975316688, 'follow@-1': 0.0004927475975316688, 'seen@-1': 0.0004927475975316688, 'were@2': 0.0004927475975316688, 'night@2': 0.0004909014293442152, 'lot@-2': 0.0004909014293442152, 'might@2': 0.0004909014293442152, 'were@-1': 0.0004891025439762477, 'says@-2': 0.0004873488563893156, 'find@-2': 0.0004873488563893156, 'lot@-1': 0.0004873488563893156, 'heart@2': 0.0004873488563893156, 'crying@1': 0.000483969366778708, 'very@-1': 0.0004823399977824692, 'mean@-2': 0.0004823399977824692, 'win@2': 0.0004807486752261644, 'nothing@-2': 0.0004807486752261644, 'idk@-1': 0.0004807486752261644, 'show@-2': 0.0004807486752261644, 'vote@-2': 0.00047919386479126756, 'guess@2': 0.0004776741188172211, 'ur@1': 0.0004761880700629046, 'reply@-1': 0.00047473442601047227, 'old@-1': 0.0004733119636565752, 'reply@2': 0.0004733119636565752, 'nothing@-1': 0.00047191952474232984, 'seconds@2': 0.00047055601137891475, 'before@2': 0.00047055601137891475, 'doing@-2': 0.00047055601137891475, 'christmas@-1': 0.00047055601137891475, 'long@2': 0.00047055601137891475, 'show@-1': 0.00047055601137891475, 'most@-1': 0.00046922038203050343, 'long@1': 0.00046791164782045944, 'our@2': 0.00046791164782045944, 'shonda@2': 0.00046791164782045944, 'also@2': 0.00046791164782045944, 'person@-2': 0.00046662886913042124, 'most@1': 0.00046662886913042124, 'keep@-2': 0.00046662886913042124, 'our@1': 0.00046537115246515347, 'made@-2': 0.00046537115246515347, 'any@2': 0.00046413764755890504, 'mom@1': 0.0004629275447015368, 'somebody@-1': 0.00045943010897302547, 'thankful@1': 0.0004572022633060336, 'put@-2': 0.0004572022633060336, 'w@-1': 0.00045611755002120694, 'eat@-1': 0.0004540036117149394, 'better@-1': 0.0004540036117149394, 'their@-1': 0.0004519600366008438, 'read@-1': 0.0004499827903750692, 'own@1': 0.00044901786894210627, 'x@-1': 0.00044901786894210627, 'own@2': 0.00044901786894210627, 'won@-2': 0.00044806816109392036, 'after@1': 0.00044621272652343915, 'cause@-2': 0.0004453062098941362, 'thing@2': 0.0004453062098941362, 'x@1': 0.00044441332545997847, 'first@2': 0.0004435337147121883, 'getting@1': 0.000440141291515374, 'trump@-2': 0.00043932311627954343, 'look@-1': 0.0004338996790258533, 'girl@2': 0.0004338996790258533, 'into@-1': 0.0004338996790258533, 'girl@1': 0.000432440317400088, 'o@2': 0.000432440317400088, 'o@1': 0.0004289493729047907, 'almost@-1': 0.0004289493729047907, 'something@1': 0.0004289493729047907, 'take@-1': 0.0004282766254842734, 'has@-1': 0.00042761193705658776, 'being@1': 0.00042566455345039946, 'best@-1': 0.00042566455345039946, 'every@-1': 0.00042196597506417995, 'could@-1': 0.00042196597506417995, 'myself@1': 0.0004202072005422758, 'liked@-2': 0.0004131929439036543, 'his@-1': 0.00041169915151478695, 'should@-2': 0.00041072668353713893, 'd@-2': 0.0004102472349692801, 'gonna@-2': 0.0004097722108734937, 'why@1': 0.00040883514904068975, 'been@-2': 0.00040701105247753445, 'even@-1': 0.0003944125712098088, 'would@-1': 0.00039304392685585615, 'him@1': 0.00039304392685585615, 'happy@1': 0.000386737431328614, 'feel@-1': 0.000381976699840645, 'more@1': 0.0003817115141453267, 'she@-1': 0.0003796442103178275, 'video@2': 0.0003767116026035649, 'u@1': 0.00036893168886375447, 'will@-2': 0.00036643527640713565, 'how@1': 0.000366063948604586, 'll@-2': 0.0003628621721312199, 'your@1': 0.0003574178385216801, 'about@1': 0.00035537229203320416, 'amp@1': 0.00035342635021443867, 'they@1': 0.00035315598628467287, 'up@1': 0.0003518312772284747, 'they@-1': 0.0003518312772284747, 'with@1': 0.00032520770094805653, 'of@1': 0.0003067946269003843})\n"
     ]
    },
    {
     "data": {
      "text/plain": [
       "[('m@1', 0.5675395289138095),\n",
       " ('rt@-1', 0.4695096085441682),\n",
       " ('t@2', 0.23269359358975453),\n",
       " ('a@2', 0.1558877082886095),\n",
       " ('love@1', 0.14195615060916741)]"
      ]
     },
     "execution_count": 63,
     "metadata": {},
     "output_type": "execute_result"
    }
   ],
   "source": [
    "# Transform each context vector to be term freq / tweet frequency. \n",
    "# Also then normalize by length.\n",
    "for term, context in contexts.items():\n",
    "    for term2, frequency in context.items():\n",
    "        context[term2] = frequency / (1. + math.log(tweet_freq[term2]))\n",
    "    length = math.sqrt(sum([v*v for v in context.values()]))\n",
    "    for term2, frequency in context.items():\n",
    "        context[term2] = 1. * frequency / length\n",
    "\n",
    "#print(contexts['i'])\n",
    "contexts['i'].most_common(5)"
   ]
  },
  {
   "cell_type": "code",
   "execution_count": 64,
   "metadata": {
    "collapsed": false
   },
   "outputs": [
    {
     "data": {
      "text/plain": [
       "[('ck@-1', 0.4136540315361625),\n",
       " ('high@-1', 0.3942296402243195),\n",
       " ('middle@-1', 0.36333907866459314),\n",
       " ('f@-2', 0.28159260016022825),\n",
       " ('to@-1', 0.21782389745590142),\n",
       " ('i@1', 0.171690848777721),\n",
       " ('old@-1', 0.16688422512193513),\n",
       " ('don@2', 0.1483382433264341),\n",
       " ('go@-2', 0.1344016074316236),\n",
       " ('was@2', 0.12169461102366234)]"
      ]
     },
     "execution_count": 64,
     "metadata": {},
     "output_type": "execute_result"
    }
   ],
   "source": [
    "contexts['school'].most_common(10)"
   ]
  },
  {
   "cell_type": "markdown",
   "metadata": {},
   "source": [
    "At this point we have a list of dictionaries, one per term, indicating the terms that co-occur (weighted by inverse tweet frequency).\n",
    "\n",
    "Next, we have to cluster these vectors. To do this, we'll need to be able to compute the euclidean distance between two vectors."
   ]
  },
  {
   "cell_type": "code",
   "execution_count": 65,
   "metadata": {
    "collapsed": false
   },
   "outputs": [
    {
     "name": "stdout",
     "output_type": "stream",
     "text": [
      "1.4142135623730951\n",
      "2.23606797749979\n"
     ]
    }
   ],
   "source": [
    "# This is not efficient!\n",
    "def distance(c1, c2):\n",
    "    if len(c1.keys()) == 0 or len(c2.keys()) == 0:\n",
    "        return 1e9\n",
    "    keys = set(c1.keys()) | set(c2.keys())\n",
    "    distance = 0.\n",
    "    #print('context\\tc1\\tc2\\td')\n",
    "    for k in keys:\n",
    "        #print(k, '\\t%d\\t%d\\t%d'%(c1[k],c2[k], (c1[k] - c2[k]) ** 2))\n",
    "        distance += (c1[k] - c2[k]) ** 2\n",
    "    return math.sqrt(distance)\n",
    "\n",
    "print(distance({'hi':10, 'bye': 5}, {'hi': 9, 'bye': 4}))\n",
    "print(distance({'hi':10, 'bye': 5}, {'hi': 8, 'bye': 4}))"
   ]
  },
  {
   "cell_type": "code",
   "execution_count": 66,
   "metadata": {
    "collapsed": false
   },
   "outputs": [
    {
     "name": "stdout",
     "output_type": "stream",
     "text": [
      "1.3549170569890574\n"
     ]
    }
   ],
   "source": [
    "print(distance(contexts['i'], contexts['love']))"
   ]
  },
  {
   "cell_type": "code",
   "execution_count": 71,
   "metadata": {
    "collapsed": false
   },
   "outputs": [
    {
     "data": {
      "text/plain": [
       "(array(['love', 'm', 'hope', 'hate', 'am', 'got', 'miss', 'll', 'need',\n",
       "        'think'], \n",
       "       dtype='<U25'),\n",
       " array([2376,  782, 2704, 2684,  974, 1613, 1266, 2904,  746, 1239]))"
      ]
     },
     "execution_count": 71,
     "metadata": {},
     "output_type": "execute_result"
    }
   ],
   "source": [
    "def find_closest(term, n=5):\n",
    "    terms = np.array(list(contexts.keys()))\n",
    "    context = contexts[term]\n",
    "    distances = []\n",
    "    for term2, context2 in contexts.items():\n",
    "        distances.append(distance(context, context2))\n",
    "    return terms[np.argsort(distances)][:n], np.argsort(distances)[:n]\n",
    "\n",
    "find_closest('love', n=10)"
   ]
  },
  {
   "cell_type": "code",
   "execution_count": 72,
   "metadata": {
    "collapsed": false
   },
   "outputs": [
    {
     "name": "stdout",
     "output_type": "stream",
     "text": [
      "3232 nonzero contexts\n"
     ]
    }
   ],
   "source": [
    "nz_contexts = [t for t, context in contexts.items()\n",
    "               if len(context) > 1]\n",
    "contexts = dict([(term, contexts[term]) for term in nz_contexts])\n",
    "print(len(nz_contexts), 'nonzero contexts')"
   ]
  },
  {
   "cell_type": "code",
   "execution_count": 75,
   "metadata": {
    "collapsed": false,
    "scrolled": true
   },
   "outputs": [
    {
     "data": {
      "text/plain": [
       "'however'"
      ]
     },
     "execution_count": 75,
     "metadata": {},
     "output_type": "execute_result"
    }
   ],
   "source": [
    "list(contexts.keys())[0]"
   ]
  },
  {
   "cell_type": "code",
   "execution_count": 76,
   "metadata": {
    "collapsed": false
   },
   "outputs": [
    {
     "data": {
      "text/plain": [
       "Counter({'above@1': 0.3367533792480383,\n",
       "         'all@2': 0.11695862125583531,\n",
       "         'disagree@-1': 0.3682433522315904,\n",
       "         'emily@1': 0.3682433522315904,\n",
       "         'great@-2': 0.17679787228475324,\n",
       "         'i@-2': 0.08557271931510677,\n",
       "         'i@1': 0.08735783575157623,\n",
       "         'me@-1': 0.21612631944458896,\n",
       "         'person@-1': 0.16567237006122174,\n",
       "         'quality@-2': 0.3147610116974397,\n",
       "         'treat@-2': 0.48294761821904847,\n",
       "         've@2': 0.13441825047610623,\n",
       "         'want@2': 0.24847490517374307,\n",
       "         'year@-1': 0.16835630572567212,\n",
       "         'you@1': 0.2021811893438085})"
      ]
     },
     "execution_count": 76,
     "metadata": {},
     "output_type": "execute_result"
    }
   ],
   "source": [
    "list(contexts.values())[0]"
   ]
  },
  {
   "cell_type": "code",
   "execution_count": 77,
   "metadata": {
    "collapsed": false
   },
   "outputs": [
    {
     "name": "stdout",
     "output_type": "stream",
     "text": [
      "['a@-1' 'a@-2' 'a@1' 'a@2' 'ab@-1' 'ab@-2' 'ab@1' 'ab@2' 'abandon@-1'\n",
      " 'abandon@-2']\n",
      "  (0, 34)\t0.336753379248\n",
      "  (0, 278)\t0.116958621256\n",
      "  (0, 2947)\t0.368243352232\n",
      "  (0, 3467)\t0.368243352232\n",
      "  (0, 4748)\t0.176797872285\n",
      "  (0, 5530)\t0.0855727193151\n",
      "  (0, 5531)\t0.0873578357516\n",
      "  (0, 6957)\t0.216126319445\n",
      "  (0, 8191)\t0.165672370061\n",
      "  (0, 8819)\t0.314761011697\n",
      "  (0, 11497)\t0.482947618219\n",
      "  (0, 11910)\t0.134418250476\n",
      "  (0, 12075)\t0.248474905174\n",
      "  (0, 12649)\t0.168356305726\n",
      "  (0, 12699)\t0.202181189344\n"
     ]
    }
   ],
   "source": [
    "# Transform context dicts to a sparse vector\n",
    "# for sklearn.\n",
    "from sklearn.feature_extraction import DictVectorizer\n",
    "\n",
    "vec = DictVectorizer()\n",
    "X = vec.fit_transform(contexts.values())\n",
    "names = np.array(vec.get_feature_names())\n",
    "print(names[:10])\n",
    "print(X[0])"
   ]
  },
  {
   "cell_type": "code",
   "execution_count": 81,
   "metadata": {
    "collapsed": false
   },
   "outputs": [
    {
     "name": "stdout",
     "output_type": "stream",
     "text": [
      "2352\n",
      "  (0, 0)\t0.00233544487742\n",
      "  (0, 2)\t0.00465236940575\n",
      "  (0, 3)\t0.0116648480196\n",
      "  (0, 28)\t0.0118672025612\n",
      "  (0, 30)\t0.00294107366618\n",
      "  (0, 31)\t0.00589164628616\n",
      "  (0, 36)\t0.0116323536582\n",
      "  (0, 71)\t0.00495444218415\n",
      "  (0, 108)\t0.00384121959793\n",
      "  (0, 141)\t0.00965820767253\n",
      "  (0, 196)\t0.00537265914744\n",
      "  (0, 204)\t0.0126790175778\n",
      "  (0, 208)\t0.00965820767253\n",
      "  (0, 216)\t0.0202688333081\n",
      "  (0, 262)\t0.00658198346477\n",
      "  (0, 275)\t0.00270421817036\n",
      "  (0, 276)\t0.0109582067879\n",
      "  (0, 277)\t0.0990934344463\n",
      "  (0, 278)\t0.0242797700962\n",
      "  (0, 309)\t0.00376602248259\n",
      "  (0, 315)\t0.00378382211239\n",
      "  (0, 327)\t0.0235022274483\n",
      "  (0, 330)\t0.00681447349753\n",
      "  (0, 337)\t0.0030858359053\n",
      "  (0, 341)\t0.00476006899493\n",
      "  :\t:\n",
      "  (0, 12435)\t0.00541944186034\n",
      "  (0, 12436)\t0.00551074950041\n",
      "  (0, 12437)\t0.0484457479699\n",
      "  (0, 12438)\t0.00269615850072\n",
      "  (0, 12443)\t0.0412637181985\n",
      "  (0, 12502)\t0.00384121959793\n",
      "  (0, 12522)\t0.0043462132263\n",
      "  (0, 12530)\t0.0145204725059\n",
      "  (0, 12549)\t0.0162642272462\n",
      "  (0, 12552)\t0.00331624244189\n",
      "  (0, 12558)\t0.0274274584567\n",
      "  (0, 12607)\t0.014200000766\n",
      "  (0, 12608)\t0.00370822795921\n",
      "  (0, 12611)\t0.00821960661934\n",
      "  (0, 12646)\t0.0040333163837\n",
      "  (0, 12668)\t0.00416095194238\n",
      "  (0, 12676)\t0.00480432090193\n",
      "  (0, 12697)\t0.00944744604021\n",
      "  (0, 12698)\t0.0285834312662\n",
      "  (0, 12699)\t0.275145604486\n",
      "  (0, 12700)\t0.0234576584175\n",
      "  (0, 12707)\t0.0236640214505\n",
      "  (0, 12722)\t0.00613726300378\n",
      "  (0, 12725)\t0.016987705824\n",
      "  (0, 12745)\t0.00965820767253\n",
      "zone@2\n"
     ]
    }
   ],
   "source": [
    "# Which row of X is the word \"love\"?\n",
    "love_idx = list(contexts.keys()).index('love')\n",
    "print(love_idx)\n",
    "# What are the context feature values for love?\n",
    "print(X[love_idx])\n",
    "# Print a highly ranking feature.\n",
    "print(names[12768])"
   ]
  },
  {
   "cell_type": "code",
   "execution_count": 82,
   "metadata": {
    "collapsed": false
   },
   "outputs": [
    {
     "data": {
      "text/plain": [
       "KMeans(algorithm='auto', copy_x=True, init='k-means++', max_iter=300,\n",
       "    n_clusters=20, n_init=10, n_jobs=1, precompute_distances='auto',\n",
       "    random_state=None, tol=0.0001, verbose=0)"
      ]
     },
     "execution_count": 82,
     "metadata": {},
     "output_type": "execute_result"
    }
   ],
   "source": [
    "# Let's cluster!\n",
    "# http://scikit-learn.org/stable/modules/generated/sklearn.cluster.KMeans.html\n",
    "from sklearn.cluster import KMeans\n",
    "num_clusters = 20\n",
    "kmeans = KMeans(num_clusters)\n",
    "kmeans.fit(X)"
   ]
  },
  {
   "cell_type": "code",
   "execution_count": 83,
   "metadata": {
    "collapsed": false
   },
   "outputs": [
    {
     "name": "stdout",
     "output_type": "stream",
     "text": [
      "0 rt@-1 i@1 i@2 m@2 s@1\n",
      "1 and@1 i@2 the@-1 a@-1 i@1\n",
      "2 is@-1 for@-2 by@-1 do@-2 you@-2\n",
      "3 i@1 the@-2 a@-2 the@-1 to@-2\n",
      "4 i@-2 i@2 the@1 i@1 to@-2\n",
      "5 my@-1 i@2 i@1 your@-1 on@-2\n",
      "6 t@-1 don@-2 can@-2 i@-2 i@-1\n",
      "7 a@-1 a@-2 i@1 i@2 the@-1\n",
      "8 of@1 a@-1 the@-1 a@-2 the@2\n",
      "9 i@-1 you@-1 i@-2 rt@-2 and@-2\n",
      "10 t@1 i@-1 rt@-2 be@2 who@-1\n",
      "11 so@-1 i@-2 i@1 i@2 m@-2\n",
      "12 i@1 m@2 rt@-1 i@2 i@-2\n",
      "13 to@1 i@-2 i@-1 be@2 the@2\n",
      "14 to@-1 i@-2 i@-1 want@-2 it@1\n",
      "15 i@-1 rt@-2 i@-2 you@1 a@1\n",
      "16 the@-1 in@-2 i@2 i@1 and@1\n",
      "17 i@-2 m@-1 m@-2 be@-1 i@2\n",
      "18 t@-2 for@-1 for@1 i@2 i@1\n",
      "19 i@2 this@-1 i@1 the@-1 the@-2\n"
     ]
    }
   ],
   "source": [
    "# Let's print out the top features for each mean vector.\n",
    "# This is swamped by common terms\n",
    "for i in range(num_clusters):\n",
    "    print(i, ' '.join(names[np.argsort(kmeans.cluster_centers_[i])[::-1][:5]]))"
   ]
  },
  {
   "cell_type": "code",
   "execution_count": 84,
   "metadata": {
    "collapsed": false
   },
   "outputs": [
    {
     "data": {
      "text/plain": [
       "array([ 1.02848172,  1.01795606,  1.00075791,  0.99544023,  1.00679003,\n",
       "        1.06172038,  1.06388974,  1.0657887 ,  1.09236271,  1.03411035,\n",
       "        1.30399456,  1.05128947,  1.03849405,  1.09483104,  1.057263  ,\n",
       "        1.15092772,  1.05782852,  1.0863525 ,  1.01611416,  1.01757703])"
      ]
     },
     "execution_count": 84,
     "metadata": {},
     "output_type": "execute_result"
    }
   ],
   "source": [
    "# .transform will compute the distance from each context to each cluster.\n",
    "distances = kmeans.transform(X)\n",
    "distances[0]"
   ]
  },
  {
   "cell_type": "code",
   "execution_count": 85,
   "metadata": {
    "collapsed": false
   },
   "outputs": [
    {
     "name": "stdout",
     "output_type": "stream",
     "text": [
      "0 crush me i ugh ifwedate dormammu nope trans someday \n",
      "\n",
      "1 morning beauty park opportunity inspiration bed changing alyssa va \n",
      "\n",
      "2 the and that too me for you a to \n",
      "\n",
      "3 that the but is one back this tomorrow me \n",
      "\n",
      "4 a you u so to ded crying always this \n",
      "\n",
      "5 mom life family own phone head lizard mind boyfriend \n",
      "\n",
      "6 wait care worry even belong know understand get afford \n",
      "\n",
      "7 compliment great few bit puppy couple month video cheater \n",
      "\n",
      "8 type proud bunch tired piece lot sick rest tales \n",
      "\n",
      "9 m love am just hate ll was need have \n",
      "\n",
      "10 ain haven didn won couldn wouldn wasn shouldn doesn \n",
      "\n",
      "11 bad badly sad depressed many lucky lit proud grateful \n",
      "\n",
      "12 but when sometimes and yeah because if ugh yes \n",
      "\n",
      "13 going supposed listen able used listening talk referring according \n",
      "\n",
      "14 do get go meet say share win hear see \n",
      "\n",
      "15 love am got hate ll need just hope think \n",
      "\n",
      "16 world most end way office first best nohandschallenge process \n",
      "\n",
      "17 ded not crying gonna bored deleting hungry obsessed sorry \n",
      "\n",
      "18 tellin christmas me anyone the how this being that \n",
      "\n",
      "19 funniest is why or va only one and tomorrow \n",
      "\n"
     ]
    }
   ],
   "source": [
    "# Finally, we'll print the words that are closest\n",
    "# to the mean of each cluster.\n",
    "terms = np.array(list(contexts.keys()))\n",
    "for i in range(num_clusters):\n",
    "    print(i, ' '.join(terms[np.argsort(distances[:,i])[1:10]]), '\\n')"
   ]
  },
  {
   "cell_type": "markdown",
   "metadata": {},
   "source": [
    "Clearly, interpreting these results requires a bit of investigation.\n",
    "\n",
    "As the number of tweets increases, we expect these clusters to become more coherent."
   ]
  },
  {
   "cell_type": "markdown",
   "metadata": {},
   "source": [
    "**How does error decrease with number of cluster?**"
   ]
  },
  {
   "cell_type": "code",
   "execution_count": 86,
   "metadata": {
    "collapsed": false
   },
   "outputs": [
    {
     "data": {
      "text/plain": [
       "-2915.8675836699504"
      ]
     },
     "execution_count": 86,
     "metadata": {},
     "output_type": "execute_result"
    }
   ],
   "source": [
    "kmeans.score(X)"
   ]
  },
  {
   "cell_type": "code",
   "execution_count": 87,
   "metadata": {
    "collapsed": false
   },
   "outputs": [
    {
     "name": "stdout",
     "output_type": "stream",
     "text": [
      "k=5 score=3037.74\n",
      "k=10 score=2970.13\n",
      "k=20 score=2922.54\n",
      "k=50 score=2851.04\n",
      "k=100 score=2776.92\n"
     ]
    },
    {
     "data": {
      "image/png": "[encoded data removed]",
      "text/plain": [
       "<matplotlib.figure.Figure at 0x1296bfba8>"
      ]
     },
     "metadata": {},
     "output_type": "display_data"
    }
   ],
   "source": [
    "import matplotlib.pyplot as plt\n",
    "%matplotlib inline\n",
    "\n",
    "scores = []\n",
    "num_cluster_options = [5,10,20,50,100]\n",
    "\n",
    "for num_clusters in num_cluster_options:\n",
    "    kmeans = KMeans(num_clusters, n_init=10, max_iter=10)\n",
    "    kmeans.fit(X)\n",
    "    score = -1 * kmeans.score(X)\n",
    "    scores.append(score)\n",
    "    print('k=%d score=%g' % (num_clusters, score))\n",
    "    \n",
    "plt.figure()\n",
    "plt.plot(num_cluster_options, scores, 'bo-')\n",
    "plt.xlabel('num clusters')\n",
    "plt.ylabel('error')\n",
    "plt.show()"
   ]
  },
  {
   "cell_type": "markdown",
   "metadata": {},
   "source": [
    "** How does error vary by initalization? **"
   ]
  },
  {
   "cell_type": "code",
   "execution_count": 88,
   "metadata": {
    "collapsed": false
   },
   "outputs": [
    {
     "name": "stdout",
     "output_type": "stream",
     "text": [
      "score=2931.16\n",
      "score=2938.12\n",
      "score=2935.65\n",
      "score=2930.09\n",
      "score=2939.74\n",
      "score=2930.83\n",
      "score=2933.05\n",
      "score=2921.78\n",
      "score=2930.89\n",
      "score=2934.03\n"
     ]
    },
    {
     "data": {
      "image/png": "[encoded data removed]",
      "text/plain": [
       "<matplotlib.figure.Figure at 0x127207320>"
      ]
     },
     "metadata": {},
     "output_type": "display_data"
    }
   ],
   "source": [
    "scores = []\n",
    "for i in range(10):\n",
    "    kmeans = KMeans(20, n_init=1, max_iter=100, init='random')\n",
    "    kmeans.fit(X)\n",
    "    score = -1 * kmeans.score(X)\n",
    "    scores.append(score)\n",
    "    print('score=%g' % (score))\n",
    "     \n",
    "    \n",
    "plt.figure()\n",
    "plt.plot(range(10), sorted(scores), 'bo-')\n",
    "plt.xlabel('sample')\n",
    "plt.ylabel('error')\n",
    "plt.show()"
   ]
  },
  {
   "cell_type": "code",
   "execution_count": null,
   "metadata": {
    "collapsed": true
   },
   "outputs": [],
   "source": []
  }
 ],
 "metadata": {
  "kernelspec": {
   "display_name": "Python [Root]",
   "language": "python",
   "name": "Python [Root]"
  },
  "language_info": {
   "codemirror_mode": {
    "name": "ipython",
    "version": 3
   },
   "file_extension": ".py",
   "mimetype": "text/x-python",
   "name": "python",
   "nbconvert_exporter": "python",
   "pygments_lexer": "ipython3",
   "version": "3.5.2"
  }
 },
 "nbformat": 4,
 "nbformat_minor": 0
}
