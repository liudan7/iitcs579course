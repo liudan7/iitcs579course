{
 "cells": [
  {
   "cell_type": "markdown",
   "metadata": {},
   "source": [
    "# CS429: Information Retrieval\n",
    "\n",
    "<br>\n",
    "\n",
    "## Lecture 17: Logistic Regression\n",
    "\n",
    "<br>\n",
    "\n",
    "### Dr. Aron Culotta\n",
    "### Illinois Institute of Technology"
   ]
  },
  {
   "cell_type": "markdown",
   "metadata": {},
   "source": [
    "Recall classification problem notation:\n",
    "\n",
    "\n",
    "- $\\vec{x} \\in \\mathcal{X}$ &nbsp;&nbsp;&nbsp;&nbsp; *instance*, *example*, *input*\n",
    "  - e.g., an email\n",
    "- $y \\in \\mathcal{Y}$ &nbsp;&nbsp;&nbsp;&nbsp; *target*, *class*, *label*, *output*\n",
    "  - e.g., $y=1$: spam ; $y=-1$: not spam\n",
    "- $f: \\mathcal{X} \\mapsto \\mathcal{Y}$ &nbsp;&nbsp;&nbsp;&nbsp; *hypothesis*, *learner*, *model*, *classifier*\n",
    "  - e.g., if $x$ contain the word *free*, $y$ is $1$."
   ]
  },
  {
   "cell_type": "markdown",
   "metadata": {},
   "source": [
    "** Training data:**\n",
    "\n",
    "We are given training data $D = \\{(\\vec{x}_1, y_1), \\ldots, (\\vec{x}_n, y_n)\\}$\n",
    "\n",
    "||free|money| |*label*|\n",
    "|:--:|:--------:|:--------:|:--:|:--:|\n",
    "||$x_{i1}$|$x_{i2}$| | $y_i$ |\n",
    "|$x_1$|0|0||-1| \n",
    "|$x_2$|1|0|| 1|\n",
    "|$x_3$|1|1||-1|\n",
    "|$x_4$|1|0||-1|\n",
    "|$x_5$|1|1||1|\n",
    "|$x_6$|0|0||1|\n",
    "|$x_7$|0|1||-1|\n",
    "\n",
    "How to classify a new instance?  \n",
    " \"free money\" -> $\\{1,1\\}$\n"
   ]
  },
  {
   "cell_type": "markdown",
   "metadata": {},
   "source": [
    "**Recall Naive Bayes:**\n",
    "\n",
    "$p(y|\\vec{x}) = \\frac{p(\\vec{x}|y)p(y)}{p(\\vec{x})}$"
   ]
  },
  {
   "cell_type": "markdown",
   "metadata": {},
   "source": [
    "** Recall gradient descent recipe **\n",
    "\n",
    "1.  Select a model type (e.g., linear classification, logistic classification)\n",
    "\n",
    "2.  Select an <span>**error function**</span> that, when minimized, results in a good setting of the model parameters.\n",
    "\n",
    "3.  Analytically determine the gradient of the error function with respect to the model parameters.\n",
    "\n",
    "4.  Iteratively change the parameters by a small amount in the direction of the gradient until the (near) minimum of the error function is found.\n",
    "\n"
   ]
  },
  {
   "cell_type": "markdown",
   "metadata": {},
   "source": [
    "Last time, we considered a simple linear model with two parameters:\n",
    "\n",
    "$h(x_i) = mx_i + b$\n",
    "\n",
    "This assumes only a single feature (term). \n",
    "\n",
    "Instead, we make $x_i$ a vector $\\vec{x_i}$ containing values for $v$ terms: $\\vec{x_i} = \\{x_{i1} \\ldots x_{iv}\\}$, which has a corresponding vector of parameters $\\vec{\\theta}$.\n",
    "\n",
    "$$ h(\\vec{x}_i) = \\vec{x}_i^T  {\\theta} = x_{i1} \\theta_1 + \\ldots x_{iv} \\theta_v = \\sum_j x_{ij}{\\theta}_j $$"
   ]
  },
  {
   "cell_type": "code",
   "execution_count": 117,
   "metadata": {
    "collapsed": false
   },
   "outputs": [
    {
     "data": {
      "text/plain": [
       "12"
      ]
     },
     "execution_count": 117,
     "metadata": {},
     "output_type": "execute_result"
    }
   ],
   "source": [
    "from numpy import array as npa\n",
    "import numpy as np\n",
    "\n",
    "def h(x, theta):\n",
    "    return np.dot(x.T, theta)\n",
    "\n",
    "x = npa([1,2,3])  # term0 appears 1 time, term1 appears 2 times...\n",
    "theta = npa([-1, -1, 5])  # term 2 predictive of positive class\n",
    "h(x, theta)"
   ]
  },
  {
   "cell_type": "code",
   "execution_count": 118,
   "metadata": {
    "collapsed": false
   },
   "outputs": [
    {
     "data": {
      "text/plain": [
       "-20"
      ]
     },
     "execution_count": 118,
     "metadata": {},
     "output_type": "execute_result"
    }
   ],
   "source": [
    "# a negative example.\n",
    "x2 = npa([10, 10, 0])\n",
    "h(x2, theta)"
   ]
  },
  {
   "cell_type": "markdown",
   "metadata": {},
   "source": [
    "Given training data $D$, how do we pick $\\vec{\\theta}$?"
   ]
  },
  {
   "cell_type": "markdown",
   "metadata": {},
   "source": [
    "Following the gradient descent recipe, we need an error function:\n",
    "\n",
    "*Residual Sum of Squares*\n",
    "\n",
    "$$\n",
    "RSS(\\theta, D) = \\frac{1}{2}\\sum_{i=1}^{|D|}(y_i - h(\\vec{x}_i, \\vec{\\theta}))^2\n",
    "$$\n",
    "\n"
   ]
  },
  {
   "cell_type": "code",
   "execution_count": 119,
   "metadata": {
    "collapsed": true
   },
   "outputs": [],
   "source": [
    "def rss(theta, D):\n",
    "    error = 0\n",
    "    for xi, yi in D:\n",
    "        prediction = h(xi, theta)\n",
    "        errori = (yi - prediction)**2\n",
    "        error += errori\n",
    "        print('truth=%g  prediction=%g error=%g' % (yi, prediction, errori))\n",
    "    return error / 2"
   ]
  },
  {
   "cell_type": "markdown",
   "metadata": {},
   "source": [
    "||free|money| |*label*|\n",
    "|:--:|:--------:|:--------:|:--:|:--:|\n",
    "||$x_{i1}$|$x_{i2}$| | $y_i$ |\n",
    "|$x_1$|0|0||-1| \n",
    "|$x_2$|1|0|| 1|\n",
    "|$x_3$|1|1||-1|\n",
    "|$x_4$|1|0||-1|\n",
    "|$x_5$|1|1||1|\n",
    "|$x_6$|0|0||1|\n",
    "|$x_7$|0|1||-1|\n"
   ]
  },
  {
   "cell_type": "code",
   "execution_count": 120,
   "metadata": {
    "collapsed": false
   },
   "outputs": [
    {
     "name": "stdout",
     "output_type": "stream",
     "text": [
      "truth=-1  prediction=0 error=1\n",
      "truth=1  prediction=0 error=1\n",
      "truth=-1  prediction=0 error=1\n",
      "truth=-1  prediction=0 error=1\n",
      "truth=-1  prediction=0 error=1\n",
      "truth=1  prediction=0 error=1\n",
      "truth=1  prediction=0 error=1\n",
      "truth=-1  prediction=0 error=1\n",
      "\n",
      "RSS=4\n"
     ]
    }
   ],
   "source": [
    "D = [\n",
    "    (npa([0,0]), -1),\n",
    "    (npa([1,0]), 1),\n",
    "    (npa([1,1]), -1),\n",
    "    (npa([1,1]), -1),\n",
    "    (npa([1,0]), -1),\n",
    "    (npa([1,1]), 1),\n",
    "    (npa([0,0]), 1),\n",
    "    (npa([0,1]), -1),\n",
    "]\n",
    "theta = npa([0,0])\n",
    "print('\\nRSS=%g' % rss(theta, D))"
   ]
  },
  {
   "cell_type": "code",
   "execution_count": 121,
   "metadata": {
    "collapsed": false
   },
   "outputs": [
    {
     "name": "stdout",
     "output_type": "stream",
     "text": [
      "truth=-1  prediction=0 error=1\n",
      "truth=1  prediction=1 error=0\n",
      "truth=-1  prediction=2 error=9\n",
      "truth=-1  prediction=2 error=9\n",
      "truth=-1  prediction=1 error=4\n",
      "truth=1  prediction=2 error=1\n",
      "truth=1  prediction=0 error=1\n",
      "truth=-1  prediction=1 error=4\n",
      "\n",
      "RSS=14.5\n"
     ]
    }
   ],
   "source": [
    "theta = npa([1,1])\n",
    "print('\\nRSS=%g' % rss(theta, D))"
   ]
  },
  {
   "cell_type": "code",
   "execution_count": 122,
   "metadata": {
    "collapsed": false
   },
   "outputs": [
    {
     "name": "stdout",
     "output_type": "stream",
     "text": [
      "truth=-1  prediction=0 error=1\n",
      "truth=1  prediction=0.5 error=0.25\n",
      "truth=-1  prediction=-0.5 error=0.25\n",
      "truth=-1  prediction=-0.5 error=0.25\n",
      "truth=-1  prediction=0.5 error=2.25\n",
      "truth=1  prediction=-0.5 error=2.25\n",
      "truth=1  prediction=0 error=1\n",
      "truth=-1  prediction=-1 error=0\n",
      "\n",
      "RSS=3.625\n"
     ]
    }
   ],
   "source": [
    "theta = npa([0.5,-1])\n",
    "print('\\nRSS=%g' % rss(theta, D))"
   ]
  },
  {
   "cell_type": "markdown",
   "metadata": {},
   "source": [
    "**Goal:** Pick optimal $\\vec{\\theta}^*$ to satisfy:\n",
    "\n",
    "$$ \\vec{\\theta}^* = argmin_\\vec{\\theta} \\hspace{.4cm} RSS(\\vec{\\theta}, D)$$\n",
    "\n",
    "**Solution:** Gradient descent\n",
    "\n",
    "while not converged:\n",
    "1. Compute gradient $\\nabla_\\vec{\\theta}$ of $\\vec{\\theta}$ w.r.t. RSS\n",
    "2. Change $\\vec{\\theta}$ in direction of $\\nabla_\\vec{\\theta}$\n"
   ]
  },
  {
   "cell_type": "markdown",
   "metadata": {},
   "source": [
    "$$\\nabla_\\vec{\\theta} = \\{\\frac{\\partial RSS(h, D)}{\\partial \\theta_1} \\ldots \\frac{\\partial RSS(h, D)}{\\partial \\theta_v}\\}$$\n",
    "\n",
    "\\begin{aligned}\n",
    "\\frac{\\partial RSS(h, D)}{\\partial \\theta_j} &=& \\frac{\\partial}{\\partial \\theta_j} \\frac{1}{2}\\sum_{i=1}^{|D|}(y_i - \\vec{\\theta} \\cdot \\vec{x}_i)^2\\\\\n",
    "&=& \\sum_{i=1}^{|D|}(y_i - \\vec{\\theta} \\cdot \\vec{x}_i)\\frac{\\partial}{\\partial \\theta_j} (y_i - \\theta \\cdot \\vec{x}_i)\\\\\n",
    "&=& \\sum_{i=1}^{|D|}(y_i - \\vec{\\theta} \\cdot \\vec{x}_i)(-x_{ij})\\end{aligned}"
   ]
  },
  {
   "cell_type": "markdown",
   "metadata": {},
   "source": [
    "**To update parameters:**\n",
    "\n",
    "$$\\vec{\\theta}_j^{t+1} = \\vec{\\theta}_j^{t} + \\eta \\sum_{i=1}^{|D|}(y_i - \\vec{\\theta}^t \\cdot \\vec{x}_i)x_{ij}$$\n",
    "\n",
    "$\\eta$ = \"learning rate\", to prevent \"jumping over\" minimum"
   ]
  },
  {
   "cell_type": "code",
   "execution_count": 123,
   "metadata": {
    "collapsed": true
   },
   "outputs": [],
   "source": [
    "def gradient(theta, D):\n",
    "    result = np.zeros(len(theta), dtype=np.float64)\n",
    "    for xi, yi in D:\n",
    "        error = yi - h(xi, theta)\n",
    "        for j, xij in enumerate(xi):\n",
    "            result[j] += error * -xij\n",
    "    return result"
   ]
  },
  {
   "cell_type": "code",
   "execution_count": 124,
   "metadata": {
    "collapsed": false
   },
   "outputs": [
    {
     "data": {
      "text/plain": [
       "array([ 1.,  2.])"
      ]
     },
     "execution_count": 124,
     "metadata": {},
     "output_type": "execute_result"
    }
   ],
   "source": [
    "gradient(npa([0,0]), D)"
   ]
  },
  {
   "cell_type": "code",
   "execution_count": 126,
   "metadata": {
    "collapsed": false
   },
   "outputs": [
    {
     "name": "stdout",
     "output_type": "stream",
     "text": [
      "truth=-1  prediction=0 error=1\n",
      "truth=1  prediction=-1 error=4\n",
      "truth=-1  prediction=-3 error=4\n",
      "truth=-1  prediction=-3 error=4\n",
      "truth=-1  prediction=-1 error=0\n",
      "truth=1  prediction=-3 error=16\n",
      "truth=1  prediction=0 error=1\n",
      "truth=-1  prediction=-2 error=1\n"
     ]
    },
    {
     "data": {
      "text/plain": [
       "15.5"
      ]
     },
     "execution_count": 126,
     "metadata": {},
     "output_type": "execute_result"
    }
   ],
   "source": [
    "rss(npa([-1, -2]), D)"
   ]
  },
  {
   "cell_type": "code",
   "execution_count": 128,
   "metadata": {
    "collapsed": true
   },
   "outputs": [],
   "source": [
    "import matplotlib.pyplot as plt\n",
    "%matplotlib inline\n",
    "\n",
    "def gradient_descent(h_fn, gradient_fn, error_fn, theta,\n",
    "                     learning_rate, D, tolerance, max_iters):\n",
    "    errori = error_fn(theta, D)\n",
    "    iters = 0\n",
    "    all_errors = [errori]\n",
    "    while True:\n",
    "        iters += 1\n",
    "        print('\\n\\niteration %d' % iters)\n",
    "        grad = gradient_fn(theta, D)\n",
    "        theta -= learning_rate * grad  # UPDATE!\n",
    "        newerror = error_fn(theta, D)\n",
    "        all_errors.append(newerror)\n",
    "        print('old error=%g   new error=%g  theta=%s\\n\\n' %\n",
    "              (errori, newerror, str(theta)))\n",
    "        error_diff = errori - newerror\n",
    "        if error_diff < 0 or errori - newerror < tolerance \\\n",
    "            or iters >= max_iters:\n",
    "            break\n",
    "        else:\n",
    "            errori = newerror\n",
    "            \n",
    "    plt.plot(all_errors, 'bo-')\n",
    "    plt.xlabel('iteration')\n",
    "    plt.ylabel('error')\n",
    "    return theta"
   ]
  },
  {
   "cell_type": "code",
   "execution_count": 132,
   "metadata": {
    "collapsed": false
   },
   "outputs": [
    {
     "name": "stdout",
     "output_type": "stream",
     "text": [
      "truth=-1  prediction=0 error=1\n",
      "truth=1  prediction=1 error=0\n",
      "truth=-1  prediction=2 error=9\n",
      "truth=-1  prediction=2 error=9\n",
      "truth=-1  prediction=1 error=4\n",
      "truth=1  prediction=2 error=1\n",
      "truth=1  prediction=0 error=1\n",
      "truth=-1  prediction=1 error=4\n",
      "\n",
      "\n",
      "iteration 1\n",
      "truth=-1  prediction=0 error=1\n",
      "truth=1  prediction=-0.8 error=3.24\n",
      "truth=-1  prediction=-1.6 error=0.36\n",
      "truth=-1  prediction=-1.6 error=0.36\n",
      "truth=-1  prediction=-0.8 error=0.04\n",
      "truth=1  prediction=-1.6 error=6.76\n",
      "truth=1  prediction=0 error=1\n",
      "truth=-1  prediction=-0.8 error=0.04\n",
      "old error=14.5   new error=6.4  theta=[-0.8 -0.8]\n",
      "\n",
      "\n",
      "\n",
      "\n",
      "iteration 2\n",
      "truth=-1  prediction=0 error=1\n",
      "truth=1  prediction=0.28 error=0.5184\n",
      "truth=-1  prediction=0.2 error=1.44\n",
      "truth=-1  prediction=0.2 error=1.44\n",
      "truth=-1  prediction=0.28 error=1.6384\n",
      "truth=1  prediction=0.2 error=0.64\n",
      "truth=1  prediction=0 error=1\n",
      "truth=-1  prediction=-0.08 error=0.8464\n",
      "old error=6.4   new error=4.2616  theta=[ 0.28 -0.08]\n",
      "\n",
      "\n",
      "\n",
      "\n",
      "iteration 3\n",
      "truth=-1  prediction=0 error=1\n",
      "truth=1  prediction=-0.152 error=1.3271\n",
      "truth=-1  prediction=-0.736 error=0.069696\n",
      "truth=-1  prediction=-0.736 error=0.069696\n",
      "truth=-1  prediction=-0.152 error=0.719104\n",
      "truth=1  prediction=-0.736 error=3.0137\n",
      "truth=1  prediction=0 error=1\n",
      "truth=-1  prediction=-0.584 error=0.173056\n",
      "old error=4.2616   new error=3.68618  theta=[-0.152 -0.584]\n",
      "\n",
      "\n",
      "\n",
      "\n",
      "iteration 4\n",
      "truth=-1  prediction=0 error=1\n",
      "truth=1  prediction=0.1504 error=0.72182\n",
      "truth=-1  prediction=-0.2752 error=0.525335\n",
      "truth=-1  prediction=-0.2752 error=0.525335\n",
      "truth=-1  prediction=0.1504 error=1.32342\n",
      "truth=1  prediction=-0.2752 error=1.62614\n",
      "truth=1  prediction=0 error=1\n",
      "truth=-1  prediction=-0.4256 error=0.329935\n",
      "old error=3.68618   new error=3.52599  theta=[ 0.1504 -0.4256]\n",
      "\n",
      "\n",
      "\n",
      "\n",
      "iteration 5\n",
      "truth=-1  prediction=0 error=1\n",
      "truth=1  prediction=0.05536 error=0.892345\n",
      "truth=-1  prediction=-0.52 error=0.2304\n",
      "truth=-1  prediction=-0.52 error=0.2304\n",
      "truth=-1  prediction=0.05536 error=1.11378\n",
      "truth=1  prediction=-0.52 error=2.3104\n",
      "truth=1  prediction=0 error=1\n",
      "truth=-1  prediction=-0.57536 error=0.180319\n",
      "old error=3.52599   new error=3.47882  theta=[ 0.05536 -0.57536]\n",
      "\n",
      "\n",
      "\n",
      "\n",
      "iteration 6\n",
      "truth=-1  prediction=0 error=1\n",
      "truth=1  prediction=0.145216 error=0.730656\n",
      "truth=-1  prediction=-0.403072 error=0.356323\n",
      "truth=-1  prediction=-0.403072 error=0.356323\n",
      "truth=-1  prediction=0.145216 error=1.31152\n",
      "truth=1  prediction=-0.403072 error=1.96861\n",
      "truth=1  prediction=0 error=1\n",
      "truth=-1  prediction=-0.548288 error=0.204044\n",
      "old error=3.47882   new error=3.46374  theta=[ 0.145216 -0.548288]\n",
      "\n",
      "\n",
      "\n",
      "\n",
      "iteration 7\n",
      "truth=-1  prediction=0 error=1\n",
      "truth=1  prediction=0.128973 error=0.758688\n",
      "truth=-1  prediction=-0.467814 error=0.283222\n",
      "truth=-1  prediction=-0.467814 error=0.283222\n",
      "truth=-1  prediction=0.128973 error=1.27458\n",
      "truth=1  prediction=-0.467814 error=2.15448\n",
      "truth=1  prediction=0 error=1\n",
      "truth=-1  prediction=-0.596787 error=0.162581\n",
      "old error=3.46374   new error=3.45839  theta=[ 0.1289728 -0.5967872]\n",
      "\n",
      "\n"
     ]
    },
    {
     "data": {
      "text/plain": [
       "array([ 0.1289728, -0.5967872])"
      ]
     },
     "execution_count": 132,
     "metadata": {},
     "output_type": "execute_result"
    },
    {
     "data": {
      "image/png": "[encoded data removed]",
      "text/plain": [
       "<matplotlib.figure.Figure at 0x107bed518>"
      ]
     },
     "metadata": {},
     "output_type": "display_data"
    }
   ],
   "source": [
    "theta = npa([1.,1.])\n",
    "gradient_descent(h, gradient, rss, theta, .2, D, .01, 10)"
   ]
  },
  {
   "cell_type": "markdown",
   "metadata": {},
   "source": [
    "**Does our error function make sense?**\n",
    "\n",
    "\n",
    "iteration 1  \n",
    "truth=-1  prediction=0 error=1  \n",
    "truth=1  prediction=-0.8 error=3.24  \n",
    "**truth=-1  prediction=-1.6 error=0.36**\n"
   ]
  },
  {
   "cell_type": "markdown",
   "metadata": {},
   "source": [
    "The above assumes that the output variable $y_i$ is a real number. Thus, this is a model of <span>**regression**</span>.  \n",
    "\n",
    "When $y$ is disrete, the problem is one of <span>**classification**</span>.  \n",
    "\n",
    "One could use the linear model above to do classification. Assume the binary case where $y_i$ can either be $-1$ or $1$. We can convert the regression model to a classifier by assuming that if the model outputs a number greater than 0, then predict 1; otherwise, predict -1.\n",
    "\n",
    "However, this can cause weird things to happen in our update rule: \n",
    "\n",
    "$$\\vec{\\theta}_j^{t+1} = \\vec{\\theta}_j^{t} + \\eta \\sum_{i=1}^{|D|}(y_i - \\vec{\\theta}^t \\cdot \\vec{x}_i)x_{ij}$$\n",
    "\n",
    "\n",
    "Suppose the true value of $y_1$ is $1$, and the model (dot product) returns 2. The instance is technically classified correctly, but the update still counts this as an error of size 1 (since $y_i -\\theta \\cdot x_i$ is 1). In fact, the update considers this error equivalent to a dot product of $0$, which would in fact result in a classification error.\n",
    "\n",
    "This is clearly not what we want – in fact, our gradient descent algorithm may never converge, since we can always make our correct classifications “more correct” by cranking up the value of $\\theta$.\n",
    "\n",
    "The way around this is to change our model. Rather than regression, we need classification. We can do this by passing the dot product $x_i \\cdot \\theta$ through a “squashing function” (the **logistic function**) that ensures its value is always between 0 and 1: \n",
    "\n",
    "$$h(\\vec{x}_i) = \\frac{1}{1 + e^{-\\vec{x}_i \\cdot \\vec{\\theta}}}$$\n",
    "\n",
    "This is called **logistic regression.**\n"
   ]
  },
  {
   "cell_type": "code",
   "execution_count": 133,
   "metadata": {
    "collapsed": false
   },
   "outputs": [
    {
     "data": {
      "image/png": "[encoded data removed]",
      "text/plain": [
       "<matplotlib.figure.Figure at 0x107c5a748>"
      ]
     },
     "metadata": {},
     "output_type": "display_data"
    }
   ],
   "source": [
    "from math import exp\n",
    "def logistic(x, theta):\n",
    "    return 1 / (1 + exp(-h(x, theta)))\n",
    "    \n",
    "x = npa([1])\n",
    "\n",
    "plt.figure()\n",
    "plt.plot(range(-10, 10), [logistic(x, theta) for theta in range(-10, 10)])\n",
    "plt.xlabel('theta')\n",
    "plt.ylabel('logistic')\n",
    "plt.show()"
   ]
  },
  {
   "cell_type": "markdown",
   "metadata": {},
   "source": [
    "Because $h(x_i)$ will always be between 0 and 1, and will sum to one for both classes, we have the right to call this a <span>**probability**</span> $p(y_i=1|\\vec{x}_i)$.  \n",
    "\n",
    "$$h(\\vec{x}_i) = p(y_i=1|\\vec{x}_i) = \\frac{1}{1 + e^{-\\vec{x}_i \\cdot \\vec{\\theta}}}$$\n",
    "\n",
    "and, for binary classification, the probability of a negative example:\n",
    "\n",
    "$$\n",
    "p(y_i=-1|\\vec{x}_i) = 1 - p(y_i=1|\\vec{x}_i)\n",
    "$$\n",
    "\n",
    "with some algebra, it turns out that:\n",
    "\n",
    "$$\n",
    "p(y_i=-1|\\vec{x}_i) = \\frac{1}{1 + e^{\\vec{x}_i \\cdot \\vec{\\theta}}}\n",
    "$$\n",
    "\n",
    "Because of this, if $y_i \\in \\{-1, 1\\}$, we can write:\n",
    "\n",
    "$$\n",
    "p(y_i|\\vec{x}_i) =  \\frac{1}{1 + e^{-y_i \\vec{x}_i \\cdot \\vec{\\theta}}}\n",
    "$$"
   ]
  },
  {
   "cell_type": "markdown",
   "metadata": {},
   "source": [
    "**What is a good error function for logistic regression?**\n",
    "\n",
    "We can now rephrase our learning objective as maximizing the <span>*joint probability of the true labels for all training instances.*</span>  \n",
    "\n",
    "Since we assume each instance is drawn independently, we can write this joint probability as a product of individual probabilities: \n",
    "\n",
    "$$p(y_1 \\ldots y_n|\\vec{x}_1 \\ldots \\vec{x}_n) = p(y_1|\\vec{x}_n) * p(y_2|\\vec{x}_2) * \\ldots * p(y_n|\\vec{x}_n) = \\prod_{i=1}^{n}p(y_i|\\vec{x}_i)$$\n",
    "\n",
    "Because we’re used to minimizing functions using gradient descent, rather than maximizing the probability, we can instead minimize the negative probability. This is our new error function: \n",
    "\n",
    "$$\n",
    "E(D, h) = - \\prod_{i=1}^{n}p(y_i|x_i)\n",
    "$$\n",
    "\n",
    "Note that this is very similar to RSS, but by using probabilities, we ensure that the output for each instance is always between 0 and 1.\n"
   ]
  },
  {
   "cell_type": "markdown",
   "metadata": {},
   "source": [
    "Following our learning recipe, our next step is to minimize $E(D,h)$ using gradient descent.  \n",
    "\n",
    "Computing the gradient of $E(D,h)$ in its current form is rather hard. So, we can simply transform it to something that’s easier to take the gradient of: \n",
    "\n",
    "$$E(D,h) = - \\ln \\prod_{i=1}^n  p(y_i|\\vec{x}_i) = -\\sum_i \\ln p(y_i|\\vec{x}_i)$$\n",
    "\n",
    "This is called the <span>**negative log likelihood**</span>. It turns out that minimizing \\(f(x)\\) or \\(\\ln f(x)\\) results in the same answer, so we can make this transformation without affecting our final solution.\n"
   ]
  },
  {
   "cell_type": "code",
   "execution_count": 134,
   "metadata": {
    "collapsed": false
   },
   "outputs": [],
   "source": [
    "from math import log\n",
    "\n",
    "def nll(theta, D):\n",
    "    total = 0\n",
    "    for xi, yi in D:\n",
    "        pred = logistic(xi, theta) if yi==1 else 1-logistic(xi, theta)\n",
    "        print('truth=%g  pr(true label)=%g' % (yi, pred))\n",
    "        total += log(pred)\n",
    "    return -total"
   ]
  },
  {
   "cell_type": "markdown",
   "metadata": {},
   "source": [
    "\n",
    "Now we’re ready to calculate the gradient with respect to one parameter $\\theta_j$:\n",
    "\n",
    "$$\n",
    "\\begin{aligned}\n",
    "\\frac{\\partial E(D,h)}{\\partial \\theta_j} & = & \\frac{\\partial}{\\partial \\theta_j}- \\ln \\prod_i \\frac{1}{1 + e^{-y_i x_i \\cdot \\theta}} \\\\\n",
    "& = &  \\frac{\\partial}{\\partial \\theta_j}-  \\sum_i \\ln \\frac{1}{1 + e^{-y_i x_i \\cdot \\theta}} \\quad \\hbox{(by definition of log of products)}\\\\\n",
    "& = &  -  \\sum_i 1 + e^{-y_i x_i \\cdot \\theta} \\frac{\\partial}{\\partial \\theta_j} \\frac{1}{1 + e^{-y_i x_i \\cdot \\theta}} \\quad  \\hbox{  (by }\\frac{d}{dx}\\ln(f(x)) = \\frac{1}{f(x)} \\frac{d}{dx}f(x) ) \\\\\n",
    "& = &  -  \\sum_i (1 + e^{-y_i x_i \\cdot \\theta})\\Big(\\frac{-y_ix_{ij} e^{-y_ix_i \\cdot \\theta}}{(1 + e^{-y_ix_i\\cdot \\theta})^2}\\Big) \\quad \\hbox{    (by quotient and chain rules) }\\\\\n",
    "& = & - \\sum_i \\frac{-y_i x_{ij} e^{-y_i x_i \\cdot \\theta}}{1 + e^{-y_i x_i \\cdot \\theta}} \\quad \\hbox{     (by algebra) }\\\\\n",
    "& = & \\sum_i y_i x_{ij} (1 - p(y_i | x_i)) \\quad \\Big( \\hbox{by }\\frac{e^{-y_i x_i \\cdot \\theta}}{1 + e^{-y_i x_i \\cdot \\theta}} = 1 - p(y_i|x_i) \\Big)\n",
    "\\end{aligned}\n",
    "$$\n",
    "\n",
    "Thus, the final logistic regression update is: \n",
    "\n",
    "$$\n",
    "\\vec{\\theta}_j^{t+1} \\leftarrow \\vec{\\theta}_j^{t} + \\eta \\sum_i y_i x_{ij}(1-p(y_i|\\vec{x}_i))\n",
    "$$\n",
    "\n"
   ]
  },
  {
   "cell_type": "code",
   "execution_count": 135,
   "metadata": {
    "collapsed": true
   },
   "outputs": [],
   "source": [
    "def gradient_logistic(theta, D):\n",
    "    result = np.zeros(len(theta), dtype=np.float64)\n",
    "    for xi, yi in D:\n",
    "        pred = logistic(xi, theta) if yi==1 else 1-logistic(xi, theta)\n",
    "        error = yi * pred\n",
    "        for j, xij in enumerate(xi):\n",
    "            result[j] += error * xij\n",
    "    return result"
   ]
  },
  {
   "cell_type": "code",
   "execution_count": 141,
   "metadata": {
    "collapsed": false
   },
   "outputs": [
    {
     "name": "stdout",
     "output_type": "stream",
     "text": [
      "truth=-1  pr(true label)=0.5\n",
      "truth=1  pr(true label)=0.731059\n",
      "truth=-1  pr(true label)=0.119203\n",
      "truth=-1  pr(true label)=0.119203\n",
      "truth=-1  pr(true label)=0.268941\n",
      "truth=1  pr(true label)=0.880797\n",
      "truth=1  pr(true label)=0.5\n",
      "truth=-1  pr(true label)=0.268941\n",
      "\n",
      "\n",
      "iteration 1\n",
      "truth=-1  pr(true label)=0.5\n",
      "truth=1  pr(true label)=0.708797\n",
      "truth=-1  pr(true label)=0.135614\n",
      "truth=-1  pr(true label)=0.135614\n",
      "truth=-1  pr(true label)=0.291203\n",
      "truth=1  pr(true label)=0.864386\n",
      "truth=1  pr(true label)=0.5\n",
      "truth=-1  pr(true label)=0.276347\n",
      "old error=8.70686   new error=8.39193  theta=[ 0.88954916  0.96265502]\n",
      "\n",
      "\n",
      "\n",
      "\n",
      "iteration 2\n",
      "truth=-1  pr(true label)=0.5\n",
      "truth=1  pr(true label)=0.687504\n",
      "truth=-1  pr(true label)=0.151942\n",
      "truth=-1  pr(true label)=0.151942\n",
      "truth=-1  pr(true label)=0.312496\n",
      "truth=1  pr(true label)=0.848058\n",
      "truth=1  pr(true label)=0.5\n",
      "truth=-1  pr(true label)=0.282727\n",
      "old error=8.39193   new error=8.12073  theta=[ 0.78847403  0.930974  ]\n",
      "\n",
      "\n",
      "\n",
      "\n",
      "iteration 3\n",
      "truth=-1  pr(true label)=0.5\n",
      "truth=1  pr(true label)=0.667424\n",
      "truth=-1  pr(true label)=0.167788\n",
      "truth=-1  pr(true label)=0.167788\n",
      "truth=-1  pr(true label)=0.332576\n",
      "truth=1  pr(true label)=0.832212\n",
      "truth=1  pr(true label)=0.5\n",
      "truth=-1  pr(true label)=0.288059\n",
      "old error=8.12073   new error=7.88988  theta=[ 0.69655599  0.9048294 ]\n",
      "\n",
      "\n",
      "\n",
      "\n",
      "iteration 4\n",
      "truth=-1  pr(true label)=0.5\n",
      "truth=1  pr(true label)=0.648718\n",
      "truth=-1  pr(true label)=0.182817\n",
      "truth=-1  pr(true label)=0.182817\n",
      "truth=-1  pr(true label)=0.351282\n",
      "truth=1  pr(true label)=0.817183\n",
      "truth=1  pr(true label)=0.5\n",
      "truth=-1  pr(true label)=0.292355\n",
      "old error=7.88988   new error=7.69544  theta=[ 0.61340767  0.88397173]\n",
      "\n",
      "\n",
      "\n",
      "\n",
      "iteration 5\n",
      "truth=-1  pr(true label)=0.5\n",
      "truth=1  pr(true label)=0.631466\n",
      "truth=-1  pr(true label)=0.196777\n",
      "truth=-1  pr(true label)=0.196777\n",
      "truth=-1  pr(true label)=0.368534\n",
      "truth=1  pr(true label)=0.803223\n",
      "truth=1  pr(true label)=0.5\n",
      "truth=-1  pr(true label)=0.29566\n",
      "old error=7.69544   new error=7.53326  theta=[ 0.53850913  0.86805228]\n",
      "\n",
      "\n",
      "\n",
      "\n",
      "iteration 6\n",
      "truth=-1  pr(true label)=0.5\n",
      "truth=1  pr(true label)=0.615679\n",
      "truth=-1  pr(true label)=0.209507\n",
      "truth=-1  pr(true label)=0.209507\n",
      "truth=-1  pr(true label)=0.384321\n",
      "truth=1  pr(true label)=0.790493\n",
      "truth=1  pr(true label)=0.5\n",
      "truth=-1  pr(true label)=0.298039\n",
      "old error=7.53326   new error=7.39923  theta=[ 0.47124912  0.85665135]\n",
      "\n",
      "\n",
      "\n",
      "\n",
      "iteration 7\n",
      "truth=-1  pr(true label)=0.5\n",
      "truth=1  pr(true label)=0.601319\n",
      "truth=-1  pr(true label)=0.220927\n",
      "truth=-1  pr(true label)=0.220927\n",
      "truth=-1  pr(true label)=0.398681\n",
      "truth=1  pr(true label)=0.779073\n",
      "truth=1  pr(true label)=0.5\n",
      "truth=-1  pr(true label)=0.299578\n",
      "old error=7.39923   new error=7.28939  theta=[ 0.4109653   0.84930736]\n",
      "\n",
      "\n",
      "\n",
      "\n",
      "iteration 8\n",
      "truth=-1  pr(true label)=0.5\n",
      "truth=1  pr(true label)=0.588309\n",
      "truth=-1  pr(true label)=0.231027\n",
      "truth=-1  pr(true label)=0.231027\n",
      "truth=-1  pr(true label)=0.411691\n",
      "truth=1  pr(true label)=0.768973\n",
      "truth=1  pr(true label)=0.5\n",
      "truth=-1  pr(true label)=0.300369\n",
      "old error=7.28939   new error=7.20017  theta=[ 0.35697953  0.84554326]\n",
      "\n",
      "\n",
      "\n",
      "\n",
      "iteration 9\n",
      "truth=-1  pr(true label)=0.5\n",
      "truth=1  pr(true label)=0.57655\n",
      "truth=-1  pr(true label)=0.239848\n",
      "truth=-1  pr(true label)=0.239848\n",
      "truth=-1  pr(true label)=0.42345\n",
      "truth=1  pr(true label)=0.760152\n",
      "truth=1  pr(true label)=0.5\n",
      "truth=-1  pr(true label)=0.300506\n",
      "old error=7.20017   new error=7.12833  theta=[ 0.30862573  0.84488814]\n",
      "\n",
      "\n",
      "\n",
      "\n",
      "iteration 10\n",
      "truth=-1  pr(true label)=0.5\n",
      "truth=1  pr(true label)=0.565931\n",
      "truth=-1  pr(true label)=0.247468\n",
      "truth=-1  pr(true label)=0.247468\n",
      "truth=-1  pr(true label)=0.434069\n",
      "truth=1  pr(true label)=0.752532\n",
      "truth=1  pr(true label)=0.5\n",
      "truth=-1  pr(true label)=0.300085\n",
      "old error=7.12833   new error=7.07108  theta=[ 0.26527013  0.84689312]\n",
      "\n",
      "\n",
      "\n",
      "\n",
      "iteration 11\n",
      "truth=-1  pr(true label)=0.5\n",
      "truth=1  pr(true label)=0.556341\n",
      "truth=-1  pr(true label)=0.253986\n",
      "truth=-1  pr(true label)=0.253986\n",
      "truth=-1  pr(true label)=0.443659\n",
      "truth=1  pr(true label)=0.746014\n",
      "truth=1  pr(true label)=0.5\n",
      "truth=-1  pr(true label)=0.299193\n",
      "old error=7.07108   new error=7.026  theta=[ 0.2263242   0.85114197]\n",
      "\n",
      "\n",
      "\n",
      "\n",
      "iteration 12\n",
      "truth=-1  pr(true label)=0.5\n",
      "truth=1  pr(true label)=0.547668\n",
      "truth=-1  pr(true label)=0.259512\n",
      "truth=-1  pr(true label)=0.259512\n",
      "truth=-1  pr(true label)=0.452332\n",
      "truth=1  pr(true label)=0.740488\n",
      "truth=1  pr(true label)=0.5\n",
      "truth=-1  pr(true label)=0.297913\n",
      "old error=7.026   new error=6.99103  theta=[ 0.19125179  0.85725705]\n",
      "\n",
      "\n",
      "\n",
      "\n",
      "iteration 13\n",
      "truth=-1  pr(true label)=0.5\n",
      "truth=1  pr(true label)=0.539808\n",
      "truth=-1  pr(true label)=0.264157\n",
      "truth=-1  pr(true label)=0.264157\n",
      "truth=-1  pr(true label)=0.460192\n",
      "truth=1  pr(true label)=0.735843\n",
      "truth=1  pr(true label)=0.5\n",
      "truth=-1  pr(true label)=0.296316\n",
      "old error=6.99103   new error=6.96444  theta=[ 0.15957171  0.86490179]\n",
      "\n",
      "\n",
      "\n",
      "\n",
      "iteration 14\n",
      "truth=-1  pr(true label)=0.5\n",
      "truth=1  pr(true label)=0.532668\n",
      "truth=-1  pr(true label)=0.268031\n",
      "truth=-1  pr(true label)=0.268031\n",
      "truth=-1  pr(true label)=0.467332\n",
      "truth=1  pr(true label)=0.731969\n",
      "truth=1  pr(true label)=0.5\n",
      "truth=-1  pr(true label)=0.294468\n",
      "old error=6.96444   new error=6.94478  theta=[ 0.13085709  0.87378049]\n",
      "\n",
      "\n",
      "\n",
      "\n",
      "iteration 15\n",
      "truth=-1  pr(true label)=0.5\n",
      "truth=1  pr(true label)=0.526159\n",
      "truth=-1  pr(true label)=0.271234\n",
      "truth=-1  pr(true label)=0.271234\n",
      "truth=-1  pr(true label)=0.473841\n",
      "truth=1  pr(true label)=0.728766\n",
      "truth=1  pr(true label)=0.5\n",
      "truth=-1  pr(true label)=0.292425\n",
      "old error=6.94478   new error=6.93083  theta=[ 0.10473274  0.8836365 ]\n",
      "\n",
      "\n",
      "\n",
      "\n",
      "iteration 16\n",
      "truth=-1  pr(true label)=0.5\n",
      "truth=1  pr(true label)=0.520207\n",
      "truth=-1  pr(true label)=0.273861\n",
      "truth=-1  pr(true label)=0.273861\n",
      "truth=-1  pr(true label)=0.479793\n",
      "truth=1  pr(true label)=0.726139\n",
      "truth=1  pr(true label)=0.5\n",
      "truth=-1  pr(true label)=0.290234\n",
      "old error=6.93083   new error=6.92157  theta=[ 0.08087117  0.89424926]\n",
      "\n",
      "\n"
     ]
    },
    {
     "data": {
      "text/plain": [
       "array([ 0.08087117,  0.89424926])"
      ]
     },
     "execution_count": 141,
     "metadata": {},
     "output_type": "execute_result"
    },
    {
     "data": {
      "image/png": "[encoded data removed]",
      "text/plain": [
       "<matplotlib.figure.Figure at 0x1073e0438>"
      ]
     },
     "metadata": {},
     "output_type": "display_data"
    }
   ],
   "source": [
    "theta = npa([1.,1.])\n",
    "gradient_descent(logistic, gradient_logistic, nll, theta, .1, D, .01, 50)"
   ]
  },
  {
   "cell_type": "code",
   "execution_count": 142,
   "metadata": {
    "collapsed": false
   },
   "outputs": [
    {
     "name": "stdout",
     "output_type": "stream",
     "text": [
      "truth=-1  pr(true label)=0.5\n",
      "truth=1  pr(true label)=0.731059\n",
      "truth=-1  pr(true label)=0.119203\n",
      "truth=-1  pr(true label)=0.119203\n",
      "truth=-1  pr(true label)=0.268941\n",
      "truth=1  pr(true label)=0.880797\n",
      "truth=1  pr(true label)=0.5\n",
      "truth=-1  pr(true label)=0.268941\n",
      "\n",
      "\n",
      "iteration 1\n",
      "truth=-1  pr(true label)=0.5\n",
      "truth=1  pr(true label)=0.529066\n",
      "truth=-1  pr(true label)=0.306266\n",
      "truth=-1  pr(true label)=0.306266\n",
      "truth=-1  pr(true label)=0.470934\n",
      "truth=1  pr(true label)=0.693734\n",
      "truth=1  pr(true label)=0.5\n",
      "truth=-1  pr(true label)=0.331537\n",
      "old error=8.70686   new error=6.61226  theta=[ 0.11639329  0.70124015]\n",
      "\n",
      "\n",
      "\n",
      "\n",
      "iteration 2\n",
      "truth=-1  pr(true label)=0.5\n",
      "truth=1  pr(true label)=0.501232\n",
      "truth=-1  pr(true label)=0.28773\n",
      "truth=-1  pr(true label)=0.28773\n",
      "truth=-1  pr(true label)=0.498768\n",
      "truth=1  pr(true label)=0.71227\n",
      "truth=1  pr(true label)=0.5\n",
      "truth=-1  pr(true label)=0.28874\n",
      "old error=6.61226   new error=6.84559  theta=[ 0.00492745  0.901509  ]\n",
      "\n",
      "\n"
     ]
    },
    {
     "data": {
      "text/plain": [
       "array([ 0.00492745,  0.901509  ])"
      ]
     },
     "execution_count": 142,
     "metadata": {},
     "output_type": "execute_result"
    },
    {
     "data": {
      "image/png": "[encoded data removed]",
      "text/plain": [
       "<matplotlib.figure.Figure at 0x10581d860>"
      ]
     },
     "metadata": {},
     "output_type": "display_data"
    }
   ],
   "source": [
    "# What if learning rate too big?\n",
    "theta = npa([1.,1.])\n",
    "gradient_descent(logistic, gradient_logistic, nll, theta, .8, D, .01, 50)\n",
    "# We stop too early!"
   ]
  },
  {
   "cell_type": "markdown",
   "metadata": {},
   "source": [
    "probability. This is our new error function: \n",
    "\n",
    "$$\n",
    "E(D, h) = - \\prod_{i=1}^{n}p(y_i|x_i) + \\lambda \\sum_k \\theta_k^2\n",
    "$$"
   ]
  }
 ],
 "metadata": {
  "kernelspec": {
   "display_name": "Python 3",
   "language": "python",
   "name": "python3"
  },
  "language_info": {
   "codemirror_mode": {
    "name": "ipython",
    "version": 3
   },
   "file_extension": ".py",
   "mimetype": "text/x-python",
   "name": "python",
   "nbconvert_exporter": "python",
   "pygments_lexer": "ipython3",
   "version": "3.5.0"
  }
 },
 "nbformat": 4,
 "nbformat_minor": 0
}
