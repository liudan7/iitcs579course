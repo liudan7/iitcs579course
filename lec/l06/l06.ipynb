{
 "cells": [
  {
   "cell_type": "markdown",
   "metadata": {},
   "source": [
    "# CS579: Lecture 06  \n",
    "** Graph Partitioning **\n",
    "\n",
    "*[Dr. Aron Culotta](http://cs.iit.edu/~culotta)*  \n",
    "*[Illinois Institute of Technology](http://iit.edu)*"
   ]
  },
  {
   "cell_type": "markdown",
   "metadata": {
    "slideshow": {
     "slide_type": "slide"
    }
   },
   "source": [
    "Recall the network from last lecture:\n",
    "\n",
    "![network](network.png)\n",
    "\n",
    "We identified edge $(B,D)$ as a good candidate to remove to create two clusters based on *betweenness*."
   ]
  },
  {
   "cell_type": "markdown",
   "metadata": {
    "slideshow": {
     "slide_type": "slide"
    }
   },
   "source": [
    "Today we'll discuss an alternative clustering approach based on *graph cuts.*\n",
    "\n",
    "- A **cut** $C=(S,T)$ partitions the vertices $V$ of a graph into two subsets $S$ and $T$.\n",
    "- The **cut-set** of $C$ is the set of edges that have one endpoint in $S$ and the other in $T$\n"
   ]
  },
  {
   "cell_type": "markdown",
   "metadata": {
    "slideshow": {
     "slide_type": "slide"
    }
   },
   "source": [
    "**What makes a good cut?**\n",
    "\n",
    "![partition](partition.png)\n",
    "\n",
    "The cut-set $\\{(H,C)\\}$ is smaller than the set $\\{(B,D), (C,G)\\}$. \n",
    "\n",
    "Why might we not like cut $\\{(H,C)\\}$?"
   ]
  },
  {
   "cell_type": "markdown",
   "metadata": {
    "slideshow": {
     "slide_type": "slide"
    }
   },
   "source": [
    "A good cut is:\n",
    "\n",
    "- small\n",
    "- balanced"
   ]
  },
  {
   "cell_type": "markdown",
   "metadata": {
    "slideshow": {
     "slide_type": "slide"
    }
   },
   "source": [
    "$Vol(S)$: **volume** of a set of $S$ nodes is the number of edges with at least one end in $S$.\n",
    "\n",
    "![partition](partition.png)\n",
    "\n",
    "$Vol(\\{A,B,C\\})=6$"
   ]
  },
  {
   "cell_type": "markdown",
   "metadata": {
    "slideshow": {
     "slide_type": "slide"
    }
   },
   "source": [
    "Let $Cut(S,T)$ be the number of edges in cut-set of cut $C=(S,T)$ (the cut **size**).\n",
    "\n",
    "The **normalized cut value** for $(S,T)$ is:\n",
    "\n",
    "$$NCV(S,T) = \\frac{Cut(S,T)}{Vol(S)} + \\frac{Cut(S,T)}{Vol(T)}$$\n",
    "\n",
    "![partition](partition.png)\n",
    "\n",
    "Example:\n",
    "\n",
    "Consider the cut where $S=\\{H\\}$ and $T=\\{A,B,C,D,E,F,G\\}$.\n",
    "\n",
    "- $Cut(S,T) = 1$\n",
    "- $Vol(S) = 1$\n",
    "- $Vol(T) = 11$\n",
    "- $NCV(S,T) = \\frac{1}{1} + \\frac{1}{11} = 1.09$\n"
   ]
  },
  {
   "cell_type": "markdown",
   "metadata": {
    "slideshow": {
     "slide_type": "slide"
    }
   },
   "source": [
    "![partition](partition.png)\n",
    "\n",
    "Example:\n",
    "\n",
    "Consider the cut where $S=\\{A,B,C,H\\}$ and $T=\\{D,E,F,G\\}$.\n",
    "\n",
    "- $Cut(S,T) = 2$\n",
    "- $Vol(S) = 6$\n",
    "- $Vol(T) = 7$\n",
    "- $NCV(S,T) = \\frac{2}{6} + \\frac{2}{7} = 0.62$\n",
    "\n",
    "So, if one part of the cut has a small volume, the normalized cut value will be large."
   ]
  },
  {
   "cell_type": "markdown",
   "metadata": {},
   "source": [
    "**Problem:** How do we identify the cut with the smallest normalized cut value?\n",
    "\n",
    "<br><br><br><br>\n",
    "Like most good things, it is NP-hard."
   ]
  },
  {
   "cell_type": "markdown",
   "metadata": {},
   "source": [
    "**Linear algebra to the rescue!**\n",
    "\n",
    "Below, we describe a way to approximate the optimal cuts using eigenvalue decomposition."
   ]
  },
  {
   "cell_type": "markdown",
   "metadata": {
    "slideshow": {
     "slide_type": "slide"
    }
   },
   "source": [
    "** Representing Graphs with Matrices **\n",
    "\n",
    "- **Adjacency matrix** $A$:  &nbsp;&nbsp;&nbsp; $A[i, j] = 1$ iff there is an edge from $i$ to $j$.\n",
    "- **Degree matrix** $D$:  &nbsp;&nbsp;&nbsp;&nbsp;&nbsp;&nbsp;&nbsp; $D[i, i] = deg(i)$, else 0\n",
    "\n"
   ]
  },
  {
   "cell_type": "code",
   "execution_count": 17,
   "metadata": {
    "collapsed": false,
    "slideshow": {
     "slide_type": "slide"
    }
   },
   "outputs": [
    {
     "data": {
      "image/png": "[encoded data removed]",
      "text/plain": [
       "<matplotlib.figure.Figure at 0x110568610>"
      ]
     },
     "metadata": {},
     "output_type": "display_data"
    }
   ],
   "source": [
    "%matplotlib inline \n",
    "import networkx as nx\n",
    "graph = nx.Graph()\n",
    "graph.add_edges_from([('A', 'B'), ('A', 'C'), ('B', 'C'), ('B', 'D'), ('D', 'E'), ('D', 'F'), ('D', 'G'), ('E', 'F'), ('G', 'F')])\n",
    "nx.draw(graph, with_labels=True)"
   ]
  },
  {
   "cell_type": "code",
   "execution_count": 18,
   "metadata": {
    "collapsed": false,
    "slideshow": {
     "slide_type": "-"
    }
   },
   "outputs": [
    {
     "name": "stdout",
     "output_type": "stream",
     "text": [
      "Adjacency matrix:\n",
      "[[0 1 1 0 0 0 0]\n",
      " [1 0 1 1 0 0 0]\n",
      " [1 1 0 0 0 0 0]\n",
      " [0 1 0 0 1 1 1]\n",
      " [0 0 0 1 0 1 0]\n",
      " [0 0 0 1 1 0 1]\n",
      " [0 0 0 1 0 1 0]]\n"
     ]
    }
   ],
   "source": [
    "# Print the adjacency matrix.\n",
    "def adjacency_matrix(graph):\n",
    "    return nx.adjacency_matrix(graph, sorted(graph.nodes()))\n",
    "\n",
    "adjacency = adjacency_matrix(graph)\n",
    "print 'Adjacency matrix:\\n', adjacency.todense()"
   ]
  },
  {
   "cell_type": "code",
   "execution_count": 19,
   "metadata": {
    "collapsed": false,
    "slideshow": {
     "slide_type": "-"
    }
   },
   "outputs": [
    {
     "name": "stdout",
     "output_type": "stream",
     "text": [
      "Degree matrix:\n",
      "[[2 0 0 0 0 0 0]\n",
      " [0 3 0 0 0 0 0]\n",
      " [0 0 2 0 0 0 0]\n",
      " [0 0 0 4 0 0 0]\n",
      " [0 0 0 0 2 0 0]\n",
      " [0 0 0 0 0 3 0]\n",
      " [0 0 0 0 0 0 2]]\n"
     ]
    }
   ],
   "source": [
    "# Print the degree matrix.\n",
    "import numpy as np\n",
    "\n",
    "def degree_matrix(graph):\n",
    "    degrees = graph.degree().items()\n",
    "    degrees = sorted(degrees, key=lambda x: x[0])\n",
    "    degrees = [d[1] for d in degrees]\n",
    "    return np.diag(degrees)\n",
    "\n",
    "degree = degree_matrix(graph)\n",
    "print 'Degree matrix:\\n', degree"
   ]
  },
  {
   "cell_type": "markdown",
   "metadata": {},
   "source": [
    "**Laplacian matrix** $L = D - A$"
   ]
  },
  {
   "cell_type": "code",
   "execution_count": 20,
   "metadata": {
    "collapsed": false
   },
   "outputs": [
    {
     "name": "stdout",
     "output_type": "stream",
     "text": [
      "Laplacian matrix:\n",
      "[[ 2 -1 -1  0  0  0  0]\n",
      " [-1  3 -1 -1  0  0  0]\n",
      " [-1 -1  2  0  0  0  0]\n",
      " [ 0 -1  0  4 -1 -1 -1]\n",
      " [ 0  0  0 -1  2 -1  0]\n",
      " [ 0  0  0 -1 -1  3 -1]\n",
      " [ 0  0  0 -1  0 -1  2]]\n"
     ]
    }
   ],
   "source": [
    "def laplacian_matrix(graph):\n",
    "    return degree_matrix(graph) - adjacency_matrix(graph)\n",
    "\n",
    "laplacian = laplacian_matrix(graph)\n",
    "print 'Laplacian matrix:\\n', laplacian"
   ]
  },
  {
   "cell_type": "markdown",
   "metadata": {
    "slideshow": {
     "slide_type": "slide"
    }
   },
   "source": [
    "**Properties of Laplacian matrix:**\n",
    "- rows sum to 0; columns sum to 0\n",
    "- symmetric\n",
    "- positive-semidefinite &nbsp;&nbsp; ($z^TLz \\ge 0$ &nbsp;&nbsp;&nbsp; $\\forall $ nonzero $z$)\n"
   ]
  },
  {
   "cell_type": "markdown",
   "metadata": {
    "slideshow": {
     "slide_type": "slide"
    }
   },
   "source": [
    "** Recall that a matrix is a type of linear transformation.**\n",
    "\n",
    "For an arbitrary vector $v$, what does $Lv$ mean?"
   ]
  },
  {
   "cell_type": "code",
   "execution_count": 21,
   "metadata": {
    "collapsed": false,
    "slideshow": {
     "slide_type": "slide"
    }
   },
   "outputs": [
    {
     "data": {
      "image/png": "[encoded data removed]",
      "text/plain": [
       "<matplotlib.figure.Figure at 0x113b5a4d0>"
      ]
     },
     "metadata": {},
     "output_type": "display_data"
    }
   ],
   "source": [
    "# For a smaller graph.\n",
    "graph2 = nx.Graph()\n",
    "graph2.add_edges_from([('A', 'B'), ('B', 'C')])\n",
    "nx.draw(graph2, with_labels=True)"
   ]
  },
  {
   "cell_type": "code",
   "execution_count": 22,
   "metadata": {
    "collapsed": false
   },
   "outputs": [
    {
     "name": "stdout",
     "output_type": "stream",
     "text": [
      "[[ 1 -1  0]\n",
      " [-1  2 -1]\n",
      " [ 0 -1  1]]\n"
     ]
    }
   ],
   "source": [
    "laplacian2 = laplacian_matrix(graph2)\n",
    "print laplacian2"
   ]
  },
  {
   "cell_type": "markdown",
   "metadata": {},
   "source": [
    "Let $v$ be a map from nodes to real values. \n",
    "\n",
    "E.g., $v = \\{f(A), f(B), f(C)\\}$\n",
    "\n",
    "Then, $Lv$ is:\n",
    "\n",
    "$$ \\begin{pmatrix}\n",
    "  1 & -1 & 0 \\\\\n",
    "  -1 & 2 & -1 \\\\\n",
    "  0 & -1 & 1\n",
    " \\end{pmatrix}\n",
    " \\begin{pmatrix}\n",
    " f(A)\\\\\n",
    " f(B)\\\\\n",
    " f(C)\\\\\n",
    " \\end{pmatrix}\n",
    " =\n",
    " \\begin{pmatrix}\n",
    "  f(A) - f(B)\\\\\n",
    "  -f(A) + 2f(B) - f(C)\\\\\n",
    "  -f(B) + f(C)\n",
    " \\end{pmatrix}$$\n",
    " \n",
    "More generally:\n",
    "\n",
    "$Lv[i]= [deg(i) ∗ (f(i) − $average of $f$ on neighbors of $i)]$\n"
   ]
  },
  {
   "cell_type": "code",
   "execution_count": 23,
   "metadata": {
    "collapsed": false
   },
   "outputs": [
    {
     "name": "stdout",
     "output_type": "stream",
     "text": [
      "[[-1  0  1]]\n"
     ]
    }
   ],
   "source": [
    "print laplacian2.dot([1,2,3])"
   ]
  },
  {
   "cell_type": "code",
   "execution_count": 8,
   "metadata": {
    "collapsed": false
   },
   "outputs": [
    {
     "name": "stdout",
     "output_type": "stream",
     "text": [
      "[[ 1  0 -1]]\n"
     ]
    }
   ],
   "source": [
    "print laplacian2.dot([3,2,1])"
   ]
  },
  {
   "cell_type": "markdown",
   "metadata": {
    "slideshow": {
     "slide_type": "slide"
    }
   },
   "source": [
    "** Review of Linear Algebra**\n",
    "\n",
    "A vector $\\mathbf{v}$ of dimension $n$ is an **eigenvector **of a square $(n×n)$ matrix $A$ if and only if \n",
    "$$ A \\mathbf{v} = \\lambda \\mathbf{v}  $$\n",
    "\n",
    "where $\\lambda$ is a scalar, called an **eigenvalue**.\n",
    "\n",
    "Assume $A$ has $n$ linearly independent eigenvectors, $\\{\\mathbf{v}_1 \\ldots \\mathbf{v}_n\\}$. \n",
    "\n",
    "Let $V$ be a square matrix where column $i$ is $\\mathbf{v}_i$.\n",
    "\n",
    "Then A can be factorized as\n",
    "$A=V \\Lambda V^{-1}  $ where\n",
    "\n",
    "$\\Lambda$ is a diagonal matrix of eigenvalues: $\\Lambda[i, i]=\\lambda_i$."
   ]
  },
  {
   "cell_type": "markdown",
   "metadata": {
    "slideshow": {
     "slide_type": "slide"
    }
   },
   "source": [
    "![eval](http://upload.wikimedia.org/wikipedia/commons/thumb/5/58/Eigenvalue_equation.svg/375px-Eigenvalue_equation.svg.png)\n",
    "\n",
    "[source](http://en.wikipedia.org/wiki/Eigenvalues_and_eigenvectors)"
   ]
  },
  {
   "cell_type": "markdown",
   "metadata": {
    "slideshow": {
     "slide_type": "slide"
    }
   },
   "source": [
    "**What happens when we compute the eigenvalue decomposition of the Laplacian $L$**?\n",
    "\n",
    "- Smallest eigenvalue $\\lambda_0=0$\n",
    "  - Corresponding eigenvector $\\mathbf{v}_0 = \\mathbf{1}$"
   ]
  },
  {
   "cell_type": "code",
   "execution_count": 24,
   "metadata": {
    "collapsed": false,
    "slideshow": {
     "slide_type": "slide"
    }
   },
   "outputs": [
    {
     "data": {
      "text/plain": [
       "matrix([[0, 0, 0]])"
      ]
     },
     "execution_count": 24,
     "metadata": {},
     "output_type": "execute_result"
    }
   ],
   "source": [
    "laplacian2.dot([1,1,1])"
   ]
  },
  {
   "cell_type": "markdown",
   "metadata": {
    "slideshow": {
     "slide_type": "slide"
    }
   },
   "source": [
    "**What about second eigenvector?**\n"
   ]
  },
  {
   "cell_type": "code",
   "execution_count": 26,
   "metadata": {
    "collapsed": false,
    "slideshow": {
     "slide_type": "slide"
    }
   },
   "outputs": [
    {
     "name": "stdout",
     "output_type": "stream",
     "text": [
      "first eigen value=-0.00\n",
      "first (normalized) eigen vector=\n",
      "[[-0.37796447]\n",
      " [-0.37796447]\n",
      " [-0.37796447]\n",
      " [-0.37796447]\n",
      " [-0.37796447]\n",
      " [-0.37796447]\n",
      " [-0.37796447]]\n"
     ]
    }
   ],
   "source": [
    "from numpy.linalg import eigh\n",
    "eig_vals, eig_vectors = eigh(laplacian)\n",
    "print 'first eigen value=%.2f' % eig_vals[0]\n",
    "print 'first (normalized) eigen vector=\\n%s' % eig_vectors[:,0]"
   ]
  },
  {
   "cell_type": "code",
   "execution_count": 27,
   "metadata": {
    "collapsed": false
   },
   "outputs": [
    {
     "name": "stdout",
     "output_type": "stream",
     "text": [
      "second eigen value=0.40\n",
      "second eigen vector=\n",
      "[[ 0.4928865 ]\n",
      " [ 0.29655952]\n",
      " [ 0.4928865 ]\n",
      " [-0.21422028]\n",
      " [-0.35603741]\n",
      " [-0.35603741]\n",
      " [-0.35603741]]\n"
     ]
    },
    {
     "data": {
      "image/png": "[encoded data removed]",
      "text/plain": [
       "<matplotlib.figure.Figure at 0x113d61190>"
      ]
     },
     "metadata": {},
     "output_type": "display_data"
    }
   ],
   "source": [
    "print 'second eigen value=%.2f' % eig_vals[1]\n",
    "print 'second eigen vector=\\n%s' % eig_vectors[:,1]\n",
    "nx.draw(graph, with_labels=True)"
   ]
  },
  {
   "cell_type": "markdown",
   "metadata": {},
   "source": [
    "What do you notice about the second eigenvector?\n",
    "\n",
    "<br><br><br><br>"
   ]
  },
  {
   "cell_type": "markdown",
   "metadata": {},
   "source": [
    "We can think of eigenvectors as the cluster assignment to each node.\n",
    "\n",
    "E.g., nodes with negative values are in cluster 1, nodes with positive values are in cluster 2."
   ]
  },
  {
   "cell_type": "markdown",
   "metadata": {
    "slideshow": {
     "slide_type": "slide"
    }
   },
   "source": [
    "**From eigenvalues to clustering**\n",
    "\n",
    "Method 1:\n",
    "- Compute decomposition and examine second eigenvector\n",
    "- Place nodes of positive values in cluster 1, negative values in cluster 2."
   ]
  },
  {
   "cell_type": "markdown",
   "metadata": {
    "slideshow": {
     "slide_type": "slide"
    }
   },
   "source": [
    "**From eigenvalues to clustering**\n",
    "\n",
    "Method 2:\n",
    "- Compute decomposition and examine second eigenvector\n",
    "- Place nodes of values greather than $\\tau$ in cluster 1, and the remaineder in cluster 2.\n",
    "  - The threshold $\\tau$ will determine balance of clustering\n",
    "  - E.g., for $\\tau=-.3$?"
   ]
  },
  {
   "cell_type": "markdown",
   "metadata": {
    "slideshow": {
     "slide_type": "slide"
    }
   },
   "source": [
    "**Partitioning into more than 2 components?**\n",
    "\n",
    "- Just recursively repeat the above procedure."
   ]
  },
  {
   "cell_type": "markdown",
   "metadata": {
    "slideshow": {
     "slide_type": "slide"
    }
   },
   "source": [
    "**Partitioning into more than 2 components?**\n",
    "\n",
    "- Or, consider multiple eigen vectors simultaneously."
   ]
  },
  {
   "cell_type": "code",
   "execution_count": 29,
   "metadata": {
    "collapsed": false,
    "slideshow": {
     "slide_type": "slide"
    }
   },
   "outputs": [
    {
     "name": "stdout",
     "output_type": "stream",
     "text": [
      "third eigen value=2.00\n",
      "third eigen vector=\n",
      "[[  7.61771655e-17]\n",
      " [  1.92527950e-16]\n",
      " [ -1.92527950e-16]\n",
      " [  4.01736195e-17]\n",
      " [  7.07106781e-01]\n",
      " [  7.02923822e-17]\n",
      " [ -7.07106781e-01]]\n"
     ]
    }
   ],
   "source": [
    "print 'third eigen value=%.2f' % eig_vals[2]\n",
    "print 'third eigen vector=\\n%s' % eig_vectors[:,2]"
   ]
  },
  {
   "cell_type": "markdown",
   "metadata": {},
   "source": [
    "$\\mathbf{v}_1: \\{A,B,C\\}, \\{D,E,F,G\\}$\n",
    "\n",
    "$\\mathbf{v}_2: \\{A,B,D,E,F\\}, \\{C,G\\}$"
   ]
  },
  {
   "cell_type": "code",
   "execution_count": 30,
   "metadata": {
    "collapsed": false,
    "slideshow": {
     "slide_type": "slide"
    }
   },
   "outputs": [
    {
     "name": "stdout",
     "output_type": "stream",
     "text": [
      "fourth eigen value=3.00\n",
      "fourth eigen vector=\n",
      "[[ -7.07106781e-01]\n",
      " [  1.88737914e-15]\n",
      " [  7.07106781e-01]\n",
      " [  9.99200722e-16]\n",
      " [ -3.88578059e-16]\n",
      " [ -3.33066907e-16]\n",
      " [ -8.04911693e-16]]\n"
     ]
    }
   ],
   "source": [
    "print 'fourth eigen value=%.2f' % eig_vals[3]\n",
    "print 'fourth eigen vector=\\n%s' % eig_vectors[:,3]"
   ]
  },
  {
   "cell_type": "markdown",
   "metadata": {},
   "source": [
    "$\\mathbf{v}_1: \\{A,B,C\\}, \\{D,E,F,G\\}$\n",
    "\n",
    "$\\mathbf{v}_2: \\{A,B,C,D,E\\}, \\{C,G\\}$\n",
    "    \n",
    "$\\mathbf{v}_3: \\{A,E,F,G\\}, \\{B,C,D\\}$"
   ]
  }
 ],
 "metadata": {
  "kernelspec": {
   "display_name": "Python 3",
   "language": "python",
   "name": "python3"
  },
  "language_info": {
   "codemirror_mode": {
    "name": "ipython",
    "version": 3
   },
   "file_extension": ".py",
   "mimetype": "text/x-python",
   "name": "python",
   "nbconvert_exporter": "python",
   "pygments_lexer": "ipython3",
   "version": "3.5.0"
  }
 },
 "nbformat": 4,
 "nbformat_minor": 0
}
