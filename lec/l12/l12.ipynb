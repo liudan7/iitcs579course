{
 "cells": [
  {
   "cell_type": "markdown",
   "metadata": {
    "slideshow": {
     "slide_type": "slide"
    }
   },
   "source": [
    "# CS579: Lecture 12  \n",
    "\n",
    "** Demographic Inference I**\n",
    "\n",
    "*[Dr. Aron Culotta](http://cs.iit.edu/~culotta)*  \n",
    "*[Illinois Institute of Technology](http://iit.edu)*"
   ]
  },
  {
   "cell_type": "markdown",
   "metadata": {},
   "source": [
    "# Midterm review \n",
    "\n",
    "~5 True/False, ~6 short answer\n",
    " \n",
    "**Topics:** \n",
    "- Twitter API \n",
    " - what comes in a tweet? \n",
    " - how do rate limits work? \n",
    " - can you understand API documentation? \n",
    "- graph basics: \n",
    " - directed/undirected \n",
    " - path \n",
    " - cycle \n",
    " - connected \n",
    " - connected component \n",
    " - degree (distribution) \n",
    " - diameter \n",
    " - average path length \n",
    " - clustering coefficient \n",
    "- modeling networks \n",
    " - random graphs \n",
    " - regular graphs \n",
    " - rewired graphs \n",
    " - what makes a small world? \n",
    "- community detection \n",
    " - girvan-newman (betweenness) \n",
    " - graph cuts \n",
    " - representing graphs with matrices \n",
    " - graph laplacian \n",
    "- link prediction \n",
    " - shortest path \n",
    " - common neighbors \n",
    " - jaccard \n",
    " - preferential attachment \n",
    " - sim rank \n",
    " - evaluation \n",
    "- information cascades \n",
    " - urn experiment \n",
    " - bayes' theorem for decision making \n",
    " - game-theoretic model \n",
    " - maximizing payoff \n",
    "\t- cluster density \n",
    "- sentiment analysis \n",
    " - lexicon approach \n",
    " - machine learning \n",
    " \n",
    "**Question types:** \n",
    "- What does this algorithm output? \n",
    " - E.g., what is jaccard score for a specific link? \n",
    " - E.g., what is the next step in girvan-newman? \n",
    "- What does this code do? \n",
    " - E.g., I give you a new graph-generating algorithm, tell me what it produces \n",
    "- Write a new algorithm \n",
    " - E.g., provide pseudo-code the linear-threshold cascade model \n",
    "- True/False \n",
    " - E.g., small world graphs have higher clustering coefficients than random graphs."
   ]
  },
  {
   "cell_type": "markdown",
   "metadata": {
    "slideshow": {
     "slide_type": "slide"
    }
   },
   "source": [
    "**dem·o·graph·ics**\n",
    "\n",
    "statistical data relating to the population and particular groups within it.\n",
    "\n",
    "E.g., age, ethnicity, gender, income, ..."
   ]
  },
  {
   "cell_type": "markdown",
   "metadata": {
    "slideshow": {
     "slide_type": "slide"
    }
   },
   "source": [
    "# Why Demographics?\n",
    "\n",
    "- Marketing\n",
    "  - Who are my customers?\n",
    "  - Who are my competitors' customers?\n",
    "  - E.g., [DemographicsPro](http://www.demographicspro.com/samples#c=%40FamilyGuyonFOX)\n",
    "  \n",
    "- Social Media as Surveys\n",
    "  - E.g., 45% of tweets express positive sentiment toward Pres. Obama\n",
    "  - Who wrote those tweets?\n",
    "  \n",
    "- Health\n",
    "  - 2% of Facebook users are expressing flu-like symptoms\n",
    "  - Are they representative of the full population?\n",
    "\n"
   ]
  },
  {
   "cell_type": "markdown",
   "metadata": {
    "slideshow": {
     "slide_type": "slide"
    }
   },
   "source": [
    "** User profiles vary from site to site. **"
   ]
  },
  {
   "cell_type": "markdown",
   "metadata": {
    "slideshow": {
     "slide_type": "slide"
    }
   },
   "source": [
    "![rahm](rahm.png)"
   ]
  },
  {
   "cell_type": "markdown",
   "metadata": {
    "slideshow": {
     "slide_type": "slide"
    }
   },
   "source": [
    "![rahm-fb](rahm-fb.png)"
   ]
  },
  {
   "cell_type": "markdown",
   "metadata": {
    "slideshow": {
     "slide_type": "slide"
    }
   },
   "source": [
    "![rahm-li](rahm-li.png)"
   ]
  },
  {
   "cell_type": "markdown",
   "metadata": {
    "slideshow": {
     "slide_type": "slide"
    }
   },
   "source": [
    "# Approaches\n",
    "\n",
    "- Clever use of external data\n",
    "  - E.g., U.S. Census name lists for gender\n",
    "- Look for keywords in profile\n",
    "  - \"African American Male\"\n",
    "  - \"Happy 21st birthday to me\"\n",
    "- Machine Learning"
   ]
  },
  {
   "cell_type": "code",
   "execution_count": 1,
   "metadata": {
    "collapsed": false,
    "slideshow": {
     "slide_type": "slide"
    }
   },
   "outputs": [
    {
     "name": "stdout",
     "output_type": "stream",
     "text": [
      "100 tweets\n",
      "200 tweets\n",
      "300 tweets\n",
      "400 tweets\n",
      "500 tweets\n",
      "600 tweets\n",
      "700 tweets\n",
      "800 tweets\n",
      "900 tweets\n",
      "1000 tweets\n",
      "fetched 1000 tweets\n"
     ]
    }
   ],
   "source": [
    "# Guessing gender\n",
    "import configparser\n",
    "import sys\n",
    "from TwitterAPI import TwitterAPI\n",
    "\n",
    "def get_twitter(config_file):\n",
    "    \"\"\" Read the config_file and construct an instance of TwitterAPI.\n",
    "    Args:\n",
    "      config_file ... A config file in ConfigParser format with Twitter credentials\n",
    "    Returns:\n",
    "      An instance of TwitterAPI.\n",
    "    \"\"\"\n",
    "    #config = configparser.ConfigParser()\n",
    "    #config.read(config_file)\n",
    "    #twitter = TwitterAPI(\n",
    "    #               config.get('twitter', 'consumer_key'),\n",
    "    #               config.get('twitter', 'consumer_secret'),\n",
    "    #               config.get('twitter', 'access_token'),\n",
    "    #               config.get('twitter', 'access_token_secret'))\n",
    "    \n",
    "    #my info\n",
    "    consumer_key = 'Q6sCDic9j8mNMhZB2BysN69vr'\n",
    "    consumer_secret = 'FdaQjrFThC0F3xddTZ1WnwhNmCtw08es0X1EIMCloQmOfxUc47'\n",
    "    access_token = '3584891536-Lm7t8eHMyf9l0MDXVdXwL4gj2xKZJ6EHzxp85ev'\n",
    "    access_token_secret = 'cajDlqGO2ExbHh0cRLK4WOyzw1i5E7Q4EIIi4qe99EoG2'\n",
    "    twitter = TwitterAPI(consumer_key, consumer_secret, access_token, access_token_secret)\n",
    "    return twitter\n",
    "\n",
    "twitter = get_twitter('twitter.cfg')\n",
    "tweets = []\n",
    "n_tweets=1000\n",
    "for r in twitter.request('statuses/filter', {'track': 'i'}):\n",
    "    tweets.append(r)\n",
    "    if len(tweets) % 100 == 0:\n",
    "        print('%d tweets' % len(tweets))\n",
    "    if len(tweets) >= n_tweets:\n",
    "        break\n",
    "print('fetched %d tweets' % len(tweets))"
   ]
  },
  {
   "cell_type": "code",
   "execution_count": 2,
   "metadata": {
    "collapsed": false
   },
   "outputs": [
    {
     "data": {
      "text/plain": [
       "[{'limit': {'timestamp_ms': '1479935162809', 'track': 56}},\n",
       " {'limit': {'timestamp_ms': '1479935162811', 'track': 42}},\n",
       " {'limit': {'timestamp_ms': '1479935162820', 'track': 31}},\n",
       " {'limit': {'timestamp_ms': '1479935162908', 'track': 52}},\n",
       " {'limit': {'timestamp_ms': '1479935163842', 'track': 155}},\n",
       " {'limit': {'timestamp_ms': '1479935163845', 'track': 130}}]"
      ]
     },
     "execution_count": 2,
     "metadata": {},
     "output_type": "execute_result"
    }
   ],
   "source": [
    "# not all tweets are returned\n",
    "# https://dev.twitter.com/streaming/overview/messages-types#limit_notices\n",
    "[t for t in tweets if 'user' not in t][:6]"
   ]
  },
  {
   "cell_type": "code",
   "execution_count": 3,
   "metadata": {
    "collapsed": false
   },
   "outputs": [
    {
     "name": "stdout",
     "output_type": "stream",
     "text": [
      "fetched 926 tweets\n"
     ]
    }
   ],
   "source": [
    "# restrict to actual tweets\n",
    "# (remove \"deleted\" tweets)\n",
    "tweets = [t for t in tweets if 'user' in t]\n",
    "print('fetched %d tweets' % len(tweets))"
   ]
  },
  {
   "cell_type": "code",
   "execution_count": 4,
   "metadata": {
    "collapsed": false
   },
   "outputs": [
    {
     "data": {
      "text/plain": [
       "{'contributors': None,\n",
       " 'coordinates': None,\n",
       " 'created_at': 'Wed Nov 23 21:06:01 +0000 2016',\n",
       " 'entities': {'hashtags': [{'indices': [66, 75], 'text': 'TeenWolf'}],\n",
       "  'media': [{'display_url': 'pic.twitter.com/dRGMEbkOXL',\n",
       "    'expanded_url': 'https://twitter.com/MTVteenwolf/status/801258378257465344/photo/1',\n",
       "    'id': 801258348733730820,\n",
       "    'id_str': '801258348733730820',\n",
       "    'indices': [76, 99],\n",
       "    'media_url': 'http://pbs.twimg.com/tweet_video_thumb/Cx6kORGXEAQgp8F.jpg',\n",
       "    'media_url_https': 'https://pbs.twimg.com/tweet_video_thumb/Cx6kORGXEAQgp8F.jpg',\n",
       "    'sizes': {'large': {'h': 280, 'resize': 'fit', 'w': 500},\n",
       "     'medium': {'h': 280, 'resize': 'fit', 'w': 500},\n",
       "     'small': {'h': 190, 'resize': 'fit', 'w': 340},\n",
       "     'thumb': {'h': 150, 'resize': 'crop', 'w': 150}},\n",
       "    'source_status_id': 801258378257465344,\n",
       "    'source_status_id_str': '801258378257465344',\n",
       "    'source_user_id': 252709160,\n",
       "    'source_user_id_str': '252709160',\n",
       "    'type': 'photo',\n",
       "    'url': 'https://t.co/dRGMEbkOXL'}],\n",
       "  'symbols': [],\n",
       "  'urls': [],\n",
       "  'user_mentions': [{'id': 252709160,\n",
       "    'id_str': '252709160',\n",
       "    'indices': [3, 15],\n",
       "    'name': 'TEEN WOLF',\n",
       "    'screen_name': 'MTVteenwolf'}]},\n",
       " 'extended_entities': {'media': [{'display_url': 'pic.twitter.com/dRGMEbkOXL',\n",
       "    'expanded_url': 'https://twitter.com/MTVteenwolf/status/801258378257465344/photo/1',\n",
       "    'id': 801258348733730820,\n",
       "    'id_str': '801258348733730820',\n",
       "    'indices': [76, 99],\n",
       "    'media_url': 'http://pbs.twimg.com/tweet_video_thumb/Cx6kORGXEAQgp8F.jpg',\n",
       "    'media_url_https': 'https://pbs.twimg.com/tweet_video_thumb/Cx6kORGXEAQgp8F.jpg',\n",
       "    'sizes': {'large': {'h': 280, 'resize': 'fit', 'w': 500},\n",
       "     'medium': {'h': 280, 'resize': 'fit', 'w': 500},\n",
       "     'small': {'h': 190, 'resize': 'fit', 'w': 340},\n",
       "     'thumb': {'h': 150, 'resize': 'crop', 'w': 150}},\n",
       "    'source_status_id': 801258378257465344,\n",
       "    'source_status_id_str': '801258378257465344',\n",
       "    'source_user_id': 252709160,\n",
       "    'source_user_id_str': '252709160',\n",
       "    'type': 'animated_gif',\n",
       "    'url': 'https://t.co/dRGMEbkOXL',\n",
       "    'video_info': {'aspect_ratio': [25, 14],\n",
       "     'variants': [{'bitrate': 0,\n",
       "       'content_type': 'video/mp4',\n",
       "       'url': 'https://pbs.twimg.com/tweet_video/Cx6kORGXEAQgp8F.mp4'}]}}]},\n",
       " 'favorite_count': 0,\n",
       " 'favorited': False,\n",
       " 'filter_level': 'low',\n",
       " 'geo': None,\n",
       " 'id': 801532279663325188,\n",
       " 'id_str': '801532279663325188',\n",
       " 'in_reply_to_screen_name': None,\n",
       " 'in_reply_to_status_id': None,\n",
       " 'in_reply_to_status_id_str': None,\n",
       " 'in_reply_to_user_id': None,\n",
       " 'in_reply_to_user_id_str': None,\n",
       " 'is_quote_status': False,\n",
       " 'lang': 'en',\n",
       " 'place': None,\n",
       " 'possibly_sensitive': False,\n",
       " 'retweet_count': 0,\n",
       " 'retweeted': False,\n",
       " 'retweeted_status': {'contributors': None,\n",
       "  'coordinates': None,\n",
       "  'created_at': 'Wed Nov 23 02:57:38 +0000 2016',\n",
       "  'display_text_range': [0, 58],\n",
       "  'entities': {'hashtags': [{'indices': [49, 58], 'text': 'TeenWolf'}],\n",
       "   'media': [{'display_url': 'pic.twitter.com/dRGMEbkOXL',\n",
       "     'expanded_url': 'https://twitter.com/MTVteenwolf/status/801258378257465344/photo/1',\n",
       "     'id': 801258348733730820,\n",
       "     'id_str': '801258348733730820',\n",
       "     'indices': [59, 82],\n",
       "     'media_url': 'http://pbs.twimg.com/tweet_video_thumb/Cx6kORGXEAQgp8F.jpg',\n",
       "     'media_url_https': 'https://pbs.twimg.com/tweet_video_thumb/Cx6kORGXEAQgp8F.jpg',\n",
       "     'sizes': {'large': {'h': 280, 'resize': 'fit', 'w': 500},\n",
       "      'medium': {'h': 280, 'resize': 'fit', 'w': 500},\n",
       "      'small': {'h': 190, 'resize': 'fit', 'w': 340},\n",
       "      'thumb': {'h': 150, 'resize': 'crop', 'w': 150}},\n",
       "     'type': 'photo',\n",
       "     'url': 'https://t.co/dRGMEbkOXL'}],\n",
       "   'symbols': [],\n",
       "   'urls': [],\n",
       "   'user_mentions': []},\n",
       "  'extended_entities': {'media': [{'display_url': 'pic.twitter.com/dRGMEbkOXL',\n",
       "     'expanded_url': 'https://twitter.com/MTVteenwolf/status/801258378257465344/photo/1',\n",
       "     'id': 801258348733730820,\n",
       "     'id_str': '801258348733730820',\n",
       "     'indices': [59, 82],\n",
       "     'media_url': 'http://pbs.twimg.com/tweet_video_thumb/Cx6kORGXEAQgp8F.jpg',\n",
       "     'media_url_https': 'https://pbs.twimg.com/tweet_video_thumb/Cx6kORGXEAQgp8F.jpg',\n",
       "     'sizes': {'large': {'h': 280, 'resize': 'fit', 'w': 500},\n",
       "      'medium': {'h': 280, 'resize': 'fit', 'w': 500},\n",
       "      'small': {'h': 190, 'resize': 'fit', 'w': 340},\n",
       "      'thumb': {'h': 150, 'resize': 'crop', 'w': 150}},\n",
       "     'type': 'animated_gif',\n",
       "     'url': 'https://t.co/dRGMEbkOXL',\n",
       "     'video_info': {'aspect_ratio': [25, 14],\n",
       "      'variants': [{'bitrate': 0,\n",
       "        'content_type': 'video/mp4',\n",
       "        'url': 'https://pbs.twimg.com/tweet_video/Cx6kORGXEAQgp8F.mp4'}]}}]},\n",
       "  'favorite_count': 2375,\n",
       "  'favorited': False,\n",
       "  'filter_level': 'low',\n",
       "  'geo': None,\n",
       "  'id': 801258378257465344,\n",
       "  'id_str': '801258378257465344',\n",
       "  'in_reply_to_screen_name': None,\n",
       "  'in_reply_to_status_id': None,\n",
       "  'in_reply_to_status_id_str': None,\n",
       "  'in_reply_to_user_id': None,\n",
       "  'in_reply_to_user_id_str': None,\n",
       "  'is_quote_status': False,\n",
       "  'lang': 'en',\n",
       "  'place': None,\n",
       "  'possibly_sensitive': False,\n",
       "  'retweet_count': 991,\n",
       "  'retweeted': False,\n",
       "  'source': '<a href=\"http://twitter.com\" rel=\"nofollow\">Twitter Web Client</a>',\n",
       "  'text': \"i'm so FREAKING confused! how is claudia ALIVE?! #TeenWolf https://t.co/dRGMEbkOXL\",\n",
       "  'truncated': False,\n",
       "  'user': {'contributors_enabled': False,\n",
       "   'created_at': 'Tue Feb 15 19:05:54 +0000 2011',\n",
       "   'default_profile': False,\n",
       "   'default_profile_image': False,\n",
       "   'description': \"Official account for @MTV's #TeenWolf. The FINAL season airs on Tuesdays at 9/8c.\",\n",
       "   'favourites_count': 12858,\n",
       "   'follow_request_sent': None,\n",
       "   'followers_count': 2012219,\n",
       "   'following': None,\n",
       "   'friends_count': 6754,\n",
       "   'geo_enabled': False,\n",
       "   'id': 252709160,\n",
       "   'id_str': '252709160',\n",
       "   'is_translator': False,\n",
       "   'lang': 'en',\n",
       "   'listed_count': 4151,\n",
       "   'location': None,\n",
       "   'name': 'TEEN WOLF',\n",
       "   'notifications': None,\n",
       "   'profile_background_color': '131516',\n",
       "   'profile_background_image_url': 'http://abs.twimg.com/images/themes/theme14/bg.gif',\n",
       "   'profile_background_image_url_https': 'https://abs.twimg.com/images/themes/theme14/bg.gif',\n",
       "   'profile_background_tile': True,\n",
       "   'profile_banner_url': 'https://pbs.twimg.com/profile_banners/252709160/1476737129',\n",
       "   'profile_image_url': 'http://pbs.twimg.com/profile_images/789551545784369152/wylgMJCP_normal.jpg',\n",
       "   'profile_image_url_https': 'https://pbs.twimg.com/profile_images/789551545784369152/wylgMJCP_normal.jpg',\n",
       "   'profile_link_color': '009999',\n",
       "   'profile_sidebar_border_color': 'EEEEEE',\n",
       "   'profile_sidebar_fill_color': 'EFEFEF',\n",
       "   'profile_text_color': '333333',\n",
       "   'profile_use_background_image': True,\n",
       "   'protected': False,\n",
       "   'screen_name': 'MTVteenwolf',\n",
       "   'statuses_count': 29160,\n",
       "   'time_zone': 'Eastern Time (US & Canada)',\n",
       "   'url': 'http://teenwolf.com',\n",
       "   'utc_offset': -18000,\n",
       "   'verified': True}},\n",
       " 'source': '<a href=\"http://twitter.com/download/iphone\" rel=\"nofollow\">Twitter for iPhone</a>',\n",
       " 'text': \"RT @MTVteenwolf: i'm so FREAKING confused! how is claudia ALIVE?! #TeenWolf https://t.co/dRGMEbkOXL\",\n",
       " 'timestamp_ms': '1479935161878',\n",
       " 'truncated': False,\n",
       " 'user': {'contributors_enabled': False,\n",
       "  'created_at': 'Fri Jun 26 23:06:09 +0000 2015',\n",
       "  'default_profile': True,\n",
       "  'default_profile_image': False,\n",
       "  'description': 'TEEN WOLF !!! ❤️',\n",
       "  'favourites_count': 2149,\n",
       "  'follow_request_sent': None,\n",
       "  'followers_count': 66,\n",
       "  'following': None,\n",
       "  'friends_count': 242,\n",
       "  'geo_enabled': False,\n",
       "  'id': 3346983669,\n",
       "  'id_str': '3346983669',\n",
       "  'is_translator': False,\n",
       "  'lang': 'en',\n",
       "  'listed_count': 0,\n",
       "  'location': None,\n",
       "  'name': 'Jordyn schrock☀️',\n",
       "  'notifications': None,\n",
       "  'profile_background_color': 'C0DEED',\n",
       "  'profile_background_image_url': 'http://abs.twimg.com/images/themes/theme1/bg.png',\n",
       "  'profile_background_image_url_https': 'https://abs.twimg.com/images/themes/theme1/bg.png',\n",
       "  'profile_background_tile': False,\n",
       "  'profile_banner_url': 'https://pbs.twimg.com/profile_banners/3346983669/1435365694',\n",
       "  'profile_image_url': 'http://pbs.twimg.com/profile_images/702689193546358784/uG76aMCC_normal.jpg',\n",
       "  'profile_image_url_https': 'https://pbs.twimg.com/profile_images/702689193546358784/uG76aMCC_normal.jpg',\n",
       "  'profile_link_color': '1DA1F2',\n",
       "  'profile_sidebar_border_color': 'C0DEED',\n",
       "  'profile_sidebar_fill_color': 'DDEEF6',\n",
       "  'profile_text_color': '333333',\n",
       "  'profile_use_background_image': True,\n",
       "  'protected': False,\n",
       "  'screen_name': 'schrock_jordyn',\n",
       "  'statuses_count': 1830,\n",
       "  'time_zone': None,\n",
       "  'url': 'http://dylan.ohottie.com',\n",
       "  'utc_offset': None,\n",
       "  'verified': False}}"
      ]
     },
     "execution_count": 4,
     "metadata": {},
     "output_type": "execute_result"
    }
   ],
   "source": [
    "tweets[0]"
   ]
  },
  {
   "cell_type": "code",
   "execution_count": 5,
   "metadata": {
    "collapsed": false,
    "slideshow": {
     "slide_type": "slide"
    }
   },
   "outputs": [
    {
     "data": {
      "text/plain": [
       "['Jordyn schrock☀️',\n",
       " 'BottomBoi',\n",
       " 'Vasily',\n",
       " 'O-DOG',\n",
       " 'alli♔',\n",
       " 'M.',\n",
       " 'chloe',\n",
       " \"Daisy 'ㅅ' ♡\",\n",
       " 'Milena',\n",
       " 'DorianDawes']"
      ]
     },
     "execution_count": 5,
     "metadata": {},
     "output_type": "execute_result"
    }
   ],
   "source": [
    "# Print 10 names.\n",
    "names = [t['user']['name'] for t in tweets]\n",
    "names[:10]"
   ]
  },
  {
   "cell_type": "code",
   "execution_count": 6,
   "metadata": {
    "collapsed": false,
    "slideshow": {
     "slide_type": "slide"
    }
   },
   "outputs": [
    {
     "name": "stdout",
     "output_type": "stream",
     "text": [
      "males:\n",
      "['JAMES          3.318  3.318      1',\n",
      " 'JOHN           3.271  6.589      2',\n",
      " 'ROBERT         3.143  9.732      3',\n",
      " 'MICHAEL        2.629 12.361      4',\n",
      " 'WILLIAM        2.451 14.812      5',\n",
      " 'DAVID          2.363 17.176      6',\n",
      " 'RICHARD        1.703 18.878      7',\n",
      " 'CHARLES        1.523 20.401      8',\n",
      " 'JOSEPH         1.404 21.805      9',\n",
      " 'THOMAS         1.380 23.185     10']\n",
      "females:\n",
      "['MARY           2.629  2.629      1',\n",
      " 'PATRICIA       1.073  3.702      2',\n",
      " 'LINDA          1.035  4.736      3',\n",
      " 'BARBARA        0.980  5.716      4',\n",
      " 'ELIZABETH      0.937  6.653      5',\n",
      " 'JENNIFER       0.932  7.586      6',\n",
      " 'MARIA          0.828  8.414      7',\n",
      " 'SUSAN          0.794  9.209      8',\n",
      " 'MARGARET       0.768  9.976      9',\n",
      " 'DOROTHY        0.727 10.703     10']\n"
     ]
    }
   ],
   "source": [
    "# Fetch census name data from:\n",
    "# http://www2.census.gov/topics/genealogy/1990surnames/\n",
    "import requests\n",
    "from pprint import pprint\n",
    "males_url = 'http://www2.census.gov/topics/genealogy/' + \\\n",
    "            '1990surnames/dist.male.first'\n",
    "females_url = 'http://www2.census.gov/topics/genealogy/' + \\\n",
    "              '1990surnames/dist.female.first'\n",
    "males = requests.get(males_url).text.split('\\n')\n",
    "females = requests.get(females_url).text.split('\\n')\n",
    "print('males:')\n",
    "pprint(males[:10])\n",
    "print('females:')\n",
    "pprint(females[:10])"
   ]
  },
  {
   "cell_type": "code",
   "execution_count": 7,
   "metadata": {
    "collapsed": false,
    "slideshow": {
     "slide_type": "slide"
    }
   },
   "outputs": [
    {
     "name": "stdout",
     "output_type": "stream",
     "text": [
      "1219 male and 4275 female names\n",
      "males:\n",
      "michal\n",
      "milan\n",
      "dick\n",
      "modesto\n",
      "pedro\n",
      "damien\n",
      "gail\n",
      "ethan\n",
      "erich\n",
      "tanner\n",
      "\n",
      "females:\n",
      "robbi\n",
      "freda\n",
      "helen\n",
      "danyel\n",
      "eleanora\n",
      "jeanene\n",
      "sally\n",
      "zola\n",
      "senaida\n",
      "jackie\n"
     ]
    }
   ],
   "source": [
    "# Get names. \n",
    "male_names = set([m.split()[0].lower() for m in males if m])\n",
    "female_names = set([f.split()[0].lower() for f in females if f])\n",
    "print('%d male and %d female names' % (len(male_names), len(female_names)))\n",
    "print('males:\\n' + '\\n'.join(list(male_names)[:10]))\n",
    "print('\\nfemales:\\n' + '\\n'.join(list(female_names)[:10]))"
   ]
  },
  {
   "cell_type": "code",
   "execution_count": 8,
   "metadata": {
    "collapsed": true
   },
   "outputs": [],
   "source": [
    "# Initialize gender of all tweets to unknown.\n",
    "for t in tweets:\n",
    "    t['gender'] = 'unknown'"
   ]
  },
  {
   "cell_type": "code",
   "execution_count": 9,
   "metadata": {
    "collapsed": false,
    "slideshow": {
     "slide_type": "slide"
    }
   },
   "outputs": [],
   "source": [
    "# label a Twitter user's gender by matching name list.\n",
    "import re\n",
    "def gender_by_name(tweets, male_names, female_names):\n",
    "    for t in tweets:\n",
    "        name = t['user']['name']\n",
    "        if name:\n",
    "            # remove punctuation.\n",
    "            name_parts = re.findall('\\w+', name.split()[0].lower())\n",
    "            if len(name_parts) > 0:\n",
    "                first = name_parts[0].lower()\n",
    "                if first in male_names:\n",
    "                    t['gender'] = 'male'\n",
    "                elif first in female_names:\n",
    "                    t['gender'] = 'female'\n",
    "                else:\n",
    "                    t['gender'] = 'unknown'\n",
    "\n",
    "gender_by_name(tweets, male_names, female_names)\n",
    "# What's wrong with this approach?"
   ]
  },
  {
   "cell_type": "code",
   "execution_count": 10,
   "metadata": {
    "collapsed": false,
    "slideshow": {
     "slide_type": "slide"
    }
   },
   "outputs": [
    {
     "name": "stdout",
     "output_type": "stream",
     "text": [
      "0.32 of accounts are labeled with gender\n",
      "gender counts:\n",
      " Counter({'unknown': 627, 'female': 176, 'male': 123})\n",
      "unknown Jordyn schrock☀️\n",
      "unknown BottomBoi\n",
      "unknown Vasily\n",
      "unknown O-DOG\n",
      "unknown alli♔\n",
      "unknown M.\n",
      "female chloe\n",
      "female Daisy 'ㅅ' ♡\n",
      "unknown Milena\n",
      "unknown DorianDawes\n",
      "female bernice\n",
      "male Ryan Sudol\n",
      "unknown BG!\n",
      "unknown ⁶⁹\n",
      "unknown Bader Ahmed A.Wahed\n",
      "female Jo'ella DeVille\n",
      "male Logan Brown\n",
      "female Diane Brodalski\n",
      "female Jenna\n",
      "unknown Gossip Girl Quotes\n"
     ]
    }
   ],
   "source": [
    "from collections import Counter\n",
    "\n",
    "def print_genders(tweets):\n",
    "    counts = Counter([t['gender'] for t in tweets])\n",
    "    print('%.2f of accounts are labeled with gender' % \n",
    "          ((counts['male'] + counts['female']) / sum(counts.values())))\n",
    "    print('gender counts:\\n', counts)\n",
    "    for t in tweets[:20]:\n",
    "        print(t['gender'], t['user']['name'])\n",
    "    \n",
    "print_genders(tweets)"
   ]
  },
  {
   "cell_type": "code",
   "execution_count": 11,
   "metadata": {
    "collapsed": false,
    "slideshow": {
     "slide_type": "slide"
    }
   },
   "outputs": [
    {
     "name": "stdout",
     "output_type": "stream",
     "text": [
      "found 331 ambiguous names:\n",
      "\n",
      "michal\n",
      "gail\n",
      "samuel\n",
      "jackie\n",
      "jewell\n",
      "robert\n",
      "glenn\n",
      "ryan\n",
      "louis\n",
      "valentine\n",
      "laurence\n",
      "carrol\n",
      "lane\n",
      "victor\n",
      "michel\n",
      "frankie\n",
      "larry\n",
      "darnell\n",
      "augustine\n",
      "frances\n"
     ]
    }
   ],
   "source": [
    "# What about ambiguous names?\n",
    "def print_ambiguous_names(male_names, female_names):\n",
    "    ambiguous = [n for n in male_names if n in female_names]  # names on both lists\n",
    "    print('found %d ambiguous names:\\n'% len(ambiguous))\n",
    "    print('\\n'.join(ambiguous[:20]))\n",
    "    \n",
    "print_ambiguous_names(male_names, female_names)"
   ]
  },
  {
   "cell_type": "code",
   "execution_count": 12,
   "metadata": {
    "collapsed": false,
    "slideshow": {
     "slide_type": "slide"
    }
   },
   "outputs": [
    {
     "name": "stdout",
     "output_type": "stream",
     "text": [
      "found 0 ambiguous names:\n",
      "\n",
      "\n",
      "1146 male and 4017 female names\n"
     ]
    }
   ],
   "source": [
    "# Keep names that are more frequent in one gender than the other.\n",
    "def get_percents(name_list):\n",
    "    # parse raw data to extract, e.g., the percent of males names John.\n",
    "    return dict([(n.split()[0].lower(), float(n.split()[1]))\n",
    "                  for n in name_list if n])\n",
    "\n",
    "males_pct = get_percents(males)\n",
    "females_pct = get_percents(females)\n",
    "\n",
    "# Assign a name as male if it is more common among males than femals.\n",
    "male_names = set([m for m in male_names if m not in female_names or\n",
    "              males_pct[m] > females_pct[m]])\n",
    "female_names = set([f for f in female_names if f not in male_names or\n",
    "              females_pct[f] > males_pct[f]])\n",
    "\n",
    "print_ambiguous_names(male_names, female_names)\n",
    "print('%d male and %d female names' % (len(male_names), len(female_names)))"
   ]
  },
  {
   "cell_type": "code",
   "execution_count": 13,
   "metadata": {
    "collapsed": false,
    "slideshow": {
     "slide_type": "slide"
    }
   },
   "outputs": [
    {
     "name": "stdout",
     "output_type": "stream",
     "text": [
      "0.32 of accounts are labeled with gender\n",
      "gender counts:\n",
      " Counter({'unknown': 627, 'female': 193, 'male': 106})\n",
      "unknown Jordyn schrock☀️\n",
      "unknown BottomBoi\n",
      "unknown Vasily\n",
      "unknown O-DOG\n",
      "unknown alli♔\n",
      "unknown M.\n",
      "female chloe\n",
      "female Daisy 'ㅅ' ♡\n",
      "unknown Milena\n",
      "unknown DorianDawes\n",
      "female bernice\n",
      "male Ryan Sudol\n",
      "unknown BG!\n",
      "unknown ⁶⁹\n",
      "unknown Bader Ahmed A.Wahed\n",
      "female Jo'ella DeVille\n",
      "male Logan Brown\n",
      "female Diane Brodalski\n",
      "female Jenna\n",
      "unknown Gossip Girl Quotes\n"
     ]
    }
   ],
   "source": [
    "# Relabel twitter users (compare with above)\n",
    "gender_by_name(tweets, male_names, female_names)\n",
    "print_genders(tweets)"
   ]
  },
  {
   "cell_type": "code",
   "execution_count": 14,
   "metadata": {
    "collapsed": false,
    "slideshow": {
     "slide_type": "slide"
    }
   },
   "outputs": [
    {
     "data": {
      "text/plain": [
       "[('.', 4),\n",
       " ('ㅤ', 4),\n",
       " ('İŞ İLANLARI', 3),\n",
       " ('絶対リフォロー１００％です！！', 3),\n",
       " ('ㅤㅤㅤ', 2),\n",
       " ('Şafak Malatya 🇹🇷', 2),\n",
       " ('•', 2),\n",
       " ('LCoghlan', 2),\n",
       " ('deniz gök', 2),\n",
       " ('Mrs Nichols', 1),\n",
       " ('guess who fucking', 1),\n",
       " ('peristeraRa', 1),\n",
       " ('k. 💕', 1),\n",
       " ('Finesse kid', 1),\n",
       " ('María Mella', 1),\n",
       " ('screen.', 1),\n",
       " ('WhoopDiGobbleDoo', 1),\n",
       " ('Güllüoğlu Bengül', 1),\n",
       " ('11/20 4 desi 💋', 1),\n",
       " ('jsmoy', 1)]"
      ]
     },
     "execution_count": 14,
     "metadata": {},
     "output_type": "execute_result"
    }
   ],
   "source": [
    "# Who are the unknowns?\n",
    "# \"Filtered\" data can have big impact on analysis.\n",
    "unknown_names = Counter(t['user']['name']\n",
    "                        for t in tweets if t['gender'] == 'unknown')\n",
    "unknown_names.most_common(20)"
   ]
  },
  {
   "cell_type": "code",
   "execution_count": 15,
   "metadata": {
    "collapsed": false,
    "slideshow": {
     "slide_type": "slide"
    }
   },
   "outputs": [
    {
     "name": "stdout",
     "output_type": "stream",
     "text": [
      "Most Common Male Terms:\n",
      "[('i', 32),\n",
      " ('and', 28),\n",
      " ('the', 27),\n",
      " ('a', 24),\n",
      " ('is', 19),\n",
      " ('for', 14),\n",
      " ('of', 14),\n",
      " ('t', 13),\n",
      " ('to', 13),\n",
      " ('my', 11)]\n",
      "\n",
      "Most Common Female Terms:\n",
      "[('i', 43),\n",
      " ('a', 42),\n",
      " ('and', 28),\n",
      " ('the', 25),\n",
      " ('to', 22),\n",
      " ('my', 19),\n",
      " ('you', 16),\n",
      " ('is', 16),\n",
      " ('for', 12),\n",
      " ('m', 12)]\n"
     ]
    }
   ],
   "source": [
    "# How do the profiles of male Twitter users differ from\n",
    "# those of female users?\n",
    "\n",
    "male_profiles = [t['user']['description'] for t in tweets\n",
    "                if t['gender'] == 'male']\n",
    "\n",
    "female_profiles = [t['user']['description'] for t in tweets\n",
    "                if t['gender'] == 'female']\n",
    "#male_profiles = [t['text'] for t in tweets\n",
    "#                if t['gender'] == 'male']\n",
    "\n",
    "#female_profiles = [t['text'] for t in tweets\n",
    "#                if t['gender'] == 'female']\n",
    "\n",
    "import re\n",
    "def tokenize(s):\n",
    "    return re.sub('\\W+', ' ', s).lower().split() if s else []\n",
    "\n",
    "male_words = Counter()\n",
    "female_words = Counter()\n",
    "\n",
    "for p in male_profiles:\n",
    "    male_words.update(Counter(tokenize(p)))\n",
    "                      \n",
    "for p in female_profiles:\n",
    "    female_words.update(Counter(tokenize(p)))\n",
    "\n",
    "print('Most Common Male Terms:')\n",
    "pprint(male_words.most_common(10))\n",
    "    \n",
    "print('\\nMost Common Female Terms:')\n",
    "pprint(female_words.most_common(10))"
   ]
  },
  {
   "cell_type": "code",
   "execution_count": 16,
   "metadata": {
    "collapsed": false
   },
   "outputs": [
    {
     "name": "stdout",
     "output_type": "stream",
     "text": [
      "772\n",
      "974\n"
     ]
    }
   ],
   "source": [
    "print(len(male_words))\n",
    "print(len(female_words))"
   ]
  },
  {
   "cell_type": "code",
   "execution_count": 17,
   "metadata": {
    "collapsed": false,
    "slideshow": {
     "slide_type": "slide"
    }
   },
   "outputs": [
    {
     "name": "stdout",
     "output_type": "stream",
     "text": [
      "Top Male Terms (diff):\n",
      "[('of', -5),\n",
      " ('player', -5),\n",
      " ('de', -4),\n",
      " ('them', -4),\n",
      " ('professional', -3),\n",
      " ('entertainment', -3),\n",
      " ('19', -3),\n",
      " ('all', -3),\n",
      " ('x', -3),\n",
      " ('is', -3)]\n",
      "\n",
      "Top Female Terms (diff):\n",
      "[('ig', 7),\n",
      " ('lover', 7),\n",
      " ('sc', 8),\n",
      " ('no', 8),\n",
      " ('16', 8),\n",
      " ('my', 8),\n",
      " ('to', 9),\n",
      " ('snapchat', 10),\n",
      " ('i', 11),\n",
      " ('a', 18)]\n"
     ]
    }
   ],
   "source": [
    "# Compute difference\n",
    "diff_counts = dict([(w, female_words[w] - male_words[w])\n",
    "                    for w in\n",
    "                    set(female_words.keys()) | set(male_words.keys())])\n",
    "\n",
    "sorted_diffs = sorted(diff_counts.items(), key=lambda x: x[1])\n",
    "\n",
    "print('Top Male Terms (diff):')\n",
    "pprint(sorted_diffs[:10])\n",
    "\n",
    "print('\\nTop Female Terms (diff):')\n",
    "pprint(sorted_diffs[-10:])"
   ]
  },
  {
   "cell_type": "markdown",
   "metadata": {
    "slideshow": {
     "slide_type": "slide"
    }
   },
   "source": [
    "** A problem with difference of counts:**\n",
    "\n",
    "<br><br><br><br>\n",
    "What if we have more male than female words in total?\n",
    "\n",
    "<br><br><br><br>\n",
    "Instead, consider \"the probability that a male user writes the word **w**\"\n",
    "\n",
    "<br><br><br><br>\n",
    "\n",
    "$$p(w|\\hbox{male}) = \\frac{\\hbox{freq}(w, \\hbox{male})}\n",
    "{\\sum_i \\hbox{freq}(w_i, \\hbox{male})} $$"
   ]
  },
  {
   "cell_type": "markdown",
   "metadata": {
    "slideshow": {
     "slide_type": "slide"
    }
   },
   "source": [
    "** Odds Ratio (OR)**\n",
    "\n",
    "The ratio of the probabilities for a word from each class:\n",
    "\n",
    "$$ OR(w) = \\frac{p(w|\\hbox{female})}{p(w|\\hbox{male})} $$\n",
    "\n",
    "\n",
    "- High values --> more likely to be written by females\n",
    "- Low values --> more likely to be written by males\n"
   ]
  },
  {
   "cell_type": "code",
   "execution_count": 18,
   "metadata": {
    "collapsed": false,
    "slideshow": {
     "slide_type": "slide"
    }
   },
   "outputs": [
    {
     "name": "stdout",
     "output_type": "stream",
     "text": [
      "p(w|male)\n",
      "[('i', 0.026845637583892617),\n",
      " ('and', 0.02348993288590604),\n",
      " ('the', 0.022651006711409395),\n",
      " ('a', 0.020134228187919462),\n",
      " ('is', 0.015939597315436243),\n",
      " ('for', 0.01174496644295302),\n",
      " ('of', 0.01174496644295302),\n",
      " ('t', 0.010906040268456376),\n",
      " ('to', 0.010906040268456376),\n",
      " ('my', 0.009228187919463088)]\n",
      "\n",
      "p(w|female)\n",
      "[('i', 0.026348039215686275),\n",
      " ('a', 0.025735294117647058),\n",
      " ('and', 0.01715686274509804),\n",
      " ('the', 0.015318627450980392),\n",
      " ('to', 0.013480392156862746),\n",
      " ('my', 0.011642156862745098),\n",
      " ('you', 0.00980392156862745),\n",
      " ('is', 0.00980392156862745),\n",
      " ('for', 0.007352941176470588),\n",
      " ('m', 0.007352941176470588)]\n"
     ]
    }
   ],
   "source": [
    "def counts_to_probs(gender_words):\n",
    "    \"\"\" Compute probability of each term according to the frequency\n",
    "    in a gender. \"\"\"\n",
    "    total = sum(gender_words.values())\n",
    "    return dict([(word, count / total)\n",
    "                 for word, count in gender_words.items()])\n",
    "\n",
    "male_probs = counts_to_probs(male_words)\n",
    "female_probs = counts_to_probs(female_words)\n",
    "\n",
    "print('p(w|male)')\n",
    "pprint(sorted(male_probs.items(), key=lambda x: -x[1])[:10])\n",
    "\n",
    "print('\\np(w|female)')\n",
    "pprint(sorted(female_probs.items(), key=lambda x: -x[1])[:10])"
   ]
  },
  {
   "cell_type": "code",
   "execution_count": 19,
   "metadata": {
    "collapsed": false,
    "slideshow": {
     "slide_type": "slide"
    }
   },
   "outputs": [
    {
     "ename": "KeyError",
     "evalue": "'back'",
     "output_type": "error",
     "traceback": [
      "\u001b[0;31m---------------------------------------------------------------------------\u001b[0m",
      "\u001b[0;31mKeyError\u001b[0m                                  Traceback (most recent call last)",
      "\u001b[0;32m<ipython-input-19-25b631ca2d0f>\u001b[0m in \u001b[0;36m<module>\u001b[0;34m()\u001b[0m\n\u001b[1;32m      4\u001b[0m                  set(male_probs) | set(female_probs)])#change | to & to run the following\n\u001b[1;32m      5\u001b[0m \u001b[0;34m\u001b[0m\u001b[0m\n\u001b[0;32m----> 6\u001b[0;31m \u001b[0mors\u001b[0m \u001b[0;34m=\u001b[0m \u001b[0modds_ratios\u001b[0m\u001b[0;34m(\u001b[0m\u001b[0mmale_probs\u001b[0m\u001b[0;34m,\u001b[0m \u001b[0mfemale_probs\u001b[0m\u001b[0;34m)\u001b[0m\u001b[0;34m\u001b[0m\u001b[0m\n\u001b[0m\u001b[1;32m      7\u001b[0m \u001b[0mprint\u001b[0m\u001b[0;34m(\u001b[0m\u001b[0;34m'words mentioned both in male and female users:\\n'\u001b[0m\u001b[0;34m)\u001b[0m\u001b[0;34m\u001b[0m\u001b[0m\n\u001b[1;32m      8\u001b[0m \u001b[0mprint\u001b[0m\u001b[0;34m(\u001b[0m\u001b[0;34m'10 words with largest ratio, mentioned more by female\\n'\u001b[0m\u001b[0;34m)\u001b[0m\u001b[0;34m\u001b[0m\u001b[0m\n",
      "\u001b[0;32m<ipython-input-19-25b631ca2d0f>\u001b[0m in \u001b[0;36modds_ratios\u001b[0;34m(male_probs, female_probs)\u001b[0m\n\u001b[1;32m      2\u001b[0m     return dict([(w, female_probs[w] / male_probs[w])\n\u001b[1;32m      3\u001b[0m                  \u001b[0;32mfor\u001b[0m \u001b[0mw\u001b[0m \u001b[0;32min\u001b[0m\u001b[0;34m\u001b[0m\u001b[0m\n\u001b[0;32m----> 4\u001b[0;31m                  set(male_probs) | set(female_probs)])#change | to & to run the following\n\u001b[0m\u001b[1;32m      5\u001b[0m \u001b[0;34m\u001b[0m\u001b[0m\n\u001b[1;32m      6\u001b[0m \u001b[0mors\u001b[0m \u001b[0;34m=\u001b[0m \u001b[0modds_ratios\u001b[0m\u001b[0;34m(\u001b[0m\u001b[0mmale_probs\u001b[0m\u001b[0;34m,\u001b[0m \u001b[0mfemale_probs\u001b[0m\u001b[0;34m)\u001b[0m\u001b[0;34m\u001b[0m\u001b[0m\n",
      "\u001b[0;32m<ipython-input-19-25b631ca2d0f>\u001b[0m in \u001b[0;36m<listcomp>\u001b[0;34m(.0)\u001b[0m\n\u001b[1;32m      1\u001b[0m \u001b[0;32mdef\u001b[0m \u001b[0modds_ratios\u001b[0m\u001b[0;34m(\u001b[0m\u001b[0mmale_probs\u001b[0m\u001b[0;34m,\u001b[0m \u001b[0mfemale_probs\u001b[0m\u001b[0;34m)\u001b[0m\u001b[0;34m:\u001b[0m\u001b[0;34m\u001b[0m\u001b[0m\n\u001b[1;32m      2\u001b[0m     return dict([(w, female_probs[w] / male_probs[w])\n\u001b[0;32m----> 3\u001b[0;31m                  \u001b[0;32mfor\u001b[0m \u001b[0mw\u001b[0m \u001b[0;32min\u001b[0m\u001b[0;34m\u001b[0m\u001b[0m\n\u001b[0m\u001b[1;32m      4\u001b[0m                  set(male_probs) | set(female_probs)])#change | to & to run the following\n\u001b[1;32m      5\u001b[0m \u001b[0;34m\u001b[0m\u001b[0m\n",
      "\u001b[0;31mKeyError\u001b[0m: 'back'"
     ]
    }
   ],
   "source": [
    "def odds_ratios(male_probs, female_probs):\n",
    "    return dict([(w, female_probs[w] / male_probs[w])\n",
    "                 for w in\n",
    "                 set(male_probs) | set(female_probs)])#change | to & to run the following\n",
    "\n",
    "ors = odds_ratios(male_probs, female_probs)\n",
    "print('words mentioned both in male and female users:\\n')\n",
    "print('10 words with largest ratio, mentioned more by female\\n')\n",
    "pprint(sorted(ors.items(), key=lambda x: -x[1])[:10])\n",
    "print('\\n10 words with smallest ratio, mentioned more by male\\n')\n",
    "pprint(sorted(ors.items(), key=lambda x: x[1])[:10])"
   ]
  },
  {
   "cell_type": "code",
   "execution_count": 20,
   "metadata": {
    "collapsed": false
   },
   "outputs": [
    {
     "name": "stdout",
     "output_type": "stream",
     "text": [
      "772\n",
      "974\n",
      "True\n",
      "True\n"
     ]
    }
   ],
   "source": [
    "print(len(male_probs))\n",
    "print(len(female_probs))\n",
    "#print(female_probs['rock'])\n",
    "print('rock' in male_probs)\n",
    "print('rock' in female_probs)"
   ]
  },
  {
   "cell_type": "markdown",
   "metadata": {
    "slideshow": {
     "slide_type": "slide"
    }
   },
   "source": [
    "** How to deal with 0-probabilities? **\n",
    "\n",
    "$$p(w|\\hbox{male}) = \\frac{\\hbox{freq}(w, \\hbox{male})}\n",
    "{\\sum_i \\hbox{freq}(w_i, \\hbox{male})} $$\n",
    "\n",
    "$\\hbox{freq}(w, \\hbox{male}) = 0$\n",
    "\n",
    "Do we really believe there is **0** probability of a male using this term?\n",
    "\n",
    "(Recall over-fitting discussion.)\n",
    "<br><br><br><br>"
   ]
  },
  {
   "cell_type": "markdown",
   "metadata": {
    "slideshow": {
     "slide_type": "slide"
    }
   },
   "source": [
    "** Additive Smoothing **\n",
    "\n",
    "Reserve small amount of counts (e.g., 1) for unseen observations.\n",
    "\n",
    "E.g., assume we've seen each word at least once in each class.\n",
    "\n",
    "$$p(w|\\hbox{male}) = \\frac{\\hbox{1 + freq(w,male)}}\n",
    "{|W| + \\sum_i \\hbox{freq}(w_i, \\hbox{male})}$$\n",
    "\n",
    "(notes:\n",
    "\n",
    "if w does not exist before $$p(w|\\hbox{male}) = \\frac{\\hbox{1}}\n",
    "{|W| + \\sum_i \\hbox{freq}(w_i, \\hbox{male})}$$\n",
    "if w exists, $$p(w|\\hbox{male}) = \\frac{\\hbox{freq(w, male)}}\n",
    "{|W| + \\sum_i \\hbox{freq}(w_i, \\hbox{male})}$$\n",
    "\n",
    ")\n",
    "\n",
    "$|W|$: number of unique words."
   ]
  },
  {
   "cell_type": "code",
   "execution_count": 21,
   "metadata": {
    "collapsed": false,
    "slideshow": {
     "slide_type": "slide"
    }
   },
   "outputs": [
    {
     "name": "stdout",
     "output_type": "stream",
     "text": [
      "772\n",
      "1549\n",
      "('i', 0.012039401678219628)\n",
      "('and', 0.010580080262677856)\n",
      "('the', 0.010215249908792412)\n",
      "('a', 0.009120758847136081)\n",
      "('is', 0.0072966070777088655)\n",
      "('for', 0.005472455308281649)\n",
      "('of', 0.005472455308281649)\n",
      "('t', 0.005107624954396206)\n",
      "('to', 0.005107624954396206)\n",
      "('my', 0.004377964246625319)\n",
      "1.0000000000000164\n"
     ]
    }
   ],
   "source": [
    "# Additive smoothing. Add count of 1 for all words.\n",
    "all_words = set(male_words) | set(female_words)\n",
    "print(len(male_words.keys()))\n",
    "male_words.update(all_words)\n",
    "print(len(male_words.keys()))\n",
    "female_words.update(all_words)\n",
    "\n",
    "male_probs = counts_to_probs(male_words)\n",
    "female_probs = counts_to_probs(female_words)\n",
    "print('\\n'.join(str(x) for x in \n",
    "                sorted(male_probs.items(), key=lambda x: -x[1])[:10]))\n",
    "print(sum(male_probs.values()))"
   ]
  },
  {
   "cell_type": "code",
   "execution_count": 22,
   "metadata": {
    "collapsed": false
   },
   "outputs": [
    {
     "name": "stdout",
     "output_type": "stream",
     "text": [
      "772\n"
     ]
    }
   ],
   "source": [
    "#print([k for k,v in male_words.items() if v==1])\n",
    "print(len(male_words)-len([v for v in male_words.values() if v==1]))"
   ]
  },
  {
   "cell_type": "code",
   "execution_count": 31,
   "metadata": {
    "collapsed": false
   },
   "outputs": [
    {
     "name": "stdout",
     "output_type": "stream",
     "text": [
      "0.2816490331995622\n"
     ]
    }
   ],
   "source": [
    "print(772/sum(male_words.values()))"
   ]
  },
  {
   "cell_type": "code",
   "execution_count": null,
   "metadata": {
    "collapsed": false
   },
   "outputs": [],
   "source": [
    "# Even though word doesn't appear, has non-zerp probability.\n",
    "print(male_probs['rock'])"
   ]
  },
  {
   "cell_type": "code",
   "execution_count": null,
   "metadata": {
    "collapsed": false,
    "slideshow": {
     "slide_type": "slide"
    }
   },
   "outputs": [],
   "source": [
    "ors = odds_ratios(male_probs, female_probs)\n",
    "\n",
    "sorted_ors = sorted(ors.items(), key=lambda x: -x[1])\n",
    "\n",
    "print('Top Female Terms (OR):')\n",
    "pprint(sorted_ors[:20])\n",
    "\n",
    "print('\\nTop Male Terms (OR):')\n",
    "pprint(sorted_ors[-20:])"
   ]
  },
  {
   "cell_type": "code",
   "execution_count": null,
   "metadata": {
    "collapsed": true
   },
   "outputs": [],
   "source": []
  }
 ],
 "metadata": {
  "anaconda-cloud": {},
  "kernelspec": {
   "display_name": "Python [Root]",
   "language": "python",
   "name": "Python [Root]"
  },
  "language_info": {
   "codemirror_mode": {
    "name": "ipython",
    "version": 3
   },
   "file_extension": ".py",
   "mimetype": "text/x-python",
   "name": "python",
   "nbconvert_exporter": "python",
   "pygments_lexer": "ipython3",
   "version": "3.5.2"
  }
 },
 "nbformat": 4,
 "nbformat_minor": 0
}
