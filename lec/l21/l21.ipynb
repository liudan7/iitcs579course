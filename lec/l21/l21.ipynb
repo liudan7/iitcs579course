{
 "cells": [
  {
   "cell_type": "markdown",
   "metadata": {},
   "source": [
    "# CS579: Lecture 21  \n",
    "*[Dr. Aron Culotta](http://cs.iit.edu/~culotta)*  \n",
    "*[Illinois Institute of Technology](http://iit.edu)*"
   ]
  },
  {
   "cell_type": "markdown",
   "metadata": {},
   "source": [
    "- Bonus quiz\n",
    "- a4\n",
    "- Review"
   ]
  },
  {
   "cell_type": "markdown",
   "metadata": {},
   "source": [
    "## Creating a graph for a4\n",
    "\n",
    "- It's up to you how to create the graph.\n",
    "- Primary constraint: it should be based on some social information, not text similarity\n",
    "- E.g.,\n",
    "  - A follows B\n",
    "  - B follows A\n",
    "  - A mentions B\n",
    "  - A retweets B\n",
    "  - A likes B\n",
    "  - A and B have a common friend\n",
    "    - This will be more dense, given the time constratins of data collection\n",
    "    - See a0\n"
   ]
  },
  {
   "cell_type": "markdown",
   "metadata": {},
   "source": [
    "- A -> {B,C,D}\n",
    "- E -> {C,D,F}\n",
    "\n",
    "Jaccard(A,E) $= \\frac{| \\{B,C,D\\} \\cap \\{C,D,F\\} |}{| \\{B,C,D\\} \\cup \\{C,D,F\\} |} = \\frac{2}{4}$\n",
    "\n",
    "Create graph with edge between A and E with weight 0.5.\n",
    "\n",
    "Many variants you can consider:\n",
    "- Only add edge if Jaccard > $\\epsilon$\n",
    "- Make an unweighted graph, using only edges with Jaccard > $\\epsilon$\n"
   ]
  },
  {
   "cell_type": "markdown",
   "metadata": {},
   "source": [
    "**Final Review**\n",
    "\n",
    "- l10 -> end\n",
    "- sentiment analysis\n",
    "  - lexicons\n",
    "  - wordnet\n",
    "  - how to combine words with different sentiment?\n",
    "- classification\n",
    "  - workflow (collect, label, train, test, etc)\n",
    "  - computing feature vectors\n",
    "  - generalization error\n",
    "  - variants of SimpleMachine\n",
    "  - computing cross-validation accuracy (why?)\n",
    "  - bias vs. variance\n",
    "- demographics\n",
    "  - pitfalls of using name lists\n",
    "  - computing odds ratio\n",
    "  - smoothing\n",
    "  - ngrams\n",
    "  - tokenization\n",
    "  - stop words\n",
    "  - regularization (why?)\n",
    "- logistic regression, linear regression\n",
    "  - no need to do calculus, but do you understand the formula?\n",
    "  - apply classification function given data/parameters\n",
    "  - what does the gradient represent?\n",
    "- feature representation\n",
    "  - tf-idf\n",
    "  - csr_matrix: how does this data structure work? (data, column index, row pointer)\n",
    "- recommendation systems\n",
    "  - content-based\n",
    "    - tf-idf\n",
    "    - cosine similarity\n",
    "  - collaborative filtering\n",
    "    - user-user\n",
    "    - item-item\n",
    "    - measures: jaccard, cosine, pearson. Why choose one over another\n",
    "  - How to compute the recommended score for a specific item?\n",
    "- k-means\n",
    "  - see the quiz for example (compute cluster assignment, means, and error function)\n",
    "  - what effect does k have?\n"
   ]
  }
 ],
 "metadata": {
  "kernelspec": {
   "display_name": "Python 3",
   "language": "python",
   "name": "python3"
  },
  "language_info": {
   "codemirror_mode": {
    "name": "ipython",
    "version": 3
   },
   "file_extension": ".py",
   "mimetype": "text/x-python",
   "name": "python",
   "nbconvert_exporter": "python",
   "pygments_lexer": "ipython3",
   "version": "3.5.0"
  }
 },
 "nbformat": 4,
 "nbformat_minor": 0
}
