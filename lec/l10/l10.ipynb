{
 "cells": [
  {
   "cell_type": "markdown",
   "metadata": {
    "slideshow": {
     "slide_type": "slide"
    }
   },
   "source": [
    "# CS579: Lecture 10  \n",
    "\n",
    "**Sentiment Analysis**\n",
    "\n",
    "*[Dr. Aron Culotta](http://cs.iit.edu/~culotta)*  \n",
    "*[Illinois Institute of Technology](http://iit.edu)*\n",
    "\n",
    "*Warning: Live Twitter data is used below, some or all of which may be offensive.*"
   ]
  },
  {
   "cell_type": "markdown",
   "metadata": {
    "slideshow": {
     "slide_type": "slide"
    }
   },
   "source": [
    "**sen·ti·ment**\n",
    "\n",
    "1. a view of or attitude toward a situation or event; an opinion.\n",
    "2. a feeling or emotion.\n"
   ]
  },
  {
   "cell_type": "markdown",
   "metadata": {
    "slideshow": {
     "slide_type": "slide"
    }
   },
   "source": [
    "**sen·ti·ment &nbsp; a·nal·y·sis ** \n",
    "\n",
    "1. classification of documents/messages by sentiment"
   ]
  },
  {
   "cell_type": "markdown",
   "metadata": {
    "slideshow": {
     "slide_type": "slide"
    }
   },
   "source": [
    "# Examples"
   ]
  },
  {
   "cell_type": "markdown",
   "metadata": {
    "slideshow": {
     "slide_type": "slide"
    }
   },
   "source": [
    "![tmnt.png](tmnt.png)"
   ]
  },
  {
   "cell_type": "markdown",
   "metadata": {
    "slideshow": {
     "slide_type": "slide"
    }
   },
   "source": [
    "![ufo](ufo.png)\n",
    "\n",
    "![ufo-review](ufo-review.png)"
   ]
  },
  {
   "cell_type": "markdown",
   "metadata": {
    "slideshow": {
     "slide_type": "slide"
    }
   },
   "source": [
    "![mcds](mcds.png)"
   ]
  },
  {
   "cell_type": "markdown",
   "metadata": {
    "slideshow": {
     "slide_type": "slide"
    }
   },
   "source": [
    "![rauner](rauner.png)\n",
    "![quinn](quinn.png)"
   ]
  },
  {
   "cell_type": "markdown",
   "metadata": {
    "slideshow": {
     "slide_type": "slide"
    }
   },
   "source": [
    "## Why is this hard?\n"
   ]
  },
  {
   "cell_type": "markdown",
   "metadata": {
    "slideshow": {
     "slide_type": "slide"
    }
   },
   "source": [
    "# Two Approaches\n",
    "\n",
    "- Lexicons (word lists)\n",
    "\n",
    "- Machine learning"
   ]
  },
  {
   "cell_type": "markdown",
   "metadata": {
    "slideshow": {
     "slide_type": "slide"
    }
   },
   "source": [
    "# Lexicons\n",
    "\n",
    "- List of terms with positive/negative/neutral sentiment\n",
    "\n",
    "- E.g., AFINN: http://neuro.imm.dtu.dk/wiki/AFINN\n"
   ]
  },
  {
   "cell_type": "code",
   "execution_count": 150,
   "metadata": {
    "collapsed": false
   },
   "outputs": [
    {
     "name": "stdout",
     "output_type": "stream",
     "text": [
      "read 2462 AFINN terms.\n",
      "E.g.: [('vague', -2), ('bargain', 2), ('hates', -3), ('bore', -2), ('nervously', -2), ('asshole', -4), ('enterprising', 1), ('apologize', -1), ('cancelling', -1), ('belittled', -2)]\n"
     ]
    }
   ],
   "source": [
    "# Download the AFINN lexicon, unzip, and read the latest word list in AFINN-111.txt\n",
    "from collections import defaultdict\n",
    "from io import BytesIO\n",
    "from zipfile import ZipFile\n",
    "from urllib.request import urlopen\n",
    "\n",
    "url = urlopen('http://www2.compute.dtu.dk/~faan/data/AFINN.zip')\n",
    "zipfile = ZipFile(BytesIO(url.read()))\n",
    "afinn_file = zipfile.open('AFINN/AFINN-111.txt')\n",
    "\n",
    "afinn = dict()\n",
    "\n",
    "for line in afinn_file:\n",
    "    parts = line.strip().split()\n",
    "    if len(parts) == 2:\n",
    "        afinn[parts[0].decode(\"utf-8\")] = int(parts[1])\n",
    "\n",
    "print('read %d AFINN terms.\\nE.g.: %s' % (len(afinn), str(list(afinn.items())[:10])))"
   ]
  },
  {
   "cell_type": "code",
   "execution_count": 151,
   "metadata": {
    "collapsed": false
   },
   "outputs": [
    {
     "data": {
      "text/plain": [
       "2462"
      ]
     },
     "execution_count": 151,
     "metadata": {},
     "output_type": "execute_result"
    }
   ],
   "source": [
    "len(afinn)"
   ]
  },
  {
   "cell_type": "code",
   "execution_count": 152,
   "metadata": {
    "collapsed": false
   },
   "outputs": [
    {
     "data": {
      "image/png": "[encoded data removed]",
      "text/plain": [
       "<matplotlib.figure.Figure at 0x108424e80>"
      ]
     },
     "metadata": {},
     "output_type": "display_data"
    }
   ],
   "source": [
    "# What is the distribution of scores?\n",
    "from collections import Counter\n",
    "import matplotlib.pyplot as plt\n",
    "%matplotlib inline\n",
    "\n",
    "counts = Counter(afinn.values())\n",
    "vals = sorted(counts.keys())\n",
    "\n",
    "plt.bar(vals, counts.values())\n",
    "plt.xticks(vals)\n",
    "plt.xlabel('negative <--       sentiment       --> positive')\n",
    "plt.ylabel('count')\n",
    "plt.show()"
   ]
  },
  {
   "cell_type": "code",
   "execution_count": 154,
   "metadata": {
    "collapsed": false
   },
   "outputs": [
    {
     "name": "stdout",
     "output_type": "stream",
     "text": [
      "\tscam=-2\n",
      "\tbroken=-1\n",
      "AFINN:  -3.0\n"
     ]
    }
   ],
   "source": [
    "# How do we score a document?\n",
    "def afinn_sentiment(terms, afinn):\n",
    "    total = 0.\n",
    "    for t in terms:\n",
    "        if t in afinn:\n",
    "            print('\\t%s=%d' % (t, afinn[t]))\n",
    "            total += afinn[t]\n",
    "    return total\n",
    "    \n",
    "doc = \"i don't know if this is a scam or if mine was broken\".split()\n",
    "print('AFINN: ', afinn_sentiment(doc, afinn))"
   ]
  },
  {
   "cell_type": "code",
   "execution_count": 155,
   "metadata": {
    "collapsed": false
   },
   "outputs": [
    {
     "name": "stdout",
     "output_type": "stream",
     "text": [
      "\tgood=3\n",
      "\tbad=-3\n",
      "AFINN:  0.0\n"
     ]
    }
   ],
   "source": [
    "# What if mixed sentiment?\n",
    "doc = \"it has a hokey plot that is both to good and bad\".split()\n",
    "print('AFINN: ', afinn_sentiment(doc, afinn))"
   ]
  },
  {
   "cell_type": "code",
   "execution_count": 156,
   "metadata": {
    "collapsed": false
   },
   "outputs": [
    {
     "name": "stdout",
     "output_type": "stream",
     "text": [
      "\tgood=3\n",
      "\tbad=-3\n",
      "AFINN: (3, 3)\n"
     ]
    }
   ],
   "source": [
    "# Distinguish neutral from pos/neg.\n",
    "# Return two scores per document.\n",
    "def afinn_sentiment2(terms, afinn, verbose=False):\n",
    "    pos = 0\n",
    "    neg = 0\n",
    "    for t in terms:\n",
    "        if t in afinn:\n",
    "            if verbose:\n",
    "                print('\\t%s=%d' % (t, afinn[t]))\n",
    "            if afinn[t] > 0:\n",
    "                pos += afinn[t]\n",
    "            else:\n",
    "                neg += -1 * afinn[t]\n",
    "    return pos, neg\n",
    "\n",
    "doc = \"it has a hokey plot that is both to good and bad\".split()\n",
    "print('AFINN:', afinn_sentiment2(doc, afinn, verbose=True))"
   ]
  },
  {
   "cell_type": "code",
   "execution_count": 157,
   "metadata": {
    "collapsed": false
   },
   "outputs": [
    {
     "name": "stdout",
     "output_type": "stream",
     "text": [
      "\tbad=-3\n",
      "AFINN: (0, 3)\n"
     ]
    }
   ],
   "source": [
    "doc = \"the plot is not bad\".split()\n",
    "print('AFINN:', afinn_sentiment2(doc, afinn, verbose=True))"
   ]
  },
  {
   "cell_type": "code",
   "execution_count": 158,
   "metadata": {
    "collapsed": false
   },
   "outputs": [],
   "source": [
    "import configparser\n",
    "from TwitterAPI import TwitterAPI\n",
    "\n",
    "# Get some tweets about McDonald's\n",
    "\n",
    "def get_twitter(config_file):\n",
    "    \"\"\" Read the config_file and construct an instance of TwitterAPI.\n",
    "    Args:\n",
    "      config_file ... A config file in ConfigParser format with Twitter credentials\n",
    "    Returns:\n",
    "      An instance of TwitterAPI.\n",
    "    \"\"\"\n",
    "    config = configparser.ConfigParser()\n",
    "    config.read(config_file)\n",
    "    twitter = TwitterAPI(\n",
    "                   config.get('twitter', 'consumer_key'),\n",
    "                   config.get('twitter', 'consumer_secret'),\n",
    "                   config.get('twitter', 'access_token'),\n",
    "                   config.get('twitter', 'access_token_secret'))\n",
    "    return twitter\n",
    "\n",
    "twitter = get_twitter('twitter.cfg')\n",
    "tweets = []\n",
    "for r in twitter.request('search/tweets', {'q': 'mcdonalds', 'count': 100}):\n",
    "    tweets.append(r)"
   ]
  },
  {
   "cell_type": "code",
   "execution_count": 159,
   "metadata": {
    "collapsed": false
   },
   "outputs": [
    {
     "name": "stdout",
     "output_type": "stream",
     "text": [
      "read 100 mcdonalds tweets\n"
     ]
    }
   ],
   "source": [
    "print('read %d mcdonalds tweets' % len(tweets))"
   ]
  },
  {
   "cell_type": "code",
   "execution_count": 169,
   "metadata": {
    "collapsed": false,
    "scrolled": true
   },
   "outputs": [
    {
     "name": "stdout",
     "output_type": "stream",
     "text": [
      "tokenized, e.g., \n",
      "RT @exposinglm: 3. leigh secretly works for mcdonalds, and she got caught stealing big macs so little mix had to perform in mcdonalds to re…\n",
      "to\n",
      "['rt', 'exposinglm', '3', 'leigh', 'secretly', 'works', 'for', 'mcdonalds', 'and', 'she', 'got', 'caught', 'stealing', 'big', 'macs', 'so', 'little', 'mix', 'had', 'to', 'perform', 'in', 'mcdonalds', 'to', 're']\n"
     ]
    }
   ],
   "source": [
    "# Tokenize tweets\n",
    "import re\n",
    "\n",
    "# \\w = [a-zA-Z0-9_]\n",
    "def tokenize(text):\n",
    "    return re.sub('\\W+', ' ', text.lower()).split()\n",
    "\n",
    "tokens = [tokenize(t['text']) for t in tweets]\n",
    "print('tokenized, e.g., \\n%s\\nto\\n%s' % \n",
    "      (tweets[10]['text'], tokens[10]))\n",
    "#tweets[50]['user']['name']\n",
    "# tweets[50]['user']['screen_name']"
   ]
  },
  {
   "cell_type": "code",
   "execution_count": 165,
   "metadata": {
    "collapsed": true
   },
   "outputs": [
    {
     "data": {
      "text/plain": [
       "['hi',\n",
       " 'there',\n",
       " 'how',\n",
       " 'are',\n",
       " 'you',\n",
       " 'don',\n",
       " 't',\n",
       " 'you',\n",
       " 'awesome',\n",
       " 'awesome',\n",
       " 'http',\n",
       " 'www',\n",
       " 'good',\n",
       " 'com']"
      ]
     },
     "execution_count": 165,
     "metadata": {},
     "output_type": "execute_result"
    }
   ],
   "source": [
    "tokenize(\"Hi there how are you? Don't you ... #awesome @awesome http://www.good.com\")"
   ]
  },
  {
   "cell_type": "code",
   "execution_count": 170,
   "metadata": {
    "collapsed": false
   },
   "outputs": [],
   "source": [
    "positives = []\n",
    "negatives = []\n",
    "for token_list, tweet in zip(tokens, tweets):\n",
    "    pos, neg = afinn_sentiment2(token_list, afinn)\n",
    "    if pos > neg:\n",
    "        positives.append((tweet['text'], pos, neg))\n",
    "    elif neg > pos:\n",
    "        negatives.append((tweet['text'], pos, neg))"
   ]
  },
  {
   "cell_type": "code",
   "execution_count": 171,
   "metadata": {
    "collapsed": false,
    "scrolled": true
   },
   "outputs": [
    {
     "name": "stdout",
     "output_type": "stream",
     "text": [
      "5 2 RT @savangsta: how do you fall in love with someone you just met \n",
      "why do girls think it's cute to be crazy\n",
      "why mcdonalds ice cream machine…\n",
      "5 0 McDonalds: hailee_autumn Sounds like a good plan. Can't wait to see you!\n",
      "5 1 McDonalds: AlbertoRejoice Thanks for the love! Stop by anytime.\n",
      "5 0 @hailee_autumn Sounds like a good plan. Can't wait to see you!\n",
      "5 1 @AlbertoRejoice Thanks for the love! Stop by anytime.\n",
      "4 0 McDonalds: tayrenee23 We're so happy you feel that way, Taylor! Promise to visit again soon?\n",
      "4 1 @MikeyPoole Sorry about your order! To help us improve, can you provide the location here: https://t.co/dULVemrEy1?\n",
      "4 0 @tayrenee23 We're so happy you feel that way, Taylor! Promise to visit again soon?\n",
      "4 1 @Hannah_Smedley Sorry about your order! To help us improve, can you provide the location here: https://t.co/9Wa9XpmAqx?\n",
      "3 0 Now the kids can beg their parents for a Happy Meal at 7am.... https://t.co/BrvlMwBhjK\n",
      "3 0 McDonalds: heseIegant You’re in for a treat! Celebrate the lovin’ with a BOGO breakfast sandwich offer through our… https://t.co/VamHWrTtPo\n",
      "3 0 @ashley_shultz You’re in for a treat! Celebrate the lovin’ with a BOGO breakfast sandwich offer through our app: https://t.co/UGN1q532Zk\n",
      "3 0 McDonalds: 123_kera We heard you! Celebrate any time of day with a BOGO offer through our app: https://t.co/1ZrHXSW03c\n",
      "3 0 McDonalds: cameronjaaames You’re in for a treat! Celebrate the lovin’ with a BOGO breakfast sandwich offer through… https://t.co/vVkhzwrx5U\n",
      "3 0 McDonalds: Jeohns You’re in for a treat! Celebrate the lovin’ with a BOGO breakfast sandwich offer through our app: https://t.co/7RG7aRRwNY\n",
      "3 0 RT @LILPULLOUTT: The seizure salad from mcdonalds is sooo good😍\n",
      "3 0 FUUUCCCCKKKK JAG GLÖMDE ATT DET DELAS UT POKÉMONS SOM LEKSAKER PÅ MCDONALDS OCH JAG BESTÄLLDE INTE NÅN HAPPY MEAL HELVETE\n",
      "3 0 @heseIegant You’re in for a treat! Celebrate the lovin’ with a BOGO breakfast sandwich offer through our app: https://t.co/WjZbYjEYLh\n",
      "3 0 @cldilla @NFL @McDonalds. Then YOU join the military and serve the nation you claim to honor. #NoJingoism\n",
      "3 0 @123_kera We heard you! Celebrate any time of day with a BOGO offer through our app: https://t.co/C3N9GBxCN0\n",
      "3 0 So excited to host this event! All my business women come out 10/23 @mcdphilly @mcdonalds https://t.co/VOZXsntJFS\n",
      "3 0 @cameronjaaames You’re in for a treat! Celebrate the lovin’ with a BOGO breakfast sandwich offer through our app: https://t.co/yVTxuqMcu7\n",
      "2 0 We have to constantly push to give something, in order get something, with our #creative ideas. @LBBOnline @YandRNZ… https://t.co/bjfgfM1mnZ\n",
      "2 0 RT @twitrarn: så jävla avtändande när man ska köpa mcdonalds till sin tjej och hon vill ha \"lilla menyn\" vafan lev lite\n",
      "2 0 RT @NWPDeesideNPT: Found this iphone at the Northop mcdonalds. It is now at Deeside station. Please share so we can find owner. https://t.c…\n",
      "2 0 RT @kanyewest: McDonalds is my favorite brand\n",
      "2 0 RT @NWPDeesideNPT: Found this iphone at the Northop mcdonalds. It is now at Deeside station. Please share so we can find owner. https://t.c…\n",
      "2 0 RT @kanyewest: McDonalds is my favorite brand\n",
      "2 0 How Mcdonalds gone be out of mf sweet tea 💁🏾‍♂️\n",
      "1 0 @life_is_good730 We see you! Share the lovin’ with a BOGO breakfast sandwich offer through our app: https://t.co/O4XnQrI5Ls\n",
      "1 0 RT @exposinglm: 3. leigh secretly works for mcdonalds, and she got caught stealing big macs so little mix had to perform in mcdonalds to re…\n",
      "1 0 McDonalds: hillmanr23 Come on by, we’ve got BOGO breakfast sandwiches to share with an offer through our app: https://t.co/8IUbJmuObF\n",
      "1 0 Want to work at McDonald's Corporation? We're #hiring in #Manassas, VA! Click for details: https://t.co/3HXjFA2ljI #Job #Hospitality #Jobs\n",
      "1 0 @hillmanr23 Come on by, we’ve got BOGO breakfast sandwiches to share with an offer through our app: https://t.co/TJ2LV5D2oK\n",
      "1 0 RT @exposinglm: 3. leigh secretly works for mcdonalds, and she got caught stealing big macs so little mix had to perform in mcdonalds to re…\n",
      "1 0 All the standards and quality must be the same across all the shops. \"We want to take on McDonalds one day\" #EOY2016\n",
      "1 0 All the standards and quality must be the same across all the shops. \"We want to take on McDonalds one day\" #EOY2016\n",
      "1 0 @PaulFerris_Gla do they sell smack in McDonalds in Glasgow Paul ? Can you get a Big Smac meal ? #her rip\n",
      "1 0 RT @exposinglm: 3. leigh secretly works for mcdonalds, and she got caught stealing big macs so little mix had to perform in mcdonalds to re…\n"
     ]
    }
   ],
   "source": [
    "# Print top positives:\n",
    "for tweet, pos, neg in sorted(positives, key=lambda x: x[1], reverse=True):\n",
    "    print(pos, neg, tweet)"
   ]
  },
  {
   "cell_type": "code",
   "execution_count": 143,
   "metadata": {
    "collapsed": false
   },
   "outputs": [
    {
     "name": "stdout",
     "output_type": "stream",
     "text": [
      "\tinterested=2\n",
      "\tgreat=3\n",
      "\tfit=1\n"
     ]
    },
    {
     "data": {
      "text/plain": [
       "(6, 0)"
      ]
     },
     "execution_count": 143,
     "metadata": {},
     "output_type": "execute_result"
    }
   ],
   "source": [
    "afinn_sentiment2(tokenize('Interested in a #job in #Redmond, WA? This could be a great fit: https://t.co/iF8xH1PuC4 #Hospitality #Hiring #CareerArc'),\n",
    "                 afinn, verbose=True)"
   ]
  },
  {
   "cell_type": "code",
   "execution_count": 173,
   "metadata": {
    "collapsed": false,
    "scrolled": true
   },
   "outputs": [
    {
     "name": "stdout",
     "output_type": "stream",
     "text": [
      "0 7 RT @Wtfffstephh: I fucking hate mcdonalds , I will never eat there ..\n",
      "2 4 2 sweet and sour sauces but none in the bag once again @McDonalds fuck this jazz https://t.co/Hk93mM5eps\n",
      "0 4 RT @Ayye_pap: AYE MA DUKES. I ASKED YOU IF WE COULD GO TO MCDONALDS, NOT IF IT WAS FOOD IN DA DAMN HOUSE‼️😡😤😢😂 #PaptingAFool https://t.co/o…\n",
      "0 4 RT @Ayye_pap: AYE MA DUKES. I ASKED YOU IF WE COULD GO TO MCDONALDS, NOT IF IT WAS FOOD IN DA DAMN HOUSE‼️😡😤😢😂 #PaptingAFool https://t.co/o…\n",
      "0 3 RT @vrschwrngsbot: McDonalds unterdrückt die Mächte\n",
      "0 2 RT @Transfofa: TRANS-SCRIBE: Transgender Teen Fired From McDonalds Following Me... https://t.co/fjl4Mi5Jhv\n",
      "0 2 RT @G6throughF5: 'F-CK WHITES': Black Woman Brags Via Twitter About Spitting In 'White Peoples Food' https://t.co/nafG0GxLDD\n",
      "\n",
      "Boycott @McDo…\n",
      "0 2 TRANS-SCRIBE: Transgender Teen Fired From McDonalds Following Me... https://t.co/fjl4Mi5Jhv\n",
      "0 1 RT @LuiCalibre: @H2ODelirious @BasicallyIDoWrk @McDonalds with egg or no egg?\n",
      "0 1 RT @felipeneto: Fui no @McDonalds_BR ontem e o @BobsBrasil q me desculpe, podem chamar 348 canais do Youtube, o milkshake ovomaltine ficou…\n",
      "0 1 RT @fcnfreire: Amigos a torcida do Mengão TÁ FAZENDO UM MOSAICO NO MCDONALDS COM AS BANDEJAS https://t.co/j1z5RR0Pky\n",
      "0 1 @LuiCalibre @H2ODelirious @BasicallyIDoWrk @McDonalds why no McChicken\n",
      "0 1 RT @iamKingLos: Stop eating mcdonalds\n",
      "0 1 RT @GavStaceyReacts: Me: Can we get McDonalds?\n",
      "Mum: No\n",
      "Me: https://t.co/OO4Y3Mpbp4\n",
      "0 1 RT @fcnfreire: Amigos a torcida do Mengão TÁ FAZENDO UM MOSAICO NO MCDONALDS COM AS BANDEJAS https://t.co/j1z5RR0Pky\n"
     ]
    }
   ],
   "source": [
    "# Print top negatives:\n",
    "for tweet, pos, neg in sorted(negatives, key=lambda x: x[2], reverse=True):\n",
    "    print(pos, neg, tweet)"
   ]
  },
  {
   "cell_type": "code",
   "execution_count": 172,
   "metadata": {
    "collapsed": false
   },
   "outputs": [
    {
     "name": "stdout",
     "output_type": "stream",
     "text": [
      "\tsorry=-1\n",
      "\thelp=2\n",
      "\timprove=2\n"
     ]
    },
    {
     "data": {
      "text/plain": [
       "(4, 1)"
      ]
     },
     "execution_count": 172,
     "metadata": {},
     "output_type": "execute_result"
    }
   ],
   "source": [
    "afinn_sentiment2(tokenize('@MikeyPoole Sorry about your order! To help us improve, can you provide the location here'),\n",
    "                 afinn, verbose=True)"
   ]
  },
  {
   "cell_type": "markdown",
   "metadata": {},
   "source": [
    "# Sentiment Trends?\n",
    "![politico](politico.png)\n",
    "\n",
    "What can go wrong?\n",
    "\n",
    "<br><br><br><br>"
   ]
  },
  {
   "cell_type": "code",
   "execution_count": 175,
   "metadata": {
    "collapsed": false
   },
   "outputs": [
    {
     "name": "stdout",
     "output_type": "stream",
     "text": [
      "celebrate count=8 sentiment=3\n",
      "no count=6 sentiment=-1\n",
      "share count=5 sentiment=1\n",
      "big count=4 sentiment=1\n",
      "happy count=4 sentiment=3\n",
      "love count=3 sentiment=3\n",
      "good count=3 sentiment=3\n",
      "stop count=3 sentiment=-1\n",
      "want count=3 sentiment=1\n",
      "favorite count=2 sentiment=2\n",
      "damn count=2 sentiment=-4\n"
     ]
    }
   ],
   "source": [
    "# Which words contribute most to sentiment?\n",
    "all_counts = Counter()\n",
    "for tweet in tokens:\n",
    "    all_counts.update(tweet)\n",
    "sorted_tokens = sorted(all_counts.items(), key=lambda x:x[1], reverse=True)\n",
    "i = 0\n",
    "for token, count in sorted_tokens:\n",
    "    if token in afinn:\n",
    "        print('%s count=%d sentiment=%d' % (token, count, afinn[token]))\n",
    "        i += 1\n",
    "        if i > 10:\n",
    "            break"
   ]
  },
  {
   "cell_type": "code",
   "execution_count": 176,
   "metadata": {
    "collapsed": false,
    "scrolled": true
   },
   "outputs": [
    {
     "data": {
      "text/plain": [
       "[['mcdonalds',\n",
       "  'heseiegant',\n",
       "  'you',\n",
       "  're',\n",
       "  'in',\n",
       "  'for',\n",
       "  'a',\n",
       "  'treat',\n",
       "  'celebrate',\n",
       "  'the',\n",
       "  'lovin',\n",
       "  'with',\n",
       "  'a',\n",
       "  'bogo',\n",
       "  'breakfast',\n",
       "  'sandwich',\n",
       "  'offer',\n",
       "  'through',\n",
       "  'our',\n",
       "  'https',\n",
       "  't',\n",
       "  'co',\n",
       "  'vamhwrttpo'],\n",
       " ['ashley_shultz',\n",
       "  'you',\n",
       "  're',\n",
       "  'in',\n",
       "  'for',\n",
       "  'a',\n",
       "  'treat',\n",
       "  'celebrate',\n",
       "  'the',\n",
       "  'lovin',\n",
       "  'with',\n",
       "  'a',\n",
       "  'bogo',\n",
       "  'breakfast',\n",
       "  'sandwich',\n",
       "  'offer',\n",
       "  'through',\n",
       "  'our',\n",
       "  'app',\n",
       "  'https',\n",
       "  't',\n",
       "  'co',\n",
       "  'ugn1q532zk'],\n",
       " ['mcdonalds',\n",
       "  '123_kera',\n",
       "  'we',\n",
       "  'heard',\n",
       "  'you',\n",
       "  'celebrate',\n",
       "  'any',\n",
       "  'time',\n",
       "  'of',\n",
       "  'day',\n",
       "  'with',\n",
       "  'a',\n",
       "  'bogo',\n",
       "  'offer',\n",
       "  'through',\n",
       "  'our',\n",
       "  'app',\n",
       "  'https',\n",
       "  't',\n",
       "  'co',\n",
       "  '1zrhxsw03c'],\n",
       " ['mcdonalds',\n",
       "  'cameronjaaames',\n",
       "  'you',\n",
       "  're',\n",
       "  'in',\n",
       "  'for',\n",
       "  'a',\n",
       "  'treat',\n",
       "  'celebrate',\n",
       "  'the',\n",
       "  'lovin',\n",
       "  'with',\n",
       "  'a',\n",
       "  'bogo',\n",
       "  'breakfast',\n",
       "  'sandwich',\n",
       "  'offer',\n",
       "  'through',\n",
       "  'https',\n",
       "  't',\n",
       "  'co',\n",
       "  'vvkhzwrx5u'],\n",
       " ['mcdonalds',\n",
       "  'jeohns',\n",
       "  'you',\n",
       "  're',\n",
       "  'in',\n",
       "  'for',\n",
       "  'a',\n",
       "  'treat',\n",
       "  'celebrate',\n",
       "  'the',\n",
       "  'lovin',\n",
       "  'with',\n",
       "  'a',\n",
       "  'bogo',\n",
       "  'breakfast',\n",
       "  'sandwich',\n",
       "  'offer',\n",
       "  'through',\n",
       "  'our',\n",
       "  'app',\n",
       "  'https',\n",
       "  't',\n",
       "  'co',\n",
       "  '7rg7arrwny'],\n",
       " ['heseiegant',\n",
       "  'you',\n",
       "  're',\n",
       "  'in',\n",
       "  'for',\n",
       "  'a',\n",
       "  'treat',\n",
       "  'celebrate',\n",
       "  'the',\n",
       "  'lovin',\n",
       "  'with',\n",
       "  'a',\n",
       "  'bogo',\n",
       "  'breakfast',\n",
       "  'sandwich',\n",
       "  'offer',\n",
       "  'through',\n",
       "  'our',\n",
       "  'app',\n",
       "  'https',\n",
       "  't',\n",
       "  'co',\n",
       "  'wjzbyjeylh'],\n",
       " ['123_kera',\n",
       "  'we',\n",
       "  'heard',\n",
       "  'you',\n",
       "  'celebrate',\n",
       "  'any',\n",
       "  'time',\n",
       "  'of',\n",
       "  'day',\n",
       "  'with',\n",
       "  'a',\n",
       "  'bogo',\n",
       "  'offer',\n",
       "  'through',\n",
       "  'our',\n",
       "  'app',\n",
       "  'https',\n",
       "  't',\n",
       "  'co',\n",
       "  'c3n9gbxcn0'],\n",
       " ['cameronjaaames',\n",
       "  'you',\n",
       "  're',\n",
       "  'in',\n",
       "  'for',\n",
       "  'a',\n",
       "  'treat',\n",
       "  'celebrate',\n",
       "  'the',\n",
       "  'lovin',\n",
       "  'with',\n",
       "  'a',\n",
       "  'bogo',\n",
       "  'breakfast',\n",
       "  'sandwich',\n",
       "  'offer',\n",
       "  'through',\n",
       "  'our',\n",
       "  'app',\n",
       "  'https',\n",
       "  't',\n",
       "  'co',\n",
       "  'yvtxuqmcu7']]"
      ]
     },
     "execution_count": 176,
     "metadata": {},
     "output_type": "execute_result"
    }
   ],
   "source": [
    "[t for t in tokens if 'celebrate' in t]"
   ]
  },
  {
   "cell_type": "markdown",
   "metadata": {},
   "source": [
    "# Part of speech?\n",
    "\n",
    "> *I hate McDonlads.*  \n",
    "> *Hate speech is wrong.*\n",
    "\n",
    "> *Rauner is lying.*  \n",
    "> *Lying in bed with the flu.*\n",
    "\n",
    "Noun/verb/adjective form of term may have different sentiment."
   ]
  },
  {
   "cell_type": "markdown",
   "metadata": {
    "slideshow": {
     "slide_type": "slide"
    }
   },
   "source": [
    "# WordNet\n",
    "\n",
    "- A database of words and their relations\n",
    "- http://wordnet.princeton.edu/\n",
    "- Statistics: http://wordnet.princeton.edu/wordnet/man/wnstats.7WN.html"
   ]
  },
  {
   "cell_type": "markdown",
   "metadata": {
    "slideshow": {
     "slide_type": "slide"
    }
   },
   "source": [
    "# WordNet\n",
    "\n",
    "- **Synset:**\n",
    "  - A list of synonyms\n",
    "  - E.g. [dog](http://wordnetweb.princeton.edu/perl/webwn?s=dog&sub=Search+WordNet&o2=&o0=1&o8=1&o1=1&o7=&o5=&o9=&o6=&o3=&o4=&h=11000000000000000000001000000000)\n",
    "- **Hypernym:**\n",
    "  - Y is a Hypernym of X if every X is a kind of Y\n",
    "    - **canine** is a hypernym of **dog**\n",
    "- **Hyponym:**\n",
    "  - Y is a Hyponym of X if every Y is a kind of X\n",
    "    - **dog** is a hyponym of **canine**\n",
    "    \n",
    "<br><br><br>\n",
    "\n",
    "<img src=\"https://upload.wikimedia.org/wikipedia/en/1/1f/Hyponymsandhypernyms.jpg\">"
   ]
  },
  {
   "cell_type": "markdown",
   "metadata": {},
   "source": [
    "# SentiWordNet\n",
    "\n",
    "http://sentiwordnet.isti.cnr.it/\n",
    "\n",
    "![senti](senti.png)\n",
    "\n",
    "[source](http://nmis.isti.cnr.it/sebastiani/Publications/LREC06.pdf)"
   ]
  },
  {
   "cell_type": "code",
   "execution_count": 177,
   "metadata": {
    "collapsed": false
   },
   "outputs": [
    {
     "name": "stdout",
     "output_type": "stream",
     "text": [
      "happy(n): negative_score=0.00 positive_score=0.88 objective_score=0.12\n"
     ]
    }
   ],
   "source": [
    "from nltk.corpus import sentiwordnet as swn\n",
    "# Depends on nltk (pip install nltk)\n",
    "# See http://www.nltk.org/data.html\n",
    "happy = list(swn.senti_synsets('happy', 'a'))[0]\n",
    "\n",
    "print('happy(n): negative_score=%.2f positive_score=%.2f objective_score=%.2f' %\n",
    "      (happy.neg_score(), happy.pos_score(), happy.obj_score()))"
   ]
  },
  {
   "cell_type": "code",
   "execution_count": 178,
   "metadata": {
    "collapsed": false
   },
   "outputs": [
    {
     "name": "stdout",
     "output_type": "stream",
     "text": [
      "hate(n): negative_score=0.38 positive_score=0.12 objective_score=0.50\n"
     ]
    }
   ],
   "source": [
    "hate = list(swn.senti_synsets('hate', 'n'))[0]\n",
    "\n",
    "print('hate(n): negative_score=%.2f positive_score=%.2f objective_score=%.2f' %\n",
    "      (hate.neg_score(), hate.pos_score(), hate.obj_score()))"
   ]
  },
  {
   "cell_type": "code",
   "execution_count": 149,
   "metadata": {
    "collapsed": false
   },
   "outputs": [
    {
     "name": "stdout",
     "output_type": "stream",
     "text": [
      "hate(v): negative_score=0.75 positive_score=0.00 objective_score=0.25\n"
     ]
    }
   ],
   "source": [
    "hate = list(swn.senti_synsets('hate', 'v'))[0]\n",
    "\n",
    "print('hate(v): negative_score=%.2f positive_score=%.2f objective_score=%.2f' %\n",
    "      (hate.neg_score(), hate.pos_score(), hate.obj_score()))"
   ]
  },
  {
   "cell_type": "code",
   "execution_count": 183,
   "metadata": {
    "collapsed": false
   },
   "outputs": [
    {
     "name": "stdout",
     "output_type": "stream",
     "text": [
      "good(a): negative_score=0.00 positive_score=1.00 objective_score=0.00\n"
     ]
    }
   ],
   "source": [
    "hate = list(swn.senti_synsets('good', 'a'))[1]\n",
    "print('good(a): negative_score=%.2f positive_score=%.2f objective_score=%.2f' %\n",
    "      (hate.neg_score(), hate.pos_score(), hate.obj_score()))"
   ]
  }
 ],
 "metadata": {
  "kernelspec": {
   "display_name": "Python 3",
   "language": "python",
   "name": "python3"
  },
  "language_info": {
   "codemirror_mode": {
    "name": "ipython",
    "version": 3
   },
   "file_extension": ".py",
   "mimetype": "text/x-python",
   "name": "python",
   "nbconvert_exporter": "python",
   "pygments_lexer": "ipython3",
   "version": "3.5.0"
  }
 },
 "nbformat": 4,
 "nbformat_minor": 0
}
