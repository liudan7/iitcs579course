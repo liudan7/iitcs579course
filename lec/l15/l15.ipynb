{
 "cells": [
  {
   "cell_type": "markdown",
   "metadata": {},
   "source": [
    "# CS579: Lecture 15  \n",
    "\n",
    "**More Classification**\n",
    "\n",
    "*[Dr. Aron Culotta](http://cs.iit.edu/~culotta)*  \n",
    "*[Illinois Institute of Technology](http://iit.edu)*"
   ]
  },
  {
   "cell_type": "markdown",
   "metadata": {},
   "source": [
    "## Recall Error function for logistic regression.\n",
    "\n",
    "Given labeled dataset $D=\\{(x_1, y_1), \\ldots (x_n, y_n)\\}$\n",
    "\n",
    "$$\n",
    "E(D, \\theta) = - \\prod_{i \\in D} p(y_i|x_i)\n",
    "$$\n",
    "\n",
    "$$\n",
    "p(y_i|x_i) = \\frac{1}{1 + e^{-y_i x_i \\cdot \\theta}}\n",
    "$$"
   ]
  },
  {
   "cell_type": "code",
   "execution_count": 1,
   "metadata": {
    "collapsed": true
   },
   "outputs": [],
   "source": [
    "import numpy as np\n",
    "import math"
   ]
  },
  {
   "cell_type": "code",
   "execution_count": 64,
   "metadata": {
    "collapsed": false
   },
   "outputs": [
    {
     "data": {
      "text/plain": [
       "0.80000000000000004"
      ]
     },
     "execution_count": 64,
     "metadata": {},
     "output_type": "execute_result"
    }
   ],
   "source": [
    "x = np.array([1,0,0,1])              # feature vector\n",
    "theta = np.array([.9, -.9, .1, -.1]) # model coefficients\n",
    "x.dot(theta)\n",
    "# E.g., \n",
    "# feature 0 (.9) is strongly predictive of y=1\n",
    "# feature 1 (-.9) is strongly predictive of y=-1\n",
    "# feature 2 (.1) is weakly predictive of y=1\n",
    "# feature 3 (-.1) is weakly predictive of y=-1\n",
    "# dot product: (1 * .9) - (1*.1)"
   ]
  },
  {
   "cell_type": "code",
   "execution_count": 65,
   "metadata": {
    "collapsed": false
   },
   "outputs": [
    {
     "name": "stdout",
     "output_type": "stream",
     "text": [
      "for x= [1 0 0 1]\n",
      "p(y=1|x)=0.69\n",
      "p(y=-1|x)=0.31\n"
     ]
    }
   ],
   "source": [
    "def logistic(x, theta, y):\n",
    "    \"\"\"logistic function :=\n",
    "           probability of class y for feature vector x\n",
    "    \"\"\"\n",
    "    return 1 / (1 + math.exp(-y * x.dot(theta)))\n",
    "\n",
    "print('for x=', x)\n",
    "print('p(y=1|x)=%.3g' % logistic(x, theta, 1))\n",
    "print('p(y=-1|x)=%.3g' % logistic(x, theta, -1))"
   ]
  },
  {
   "cell_type": "code",
   "execution_count": 66,
   "metadata": {
    "collapsed": false
   },
   "outputs": [
    {
     "name": "stdout",
     "output_type": "stream",
     "text": [
      "for x= [1 0 1 0]\n",
      "p(y=1|x)=0.731\n",
      "p(y=0|x)=0.269\n"
     ]
    }
   ],
   "source": [
    "x = np.array([1, 0, 1, 0])\n",
    "print('for x=', x)\n",
    "print('p(y=1|x)=%.3g' % logistic(x, theta, 1.))\n",
    "print('p(y=0|x)=%.3g' % logistic(x, theta, -1.))"
   ]
  },
  {
   "cell_type": "code",
   "execution_count": 67,
   "metadata": {
    "collapsed": false
   },
   "outputs": [
    {
     "name": "stdout",
     "output_type": "stream",
     "text": [
      "for x= [0 1 1 0]\n",
      "p(y=1|x)=0.31\n",
      "p(y=0|x)=0.69\n"
     ]
    }
   ],
   "source": [
    "x = np.array([0, 1, 1, 0])\n",
    "print('for x=', x)\n",
    "print('p(y=1|x)=%.3g' % logistic(x, theta, 1.))\n",
    "print('p(y=0|x)=%.3g' % logistic(x, theta, -1.))"
   ]
  },
  {
   "cell_type": "code",
   "execution_count": 68,
   "metadata": {
    "collapsed": true
   },
   "outputs": [],
   "source": [
    "def error(X, y, theta):\n",
    "    \"\"\"\n",
    "    negative product of probabilities of\n",
    "    correct labels for each instance in X.\n",
    "    \"\"\"\n",
    "    error = 1\n",
    "    for xi, yi in zip(X, y):\n",
    "        prob = logistic(xi, theta, yi)\n",
    "        print('probability of %d for %s=%.3f' % (yi, str(xi), prob))\n",
    "        error *= prob\n",
    "    return -error"
   ]
  },
  {
   "cell_type": "code",
   "execution_count": 69,
   "metadata": {
    "collapsed": false
   },
   "outputs": [],
   "source": [
    "X = np.array([\n",
    "  [1, 0, 0, 0],\n",
    "  [1, 0, 1, 0],\n",
    "  [0, 1, 0, 0],\n",
    "  [0, 1, 0, 1],\n",
    "])\n",
    "\n",
    "y = np.array([\n",
    "        1,\n",
    "        1,\n",
    "        -1,\n",
    "        -1\n",
    "    ])"
   ]
  },
  {
   "cell_type": "code",
   "execution_count": 70,
   "metadata": {
    "collapsed": false
   },
   "outputs": [
    {
     "name": "stdout",
     "output_type": "stream",
     "text": [
      "error for coefficients theta= [ 0.9 -0.9  0.1 -0.1]\n",
      "probability of 1 for [1 0 0 0]=0.711\n",
      "probability of 1 for [1 0 1 0]=0.731\n",
      "probability of -1 for [0 1 0 0]=0.711\n",
      "probability of -1 for [0 1 0 1]=0.731\n"
     ]
    },
    {
     "data": {
      "text/plain": [
       "-0.2701356268331891"
      ]
     },
     "execution_count": 70,
     "metadata": {},
     "output_type": "execute_result"
    }
   ],
   "source": [
    "print('error for coefficients theta=', theta)\n",
    "error(X, y, theta)"
   ]
  },
  {
   "cell_type": "code",
   "execution_count": 71,
   "metadata": {
    "collapsed": false
   },
   "outputs": [
    {
     "name": "stdout",
     "output_type": "stream",
     "text": [
      "probability of 1 for [1 0 0 0]=1.000\n",
      "probability of 1 for [1 0 1 0]=1.000\n",
      "probability of -1 for [0 1 0 0]=1.000\n",
      "probability of -1 for [0 1 0 1]=1.000\n"
     ]
    },
    {
     "data": {
      "text/plain": [
       "-0.9999092022016287"
      ]
     },
     "execution_count": 71,
     "metadata": {},
     "output_type": "execute_result"
    }
   ],
   "source": [
    "# Make theta even better:\n",
    "theta = np.array([10, -10, 10, -10])\n",
    "error(X, y, theta)"
   ]
  },
  {
   "cell_type": "code",
   "execution_count": 72,
   "metadata": {
    "collapsed": false
   },
   "outputs": [
    {
     "name": "stdout",
     "output_type": "stream",
     "text": [
      "probability of 1 for [1 0 0 0]=0.000\n",
      "probability of 1 for [1 0 1 0]=0.000\n",
      "probability of -1 for [0 1 0 0]=0.000\n",
      "probability of -1 for [0 1 0 1]=0.000\n"
     ]
    },
    {
     "data": {
      "text/plain": [
       "-8.755715690797854e-27"
      ]
     },
     "execution_count": 72,
     "metadata": {},
     "output_type": "execute_result"
    }
   ],
   "source": [
    "# Make theta much, much worse:\n",
    "theta = np.array([-10, 10, -10, 10])\n",
    "error(X, y, theta)"
   ]
  },
  {
   "cell_type": "code",
   "execution_count": 73,
   "metadata": {
    "collapsed": false
   },
   "outputs": [
    {
     "name": "stdout",
     "output_type": "stream",
     "text": [
      "probability of 1 for [1 0 0 0]=1.000\n",
      "probability of 1 for [1 0 1 0]=1.000\n",
      "probability of -1 for [0 1 0 0]=1.000\n",
      "probability of -1 for [0 1 0 1]=1.000\n"
     ]
    },
    {
     "data": {
      "text/plain": [
       "-1.0"
      ]
     },
     "execution_count": 73,
     "metadata": {},
     "output_type": "execute_result"
    }
   ],
   "source": [
    "# Make theta even better:\n",
    "theta = np.array([100, -100, 100, -100])\n",
    "error(X, y, theta)"
   ]
  },
  {
   "cell_type": "markdown",
   "metadata": {},
   "source": [
    "## What is range of error values?\n",
    "\n",
    "<br><br><br><br><br><br>\n",
    "error $ \\in \\{-1, 0\\} $"
   ]
  },
  {
   "cell_type": "markdown",
   "metadata": {},
   "source": [
    "## Which is best?\n",
    "```python\n",
    "theta = np.array([-10, 10, -10, 10])      # error=0\n",
    "theta = np.array([100, -100, 100, -100])  # error=-1.0\n",
    "theta = np.array([-10, 10, -10, 10])      # error=-0.999\n",
    "```\n",
    "\n",
    "<br><br><br>"
   ]
  },
  {
   "cell_type": "markdown",
   "metadata": {},
   "source": [
    "## Regularization\n",
    "\n",
    "Controls how many parameters the model has, or how large each parameter can get.\n",
    "\n",
    "E.g. L2 Regularization for linear regression:\n",
    "\n",
    "$$\n",
    "E(D, \\theta) =  - \\prod_{i \\in D} p(y_i|x_i) + \\frac{1}{C}||\\vec{\\theta}||^2_2\n",
    "$$\n",
    "\n",
    "$$\n",
    " =  - \\prod_{i \\in D} p(y_i|x_i) + \\frac{1}{C}\\sum_k \\theta_k^2\n",
    "$$\n",
    "\n",
    "As $C \\rightarrow 0$, the classifier prefers smaller and smaller coefficients.\n",
    "\n",
    "This is the $C$ parameter of the `LogisticRegression` class in sklearn.\n",
    "\n"
   ]
  },
  {
   "cell_type": "code",
   "execution_count": 74,
   "metadata": {
    "collapsed": false
   },
   "outputs": [],
   "source": [
    "from collections import Counter\n",
    "import glob\n",
    "import hashlib\n",
    "import io\n",
    "import math\n",
    "import matplotlib.pyplot as plt\n",
    "import numpy as np\n",
    "import os\n",
    "import re\n",
    "from sklearn.cross_validation import KFold\n",
    "from sklearn.feature_extraction.text import CountVectorizer\n",
    "from sklearn.linear_model import LogisticRegression\n",
    "from sklearn.metrics import accuracy_score\n",
    "import tarfile\n",
    "import urllib.request\n",
    "%matplotlib inline"
   ]
  },
  {
   "cell_type": "code",
   "execution_count": 16,
   "metadata": {
    "collapsed": false
   },
   "outputs": [],
   "source": [
    "def get_data():\n",
    "    \"\"\" Download and unzip data.\"\"\"\n",
    "    urllib.request.urlretrieve('https://www.dropbox.com/s/xk4glpk61q3qrg2/imdb.tgz?dl=1', 'imdb.tgz')\n",
    "    tar = tarfile.open(\"imdb.tgz\")\n",
    "    tar.extractall()\n",
    "    tar.close()\n",
    "    \n",
    "get_data()"
   ]
  },
  {
   "cell_type": "code",
   "execution_count": 75,
   "metadata": {
    "collapsed": false
   },
   "outputs": [
    {
     "name": "stdout",
     "output_type": "stream",
     "text": [
      "subdirectories are:['test', 'train']\n"
     ]
    }
   ],
   "source": [
    "# Here is the path to the data directory.\n",
    "path = 'data'\n",
    "print('subdirectories are:' + str(os.listdir(path)))"
   ]
  },
  {
   "cell_type": "code",
   "execution_count": 76,
   "metadata": {
    "collapsed": true
   },
   "outputs": [],
   "source": [
    "def get_files(path):\n",
    "    \"\"\" Return a list of file names in this directory that end in .txt \n",
    "    The list should be sorted alphabetically by file name.\n",
    "    Params:\n",
    "        path....a directory containing .txt review files.\n",
    "    Returns:\n",
    "        a list of .txt file names, sorted alphabetically.\n",
    "    \"\"\"\n",
    "    return sorted([f for f in glob.glob(path + os.sep + '*.txt')])"
   ]
  },
  {
   "cell_type": "code",
   "execution_count": 77,
   "metadata": {
    "collapsed": false,
    "scrolled": true
   },
   "outputs": [
    {
     "name": "stdout",
     "output_type": "stream",
     "text": [
      "found 200 positive and 200 negative training files\n",
      "first positive file: data/train/pos/10057_9.txt\n",
      "first negative file: data/train/neg/10108_1.txt\n"
     ]
    }
   ],
   "source": [
    "pos_train_files = get_files(path + os.sep + 'train' + os.sep + 'pos')\n",
    "neg_train_files = get_files(path + os.sep + 'train' + os.sep + 'neg')\n",
    "all_train_files = pos_train_files + neg_train_files\n",
    "\n",
    "print('found %d positive and %d negative training files' %\n",
    "      (len(pos_train_files), len(neg_train_files)))\n",
    "print('first positive file: %s' % pos_train_files[0])\n",
    "print('first negative file: %s' % neg_train_files[0])"
   ]
  },
  {
   "cell_type": "code",
   "execution_count": 79,
   "metadata": {
    "collapsed": false
   },
   "outputs": [
    {
     "name": "stdout",
     "output_type": "stream",
     "text": [
      "first 3 and last 3 labels are: [1 1 1 0 0 0]\n"
     ]
    }
   ],
   "source": [
    "def get_true_labels(file_names):\n",
    "    \"\"\"Return a *numpy array* of ints for the true sentiment labels of each file.\n",
    "    1 means positive, 0 means negative. Use the name of the file to determine\n",
    "    the true label.\n",
    "    Params:\n",
    "        file_names....a list of .txt file paths, e.g., data/train/pos/10057_9.txt\n",
    "    Returns:\n",
    "        a numpy array of 1 or 0 values corresponding to each element\n",
    "        of file_names, where 1 indicates a positive review, and 0\n",
    "        indicates a negative review.\n",
    "    \"\"\"\n",
    "    return np.array([1 if 'pos' in f else 0 for f in file_names])\n",
    "\n",
    "labels = get_true_labels(all_train_files)\n",
    "print('first 3 and last 3 labels are: %s' % str(labels[[1,2,3,-3,-2,-1]]))"
   ]
  },
  {
   "cell_type": "code",
   "execution_count": 80,
   "metadata": {
    "collapsed": false
   },
   "outputs": [
    {
     "data": {
      "text/plain": [
       "\"This is a great film!! The first time I saw it I thought it was absorbing from start to finish and I still do now. I may not have seen the play, but even if I had it wouldn't stop me thinking that the film is just as good.\""
      ]
     },
     "execution_count": 80,
     "metadata": {},
     "output_type": "execute_result"
    }
   ],
   "source": [
    "# Here's what a positive review looks like.\n",
    "def file2string(filename):\n",
    "    return io.open(filename, encoding='utf8').readlines()[0]\n",
    "    \n",
    "file2string(pos_train_files[10])"
   ]
  },
  {
   "cell_type": "code",
   "execution_count": 81,
   "metadata": {
    "collapsed": false
   },
   "outputs": [
    {
     "data": {
      "text/plain": [
       "['hi',\n",
       " 'how',\n",
       " 's',\n",
       " 'it',\n",
       " 'going',\n",
       " 'an_underscore',\n",
       " 'is',\n",
       " 'not',\n",
       " 'really',\n",
       " 'punctuation']"
      ]
     },
     "execution_count": 81,
     "metadata": {},
     "output_type": "execute_result"
    }
   ],
   "source": [
    "def tokenize(text):\n",
    "    \"\"\"Given a string, return a list of tokens such that: (1) all\n",
    "    tokens are lowercase, (2) all punctuation is removed. Note that\n",
    "    underscore (_) is not considered punctuation.\n",
    "    Params:\n",
    "        text....a string\n",
    "    Returns:\n",
    "        a list of tokens\n",
    "    \"\"\"\n",
    "    ###TODO\n",
    "    return re.findall('\\w+', text.lower())\n",
    "    ###\n",
    "\n",
    "tokenize(\"Hi! How's it going??? an_underscore is not *really* punctuation.\")"
   ]
  },
  {
   "cell_type": "code",
   "execution_count": 82,
   "metadata": {
    "collapsed": false,
    "scrolled": true
   },
   "outputs": [
    {
     "name": "stdout",
     "output_type": "stream",
     "text": [
      "matrix represents 400 documents with 10708 features\n",
      "first doc has terms:\n",
      "[128, 170, 202, 253, 260, 312, 355, 439, 504, 514, 560, 673, 683, 702, 750, 860, 869, 961, 985, 1013, 1222, 1254, 1312, 1341, 1403, 1444, 1451, 1469, 1504, 1657, 1664, 1742, 2467, 2539, 2998, 3111, 3208, 3231, 3358, 3370, 3517, 3636, 3708, 3718, 3761, 3812, 3928, 4017, 4061, 4063, 4089, 4141, 4207, 4209, 4224, 4312, 4369, 4387, 4415, 4438, 4475, 4513, 4527, 4634, 4693, 4760, 4801, 5065, 5077, 5228, 5279, 5292, 5294, 5317, 5365, 5423, 5614, 5615, 5651, 5698, 5766, 5893, 5937, 5953, 6121, 6248, 6263, 6299, 6428, 6444, 6583, 6624, 6680, 6700, 6864, 6946, 7098, 7629, 8053, 8248, 8336, 8341, 8474, 8767, 8988, 9204, 9411, 9435, 9439, 9504, 9507, 9522, 9549, 9557, 9633, 9683, 9689, 9834, 9854, 9856, 10045, 10335, 10351, 10429, 10439, 10444, 10446, 10517]\n"
     ]
    }
   ],
   "source": [
    "def do_vectorize(filenames, tokenizer_fn=tokenize, min_df=1,\n",
    "                 max_df=1., binary=True, ngram_range=(1,1)):\n",
    "    \"\"\"\n",
    "    Convert a list of filenames into a sparse csr_matrix, where\n",
    "    each row is a file and each column represents a unique word.\n",
    "    Use sklearn's CountVectorizer: http://goo.gl/eJ2PJ5\n",
    "    Params:\n",
    "        filenames.......list of review file names\n",
    "        tokenizer_fn....the function used to tokenize each document\n",
    "        min_df..........remove terms from the vocabulary that don't appear\n",
    "                        in at least this many documents\n",
    "        max_df..........remove terms from the vocabulary that appear in more\n",
    "                        than this fraction of documents\n",
    "        binary..........If true, each documents is represented by a binary\n",
    "                        vector, where 1 means a term occurs at least once in \n",
    "                        the document. If false, the term frequency is used instead.\n",
    "        ngram_range.....A tuple (n,m) means to use phrases of length n to m inclusive.\n",
    "                        E.g., (1,2) means consider unigrams and bigrams.\n",
    "    Return:\n",
    "        A tuple (X, vec), where X is the csr_matrix of feature vectors,\n",
    "        and vec is the CountVectorizer object.\n",
    "    \"\"\"\n",
    "    vec = CountVectorizer(input='filename', tokenizer=tokenizer_fn,\n",
    "                          binary=binary, min_df=min_df, max_df=max_df,\n",
    "                          ngram_range=ngram_range)\n",
    "    X = vec.fit_transform(filenames)\n",
    "    return (X, vec)\n",
    "    \n",
    "matrix, vec = do_vectorize(all_train_files)\n",
    "print ('matrix represents %d documents with %d features' % (matrix.shape[0], matrix.shape[1]))\n",
    "print('first doc has terms:\\n%s' % (str(sorted(matrix[0].nonzero()[1]))))"
   ]
  },
  {
   "cell_type": "code",
   "execution_count": 83,
   "metadata": {
    "collapsed": false
   },
   "outputs": [
    {
     "name": "stdout",
     "output_type": "stream",
     "text": [
      "first shuffled document data/train/neg/971_3.txt has label 0 and terms: [8, 101, 170, 195, 266, 278, 289, 355, 439, 464, 504, 514, 702, 750, 762, 765, 834, 913, 961, 962, 990, 997, 1013, 1068, 1103, 1248, 1254, 1403, 1445, 1883, 2048, 2107, 2280, 2399, 2508, 2742, 2920, 2937, 3008, 3029, 3047, 3124, 3153, 3154, 3314, 3363, 3377, 3397, 3535, 3596, 3619, 3625, 3653, 3684, 3718, 3921, 4029, 4035, 4089, 4094, 4155, 4387, 4475, 4527, 4599, 4611, 4614, 4630, 4693, 4732, 4744, 4801, 5065, 5077, 5083, 5217, 5481, 5569, 5614, 5617, 5793, 5953, 5992, 6115, 6116, 6206, 6293, 6299, 6446, 6460, 6583, 6624, 6626, 6663, 6700, 6765, 6854, 7475, 7615, 7618, 7620, 7625, 7908, 7912, 8104, 8187, 8206, 8258, 8474, 8698, 8699, 8767, 8794, 8800, 8909, 9068, 9099, 9347, 9499, 9504, 9507, 9532, 9541, 9549, 9557, 9571, 9572, 9613, 9633, 9796, 9856, 9977, 10045, 10158, 10162, 10222, 10225, 10339, 10346, 10351, 10362, 10444, 10455, 10483, 10517, 10561, 10567, 10580, 10657]\n"
     ]
    }
   ],
   "source": [
    "\"\"\"\n",
    "Shuffle order of documents (since all positive documents\n",
    "come before all negatives).\n",
    "\"\"\"\n",
    "import random\n",
    "\n",
    "def shuffle(X, y, filenames):\n",
    "    random.seed(42)\n",
    "    indices = sorted(range(X.shape[0]), key=lambda x: random.random())\n",
    "    return X[indices], y[indices], np.array(filenames)[indices]\n",
    "\n",
    "X, y, filenames = shuffle(matrix, labels, all_train_files)\n",
    "\n",
    "print('first shuffled document %s has label %d and terms: %s' % \n",
    "      (filenames[0], y[0], sorted(X[0].nonzero()[1])))"
   ]
  },
  {
   "cell_type": "code",
   "execution_count": 85,
   "metadata": {
    "collapsed": true
   },
   "outputs": [],
   "source": [
    "# Creates a LogsticRegression object.\n",
    "def get_clf(c=1, penalty='l2'):\n",
    "    return LogisticRegression(random_state=42, C=c, penalty=penalty)"
   ]
  },
  {
   "cell_type": "code",
   "execution_count": 86,
   "metadata": {
    "collapsed": false
   },
   "outputs": [
    {
     "name": "stdout",
     "output_type": "stream",
     "text": [
      "fold 0 accuracy=0.825\n",
      "fold 1 accuracy=0.8\n",
      "fold 2 accuracy=0.7125\n",
      "fold 3 accuracy=0.7375\n",
      "fold 4 accuracy=0.6875\n",
      "average cross validation test accuracy=0.7525 train accuracy=1.0000\n"
     ]
    }
   ],
   "source": [
    "def do_cross_validation(X, y, n_folds=5, c=1, penalty='l2', verbose=False):\n",
    "    \"\"\"\n",
    "    Perform n-fold cross validation, calling get_clf() to train n\n",
    "    different classifiers. Use sklearn's KFold class: http://goo.gl/wmyFhi\n",
    "    Be sure not to shuffle the data, otherwise your output will differ.\n",
    "    Params:\n",
    "        X.........a csr_matrix of feature vectors\n",
    "        y.........the true labels of each document\n",
    "        n_folds...the number of folds of cross-validation to do\n",
    "        verbose...If true, report the testing accuracy for each fold.\n",
    "    Return:\n",
    "        the average testing accuracy across all folds.\n",
    "    \"\"\"\n",
    "    cv = KFold(len(y), n_folds=n_folds, shuffle=False)\n",
    "    accuracies = []\n",
    "    train_accuracies = []\n",
    "    for foldi, (train, test) in enumerate(cv):\n",
    "        clf = get_clf(c=c, penalty=penalty)\n",
    "        clf.fit(X[train], y[train])\n",
    "        train_accuracies.append(accuracy_score(clf.predict(X[train]), y[train]))\n",
    "        pred = clf.predict(X[test])\n",
    "        acc = accuracy_score(pred, y[test])\n",
    "        accuracies.append(acc)\n",
    "        if verbose:\n",
    "            print('fold %d accuracy=%.4g' % (foldi, acc))\n",
    "    return np.mean(accuracies), np.mean(train_accuracies)\n",
    "    \n",
    "print('average cross validation test accuracy=%.4f train accuracy=%.4f' %\n",
    "      do_cross_validation(X, y, verbose=True))"
   ]
  },
  {
   "cell_type": "code",
   "execution_count": 87,
   "metadata": {
    "collapsed": false
   },
   "outputs": [],
   "source": [
    "def do_expt(filenames, y, tokenizer_fn=tokenize,\n",
    "            min_df=1, max_df=1., binary=True,\n",
    "            ngram_range=(1,1), n_folds=5, c=1, penalty='l2'):\n",
    "    \"\"\"\n",
    "    Run one experiment, which consists of vectorizing each file,\n",
    "    performing cross-validation, and returning the average accuracy.\n",
    "    You should call do_vectorize and do_cross_validation here.\n",
    "    Params:\n",
    "        filenames.......list of review file names\n",
    "        y...............the true sentiment labels for each file\n",
    "        tokenizer_fn....the function used to tokenize each document\n",
    "        min_df..........remove terms from the vocabulary that don't appear\n",
    "                        in at least this many documents\n",
    "        max_df..........remove terms from the vocabulary that appear in more\n",
    "                        than this fraction of documents\n",
    "        binary..........If true, each documents is represented by a binary\n",
    "                        vector, where 1 means a term occurs at least once in \n",
    "                        the document. If false, the term frequency is used instead.\n",
    "        ngram_range.....A tuple (n,m) means to use phrases of length n to m inclusive.\n",
    "                        E.g., (1,2) means consider unigrams and bigrams.\n",
    "        n_folds.........The number of cross-validation folds to use.\n",
    "    Returns:\n",
    "        the average cross validation testing accuracy.\n",
    "    \"\"\"\n",
    "    X, vec = do_vectorize(filenames, tokenizer_fn=tokenizer_fn,\n",
    "                          binary=binary, min_df=min_df,\n",
    "                          max_df=max_df, ngram_range=ngram_range)\n",
    "    return do_cross_validation(X, y, verbose=False, n_folds=n_folds, c=c, penalty=penalty)"
   ]
  },
  {
   "cell_type": "code",
   "execution_count": 88,
   "metadata": {
    "collapsed": false
   },
   "outputs": [
    {
     "name": "stdout",
     "output_type": "stream",
     "text": [
      "accuracy using default settings: test acc=0.7525 train acc=1\n"
     ]
    }
   ],
   "source": [
    "print('accuracy using default settings: test acc=%.4g train acc=%.4g' % do_expt(filenames, y))"
   ]
  },
  {
   "cell_type": "markdown",
   "metadata": {},
   "source": [
    "## Compare accuracy of various settings\n",
    "\n",
    "Next, we'll try out a few different settings to see how they affect cross-validation accuracy."
   ]
  },
  {
   "cell_type": "code",
   "execution_count": 89,
   "metadata": {
    "collapsed": false
   },
   "outputs": [
    {
     "data": {
      "image/png": "[encoded data removed]",
      "text/plain": [
       "<matplotlib.figure.Figure at 0x1137493c8>"
      ]
     },
     "metadata": {},
     "output_type": "display_data"
    },
    {
     "data": {
      "text/plain": [
       "([0.70999999999999996,\n",
       "  0.72750000000000004,\n",
       "  0.74499999999999988,\n",
       "  0.75250000000000006,\n",
       "  0.75500000000000012,\n",
       "  0.75500000000000012,\n",
       "  0.74499999999999988,\n",
       "  0.73499999999999999],\n",
       " [0.94250000000000012, 0.98937500000000012, 1.0, 1.0, 1.0, 1.0, 1.0, 1.0])"
      ]
     },
     "execution_count": 89,
     "metadata": {},
     "output_type": "execute_result"
    }
   ],
   "source": [
    "def compare_c(filenames, y, penalty='l2', cs=[1, 5, 10, 1000, 10000]):\n",
    "    accs = []\n",
    "    train_accs = []\n",
    "    for c in cs:\n",
    "        test_acc, train_acc = do_expt(filenames, y, c=c, penalty=penalty)\n",
    "        accs.append(test_acc)\n",
    "        train_accs.append(train_acc)\n",
    "    plt.figure()\n",
    "    plt.plot(cs, accs, 'bo-', label='test acc')\n",
    "    #plt.plot(cs, train_accs, 'go-', label='train acc')\n",
    "    plt.xlabel('C')\n",
    "    plt.ylabel('accuracy')\n",
    "    plt.xscale('log')\n",
    "    plt.show()\n",
    "    return accs, train_accs\n",
    "    \n",
    "cs = [.001, .01, .1, 1, 5, 10, 1000, 10000]\n",
    "compare_c(filenames, y, cs=cs)"
   ]
  },
  {
   "cell_type": "code",
   "execution_count": 90,
   "metadata": {
    "collapsed": false
   },
   "outputs": [
    {
     "data": {
      "image/png": "[encoded data removed]",
      "text/plain": [
       "<matplotlib.figure.Figure at 0x113510a58>"
      ]
     },
     "metadata": {},
     "output_type": "display_data"
    },
    {
     "data": {
      "text/plain": [
       "[0.016407940187032038,\n",
       " 0.11469999344435329,\n",
       " 0.4078991954741028,\n",
       " 0.84045599003359017,\n",
       " 1.1763613494948597,\n",
       " 1.3264186578126622,\n",
       " 2.3516251617790571,\n",
       " 2.7393180313529952]"
      ]
     },
     "execution_count": 90,
     "metadata": {},
     "output_type": "execute_result"
    }
   ],
   "source": [
    "def compare_c_coef(X, y, cs, penalty='l2'):\n",
    "    max_coef = []\n",
    "    for c in cs:\n",
    "        clf = get_clf(c=c, penalty=penalty)\n",
    "        clf.fit(X, y)\n",
    "        max_coef.append(max(np.abs(clf.coef_[0])))\n",
    "    plt.figure()\n",
    "    plt.plot(cs, max_coef, 'bo-')\n",
    "    plt.xlabel('C')\n",
    "    plt.ylabel('max coef')\n",
    "    plt.xscale('log')\n",
    "    plt.show()\n",
    "    return max_coef\n",
    "    \n",
    "compare_c_coef(X, y, cs=cs)"
   ]
  },
  {
   "cell_type": "markdown",
   "metadata": {},
   "source": [
    "## L1 Regularization\n",
    "\n",
    "Penalize by absolute value of coefficients (rather than square):\n",
    "\n",
    "$$\n",
    "E(D, \\theta) = - \\prod_{i \\in D} p(y_i|x_i) + \\frac{1}{C}\\sum_k |\\theta_k|\n",
    "$$\n"
   ]
  },
  {
   "cell_type": "code",
   "execution_count": 91,
   "metadata": {
    "collapsed": false
   },
   "outputs": [
    {
     "data": {
      "image/png": "[encoded data removed]",
      "text/plain": [
       "<matplotlib.figure.Figure at 0x11339c710>"
      ]
     },
     "metadata": {},
     "output_type": "display_data"
    },
    {
     "data": {
      "text/plain": [
       "([0.61999999999999988,\n",
       "  0.67249999999999999,\n",
       "  0.66500000000000004,\n",
       "  0.6825,\n",
       "  0.73750000000000004,\n",
       "  0.71500000000000008,\n",
       "  0.70500000000000007],\n",
       " [0.68312499999999998, 1.0, 1.0, 1.0, 1.0, 1.0, 1.0])"
      ]
     },
     "execution_count": 91,
     "metadata": {},
     "output_type": "execute_result"
    }
   ],
   "source": [
    "compare_c(filenames, y, penalty='l1', cs=[.1, 1., 10, 1e2, 1e3, 1e4, 1e5])"
   ]
  },
  {
   "cell_type": "code",
   "execution_count": 92,
   "metadata": {
    "collapsed": false
   },
   "outputs": [
    {
     "data": {
      "image/png": "[encoded data removed]",
      "text/plain": [
       "<matplotlib.figure.Figure at 0x112dc1b38>"
      ]
     },
     "metadata": {},
     "output_type": "display_data"
    },
    {
     "data": {
      "text/plain": [
       "[9, 181, 236, 331, 783, 3303, 5876]"
      ]
     },
     "execution_count": 92,
     "metadata": {},
     "output_type": "execute_result"
    }
   ],
   "source": [
    "def compare_num_feats(X, y, cs=[.1, 1., 10, 1e2, 1e3, 1e4, 1e5]):\n",
    "    nnzs = []\n",
    "    for c in cs:\n",
    "        clf = get_clf(c=c, penalty='l1')\n",
    "        clf.fit(X, y)\n",
    "        nnz = len(np.where(clf.coef_[0]!=0)[0])\n",
    "        nnzs.append(nnz)\n",
    "    plt.figure()\n",
    "    plt.plot(cs, nnzs, 'bo-')\n",
    "    plt.xlabel('C')\n",
    "    plt.ylabel('# nonzero coefficients')\n",
    "    plt.xscale('log')\n",
    "    plt.show()\n",
    "    return nnzs\n",
    "    \n",
    "compare_num_feats(X, y)"
   ]
  },
  {
   "cell_type": "code",
   "execution_count": 93,
   "metadata": {
    "collapsed": false
   },
   "outputs": [
    {
     "name": "stdout",
     "output_type": "stream",
     "text": [
      "\n",
      "Top Coefficients\n",
      "Positive Terms:\n",
      "great (0.207901)\n",
      "best (0.207508)\n",
      "will (0.112245)\n",
      "film (0.0667848)\n",
      "worth (0.0246236)\n",
      "well (0.00193315)\n",
      "fantastic (0)\n",
      "farce (0)\n",
      "far (0)\n",
      "fanzine (0)\n",
      "\n",
      "NegativeTerms:\n",
      "worst (-0.726754)\n",
      "bad (-0.313761)\n",
      "nothing (-0.299507)\n",
      "policeman (0)\n",
      "point (0)\n",
      "pointed (0)\n",
      "pointless (0)\n",
      "points (0)\n",
      "poise (0)\n",
      "poison (0)\n"
     ]
    }
   ],
   "source": [
    "# What features are selected?\n",
    "def print_top_terms(model, vec, n=10):\n",
    "    terms = np.array(vec.get_feature_names())\n",
    "    print('\\nTop Coefficients')\n",
    "    coef = model.coef_[0]\n",
    "    srted = np.argsort(coef)\n",
    "    topi = srted[::-1][:n]\n",
    "    boti = srted[:n]\n",
    "    print('Positive Terms:\\n' + '\\n'.join('%s (%g)' % (n, c) for n, c in zip(terms[topi], coef[topi])))\n",
    "    print('\\nNegativeTerms:\\n' + '\\n'.join('%s (%g)' % (n, c) for n, c in zip(terms[boti], coef[boti])))\n",
    "\n",
    "clf = get_clf(c=.1, penalty='l1')\n",
    "clf.fit(X, y)\n",
    "print_top_terms(clf, vec)"
   ]
  },
  {
   "cell_type": "code",
   "execution_count": 94,
   "metadata": {
    "collapsed": false
   },
   "outputs": [
    {
     "data": {
      "text/plain": [
       "array([ 0.])"
      ]
     },
     "execution_count": 94,
     "metadata": {},
     "output_type": "execute_result"
    }
   ],
   "source": [
    "clf.intercept_"
   ]
  },
  {
   "cell_type": "code",
   "execution_count": 95,
   "metadata": {
    "collapsed": false
   },
   "outputs": [
    {
     "name": "stdout",
     "output_type": "stream",
     "text": [
      "[[ 0.47502081  0.52497919]]\n",
      "intercept=0.1\n"
     ]
    }
   ],
   "source": [
    "# How to predict when no features?\n",
    "clf.intercept_=.1\n",
    "print(clf.predict_proba([[0] * len(vec.vocabulary_)]))\n",
    "print('intercept=%g' % clf.intercept_)"
   ]
  },
  {
   "cell_type": "code",
   "execution_count": 96,
   "metadata": {
    "collapsed": false
   },
   "outputs": [
    {
     "name": "stdout",
     "output_type": "stream",
     "text": [
      "[[ 0.50358714  0.49641286]]\n",
      "intercept=-0.0143488\n",
      "Counter({0: 200, 1: 200})\n"
     ]
    }
   ],
   "source": [
    "clf = get_clf(c=1000, penalty='l1')\n",
    "clf.fit(X, y)\n",
    "print(clf.predict_proba([[0] * len(vec.vocabulary_)]))\n",
    "print('intercept=%g' % clf.intercept_)\n",
    "print(Counter(y))"
   ]
  },
  {
   "cell_type": "markdown",
   "metadata": {},
   "source": [
    "## Feature Selection\n",
    "\n",
    "Rather than using L1 regularization, we can explicitly look for terms that are highly correlated with the class label.\n",
    "\n",
    "Intuitively, we want terms that are very probable in one class, but not the other."
   ]
  },
  {
   "cell_type": "markdown",
   "metadata": {},
   "source": [
    "One way to compute this is the chi-squared statistic: $\\chi^2$\n",
    "\n",
    "The chi-squared statistic is used in hypothesis testing to determine whether two variables are independent.\n",
    "\n",
    "$$A \\perp B \\iff P(A,B) \\equiv P(A)P(B)$$\n",
    "\n",
    "To apply this to feature selection, we wish to know whether the occurrence of a term is independent of the class label. \n",
    "- If they are independent, then it is not a useful feature. \n",
    "- If they are highly dependent, then it is a useful feature."
   ]
  },
  {
   "cell_type": "markdown",
   "metadata": {},
   "source": [
    "To compute the chi-squared statistic for term $t$ and class label $y$:\n",
    "\n",
    "- Let $N^t_{i,j}$ indicate the number of documents that contain/don't contain term $t$ and have class label $y$.\n",
    "  - E.g., $N^t_{0,0}=10$ means that 10 document have class label $0$ and do **not** have term $t$.\n",
    "  - E.g., $N^t_{1,1}=10$ means that 10 documents have class label $1$ and do have term $t$.\n",
    "  \n",
    "So, for each term we have a table like this:\n",
    "\n",
    "|         |  y=1          |  y=0         |\n",
    "|---------|---------------|--------------|\n",
    "| **t=1** |  $N^t_{11}$   | $N^t_{10}$   |\n",
    "| **t=0** | $N^t_{01}$    | $N^t_{00}$   |\n",
    "\n",
    "The chi-squared statistic measures how much these values deviate from what would be expected if $t$ and $y$ were independent.\n",
    "\n",
    "If $N$ is the total number of documents, then the expected value $E_{11}$ (for $t=1$, $y=1$) is:\n",
    "\n",
    "$$\n",
    "p(t=1) = \\frac{N^t_{11} + N^t_{10}}{N}\n",
    "$$\n",
    "\n",
    "$$\n",
    "p(y=1) = \\frac{N^t_{11} + N^t_{01}}{N}\n",
    "$$\n",
    "\n",
    "$$\n",
    "E_{11} = N * p(t=1) * p(y=1)\n",
    "$$\n",
    "Then, the chi-squared statistic is as follows:\n",
    "$$\n",
    "\\chi^2 = \\sum_{ij} \\frac{(N^t_{ij} - E^t_{ij})^2}{E^t_{ij}}\n",
    "$$\n",
    "\n"
   ]
  },
  {
   "cell_type": "code",
   "execution_count": 47,
   "metadata": {
    "collapsed": false
   },
   "outputs": [],
   "source": [
    "from sklearn.feature_selection import chi2\n",
    "\n",
    "chi, pvals = chi2(X,y)"
   ]
  },
  {
   "cell_type": "code",
   "execution_count": 48,
   "metadata": {
    "collapsed": false
   },
   "outputs": [
    {
     "name": "stdout",
     "output_type": "stream",
     "text": [
      "index=10575 chisq=29.88 worst\n",
      "index=10342 chisq=20.00 waste\n",
      "index=9471 chisq=16.13 terrible\n",
      "index=6501 chisq=16.07 nothing\n",
      "index=10576 chisq=15.21 worth\n",
      "index=1216 chisq=14.44 boring\n",
      "index=869 chisq=13.79 bad\n",
      "index=9244 chisq=13.00 superb\n",
      "index=7161 chisq=12.57 poor\n",
      "index=837 chisq=12.57 awful\n"
     ]
    }
   ],
   "source": [
    "feats = vec.get_feature_names()\n",
    "# Top chi-sq terms:\n",
    "for i in np.argsort(chi)[::-1][:10]:\n",
    "    print('index=%d chisq=%.2f %s' % (i, chi[i], feats[i]))"
   ]
  },
  {
   "cell_type": "code",
   "execution_count": 49,
   "metadata": {
    "collapsed": false
   },
   "outputs": [
    {
     "name": "stdout",
     "output_type": "stream",
     "text": [
      "index=4601 chisq=0.00 hopeless\n",
      "index=927 chisq=0.00 barry\n",
      "index=2809 chisq=0.00 distinct\n",
      "index=10222 chisq=0.00 visit\n",
      "index=2818 chisq=0.00 distraught\n",
      "index=8498 chisq=0.00 shifty\n",
      "index=2830 chisq=0.00 division\n",
      "index=2833 chisq=0.00 diy\n",
      "index=10217 chisq=0.00 virtually\n",
      "index=8503 chisq=0.00 shining\n"
     ]
    }
   ],
   "source": [
    "# Bottom chi-sq terms:\n",
    "for i in np.argsort(chi)[:10]:\n",
    "    print('index=%d chisq=%.2f %s' % (i, chi[i], feats[i]))"
   ]
  },
  {
   "cell_type": "code",
   "execution_count": 50,
   "metadata": {
    "collapsed": false
   },
   "outputs": [
    {
     "data": {
      "text/plain": [
       "3"
      ]
     },
     "execution_count": 50,
     "metadata": {},
     "output_type": "execute_result"
    }
   ],
   "source": [
    "# How many times does \"worst\" appear?\n",
    "X.sum(axis=0).A1[10577]"
   ]
  },
  {
   "cell_type": "code",
   "execution_count": 51,
   "metadata": {
    "collapsed": false
   },
   "outputs": [
    {
     "data": {
      "text/plain": [
       "Counter({0: 2, 1: 1})"
      ]
     },
     "execution_count": 51,
     "metadata": {},
     "output_type": "execute_result"
    }
   ],
   "source": [
    "# What labels do the documents containing \"worst\" have?\n",
    "Counter(y[np.where(X[:, 10577].T.toarray()[0]==1)])\n",
    "# Clearly skewed toward negative class, so high chisq value."
   ]
  },
  {
   "cell_type": "code",
   "execution_count": 53,
   "metadata": {
    "collapsed": false
   },
   "outputs": [
    {
     "data": {
      "text/plain": [
       "13"
      ]
     },
     "execution_count": 53,
     "metadata": {},
     "output_type": "execute_result"
    }
   ],
   "source": [
    "# How many times does \"superb\" appear?\n",
    "X.sum(axis=0).A1[9244]"
   ]
  },
  {
   "cell_type": "code",
   "execution_count": 58,
   "metadata": {
    "collapsed": false
   },
   "outputs": [
    {
     "data": {
      "text/plain": [
       "Counter({1: 13})"
      ]
     },
     "execution_count": 58,
     "metadata": {},
     "output_type": "execute_result"
    }
   ],
   "source": [
    "# What labels do the documents containing \"superb\" have?\n",
    "Counter(y[np.where(X[:, 9244].T.toarray()[0]==1)])\n",
    "# all positive"
   ]
  },
  {
   "cell_type": "code",
   "execution_count": 56,
   "metadata": {
    "collapsed": false
   },
   "outputs": [
    {
     "data": {
      "text/plain": [
       "94"
      ]
     },
     "execution_count": 56,
     "metadata": {},
     "output_type": "execute_result"
    }
   ],
   "source": [
    "# How about \"bad\"\n",
    "X.sum(axis=0).A1[869]"
   ]
  },
  {
   "cell_type": "code",
   "execution_count": 59,
   "metadata": {
    "collapsed": false
   },
   "outputs": [
    {
     "data": {
      "text/plain": [
       "Counter({0: 65, 1: 29})"
      ]
     },
     "execution_count": 59,
     "metadata": {},
     "output_type": "execute_result"
    }
   ],
   "source": [
    "Counter(y[np.where(X[:, 869].T.toarray()[0]==1)])"
   ]
  },
  {
   "cell_type": "markdown",
   "metadata": {},
   "source": [
    "So, 29 positive movies have the term \"bad\"."
   ]
  }
 ],
 "metadata": {
  "anaconda-cloud": {},
  "kernelspec": {
   "display_name": "Python [Root]",
   "language": "python",
   "name": "Python [Root]"
  },
  "language_info": {
   "codemirror_mode": {
    "name": "ipython",
    "version": 3
   },
   "file_extension": ".py",
   "mimetype": "text/x-python",
   "name": "python",
   "nbconvert_exporter": "python",
   "pygments_lexer": "ipython3",
   "version": "3.5.2"
  }
 },
 "nbformat": 4,
 "nbformat_minor": 0
}
